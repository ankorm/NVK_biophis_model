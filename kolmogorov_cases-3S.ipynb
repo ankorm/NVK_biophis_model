{
 "cells": [
  {
   "cell_type": "code",
   "execution_count": 1,
   "metadata": {},
   "outputs": [],
   "source": [
    "import sympy as sym"
   ]
  },
  {
   "cell_type": "markdown",
   "metadata": {},
   "source": [
    "## Три состояния ворот с независимыми интенсивностями прехода\n",
    "${S}^1 \\underset{\\beta_1}{\\stackrel{\\alpha_1}{\\rightleftarrows}} {S}^2 \\underset{\\beta_2}{\\stackrel{\\alpha_2}{\\rightleftarrows}} {S}^3$\n",
    "\n",
    "Система уравнений Колмогорова\n",
    "\\begin{equation} \n",
    "\t\\begin{aligned}\n",
    "\t& \\dot{P}^1=-\\alpha_1 {P}^1 + \\beta_1 {P}^2\\\\\n",
    "\t& \\dot{P}^2=-(\\alpha_2+\\beta_1) {P}^2 + \\alpha_1 {P}^1 +\\beta_2 \\mathrm{P}^3\\\\\n",
    "\t& \\dot{P}^3=\\alpha_2 \\mathrm{P}^2 - \\beta_2 \\mathrm{P}^3\\\\\n",
    "\t\\end{aligned}\n",
    "\\end{equation}"
   ]
  },
  {
   "cell_type": "code",
   "execution_count": 2,
   "metadata": {},
   "outputs": [],
   "source": [
    "a1, a2,b1,b2, lam, p1, p2, p3 = sym.symbols('a1, a2,b1,b2, lam, p1, p2, p3')"
   ]
  },
  {
   "cell_type": "code",
   "execution_count": 3,
   "metadata": {},
   "outputs": [
    {
     "data": {
      "text/latex": [
       "$\\displaystyle \\left[\\begin{matrix}- a_{1} & b_{1} & 0\\\\a_{1} & - a_{2} - b_{1} & b_{2}\\\\0 & a_{2} & - b_{2}\\end{matrix}\\right]$"
      ],
      "text/plain": [
       "Matrix([\n",
       "[-a1,       b1,   0],\n",
       "[ a1, -a2 - b1,  b2],\n",
       "[  0,       a2, -b2]])"
      ]
     },
     "execution_count": 3,
     "metadata": {},
     "output_type": "execute_result"
    }
   ],
   "source": [
    "A=sym.Matrix([[-a1, b1, 0],[a1, -(a2+b1), b2],[0, a2,-b2]])\n",
    "A # матрица системы"
   ]
  },
  {
   "cell_type": "markdown",
   "metadata": {},
   "source": [
    "#### Собственные числа"
   ]
  },
  {
   "cell_type": "code",
   "execution_count": 4,
   "metadata": {},
   "outputs": [
    {
     "data": {
      "text/latex": [
       "$\\displaystyle - lam^{3} + lam^{2} \\left(- a_{1} - a_{2} - b_{1} - b_{2}\\right) + lam \\left(- a_{1} a_{2} - a_{1} b_{2} - b_{1} b_{2}\\right)$"
      ],
      "text/plain": [
       "-lam**3 + lam**2*(-a1 - a2 - b1 - b2) + lam*(-a1*a2 - a1*b2 - b1*b2)"
      ]
     },
     "execution_count": 4,
     "metadata": {},
     "output_type": "execute_result"
    }
   ],
   "source": [
    "D=sym.Matrix([[-lam, 0, 0],[0, -lam, 0],[0, 0,-lam]])+A\n",
    "det=sym.collect(D.det(), lam)\n",
    "det # детерминант"
   ]
  },
  {
   "cell_type": "code",
   "execution_count": 5,
   "metadata": {},
   "outputs": [],
   "source": [
    "lam1, lam2, lam0=sym.roots(det, lam)\n",
    "# решения характеристического уравнения"
   ]
  },
  {
   "cell_type": "code",
   "execution_count": 6,
   "metadata": {},
   "outputs": [
    {
     "data": {
      "text/latex": [
       "$\\displaystyle - \\frac{a_{1} + a_{2} + b_{1} + b_{2}}{2} - \\frac{\\sqrt{a_{1}^{2} - 2 a_{1} a_{2} + 2 a_{1} b_{1} - 2 a_{1} b_{2} + a_{2}^{2} + 2 a_{2} b_{1} + 2 a_{2} b_{2} + b_{1}^{2} - 2 b_{1} b_{2} + b_{2}^{2}}}{2}$"
      ],
      "text/plain": [
       "-(a1 + a2 + b1 + b2)/2 - sqrt(a1**2 - 2*a1*a2 + 2*a1*b1 - 2*a1*b2 + a2**2 + 2*a2*b1 + 2*a2*b2 + b1**2 - 2*b1*b2 + b2**2)/2"
      ]
     },
     "execution_count": 6,
     "metadata": {},
     "output_type": "execute_result"
    }
   ],
   "source": [
    "lam1"
   ]
  },
  {
   "cell_type": "code",
   "execution_count": 7,
   "metadata": {},
   "outputs": [
    {
     "data": {
      "text/latex": [
       "$\\displaystyle - \\frac{a_{1} + a_{2} + b_{1} + b_{2}}{2} + \\frac{\\sqrt{a_{1}^{2} - 2 a_{1} a_{2} + 2 a_{1} b_{1} - 2 a_{1} b_{2} + a_{2}^{2} + 2 a_{2} b_{1} + 2 a_{2} b_{2} + b_{1}^{2} - 2 b_{1} b_{2} + b_{2}^{2}}}{2}$"
      ],
      "text/plain": [
       "-(a1 + a2 + b1 + b2)/2 + sqrt(a1**2 - 2*a1*a2 + 2*a1*b1 - 2*a1*b2 + a2**2 + 2*a2*b1 + 2*a2*b2 + b1**2 - 2*b1*b2 + b2**2)/2"
      ]
     },
     "execution_count": 7,
     "metadata": {},
     "output_type": "execute_result"
    }
   ],
   "source": [
    "lam2"
   ]
  },
  {
   "cell_type": "code",
   "execution_count": 8,
   "metadata": {},
   "outputs": [
    {
     "data": {
      "text/latex": [
       "$\\displaystyle 0$"
      ],
      "text/plain": [
       "0"
      ]
     },
     "execution_count": 8,
     "metadata": {},
     "output_type": "execute_result"
    }
   ],
   "source": [
    "lam0"
   ]
  },
  {
   "cell_type": "markdown",
   "metadata": {},
   "source": [
    "#### Стациораные решения"
   ]
  },
  {
   "cell_type": "code",
   "execution_count": 9,
   "metadata": {},
   "outputs": [],
   "source": [
    "C=A*sym.Matrix([[p1],[p2],[p3]])\n",
    "R=list(sym.linsolve([A, sym.zeros(3,1)], (p1, p2, p3)))[0]\n",
    "p3_st=sym.solve(R[0]+R[1]+R[2]-1, p3)[0]\n",
    "p3_st"
   ]
  },
  {
   "cell_type": "code",
   "execution_count": 78,
   "metadata": {},
   "outputs": [
    {
     "data": {
      "text/latex": [
       "$\\displaystyle \\frac{a_{1} b_{2}}{a_{1} a_{2} + a_{1} b_{2} + b_{1} b_{2}}$"
      ],
      "text/plain": [
       "a1*b2/(a1*a2 + a1*b2 + b1*b2)"
      ]
     },
     "execution_count": 78,
     "metadata": {},
     "output_type": "execute_result"
    }
   ],
   "source": [
    "p2_st=R[1].subs(p3, p3_st)\n",
    "p2_st"
   ]
  },
  {
   "cell_type": "code",
   "execution_count": 79,
   "metadata": {},
   "outputs": [
    {
     "data": {
      "text/latex": [
       "$\\displaystyle \\frac{b_{1} b_{2}}{a_{1} a_{2} + a_{1} b_{2} + b_{1} b_{2}}$"
      ],
      "text/plain": [
       "b1*b2/(a1*a2 + a1*b2 + b1*b2)"
      ]
     },
     "execution_count": 79,
     "metadata": {},
     "output_type": "execute_result"
    }
   ],
   "source": [
    "p1_st=R[0].subs(p3, p3_st)\n",
    "p1_st"
   ]
  },
  {
   "cell_type": "markdown",
   "metadata": {},
   "source": [
    "#### Решения"
   ]
  },
  {
   "cell_type": "code",
   "execution_count": 86,
   "metadata": {},
   "outputs": [],
   "source": [
    "t = sym.symbols('t')#Независимая переменная\n",
    "p1= sym.Function('p1')#Зависимая переменная\n",
    "p2= sym.Function('p2')#Зависимая переменная\n",
    "p3= sym.Function('p3')#Зависимая переменная"
   ]
  },
  {
   "cell_type": "code",
   "execution_count": 99,
   "metadata": {},
   "outputs": [
    {
     "data": {
      "text/latex": [
       "$\\displaystyle - a_{2} p_{2}{\\left(t \\right)} + b_{2} p_{3}{\\left(t \\right)} + \\frac{d}{d t} p_{3}{\\left(t \\right)}$"
      ],
      "text/plain": [
       "-a2*p2(t) + b2*p3(t) + Derivative(p3(t), t)"
      ]
     },
     "execution_count": 99,
     "metadata": {},
     "output_type": "execute_result"
    }
   ],
   "source": [
    "C=A*sym.Matrix([[p1(t)],[p2(t)],[p3(t)]])\n",
    "eq1=sym.diff(p1(t),t)-C[0]\n",
    "eq2=sym.diff(p2(t),t)-C[1]\n",
    "eq3=sym.diff(p3(t),t)-C[2]\n",
    "eq3"
   ]
  },
  {
   "cell_type": "code",
   "execution_count": 102,
   "metadata": {},
   "outputs": [],
   "source": [
    "sol=sym.dsolve((eq1,eq2, eq3))"
   ]
  },
  {
   "cell_type": "code",
   "execution_count": 124,
   "metadata": {},
   "outputs": [
    {
     "data": {
      "text/latex": [
       "$\\displaystyle p_{3}{\\left(t \\right)} = C_{1} + C_{2} e^{- \\frac{t \\left(a_{1} + a_{2} + b_{1} + b_{2} - \\sqrt{a_{1}^{2} - 2 a_{1} a_{2} + 2 a_{1} b_{1} - 2 a_{1} b_{2} + a_{2}^{2} + 2 a_{2} b_{1} + 2 a_{2} b_{2} + b_{1}^{2} - 2 b_{1} b_{2} + b_{2}^{2}}\\right)}{2}} + C_{3} e^{- \\frac{t \\left(a_{1} + a_{2} + b_{1} + b_{2} + \\sqrt{a_{1}^{2} - 2 a_{1} a_{2} + 2 a_{1} b_{1} - 2 a_{1} b_{2} + a_{2}^{2} + 2 a_{2} b_{1} + 2 a_{2} b_{2} + b_{1}^{2} - 2 b_{1} b_{2} + b_{2}^{2}}\\right)}{2}}$"
      ],
      "text/plain": [
       "Eq(p3(t), C1 + C2*exp(-t*(a1 + a2 + b1 + b2 - sqrt(a1**2 - 2*a1*a2 + 2*a1*b1 - 2*a1*b2 + a2**2 + 2*a2*b1 + 2*a2*b2 + b1**2 - 2*b1*b2 + b2**2))/2) + C3*exp(-t*(a1 + a2 + b1 + b2 + sqrt(a1**2 - 2*a1*a2 + 2*a1*b1 - 2*a1*b2 + a2**2 + 2*a2*b1 + 2*a2*b2 + b1**2 - 2*b1*b2 + b2**2))/2))"
      ]
     },
     "execution_count": 124,
     "metadata": {},
     "output_type": "execute_result"
    }
   ],
   "source": [
    "sol[2]"
   ]
  },
  {
   "cell_type": "markdown",
   "metadata": {},
   "source": [
    "## Три состояния ворот с кратными интенсивностями прехода\n",
    "${S}^1 \\underset{\\beta}{\\stackrel{2 \\alpha}{\\rightleftarrows}} {S}^2 \\underset{2 \\beta}{\\stackrel{\\alpha}{\\rightleftarrows}} {S}^3$\n",
    "\n",
    "Система уравнений Колмогорова\n",
    "\\begin{equation}\n",
    "\t\\begin{aligned}\n",
    "\t& \\dot{P}^1=-2\\alpha {P}^1 + \\beta {P}^2\\\\\n",
    "\t& \\dot{P}^2=-(\\alpha+\\beta) {P}^2 +2 \\alpha {P}^1 +2\\beta \\mathrm{P}^3\\\\\n",
    "\t& \\dot{P}^3=\\alpha \\mathrm{P}^2 - 2\\beta \\mathrm{P}^3\\\\\n",
    "\t\\end{aligned}\n",
    "\\end{equation}"
   ]
  },
  {
   "cell_type": "code",
   "execution_count": 126,
   "metadata": {},
   "outputs": [],
   "source": [
    "a,b, lam, p1, p2, p3 = sym.symbols('a,b, lam, p1, p2, p3')"
   ]
  },
  {
   "cell_type": "code",
   "execution_count": 127,
   "metadata": {},
   "outputs": [
    {
     "data": {
      "text/latex": [
       "$\\displaystyle \\left[\\begin{matrix}- 2 a & b & 0\\\\2 a & - a - b & 2 b\\\\0 & a & - 2 b\\end{matrix}\\right]$"
      ],
      "text/plain": [
       "Matrix([\n",
       "[-2*a,      b,    0],\n",
       "[ 2*a, -a - b,  2*b],\n",
       "[   0,      a, -2*b]])"
      ]
     },
     "execution_count": 127,
     "metadata": {},
     "output_type": "execute_result"
    }
   ],
   "source": [
    "A=sym.Matrix([[-2*a, b, 0],[2*a, -(a+b), 2*b],[0, a,-2*b]])\n",
    "A # матрица системы"
   ]
  },
  {
   "cell_type": "markdown",
   "metadata": {},
   "source": [
    "#### Собственные числа"
   ]
  },
  {
   "cell_type": "code",
   "execution_count": 128,
   "metadata": {},
   "outputs": [
    {
     "data": {
      "text/latex": [
       "$\\displaystyle - lam^{3} + lam^{2} \\left(- 3 a - 3 b\\right) + lam \\left(- 2 a^{2} - 4 a b - 2 b^{2}\\right)$"
      ],
      "text/plain": [
       "-lam**3 + lam**2*(-3*a - 3*b) + lam*(-2*a**2 - 4*a*b - 2*b**2)"
      ]
     },
     "execution_count": 128,
     "metadata": {},
     "output_type": "execute_result"
    }
   ],
   "source": [
    "D=sym.Matrix([[-lam, 0, 0],[0, -lam, 0],[0, 0,-lam]])+A\n",
    "det=sym.collect(D.det(), lam)\n",
    "det # детерминант"
   ]
  },
  {
   "cell_type": "code",
   "execution_count": 129,
   "metadata": {},
   "outputs": [
    {
     "name": "stdout",
     "output_type": "stream",
     "text": [
      "- lam^{3} + lam^{2} \\left(- 3 a - 3 b\\right) + lam \\left(- 2 a^{2} - 4 a b - 2 b^{2}\\right)\n"
     ]
    }
   ],
   "source": [
    "sym.print_latex(det)"
   ]
  },
  {
   "cell_type": "code",
   "execution_count": 130,
   "metadata": {},
   "outputs": [],
   "source": [
    "lam1, lam2, lam0=sym.roots(det, lam)\n",
    "# решения характеристического уравнения"
   ]
  },
  {
   "cell_type": "code",
   "execution_count": 133,
   "metadata": {},
   "outputs": [
    {
     "data": {
      "text/latex": [
       "$\\displaystyle - a - b$"
      ],
      "text/plain": [
       "-a - b"
      ]
     },
     "execution_count": 133,
     "metadata": {},
     "output_type": "execute_result"
    }
   ],
   "source": [
    "lam1"
   ]
  },
  {
   "cell_type": "code",
   "execution_count": 134,
   "metadata": {},
   "outputs": [
    {
     "data": {
      "text/latex": [
       "$\\displaystyle - 2 a - 2 b$"
      ],
      "text/plain": [
       "-2*a - 2*b"
      ]
     },
     "execution_count": 134,
     "metadata": {},
     "output_type": "execute_result"
    }
   ],
   "source": [
    "lam2"
   ]
  },
  {
   "cell_type": "code",
   "execution_count": 135,
   "metadata": {},
   "outputs": [
    {
     "data": {
      "text/latex": [
       "$\\displaystyle 0$"
      ],
      "text/plain": [
       "0"
      ]
     },
     "execution_count": 135,
     "metadata": {},
     "output_type": "execute_result"
    }
   ],
   "source": [
    "lam0"
   ]
  },
  {
   "cell_type": "markdown",
   "metadata": {},
   "source": [
    "#### Стациораные решения"
   ]
  },
  {
   "cell_type": "code",
   "execution_count": 139,
   "metadata": {},
   "outputs": [
    {
     "data": {
      "text/latex": [
       "$\\displaystyle \\frac{a^{2}}{a^{2} + 2 a b + b^{2}}$"
      ],
      "text/plain": [
       "a**2/(a**2 + 2*a*b + b**2)"
      ]
     },
     "execution_count": 139,
     "metadata": {},
     "output_type": "execute_result"
    }
   ],
   "source": [
    "C=A*sym.Matrix([[p1],[p2],[p3]])\n",
    "R=list(sym.linsolve([A, sym.zeros(3,1)], (p1, p2, p3)))[0]\n",
    "p3_st=sym.solve(R[0]+R[1]+R[2]-1, p3)[0]\n",
    "p3_st"
   ]
  },
  {
   "cell_type": "code",
   "execution_count": 137,
   "metadata": {},
   "outputs": [
    {
     "data": {
      "text/latex": [
       "$\\displaystyle \\frac{2 a b}{a^{2} + 2 a b + b^{2}}$"
      ],
      "text/plain": [
       "2*a*b/(a**2 + 2*a*b + b**2)"
      ]
     },
     "execution_count": 137,
     "metadata": {},
     "output_type": "execute_result"
    }
   ],
   "source": [
    "p2_st=R[1].subs(p3, p3_st)\n",
    "p2_st"
   ]
  },
  {
   "cell_type": "code",
   "execution_count": 138,
   "metadata": {},
   "outputs": [
    {
     "data": {
      "text/latex": [
       "$\\displaystyle \\frac{b^{2}}{a^{2} + 2 a b + b^{2}}$"
      ],
      "text/plain": [
       "b**2/(a**2 + 2*a*b + b**2)"
      ]
     },
     "execution_count": 138,
     "metadata": {},
     "output_type": "execute_result"
    }
   ],
   "source": [
    "p1_st=R[0].subs(p3, p3_st)\n",
    "p1_st"
   ]
  },
  {
   "cell_type": "code",
   "execution_count": 140,
   "metadata": {},
   "outputs": [
    {
     "name": "stdout",
     "output_type": "stream",
     "text": [
      "\\frac{b^{2}}{a^{2} + 2 a b + b^{2}}\n"
     ]
    }
   ],
   "source": [
    "sym.print_latex(p1_st)"
   ]
  },
  {
   "cell_type": "markdown",
   "metadata": {},
   "source": [
    "#### Решения"
   ]
  },
  {
   "cell_type": "code",
   "execution_count": 142,
   "metadata": {},
   "outputs": [],
   "source": [
    "t = sym.symbols('t')#Независимая переменная\n",
    "p1= sym.Function('p1')#Зависимая переменная\n",
    "p2= sym.Function('p2')#Зависимая переменная\n",
    "p3= sym.Function('p3')#Зависимая переменная"
   ]
  },
  {
   "cell_type": "code",
   "execution_count": 143,
   "metadata": {},
   "outputs": [
    {
     "data": {
      "text/latex": [
       "$\\displaystyle - a p_{2}{\\left(t \\right)} + 2 b p_{3}{\\left(t \\right)} + \\frac{d}{d t} p_{3}{\\left(t \\right)}$"
      ],
      "text/plain": [
       "-a*p2(t) + 2*b*p3(t) + Derivative(p3(t), t)"
      ]
     },
     "execution_count": 143,
     "metadata": {},
     "output_type": "execute_result"
    }
   ],
   "source": [
    "C=A*sym.Matrix([[p1(t)],[p2(t)],[p3(t)]])\n",
    "eq1=sym.diff(p1(t),t)-C[0]\n",
    "eq2=sym.diff(p2(t),t)-C[1]\n",
    "eq3=sym.diff(p3(t),t)-C[2]\n",
    "eq3"
   ]
  },
  {
   "cell_type": "code",
   "execution_count": 144,
   "metadata": {},
   "outputs": [],
   "source": [
    "sol=sym.dsolve((eq1,eq2, eq3))"
   ]
  },
  {
   "cell_type": "code",
   "execution_count": 151,
   "metadata": {},
   "outputs": [
    {
     "name": "stdout",
     "output_type": "stream",
     "text": [
      "p_{3}{\\left(t \\right)} = C_{1} + C_{2} e^{- t \\left(a + b\\right)} + C_{3} e^{- t \\left(2 a + 2 b\\right)}\n"
     ]
    }
   ],
   "source": [
    "sym.print_latex(sol[2])"
   ]
  },
  {
   "cell_type": "code",
   "execution_count": 149,
   "metadata": {},
   "outputs": [
    {
     "data": {
      "text/latex": [
       "$\\displaystyle p_{2}{\\left(t \\right)} = \\frac{2 C_{1} b}{a} - \\frac{C_{2} \\left(a - b\\right) e^{- t \\left(a + b\\right)}}{a} - 2 C_{3} e^{- t \\left(2 a + 2 b\\right)}$"
      ],
      "text/plain": [
       "Eq(p2(t), 2*C1*b/a - C2*(a - b)*exp(-t*(a + b))/a - 2*C3*exp(-t*(2*a + 2*b)))"
      ]
     },
     "execution_count": 149,
     "metadata": {},
     "output_type": "execute_result"
    }
   ],
   "source": [
    "sol[1]"
   ]
  },
  {
   "cell_type": "code",
   "execution_count": null,
   "metadata": {},
   "outputs": [],
   "source": [
    "#Функция lambdify() переводит выражения SymPy в функции Python.\n",
    "#f = lambdify([a, b], expr, \"numpy\")"
   ]
  }
 ],
 "metadata": {
  "kernelspec": {
   "display_name": "Python 3 (ipykernel)",
   "language": "python",
   "name": "python3"
  },
  "language_info": {
   "codemirror_mode": {
    "name": "ipython",
    "version": 3
   },
   "file_extension": ".py",
   "mimetype": "text/x-python",
   "name": "python",
   "nbconvert_exporter": "python",
   "pygments_lexer": "ipython3",
   "version": "3.11.6"
  }
 },
 "nbformat": 4,
 "nbformat_minor": 4
}
