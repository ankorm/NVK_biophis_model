{
 "cells": [
  {
   "cell_type": "code",
   "execution_count": 1,
   "metadata": {},
   "outputs": [],
   "source": [
    "import sympy as sym\n",
    "from sympy import latex\n",
    "from IPython.display import display"
   ]
  },
  {
   "cell_type": "markdown",
   "metadata": {},
   "source": [
    "## Два состояния ворот\n",
    "${S}^1 \\underset{\\beta}{\\stackrel{\\alpha}{\\rightleftarrows}} {S}^2$\n",
    "\n",
    "Система уравнений Колмогорова\n",
    "\\begin{equation} \n",
    "\t\\begin{aligned}\n",
    "\t& \\dot{P}^1=-\\alpha {P}^1 + \\beta {P}^2\\\\\n",
    "\t& \\dot{P}^2=\\alpha \\mathrm{P}^1 - \\beta \\mathrm{P}^2\\\\\n",
    "\t\\end{aligned}\n",
    "\\end{equation}\n",
    "\n",
    "Нормировочное условие\n",
    "\\begin{equation} \n",
    "\t{P}^1 + {P}^2 = 1\n",
    "\\end{equation}\n",
    "Для приложений ${P}^1$ -- закрытое состояние, ${P}^2=P_{Open}$ -- отркытое состояние"
   ]
  },
  {
   "cell_type": "code",
   "execution_count": 2,
   "metadata": {},
   "outputs": [
    {
     "data": {
      "text/latex": [
       "$\\displaystyle \\frac{d}{d t} P_{2}{\\left(t \\right)} = \\alpha \\left(1 - P_{2}{\\left(t \\right)}\\right) - \\beta P_{2}{\\left(t \\right)}$"
      ],
      "text/plain": [
       "Eq(Derivative(P2(t), t), alpha*(1 - P2(t)) - beta*P2(t))"
      ]
     },
     "metadata": {},
     "output_type": "display_data"
    },
    {
     "name": "stdout",
     "output_type": "stream",
     "text": [
      "Матрица A:\n"
     ]
    },
    {
     "data": {
      "text/latex": [
       "$\\displaystyle \\left[\\begin{matrix}- \\alpha - \\beta\\end{matrix}\\right]$"
      ],
      "text/plain": [
       "Matrix([[-alpha - beta]])"
      ]
     },
     "metadata": {},
     "output_type": "display_data"
    },
    {
     "name": "stdout",
     "output_type": "stream",
     "text": [
      "Свободный столбец b:\n"
     ]
    },
    {
     "data": {
      "text/latex": [
       "$\\displaystyle \\left[\\begin{matrix}\\alpha\\end{matrix}\\right]$"
      ],
      "text/plain": [
       "Matrix([[alpha]])"
      ]
     },
     "metadata": {},
     "output_type": "display_data"
    }
   ],
   "source": [
    "# Переменная\n",
    "t = sym.Symbol('t')\n",
    "\n",
    "# Переменные — функции от времени\n",
    "P2 = sym.Function('P2')(t)\n",
    "\n",
    "# Параметры\n",
    "alpha, beta = sym.symbols('alpha beta',  positive=True)\n",
    "\n",
    "# нормировочное условие\n",
    "P1 = 1 - P2\n",
    "\n",
    "# Уравнение Колмогорова для P2\n",
    "dP2 = sym.Eq(P2.diff(t), alpha * P1 - beta * P2)\n",
    "\n",
    "display(dP2)\n",
    "\n",
    "system = [dP2]  # обернули в список\n",
    "variables = [P2]\n",
    "\n",
    "# Правая часть системы (f = A*P + b)\n",
    "rhs = [eq.rhs for eq in system]\n",
    "\n",
    "# Получаем матрицу A и свободный вектор b\n",
    "A, b = sym.linear_eq_to_matrix(rhs, variables)\n",
    "b = -b\n",
    "\n",
    "# Красивый вывод\n",
    "print(\"Матрица A:\")\n",
    "display(A)\n",
    "\n",
    "print(\"Свободный столбец b:\")\n",
    "display(b)"
   ]
  },
  {
   "cell_type": "markdown",
   "metadata": {},
   "source": [
    "### Собственные числа"
   ]
  },
  {
   "cell_type": "code",
   "execution_count": 3,
   "metadata": {},
   "outputs": [
    {
     "data": {
      "text/plain": [
       "'Собсвенное число:'"
      ]
     },
     "metadata": {},
     "output_type": "display_data"
    },
    {
     "data": {
      "text/latex": [
       "$\\displaystyle \\alpha + \\beta$"
      ],
      "text/plain": [
       "alpha + beta"
      ]
     },
     "metadata": {},
     "output_type": "display_data"
    },
    {
     "data": {
      "text/plain": [
       "'Постоянноая времени:'"
      ]
     },
     "metadata": {},
     "output_type": "display_data"
    },
    {
     "data": {
      "text/latex": [
       "$\\displaystyle \\frac{1}{\\alpha + \\beta}$"
      ],
      "text/plain": [
       "1/(alpha + beta)"
      ]
     },
     "metadata": {},
     "output_type": "display_data"
    }
   ],
   "source": [
    "lam = alpha+beta\n",
    "tau = 1/lam\n",
    "display('Собсвенное число:', lam, 'Постоянноая времени:',  tau)"
   ]
  },
  {
   "cell_type": "code",
   "execution_count": 4,
   "metadata": {},
   "outputs": [
    {
     "name": "stdout",
     "output_type": "stream",
     "text": [
      "Решение с начальными условиями:\n"
     ]
    },
    {
     "data": {
      "text/latex": [
       "$\\displaystyle P_{2}{\\left(t \\right)} = \\frac{\\alpha}{\\alpha + \\beta} + \\frac{\\left(P_{0} \\alpha + P_{0} \\beta - \\alpha\\right) e^{- t \\left(\\alpha + \\beta\\right)}}{\\alpha + \\beta}$"
      ],
      "text/plain": [
       "Eq(P2(t), alpha/(alpha + beta) + (P0*alpha + P0*beta - alpha)*exp(-t*(alpha + beta))/(alpha + beta))"
      ]
     },
     "metadata": {},
     "output_type": "display_data"
    }
   ],
   "source": [
    "P0 = sym.Symbol('P0')  # начальное значение\n",
    "ics = {P2.subs(t, 0): P0}\n",
    "solution_ic = sym.dsolve(dP2, P2, ics=ics)\n",
    "\n",
    "print(\"Решение с начальными условиями:\")\n",
    "display(solution_ic)"
   ]
  },
  {
   "cell_type": "markdown",
   "metadata": {},
   "source": [
    "## Три состояния ворот с независимыми интенсивностями прехода\n",
    "${S}^1 \\underset{\\beta_1}{\\stackrel{\\alpha_1}{\\rightleftarrows}} {S}^2 \\underset{\\beta_2}{\\stackrel{\\alpha_2}{\\rightleftarrows}} {S}^3$\n",
    "\n",
    "Система уравнений Колмогорова\n",
    "\\begin{equation} \n",
    "\t\\begin{aligned}\n",
    "\t& \\dot{P}^1=-\\alpha_1 {P}^1 + \\beta_1 {P}^2\\\\\n",
    "\t& \\dot{P}^2=-(\\alpha_2+\\beta_1) {P}^2 + \\alpha_1 {P}^1 +\\beta_2 \\mathrm{P}^3\\\\\n",
    "\t& \\dot{P}^3=\\alpha_2 \\mathrm{P}^2 - \\beta_2 \\mathrm{P}^3\\\\\n",
    "\t\\end{aligned}\n",
    "\\end{equation}\n",
    "\n",
    "Нормировочное условие\n",
    "\\begin{equation} \n",
    "\t{P}^1 + {P}^2 + {P}^3 = 1\n",
    "\\end{equation}\n",
    "Для приложений ${P}^1$ -- закрытое состояние, ${P}^3=P_{Open}$ -- отркытое состояние"
   ]
  },
  {
   "cell_type": "code",
   "execution_count": 5,
   "metadata": {},
   "outputs": [
    {
     "data": {
      "text/latex": [
       "$\\displaystyle \\frac{d}{d t} P_{2}{\\left(t \\right)} = \\alpha_{1} \\left(- P_{2}{\\left(t \\right)} - P_{3}{\\left(t \\right)} + 1\\right) + \\beta_{2} P_{3}{\\left(t \\right)} + \\left(- \\alpha_{2} - \\beta_{1}\\right) P_{2}{\\left(t \\right)}$"
      ],
      "text/plain": [
       "Eq(Derivative(P2(t), t), alpha1*(-P2(t) - P3(t) + 1) + beta2*P3(t) + (-alpha2 - beta1)*P2(t))"
      ]
     },
     "metadata": {},
     "output_type": "display_data"
    },
    {
     "data": {
      "text/latex": [
       "$\\displaystyle \\frac{d}{d t} P_{3}{\\left(t \\right)} = \\alpha_{2} P_{2}{\\left(t \\right)} - \\beta_{2} P_{3}{\\left(t \\right)}$"
      ],
      "text/plain": [
       "Eq(Derivative(P3(t), t), alpha2*P2(t) - beta2*P3(t))"
      ]
     },
     "metadata": {},
     "output_type": "display_data"
    },
    {
     "name": "stdout",
     "output_type": "stream",
     "text": [
      "Матрица A:\n"
     ]
    },
    {
     "data": {
      "text/latex": [
       "$\\displaystyle \\left[\\begin{matrix}- \\alpha_{1} - \\alpha_{2} - \\beta_{1} & - \\alpha_{1} + \\beta_{2}\\\\\\alpha_{2} & - \\beta_{2}\\end{matrix}\\right]$"
      ],
      "text/plain": [
       "Matrix([\n",
       "[-alpha1 - alpha2 - beta1, -alpha1 + beta2],\n",
       "[                  alpha2,          -beta2]])"
      ]
     },
     "metadata": {},
     "output_type": "display_data"
    },
    {
     "name": "stdout",
     "output_type": "stream",
     "text": [
      "\n",
      "Свободный столбец b:\n"
     ]
    },
    {
     "data": {
      "text/latex": [
       "$\\displaystyle \\left[\\begin{matrix}- \\alpha_{1}\\\\0\\end{matrix}\\right]$"
      ],
      "text/plain": [
       "Matrix([\n",
       "[-alpha1],\n",
       "[      0]])"
      ]
     },
     "metadata": {},
     "output_type": "display_data"
    }
   ],
   "source": [
    "# Переменная\n",
    "t = sym.Symbol('t')\n",
    "\n",
    "# Переменные — функции от времени\n",
    "P2 = sym.Function('P2')(t)\n",
    "P3 = sym.Function('P3')(t)\n",
    "\n",
    "# Параметры\n",
    "alpha1, alpha2, beta1, beta2 = sym.symbols('alpha1 alpha2 beta1 beta2',  positive=True)\n",
    "\n",
    "# Выражаем P1 из алгебраических условий\n",
    "P1 = 1 - P2 - P3\n",
    "\n",
    "# Система уравнений Колмогорова:\n",
    "dP2 = sym.Eq(P2.diff(t), - (alpha2 + beta1)*P2 + alpha1*P1 + beta2*P3)\n",
    "dP3 = sym.Eq(P3.diff(t), alpha2*P2 - beta2*P3)\n",
    "\n",
    "# Вывод всей системы\n",
    "system = [dP2, dP3]\n",
    "for s in system:\n",
    "    display(s)\n",
    "\n",
    "# Переменные системы — СПИСОК\n",
    "vars_ = [P2, P3]\n",
    "\n",
    "# Правая часть уравнений\n",
    "rhs = [eq.rhs for eq in system]\n",
    "\n",
    "# Получение матрицы и свободного столбца\n",
    "A, b = sym.linear_eq_to_matrix(rhs, vars_)\n",
    "\n",
    "# Печать\n",
    "print(\"Матрица A:\")\n",
    "display(A)\n",
    "\n",
    "print(\"\\nСвободный столбец b:\")\n",
    "display(b)"
   ]
  },
  {
   "cell_type": "markdown",
   "metadata": {},
   "source": [
    "#### Собственные числа"
   ]
  },
  {
   "cell_type": "code",
   "execution_count": 6,
   "metadata": {},
   "outputs": [
    {
     "data": {
      "text/latex": [
       "$\\displaystyle \\alpha_{1} \\alpha_{2} + \\alpha_{1} \\beta_{2} + \\beta_{1} \\beta_{2} + lam^{2} + lam \\left(\\alpha_{1} + \\alpha_{2} + \\beta_{1} + \\beta_{2}\\right)$"
      ],
      "text/plain": [
       "alpha1*alpha2 + alpha1*beta2 + beta1*beta2 + lam**2 + lam*(alpha1 + alpha2 + beta1 + beta2)"
      ]
     },
     "metadata": {},
     "output_type": "display_data"
    }
   ],
   "source": [
    "lam = sym.Symbol('lam')\n",
    "D=sym.Matrix([[-lam, 0],[0, -lam]])+A\n",
    "det=sym.collect(D.det(), lam)\n",
    "display(det.together()) # детерминант"
   ]
  },
  {
   "cell_type": "code",
   "execution_count": 7,
   "metadata": {},
   "outputs": [
    {
     "data": {
      "text/latex": [
       "$\\displaystyle lam = - \\frac{\\alpha_{1}}{2} - \\frac{\\alpha_{2}}{2} - \\frac{\\beta_{1}}{2} - \\frac{\\beta_{2}}{2} - \\frac{\\sqrt{\\alpha_{1}^{2} - 2 \\alpha_{1} \\alpha_{2} + 2 \\alpha_{1} \\beta_{1} - 2 \\alpha_{1} \\beta_{2} + \\alpha_{2}^{2} + 2 \\alpha_{2} \\beta_{1} + 2 \\alpha_{2} \\beta_{2} + \\beta_{1}^{2} - 2 \\beta_{1} \\beta_{2} + \\beta_{2}^{2}}}{2}$"
      ],
      "text/plain": [
       "Eq(lam, -alpha1/2 - alpha2/2 - beta1/2 - beta2/2 - sqrt(alpha1**2 - 2*alpha1*alpha2 + 2*alpha1*beta1 - 2*alpha1*beta2 + alpha2**2 + 2*alpha2*beta1 + 2*alpha2*beta2 + beta1**2 - 2*beta1*beta2 + beta2**2)/2)"
      ]
     },
     "metadata": {},
     "output_type": "display_data"
    },
    {
     "data": {
      "text/latex": [
       "$\\displaystyle lam = - \\frac{\\alpha_{1}}{2} - \\frac{\\alpha_{2}}{2} - \\frac{\\beta_{1}}{2} - \\frac{\\beta_{2}}{2} + \\frac{\\sqrt{\\alpha_{1}^{2} - 2 \\alpha_{1} \\alpha_{2} + 2 \\alpha_{1} \\beta_{1} - 2 \\alpha_{1} \\beta_{2} + \\alpha_{2}^{2} + 2 \\alpha_{2} \\beta_{1} + 2 \\alpha_{2} \\beta_{2} + \\beta_{1}^{2} - 2 \\beta_{1} \\beta_{2} + \\beta_{2}^{2}}}{2}$"
      ],
      "text/plain": [
       "Eq(lam, -alpha1/2 - alpha2/2 - beta1/2 - beta2/2 + sqrt(alpha1**2 - 2*alpha1*alpha2 + 2*alpha1*beta1 - 2*alpha1*beta2 + alpha2**2 + 2*alpha2*beta1 + 2*alpha2*beta2 + beta1**2 - 2*beta1*beta2 + beta2**2)/2)"
      ]
     },
     "metadata": {},
     "output_type": "display_data"
    }
   ],
   "source": [
    "lam1, lam2=sym.roots(det, lam)\n",
    "# решения характеристического уравнения\n",
    "for s in [lam1, lam2]:\n",
    "    display(sym.Eq(lam, s))"
   ]
  },
  {
   "cell_type": "markdown",
   "metadata": {},
   "source": [
    "#### Стациораные решения"
   ]
  },
  {
   "cell_type": "code",
   "execution_count": 8,
   "metadata": {},
   "outputs": [
    {
     "data": {
      "text/latex": [
       "$\\displaystyle P_{2 eq} = - \\frac{\\alpha_{1} \\beta_{2}}{\\alpha_{1} \\alpha_{2} + \\alpha_{1} \\beta_{2} + \\beta_{1} \\beta_{2}}$"
      ],
      "text/plain": [
       "Eq(P2_eq, -alpha1*beta2/(alpha1*alpha2 + alpha1*beta2 + beta1*beta2))"
      ]
     },
     "metadata": {},
     "output_type": "display_data"
    },
    {
     "data": {
      "text/latex": [
       "$\\displaystyle P_{3 eq} = - \\frac{\\alpha_{1} \\alpha_{2}}{\\alpha_{1} \\alpha_{2} + \\alpha_{1} \\beta_{2} + \\beta_{1} \\beta_{2}}$"
      ],
      "text/plain": [
       "Eq(P3_eq, -alpha1*alpha2/(alpha1*alpha2 + alpha1*beta2 + beta1*beta2))"
      ]
     },
     "metadata": {},
     "output_type": "display_data"
    }
   ],
   "source": [
    "P2_eq, P3_eq = sym.symbols('P2_eq P3_eq')\n",
    "P_eq = sym.Matrix([P2_eq, P3_eq])\n",
    "# Матрица A * P_eq + b\n",
    "expr = A * P_eq + b\n",
    "\n",
    "# Составляем уравнения: A * P + b = 0 → уравнения поэлементно\n",
    "steady_eqs = [sym.Eq(expr[i], 0) for i in range(expr.shape[0])]\n",
    "\n",
    "# Решаем\n",
    "sol = sym.solve(steady_eqs, [P2_eq, P3_eq], dict=True)\n",
    "\n",
    "for s in sol:\n",
    "    for var, expr in s.items():\n",
    "        display(sym.Eq(var, expr))"
   ]
  },
  {
   "cell_type": "markdown",
   "metadata": {},
   "source": [
    "#### Решения"
   ]
  },
  {
   "cell_type": "code",
   "execution_count": 9,
   "metadata": {},
   "outputs": [
    {
     "data": {
      "text/latex": [
       "$\\displaystyle P_{2}{\\left(t \\right)} = - \\frac{\\alpha_{1} \\left(\\alpha_{1} + \\alpha_{2} + \\beta_{1} - \\beta_{2} - \\sqrt{\\alpha_{1}^{2} - 2 \\alpha_{1} \\left(\\alpha_{2} - \\beta_{1} + \\beta_{2}\\right) + \\alpha_{2}^{2} + 2 \\alpha_{2} \\left(\\beta_{1} + \\beta_{2}\\right) + \\beta_{1}^{2} - 2 \\beta_{1} \\beta_{2} + \\beta_{2}^{2}}\\right) \\left(\\begin{cases} \\frac{2 e^{\\frac{t \\left(\\alpha_{1} + \\alpha_{2} + \\beta_{1} + \\beta_{2} - \\sqrt{\\alpha_{1}^{2} - 2 \\alpha_{1} \\alpha_{2} + 2 \\alpha_{1} \\beta_{1} - 2 \\alpha_{1} \\beta_{2} + \\alpha_{2}^{2} + 2 \\alpha_{2} \\beta_{1} + 2 \\alpha_{2} \\beta_{2} + \\beta_{1}^{2} - 2 \\beta_{1} \\beta_{2} + \\beta_{2}^{2}}\\right)}{2}}}{\\alpha_{1} + \\alpha_{2} + \\beta_{1} + \\beta_{2} - \\sqrt{\\alpha_{1}^{2} - 2 \\alpha_{1} \\alpha_{2} + 2 \\alpha_{1} \\beta_{1} - 2 \\alpha_{1} \\beta_{2} + \\alpha_{2}^{2} + 2 \\alpha_{2} \\beta_{1} + 2 \\alpha_{2} \\beta_{2} + \\beta_{1}^{2} - 2 \\beta_{1} \\beta_{2} + \\beta_{2}^{2}}} & \\text{for}\\: \\alpha_{1} + \\alpha_{2} + \\beta_{1} + \\beta_{2} - \\sqrt{\\alpha_{1}^{2} - 2 \\alpha_{1} \\alpha_{2} + 2 \\alpha_{1} \\beta_{1} - 2 \\alpha_{1} \\beta_{2} + \\alpha_{2}^{2} + 2 \\alpha_{2} \\beta_{1} + 2 \\alpha_{2} \\beta_{2} + \\beta_{1}^{2} - 2 \\beta_{1} \\beta_{2} + \\beta_{2}^{2}} \\neq 0 \\\\t & \\text{otherwise} \\end{cases}\\right) e^{- \\frac{t \\left(\\alpha_{1} + \\alpha_{2} + \\beta_{1} + \\beta_{2} - \\sqrt{\\alpha_{1}^{2} - 2 \\alpha_{1} \\alpha_{2} + 2 \\alpha_{1} \\beta_{1} - 2 \\alpha_{1} \\beta_{2} + \\alpha_{2}^{2} + 2 \\alpha_{2} \\beta_{1} + 2 \\alpha_{2} \\beta_{2} + \\beta_{1}^{2} - 2 \\beta_{1} \\beta_{2} + \\beta_{2}^{2}}\\right)}{2}}}{2 \\sqrt{\\alpha_{1}^{2} - 2 \\alpha_{1} \\left(\\alpha_{2} - \\beta_{1} + \\beta_{2}\\right) + \\alpha_{2}^{2} + 2 \\alpha_{2} \\left(\\beta_{1} + \\beta_{2}\\right) + \\beta_{1}^{2} - 2 \\beta_{1} \\beta_{2} + \\beta_{2}^{2}}} + \\frac{\\alpha_{1} \\left(\\alpha_{1} + \\alpha_{2} + \\beta_{1} - \\beta_{2} + \\sqrt{\\alpha_{1}^{2} - 2 \\alpha_{1} \\left(\\alpha_{2} - \\beta_{1} + \\beta_{2}\\right) + \\alpha_{2}^{2} + 2 \\alpha_{2} \\left(\\beta_{1} + \\beta_{2}\\right) + \\beta_{1}^{2} - 2 \\beta_{1} \\beta_{2} + \\beta_{2}^{2}}\\right) \\left(\\begin{cases} \\frac{2 e^{\\frac{t \\left(\\alpha_{1} + \\alpha_{2} + \\beta_{1} + \\beta_{2} + \\sqrt{\\alpha_{1}^{2} - 2 \\alpha_{1} \\alpha_{2} + 2 \\alpha_{1} \\beta_{1} - 2 \\alpha_{1} \\beta_{2} + \\alpha_{2}^{2} + 2 \\alpha_{2} \\beta_{1} + 2 \\alpha_{2} \\beta_{2} + \\beta_{1}^{2} - 2 \\beta_{1} \\beta_{2} + \\beta_{2}^{2}}\\right)}{2}}}{\\alpha_{1} + \\alpha_{2} + \\beta_{1} + \\beta_{2} + \\sqrt{\\alpha_{1}^{2} - 2 \\alpha_{1} \\alpha_{2} + 2 \\alpha_{1} \\beta_{1} - 2 \\alpha_{1} \\beta_{2} + \\alpha_{2}^{2} + 2 \\alpha_{2} \\beta_{1} + 2 \\alpha_{2} \\beta_{2} + \\beta_{1}^{2} - 2 \\beta_{1} \\beta_{2} + \\beta_{2}^{2}}} & \\text{for}\\: \\alpha_{1} + \\alpha_{2} + \\beta_{1} + \\beta_{2} + \\sqrt{\\alpha_{1}^{2} - 2 \\alpha_{1} \\alpha_{2} + 2 \\alpha_{1} \\beta_{1} - 2 \\alpha_{1} \\beta_{2} + \\alpha_{2}^{2} + 2 \\alpha_{2} \\beta_{1} + 2 \\alpha_{2} \\beta_{2} + \\beta_{1}^{2} - 2 \\beta_{1} \\beta_{2} + \\beta_{2}^{2}} \\neq 0 \\\\t & \\text{otherwise} \\end{cases}\\right) e^{- \\frac{t \\left(\\alpha_{1} + \\alpha_{2} + \\beta_{1} + \\beta_{2} + \\sqrt{\\alpha_{1}^{2} - 2 \\alpha_{1} \\alpha_{2} + 2 \\alpha_{1} \\beta_{1} - 2 \\alpha_{1} \\beta_{2} + \\alpha_{2}^{2} + 2 \\alpha_{2} \\beta_{1} + 2 \\alpha_{2} \\beta_{2} + \\beta_{1}^{2} - 2 \\beta_{1} \\beta_{2} + \\beta_{2}^{2}}\\right)}{2}}}{2 \\sqrt{\\alpha_{1}^{2} - 2 \\alpha_{1} \\left(\\alpha_{2} - \\beta_{1} + \\beta_{2}\\right) + \\alpha_{2}^{2} + 2 \\alpha_{2} \\left(\\beta_{1} + \\beta_{2}\\right) + \\beta_{1}^{2} - 2 \\beta_{1} \\beta_{2} + \\beta_{2}^{2}}} + \\frac{\\left(\\alpha_{1} + \\alpha_{2} + \\beta_{1} - \\beta_{2} + \\sqrt{\\alpha_{1}^{2} - 2 \\alpha_{1} \\left(\\alpha_{2} - \\beta_{1} + \\beta_{2}\\right) + \\alpha_{2}^{2} + 2 \\alpha_{2} \\left(\\beta_{1} + \\beta_{2}\\right) + \\beta_{1}^{2} - 2 \\beta_{1} \\beta_{2} + \\beta_{2}^{2}}\\right) \\left(- 4.0 \\alpha_{1}^{5} + \\alpha_{1}^{4} \\left(2.0 \\alpha_{1} + 6.0 \\alpha_{2} - 14.0 \\beta_{1} + 18.0 \\beta_{2} - 2.0 \\sqrt{\\alpha_{1}^{2} - 2.0 \\alpha_{1} \\left(\\alpha_{2} - \\beta_{1} + \\beta_{2}\\right) + \\alpha_{2}^{2} + 2.0 \\alpha_{2} \\left(\\beta_{1} + \\beta_{2}\\right) + \\beta_{1}^{2} - 2.0 \\beta_{1} \\beta_{2} + \\beta_{2}^{2}}\\right) - \\alpha_{1}^{3} \\left(\\alpha_{2} \\left(2.0 \\alpha_{1} + 2.0 \\alpha_{2} + 10.0 \\beta_{1} + 14.0 \\beta_{2} + 2.0 \\sqrt{\\alpha_{1}^{2} - 2.0 \\alpha_{1} \\left(\\alpha_{2} - \\beta_{1} + \\beta_{2}\\right) + \\alpha_{2}^{2} + 2.0 \\alpha_{2} \\left(\\beta_{1} + \\beta_{2}\\right) + \\beta_{1}^{2} - 2.0 \\beta_{1} \\beta_{2} + \\beta_{2}^{2}}\\right) + 24.0 \\beta_{1}^{2} - \\beta_{1} \\left(7.0 \\alpha_{1} + 7.0 \\alpha_{2} + 7.0 \\beta_{1} + 55.0 \\beta_{2} - 5.0 \\sqrt{\\alpha_{1}^{2} - 2.0 \\alpha_{1} \\left(\\alpha_{2} - \\beta_{1} + \\beta_{2}\\right) + \\alpha_{2}^{2} + 2.0 \\alpha_{2} \\left(\\beta_{1} + \\beta_{2}\\right) + \\beta_{1}^{2} - 2.0 \\beta_{1} \\beta_{2} + \\beta_{2}^{2}}\\right) + 24.0 \\beta_{2}^{2} + \\beta_{2} \\left(8.0 \\alpha_{1} + 8.0 \\alpha_{2} + 8.0 \\beta_{1} + 8.0 \\beta_{2} - 4.0 \\sqrt{\\alpha_{1}^{2} - 2.0 \\alpha_{1} \\left(\\alpha_{2} - \\beta_{1} + \\beta_{2}\\right) + \\alpha_{2}^{2} + 2.0 \\alpha_{2} \\left(\\beta_{1} + \\beta_{2}\\right) + \\beta_{1}^{2} - 2.0 \\beta_{1} \\beta_{2} + \\beta_{2}^{2}}\\right) - 2.0 \\left(\\alpha_{1} + \\alpha_{2} + \\beta_{1} + \\beta_{2} + \\sqrt{\\alpha_{1}^{2} - 2.0 \\alpha_{1} \\left(\\alpha_{2} - \\beta_{1} + \\beta_{2}\\right) + \\alpha_{2}^{2} + 2.0 \\alpha_{2} \\left(\\beta_{1} + \\beta_{2}\\right) + \\beta_{1}^{2} - 2.0 \\beta_{1} \\beta_{2} + \\beta_{2}^{2}}\\right) \\sqrt{\\alpha_{1}^{2} - 2.0 \\alpha_{1} \\left(\\alpha_{2} - \\beta_{1} + \\beta_{2}\\right) + \\alpha_{2}^{2} + 2.0 \\alpha_{2} \\left(\\beta_{1} + \\beta_{2}\\right) + \\beta_{1}^{2} - 2.0 \\beta_{1} \\beta_{2} + \\beta_{2}^{2}}\\right) + \\alpha_{1}^{2} \\left(4.0 \\alpha_{2}^{3} - \\alpha_{2}^{2} \\left(\\alpha_{1} + \\alpha_{2} + 9.0 \\beta_{1} + \\beta_{2} + \\sqrt{\\alpha_{1}^{2} - 2.0 \\alpha_{1} \\left(\\alpha_{2} - \\beta_{1} + \\beta_{2}\\right) + \\alpha_{2}^{2} + 2.0 \\alpha_{2} \\left(\\beta_{1} + \\beta_{2}\\right) + \\beta_{1}^{2} - 2.0 \\beta_{1} \\beta_{2} + \\beta_{2}^{2}}\\right) + \\alpha_{2} \\left(- 28.0 \\beta_{1}^{2} + 16.0 \\beta_{1} \\beta_{2} + 4.0 \\beta_{1} \\left(\\alpha_{1} + \\alpha_{2} + \\beta_{1} + \\beta_{2} + \\sqrt{\\alpha_{1}^{2} + 2.0 \\alpha_{1} \\left(- \\alpha_{2} + \\beta_{1} - \\beta_{2}\\right) + \\alpha_{2}^{2} + 2.0 \\alpha_{2} \\left(\\beta_{1} + \\beta_{2}\\right) + \\beta_{1}^{2} - 2.0 \\beta_{1} \\beta_{2} + \\beta_{2}^{2}}\\right) - 12.0 \\beta_{1} \\sqrt{\\alpha_{1}^{2} + 2.0 \\alpha_{1} \\left(- \\alpha_{2} + \\beta_{1} - \\beta_{2}\\right) + \\alpha_{2}^{2} + 2.0 \\alpha_{2} \\left(\\beta_{1} + \\beta_{2}\\right) + \\beta_{1}^{2} - 2.0 \\beta_{1} \\beta_{2} + \\beta_{2}^{2}} + 12.0 \\beta_{2}^{2} + 6.0 \\beta_{2} \\left(\\alpha_{1} + \\alpha_{2} + \\beta_{1} + \\beta_{2} + \\sqrt{\\alpha_{1}^{2} + 2.0 \\alpha_{1} \\left(- \\alpha_{2} + \\beta_{1} - \\beta_{2}\\right) + \\alpha_{2}^{2} + 2.0 \\alpha_{2} \\left(\\beta_{1} + \\beta_{2}\\right) + \\beta_{1}^{2} - 2.0 \\beta_{1} \\beta_{2} + \\beta_{2}^{2}}\\right)\\right) - 16.0 \\beta_{1}^{3} + \\beta_{1}^{2} \\left(9.0 \\alpha_{1} + 9.0 \\alpha_{2} + 9.0 \\beta_{1} + 57.0 \\beta_{2} - 3.0 \\sqrt{\\alpha_{1}^{2} + 2.0 \\alpha_{1} \\left(- \\alpha_{2} + \\beta_{1} - \\beta_{2}\\right) + \\alpha_{2}^{2} + 2.0 \\alpha_{2} \\left(\\beta_{1} + \\beta_{2}\\right) + \\beta_{1}^{2} - 2.0 \\beta_{1} \\beta_{2} + \\beta_{2}^{2}}\\right) - \\beta_{1} \\left(48.0 \\beta_{2}^{2} + 21.0 \\beta_{2} \\left(\\alpha_{1} + \\alpha_{2} + \\beta_{1} + \\beta_{2} + \\sqrt{\\alpha_{1}^{2} - 2.0 \\alpha_{1} \\left(\\alpha_{2} - \\beta_{1} + \\beta_{2}\\right) + \\alpha_{2}^{2} + 2.0 \\alpha_{2} \\left(\\beta_{1} + \\beta_{2}\\right) + \\beta_{1}^{2} - 2.0 \\beta_{1} \\beta_{2} + \\beta_{2}^{2}}\\right) - 24.0 \\beta_{2} \\sqrt{\\alpha_{1}^{2} - 2.0 \\alpha_{1} \\left(\\alpha_{2} - \\beta_{1} + \\beta_{2}\\right) + \\alpha_{2}^{2} + 2.0 \\alpha_{2} \\left(\\beta_{1} + \\beta_{2}\\right) + \\beta_{1}^{2} - 2.0 \\beta_{1} \\beta_{2} + \\beta_{2}^{2}} - 5.0 \\left(\\alpha_{1} + \\alpha_{2} + \\beta_{1} + \\beta_{2} + \\sqrt{\\alpha_{1}^{2} - 2.0 \\alpha_{1} \\left(\\alpha_{2} - \\beta_{1} + \\beta_{2}\\right) + \\alpha_{2}^{2} + 2.0 \\alpha_{2} \\left(\\beta_{1} + \\beta_{2}\\right) + \\beta_{1}^{2} - 2.0 \\beta_{1} \\beta_{2} + \\beta_{2}^{2}}\\right) \\sqrt{\\alpha_{1}^{2} - 2.0 \\alpha_{1} \\left(\\alpha_{2} - \\beta_{1} + \\beta_{2}\\right) + \\alpha_{2}^{2} + 2.0 \\alpha_{2} \\left(\\beta_{1} + \\beta_{2}\\right) + \\beta_{1}^{2} - 2.0 \\beta_{1} \\beta_{2} + \\beta_{2}^{2}}\\right) + 16.0 \\beta_{2}^{3} + 12.0 \\beta_{2}^{2} \\left(\\alpha_{1} + \\alpha_{2} + \\beta_{1} + \\beta_{2}\\right) - 6.0 \\beta_{2} \\left(\\alpha_{1} + \\alpha_{2} + \\beta_{1} + \\beta_{2} + \\sqrt{\\alpha_{1}^{2} - 2.0 \\alpha_{1} \\left(\\alpha_{2} - \\beta_{1} + \\beta_{2}\\right) + \\alpha_{2}^{2} + 2.0 \\alpha_{2} \\left(\\beta_{1} + \\beta_{2}\\right) + \\beta_{1}^{2} - 2.0 \\beta_{1} \\beta_{2} + \\beta_{2}^{2}}\\right) \\sqrt{\\alpha_{1}^{2} - 2.0 \\alpha_{1} \\left(\\alpha_{2} - \\beta_{1} + \\beta_{2}\\right) + \\alpha_{2}^{2} + 2.0 \\alpha_{2} \\left(\\beta_{1} + \\beta_{2}\\right) + \\beta_{1}^{2} - 2.0 \\beta_{1} \\beta_{2} + \\beta_{2}^{2}}\\right) - \\alpha_{1} \\left(4.0 \\alpha_{2}^{4} + \\alpha_{2}^{3} \\left(16.0 \\beta_{1} + 4.0 \\beta_{2} + 4.0 \\sqrt{\\alpha_{1}^{2} - 2.0 \\alpha_{1} \\left(\\alpha_{2} - \\beta_{1} + \\beta_{2}\\right) + \\alpha_{2}^{2} + 2.0 \\alpha_{2} \\left(\\beta_{1} + \\beta_{2}\\right) + \\beta_{1}^{2} - 2.0 \\beta_{1} \\beta_{2} + \\beta_{2}^{2}}\\right) - \\alpha_{2}^{2} \\left(- 24.0 \\beta_{1}^{2} + 8.0 \\beta_{1} \\beta_{2} + 5.0 \\beta_{1} \\left(\\alpha_{1} + \\alpha_{2} + \\beta_{1} + \\beta_{2} + \\sqrt{\\alpha_{1}^{2} - 2.0 \\alpha_{1} \\left(\\alpha_{2} - \\beta_{1} + \\beta_{2}\\right) + \\alpha_{2}^{2} + 2.0 \\alpha_{2} \\left(\\beta_{1} + \\beta_{2}\\right) + \\beta_{1}^{2} - 2.0 \\beta_{1} \\beta_{2} + \\beta_{2}^{2}}\\right) - 12.0 \\beta_{1} \\sqrt{\\alpha_{1}^{2} - 2.0 \\alpha_{1} \\left(\\alpha_{2} - \\beta_{1} + \\beta_{2}\\right) + \\alpha_{2}^{2} + 2.0 \\alpha_{2} \\left(\\beta_{1} + \\beta_{2}\\right) + \\beta_{1}^{2} - 2.0 \\beta_{1} \\beta_{2} + \\beta_{2}^{2}} + 2.0 \\beta_{2} \\left(\\alpha_{1} + \\alpha_{2} + \\beta_{1} + \\beta_{2} + \\sqrt{\\alpha_{1}^{2} - 2.0 \\alpha_{1} \\left(\\alpha_{2} - \\beta_{1} + \\beta_{2}\\right) + \\alpha_{2}^{2} + 2.0 \\alpha_{2} \\left(\\beta_{1} + \\beta_{2}\\right) + \\beta_{1}^{2} - 2.0 \\beta_{1} \\beta_{2} + \\beta_{2}^{2}}\\right) + \\left(\\alpha_{1} + \\alpha_{2} + \\beta_{1} + \\beta_{2} + \\sqrt{\\alpha_{1}^{2} - 2.0 \\alpha_{1} \\left(\\alpha_{2} - \\beta_{1} + \\beta_{2}\\right) + \\alpha_{2}^{2} + 2.0 \\alpha_{2} \\left(\\beta_{1} + \\beta_{2}\\right) + \\beta_{1}^{2} - 2.0 \\beta_{1} \\beta_{2} + \\beta_{2}^{2}}\\right) \\sqrt{\\alpha_{1}^{2} - 2.0 \\alpha_{1} \\left(\\alpha_{2} - \\beta_{1} + \\beta_{2}\\right) + \\alpha_{2}^{2} + 2.0 \\alpha_{2} \\left(\\beta_{1} + \\beta_{2}\\right) + \\beta_{1}^{2} - 2.0 \\beta_{1} \\beta_{2} + \\beta_{2}^{2}}\\right) + \\alpha_{2} \\left(16.0 \\beta_{1}^{3} - 28.0 \\beta_{1}^{2} \\beta_{2} - 10.0 \\beta_{1}^{2} \\left(\\alpha_{1} + \\alpha_{2} + \\beta_{1} + \\beta_{2} + \\sqrt{\\alpha_{1}^{2} - 2.0 \\alpha_{1} \\left(\\alpha_{2} - \\beta_{1} + \\beta_{2}\\right) + \\alpha_{2}^{2} + 2.0 \\alpha_{2} \\left(\\beta_{1} + \\beta_{2}\\right) + \\beta_{1}^{2} - 2.0 \\beta_{1} \\beta_{2} + \\beta_{2}^{2}}\\right) + 12.0 \\beta_{1}^{2} \\sqrt{\\alpha_{1}^{2} - 2.0 \\alpha_{1} \\left(\\alpha_{2} - \\beta_{1} + \\beta_{2}\\right) + \\alpha_{2}^{2} + 2.0 \\alpha_{2} \\left(\\beta_{1} + \\beta_{2}\\right) + \\beta_{1}^{2} - 2.0 \\beta_{1} \\beta_{2} + \\beta_{2}^{2}} + 8.0 \\beta_{1} \\beta_{2}^{2} + 8.0 \\beta_{1} \\beta_{2} \\left(\\alpha_{1} + \\alpha_{2} + \\beta_{1} + \\beta_{2} + \\sqrt{\\alpha_{1}^{2} - 2.0 \\alpha_{1} \\left(\\alpha_{2} - \\beta_{1} + \\beta_{2}\\right) + \\alpha_{2}^{2} + 2.0 \\alpha_{2} \\left(\\beta_{1} + \\beta_{2}\\right) + \\beta_{1}^{2} - 2.0 \\beta_{1} \\beta_{2} + \\beta_{2}^{2}}\\right) - 12.0 \\beta_{1} \\beta_{2} \\sqrt{\\alpha_{1}^{2} - 2.0 \\alpha_{1} \\left(\\alpha_{2} - \\beta_{1} + \\beta_{2}\\right) + \\alpha_{2}^{2} + 2.0 \\alpha_{2} \\left(\\beta_{1} + \\beta_{2}\\right) + \\beta_{1}^{2} - 2.0 \\beta_{1} \\beta_{2} + \\beta_{2}^{2}} - 5.0 \\beta_{1} \\left(\\alpha_{1} + \\alpha_{2} + \\beta_{1} + \\beta_{2} + \\sqrt{\\alpha_{1}^{2} - 2.0 \\alpha_{1} \\left(\\alpha_{2} - \\beta_{1} + \\beta_{2}\\right) + \\alpha_{2}^{2} + 2.0 \\alpha_{2} \\left(\\beta_{1} + \\beta_{2}\\right) + \\beta_{1}^{2} - 2.0 \\beta_{1} \\beta_{2} + \\beta_{2}^{2}}\\right) \\sqrt{\\alpha_{1}^{2} - 2.0 \\alpha_{1} \\left(\\alpha_{2} - \\beta_{1} + \\beta_{2}\\right) + \\alpha_{2}^{2} + 2.0 \\alpha_{2} \\left(\\beta_{1} + \\beta_{2}\\right) + \\beta_{1}^{2} - 2.0 \\beta_{1} \\beta_{2} + \\beta_{2}^{2}} + 4.0 \\beta_{2}^{3} + 6.0 \\beta_{2}^{2} \\left(\\alpha_{1} + \\alpha_{2} + \\beta_{1} + \\beta_{2} + \\sqrt{\\alpha_{1}^{2} - 2.0 \\alpha_{1} \\left(\\alpha_{2} - \\beta_{1} + \\beta_{2}\\right) + \\alpha_{2}^{2} + 2.0 \\alpha_{2} \\left(\\beta_{1} + \\beta_{2}\\right) + \\beta_{1}^{2} - 2.0 \\beta_{1} \\beta_{2} + \\beta_{2}^{2}}\\right)\\right) + 4.0 \\beta_{1}^{4} - \\beta_{1}^{3} \\left(5.0 \\alpha_{1} + 5.0 \\alpha_{2} + 5.0 \\beta_{1} + 21.0 \\beta_{2} + 1.0 \\sqrt{\\alpha_{1}^{2} - 2.0 \\alpha_{1} \\left(\\alpha_{2} - \\beta_{1} + \\beta_{2}\\right) + \\alpha_{2}^{2} + 2.0 \\alpha_{2} \\left(\\beta_{1} + \\beta_{2}\\right) + \\beta_{1}^{2} - 2.0 \\beta_{1} \\beta_{2} + \\beta_{2}^{2}}\\right) + \\beta_{1}^{2} \\left(24.0 \\beta_{2}^{2} + 18.0 \\beta_{2} \\left(\\alpha_{1} + \\alpha_{2} + \\beta_{1} + \\beta_{2} + \\sqrt{\\alpha_{1}^{2} - 2.0 \\alpha_{1} \\left(\\alpha_{2} - \\beta_{1} + \\beta_{2}\\right) + \\alpha_{2}^{2} + 2.0 \\alpha_{2} \\left(\\beta_{1} + \\beta_{2}\\right) + \\beta_{1}^{2} - 2.0 \\beta_{1} \\beta_{2} + \\beta_{2}^{2}}\\right) - 12.0 \\beta_{2} \\sqrt{\\alpha_{1}^{2} - 2.0 \\alpha_{1} \\left(\\alpha_{2} - \\beta_{1} + \\beta_{2}\\right) + \\alpha_{2}^{2} + 2.0 \\alpha_{2} \\left(\\beta_{1} + \\beta_{2}\\right) + \\beta_{1}^{2} - 2.0 \\beta_{1} \\beta_{2} + \\beta_{2}^{2}} - 4.0 \\left(\\alpha_{1} + \\alpha_{2} + \\beta_{1} + \\beta_{2} + \\sqrt{\\alpha_{1}^{2} - 2.0 \\alpha_{1} \\left(\\alpha_{2} - \\beta_{1} + \\beta_{2}\\right) + \\alpha_{2}^{2} + 2.0 \\alpha_{2} \\left(\\beta_{1} + \\beta_{2}\\right) + \\beta_{1}^{2} - 2.0 \\beta_{1} \\beta_{2} + \\beta_{2}^{2}}\\right) \\sqrt{\\alpha_{1}^{2} - 2.0 \\alpha_{1} \\left(\\alpha_{2} - \\beta_{1} + \\beta_{2}\\right) + \\alpha_{2}^{2} + 2.0 \\alpha_{2} \\left(\\beta_{1} + \\beta_{2}\\right) + \\beta_{1}^{2} - 2.0 \\beta_{1} \\beta_{2} + \\beta_{2}^{2}}\\right) - \\beta_{1} \\beta_{2} \\left(16.0 \\beta_{2}^{2} + 21.0 \\beta_{2} \\left(\\alpha_{1} + \\alpha_{2} + \\beta_{1} + \\beta_{2} + \\sqrt{\\alpha_{1}^{2} - 2.0 \\alpha_{1} \\left(\\alpha_{2} - \\beta_{1} + \\beta_{2}\\right) + \\alpha_{2}^{2} + 2.0 \\alpha_{2} \\left(\\beta_{1} + \\beta_{2}\\right) + \\beta_{1}^{2} - 2.0 \\beta_{1} \\beta_{2} + \\beta_{2}^{2}}\\right) - 12.0 \\beta_{2} \\sqrt{\\alpha_{1}^{2} - 2.0 \\alpha_{1} \\left(\\alpha_{2} - \\beta_{1} + \\beta_{2}\\right) + \\alpha_{2}^{2} + 2.0 \\alpha_{2} \\left(\\beta_{1} + \\beta_{2}\\right) + \\beta_{1}^{2} - 2.0 \\beta_{1} \\beta_{2} + \\beta_{2}^{2}} - 10.0 \\left(\\alpha_{1} + \\alpha_{2} + \\beta_{1} + \\beta_{2} + \\sqrt{\\alpha_{1}^{2} - 2.0 \\alpha_{1} \\left(\\alpha_{2} - \\beta_{1} + \\beta_{2}\\right) + \\alpha_{2}^{2} + 2.0 \\alpha_{2} \\left(\\beta_{1} + \\beta_{2}\\right) + \\beta_{1}^{2} - 2.0 \\beta_{1} \\beta_{2} + \\beta_{2}^{2}}\\right) \\sqrt{\\alpha_{1}^{2} - 2.0 \\alpha_{1} \\left(\\alpha_{2} - \\beta_{1} + \\beta_{2}\\right) + \\alpha_{2}^{2} + 2.0 \\alpha_{2} \\left(\\beta_{1} + \\beta_{2}\\right) + \\beta_{1}^{2} - 2.0 \\beta_{1} \\beta_{2} + \\beta_{2}^{2}}\\right) + 4.0 \\beta_{2}^{4} + \\beta_{2}^{3} \\left(8.0 \\alpha_{1} + 8.0 \\alpha_{2} + 8.0 \\beta_{1} + 8.0 \\beta_{2} + 4.0 \\sqrt{\\alpha_{1}^{2} - 2.0 \\alpha_{1} \\left(\\alpha_{2} - \\beta_{1} + \\beta_{2}\\right) + \\alpha_{2}^{2} + 2.0 \\alpha_{2} \\left(\\beta_{1} + \\beta_{2}\\right) + \\beta_{1}^{2} - 2.0 \\beta_{1} \\beta_{2} + \\beta_{2}^{2}}\\right) - 6.0 \\beta_{2}^{2} \\left(\\alpha_{1} + \\alpha_{2} + \\beta_{1} + \\beta_{2} + \\sqrt{\\alpha_{1}^{2} - 2.0 \\alpha_{1} \\left(\\alpha_{2} - \\beta_{1} + \\beta_{2}\\right) + \\alpha_{2}^{2} + 2.0 \\alpha_{2} \\left(\\beta_{1} + \\beta_{2}\\right) + \\beta_{1}^{2} - 2.0 \\beta_{1} \\beta_{2} + \\beta_{2}^{2}}\\right) \\sqrt{\\alpha_{1}^{2} - 2.0 \\alpha_{1} \\left(\\alpha_{2} - \\beta_{1} + \\beta_{2}\\right) + \\alpha_{2}^{2} + 2.0 \\alpha_{2} \\left(\\beta_{1} + \\beta_{2}\\right) + \\beta_{1}^{2} - 2.0 \\beta_{1} \\beta_{2} + \\beta_{2}^{2}}\\right) + \\alpha_{2}^{4} \\left(\\alpha_{1} + \\alpha_{2} + \\beta_{1} + \\beta_{2} + \\sqrt{\\alpha_{1}^{2} - 2.0 \\alpha_{1} \\left(\\alpha_{2} - \\beta_{1} + \\beta_{2}\\right) + \\alpha_{2}^{2} + 2.0 \\alpha_{2} \\left(\\beta_{1} + \\beta_{2}\\right) + \\beta_{1}^{2} - 2.0 \\beta_{1} \\beta_{2} + \\beta_{2}^{2}}\\right) + \\alpha_{2}^{3} \\left(4.0 \\beta_{1} + \\sqrt{\\alpha_{1}^{2} - 2.0 \\alpha_{1} \\left(\\alpha_{2} - \\beta_{1} + \\beta_{2}\\right) + \\alpha_{2}^{2} + 2.0 \\alpha_{2} \\left(\\beta_{1} + \\beta_{2}\\right) + \\beta_{1}^{2} - 2.0 \\beta_{1} \\beta_{2} + \\beta_{2}^{2}}\\right) \\left(\\alpha_{1} + \\alpha_{2} + \\beta_{1} + \\beta_{2} + \\sqrt{\\alpha_{1}^{2} - 2.0 \\alpha_{1} \\left(\\alpha_{2} - \\beta_{1} + \\beta_{2}\\right) + \\alpha_{2}^{2} + 2.0 \\alpha_{2} \\left(\\beta_{1} + \\beta_{2}\\right) + \\beta_{1}^{2} - 2.0 \\beta_{1} \\beta_{2} + \\beta_{2}^{2}}\\right) - \\alpha_{2}^{2} \\left(- 6.0 \\beta_{1}^{2} + \\beta_{1} \\left(5.0 \\beta_{2} - 3.0 \\sqrt{\\alpha_{1}^{2} - 2.0 \\alpha_{1} \\left(\\alpha_{2} - \\beta_{1} + \\beta_{2}\\right) + \\alpha_{2}^{2} + 2.0 \\alpha_{2} \\left(\\beta_{1} + \\beta_{2}\\right) + \\beta_{1}^{2} - 2.0 \\beta_{1} \\beta_{2} + \\beta_{2}^{2}}\\right) + \\beta_{2}^{2} + \\beta_{2} \\sqrt{\\alpha_{1}^{2} - 2.0 \\alpha_{1} \\left(\\alpha_{2} - \\beta_{1} + \\beta_{2}\\right) + \\alpha_{2}^{2} + 2.0 \\alpha_{2} \\left(\\beta_{1} + \\beta_{2}\\right) + \\beta_{1}^{2} - 2.0 \\beta_{1} \\beta_{2} + \\beta_{2}^{2}}\\right) \\left(\\alpha_{1} + \\alpha_{2} + \\beta_{1} + \\beta_{2} + \\sqrt{\\alpha_{1}^{2} - 2.0 \\alpha_{1} \\left(\\alpha_{2} - \\beta_{1} + \\beta_{2}\\right) + \\alpha_{2}^{2} + 2.0 \\alpha_{2} \\left(\\beta_{1} + \\beta_{2}\\right) + \\beta_{1}^{2} - 2.0 \\beta_{1} \\beta_{2} + \\beta_{2}^{2}}\\right) + \\alpha_{2} \\left(4.0 \\beta_{1}^{3} - \\beta_{1}^{2} \\left(10.0 \\beta_{2} - 3.0 \\sqrt{\\alpha_{1}^{2} - 2.0 \\alpha_{1} \\left(\\alpha_{2} - \\beta_{1} + \\beta_{2}\\right) + \\alpha_{2}^{2} + 2.0 \\alpha_{2} \\left(\\beta_{1} + \\beta_{2}\\right) + \\beta_{1}^{2} - 2.0 \\beta_{1} \\beta_{2} + \\beta_{2}^{2}}\\right) + \\beta_{1} \\beta_{2} \\left(4.0 \\beta_{2} - 5.0 \\sqrt{\\alpha_{1}^{2} + 2.0 \\alpha_{1} \\left(- \\alpha_{2} + \\beta_{1} - \\beta_{2}\\right) + \\alpha_{2}^{2} + 2.0 \\alpha_{2} \\left(\\beta_{1} + \\beta_{2}\\right) + \\beta_{1}^{2} - 2.0 \\beta_{1} \\beta_{2} + \\beta_{2}^{2}}\\right) + 2.0 \\beta_{2}^{3}\\right) \\left(\\alpha_{1} + \\alpha_{2} + \\beta_{1} + \\beta_{2} + \\sqrt{\\alpha_{1}^{2} - 2.0 \\alpha_{1} \\left(\\alpha_{2} - \\beta_{1} + \\beta_{2}\\right) + \\alpha_{2}^{2} + 2.0 \\alpha_{2} \\left(\\beta_{1} + \\beta_{2}\\right) + \\beta_{1}^{2} - 2.0 \\beta_{1} \\beta_{2} + \\beta_{2}^{2}}\\right) + \\beta_{1}^{4} \\left(\\alpha_{1} + \\alpha_{2} + \\beta_{1} + \\beta_{2} + \\sqrt{\\alpha_{1}^{2} - 2.0 \\alpha_{1} \\left(\\alpha_{2} - \\beta_{1} + \\beta_{2}\\right) + \\alpha_{2}^{2} + 2.0 \\alpha_{2} \\left(\\beta_{1} + \\beta_{2}\\right) + \\beta_{1}^{2} - 2.0 \\beta_{1} \\beta_{2} + \\beta_{2}^{2}}\\right) - \\beta_{1}^{3} \\left(5.0 \\beta_{2} - \\sqrt{\\alpha_{1}^{2} - 2.0 \\alpha_{1} \\left(\\alpha_{2} - \\beta_{1} + \\beta_{2}\\right) + \\alpha_{2}^{2} + 2.0 \\alpha_{2} \\left(\\beta_{1} + \\beta_{2}\\right) + \\beta_{1}^{2} - 2.0 \\beta_{1} \\beta_{2} + \\beta_{2}^{2}}\\right) \\left(\\alpha_{1} + \\alpha_{2} + \\beta_{1} + \\beta_{2} + \\sqrt{\\alpha_{1}^{2} - 2.0 \\alpha_{1} \\left(\\alpha_{2} - \\beta_{1} + \\beta_{2}\\right) + \\alpha_{2}^{2} + 2.0 \\alpha_{2} \\left(\\beta_{1} + \\beta_{2}\\right) + \\beta_{1}^{2} - 2.0 \\beta_{1} \\beta_{2} + \\beta_{2}^{2}}\\right) + \\beta_{1}^{2} \\beta_{2} \\left(9.0 \\beta_{2} - 4.0 \\sqrt{\\alpha_{1}^{2} - 2.0 \\alpha_{1} \\left(\\alpha_{2} - \\beta_{1} + \\beta_{2}\\right) + \\alpha_{2}^{2} + 2.0 \\alpha_{2} \\left(\\beta_{1} + \\beta_{2}\\right) + \\beta_{1}^{2} - 2.0 \\beta_{1} \\beta_{2} + \\beta_{2}^{2}}\\right) \\left(\\alpha_{1} + \\alpha_{2} + \\beta_{1} + \\beta_{2} + \\sqrt{\\alpha_{1}^{2} - 2.0 \\alpha_{1} \\left(\\alpha_{2} - \\beta_{1} + \\beta_{2}\\right) + \\alpha_{2}^{2} + 2.0 \\alpha_{2} \\left(\\beta_{1} + \\beta_{2}\\right) + \\beta_{1}^{2} - 2.0 \\beta_{1} \\beta_{2} + \\beta_{2}^{2}}\\right) - \\beta_{1} \\beta_{2}^{2} \\left(7.0 \\beta_{2} - 5.0 \\sqrt{\\alpha_{1}^{2} - 2.0 \\alpha_{1} \\left(\\alpha_{2} - \\beta_{1} + \\beta_{2}\\right) + \\alpha_{2}^{2} + 2.0 \\alpha_{2} \\left(\\beta_{1} + \\beta_{2}\\right) + \\beta_{1}^{2} - 2.0 \\beta_{1} \\beta_{2} + \\beta_{2}^{2}}\\right) \\left(\\alpha_{1} + \\alpha_{2} + \\beta_{1} + \\beta_{2} + \\sqrt{\\alpha_{1}^{2} - 2.0 \\alpha_{1} \\left(\\alpha_{2} - \\beta_{1} + \\beta_{2}\\right) + \\alpha_{2}^{2} + 2.0 \\alpha_{2} \\left(\\beta_{1} + \\beta_{2}\\right) + \\beta_{1}^{2} - 2.0 \\beta_{1} \\beta_{2} + \\beta_{2}^{2}}\\right) + 2.0 \\beta_{2}^{4} \\left(\\alpha_{1} + \\alpha_{2} + \\beta_{1} + \\beta_{2} + \\sqrt{\\alpha_{1}^{2} - 2.0 \\alpha_{1} \\left(\\alpha_{2} - \\beta_{1} + \\beta_{2}\\right) + \\alpha_{2}^{2} + 2.0 \\alpha_{2} \\left(\\beta_{1} + \\beta_{2}\\right) + \\beta_{1}^{2} - 2.0 \\beta_{1} \\beta_{2} + \\beta_{2}^{2}}\\right) - 2.0 \\beta_{2}^{3} \\left(\\alpha_{1} + \\alpha_{2} + \\beta_{1} + \\beta_{2} + \\sqrt{\\alpha_{1}^{2} - 2.0 \\alpha_{1} \\left(\\alpha_{2} - \\beta_{1} + \\beta_{2}\\right) + \\alpha_{2}^{2} + 2.0 \\alpha_{2} \\left(\\beta_{1} + \\beta_{2}\\right) + \\beta_{1}^{2} - 2.0 \\beta_{1} \\beta_{2} + \\beta_{2}^{2}}\\right) \\sqrt{\\alpha_{1}^{2} - 2.0 \\alpha_{1} \\left(\\alpha_{2} - \\beta_{1} + \\beta_{2}\\right) + \\alpha_{2}^{2} + 2.0 \\alpha_{2} \\left(\\beta_{1} + \\beta_{2}\\right) + \\beta_{1}^{2} - 2.0 \\beta_{1} \\beta_{2} + \\beta_{2}^{2}}\\right) e^{- \\frac{t \\left(\\alpha_{1} + \\alpha_{2} + \\beta_{1} + \\beta_{2} + \\sqrt{\\alpha_{1}^{2} - 2 \\alpha_{1} \\alpha_{2} + 2 \\alpha_{1} \\beta_{1} - 2 \\alpha_{1} \\beta_{2} + \\alpha_{2}^{2} + 2 \\alpha_{2} \\beta_{1} + 2 \\alpha_{2} \\beta_{2} + \\beta_{1}^{2} - 2 \\beta_{1} \\beta_{2} + \\beta_{2}^{2}}\\right)}{2}}}{2 \\left(\\alpha_{1} + \\alpha_{2} + \\beta_{1} + \\beta_{2} + \\sqrt{\\alpha_{1}^{2} - 2.0 \\alpha_{1} \\left(\\alpha_{2} - \\beta_{1} + \\beta_{2}\\right) + \\alpha_{2}^{2} + 2.0 \\alpha_{2} \\left(\\beta_{1} + \\beta_{2}\\right) + \\beta_{1}^{2} - 2.0 \\beta_{1} \\beta_{2} + \\beta_{2}^{2}}\\right) \\left(2.0 \\alpha_{1}^{5} - \\alpha_{1}^{4} \\left(4.0 \\alpha_{2} - 10.0 \\beta_{1} + 10.0 \\beta_{2} - 2.0 \\left(\\alpha_{1}^{2} - 2.0 \\alpha_{1} \\left(\\alpha_{2} - \\beta_{1} + \\beta_{2}\\right) + \\alpha_{2}^{2} + 2.0 \\alpha_{2} \\left(\\beta_{1} + \\beta_{2}\\right) + \\beta_{1}^{2} - 2.0 \\beta_{1} \\beta_{2} + \\beta_{2}^{2}\\right)^{0.5}\\right) + \\alpha_{1}^{3} \\left(2.0 \\alpha_{2}^{2} - \\alpha_{2} \\left(2.0 \\beta_{1} - 16.0 \\beta_{2} + 2.0 \\left(\\alpha_{1}^{2} - 2.0 \\alpha_{1} \\left(\\alpha_{2} - \\beta_{1} + \\beta_{2}\\right) + \\alpha_{2}^{2} + 2.0 \\alpha_{2} \\left(\\beta_{1} + \\beta_{2}\\right) + \\beta_{1}^{2} - 2.0 \\beta_{1} \\beta_{2} + \\beta_{2}^{2}\\right)^{0.5}\\right) + 20.0 \\beta_{1}^{2} - \\beta_{1} \\left(40.0 \\beta_{2} - 8.0 \\left(\\alpha_{1}^{2} - 2.0 \\alpha_{1} \\left(\\alpha_{2} - \\beta_{1} + \\beta_{2}\\right) + \\alpha_{2}^{2} + 2.0 \\alpha_{2} \\left(\\beta_{1} + \\beta_{2}\\right) + \\beta_{1}^{2} - 2.0 \\beta_{1} \\beta_{2} + \\beta_{2}^{2}\\right)^{0.5}\\right) + 20.0 \\beta_{2}^{2} - 8.0 \\beta_{2} \\left(\\alpha_{1}^{2} - 2.0 \\alpha_{1} \\left(\\alpha_{2} - \\beta_{1} + \\beta_{2}\\right) + \\alpha_{2}^{2} + 2.0 \\alpha_{2} \\left(\\beta_{1} + \\beta_{2}\\right) + \\beta_{1}^{2} - 2.0 \\beta_{1} \\beta_{2} + \\beta_{2}^{2}\\right)^{0.5}\\right) + \\alpha_{1}^{2} \\left(2.0 \\alpha_{2}^{3} - 6.0 \\alpha_{2}^{2} \\beta_{2} + \\alpha_{2} \\left(18.0 \\beta_{1}^{2} + 6.0 \\beta_{1} \\beta_{2} + 4.0 \\beta_{1} \\left(\\alpha_{1}^{2} - 2.0 \\alpha_{1} \\left(\\alpha_{2} - \\beta_{1} + \\beta_{2}\\right) + \\alpha_{2}^{2} + 2.0 \\alpha_{2} \\left(\\beta_{1} + \\beta_{2}\\right) + \\beta_{1}^{2} - 2.0 \\beta_{1} \\beta_{2} + \\beta_{2}^{2}\\right)^{0.5} - 24.0 \\beta_{2}^{2} + 6.0 \\beta_{2} \\left(\\alpha_{1}^{2} - 2.0 \\alpha_{1} \\left(\\alpha_{2} - \\beta_{1} + \\beta_{2}\\right) + \\alpha_{2}^{2} + 2.0 \\alpha_{2} \\left(\\beta_{1} + \\beta_{2}\\right) + \\beta_{1}^{2} - 2.0 \\beta_{1} \\beta_{2} + \\beta_{2}^{2}\\right)^{0.5}\\right) + 20.0 \\beta_{1}^{3} - \\beta_{1}^{2} \\left(60.0 \\beta_{2} - 12.0 \\left(\\alpha_{1}^{2} - 2.0 \\alpha_{1} \\left(\\alpha_{2} - \\beta_{1} + \\beta_{2}\\right) + \\alpha_{2}^{2} + 2.0 \\alpha_{2} \\left(\\beta_{1} + \\beta_{2}\\right) + \\beta_{1}^{2} - 2.0 \\beta_{1} \\beta_{2} + \\beta_{2}^{2}\\right)^{0.5}\\right) + \\beta_{1} \\beta_{2} \\left(60.0 \\beta_{2} - 24.0 \\left(\\alpha_{1}^{2} - 2.0 \\alpha_{1} \\left(\\alpha_{2} - \\beta_{1} + \\beta_{2}\\right) + \\alpha_{2}^{2} + 2.0 \\alpha_{2} \\left(\\beta_{1} + \\beta_{2}\\right) + \\beta_{1}^{2} - 2.0 \\beta_{1} \\beta_{2} + \\beta_{2}^{2}\\right)^{0.5}\\right) - 20.0 \\beta_{2}^{3} + 12.0 \\beta_{2}^{2} \\left(\\alpha_{1}^{2} - 2.0 \\alpha_{1} \\left(\\alpha_{2} - \\beta_{1} + \\beta_{2}\\right) + \\alpha_{2}^{2} + 2.0 \\alpha_{2} \\left(\\beta_{1} + \\beta_{2}\\right) + \\beta_{1}^{2} - 2.0 \\beta_{1} \\beta_{2} + \\beta_{2}^{2}\\right)^{0.5}\\right) - \\alpha_{1} \\left(4.0 \\alpha_{2}^{4} + \\alpha_{2}^{3} \\left(2.0 \\beta_{1} + 4.0 \\beta_{2} + 2.0 \\left(\\alpha_{1}^{2} - 2.0 \\alpha_{1} \\left(\\alpha_{2} - \\beta_{1} + \\beta_{2}\\right) + \\alpha_{2}^{2} + 2.0 \\alpha_{2} \\left(\\beta_{1} + \\beta_{2}\\right) + \\beta_{1}^{2} - 2.0 \\beta_{1} \\beta_{2} + \\beta_{2}^{2}\\right)^{0.5}\\right) - \\alpha_{2}^{2} \\left(18.0 \\beta_{1}^{2} + 4.0 \\beta_{1} \\left(\\alpha_{1}^{2} - 2.0 \\alpha_{1} \\left(\\alpha_{2} - \\beta_{1} + \\beta_{2}\\right) + \\alpha_{2}^{2} + 2.0 \\alpha_{2} \\left(\\beta_{1} + \\beta_{2}\\right) + \\beta_{1}^{2} - 2.0 \\beta_{1} \\beta_{2} + \\beta_{2}^{2}\\right)^{0.5} + 6.0 \\beta_{2}^{2}\\right) + \\alpha_{2} \\left(- 26.0 \\beta_{1}^{3} + 36.0 \\beta_{1}^{2} \\beta_{2} - 14.0 \\beta_{1}^{2} \\left(\\alpha_{1}^{2} - 2.0 \\alpha_{1} \\left(\\alpha_{2} - \\beta_{1} + \\beta_{2}\\right) + \\alpha_{2}^{2} + 2.0 \\alpha_{2} \\left(\\beta_{1} + \\beta_{2}\\right) + \\beta_{1}^{2} - 2.0 \\beta_{1} \\beta_{2} + \\beta_{2}^{2}\\right)^{0.5} + 6.0 \\beta_{1} \\beta_{2}^{2} + 8.0 \\beta_{1} \\beta_{2} \\left(\\alpha_{1}^{2} - 2.0 \\alpha_{1} \\left(\\alpha_{2} - \\beta_{1} + \\beta_{2}\\right) + \\alpha_{2}^{2} + 2.0 \\alpha_{2} \\left(\\beta_{1} + \\beta_{2}\\right) + \\beta_{1}^{2} - 2.0 \\beta_{1} \\beta_{2} + \\beta_{2}^{2}\\right)^{0.5} - 16.0 \\beta_{2}^{3} + 6.0 \\beta_{2}^{2} \\left(\\alpha_{1}^{2} - 2.0 \\alpha_{1} \\left(\\alpha_{2} - \\beta_{1} + \\beta_{2}\\right) + \\alpha_{2}^{2} + 2.0 \\alpha_{2} \\left(\\beta_{1} + \\beta_{2}\\right) + \\beta_{1}^{2} - 2.0 \\beta_{1} \\beta_{2} + \\beta_{2}^{2}\\right)^{0.5}\\right) - 10.0 \\beta_{1}^{4} + \\beta_{1}^{3} \\left(40.0 \\beta_{2} - 8.0 \\left(\\alpha_{1}^{2} - 2.0 \\alpha_{1} \\left(\\alpha_{2} - \\beta_{1} + \\beta_{2}\\right) + \\alpha_{2}^{2} + 2.0 \\alpha_{2} \\left(\\beta_{1} + \\beta_{2}\\right) + \\beta_{1}^{2} - 2.0 \\beta_{1} \\beta_{2} + \\beta_{2}^{2}\\right)^{0.5}\\right) - \\beta_{1}^{2} \\beta_{2} \\left(60.0 \\beta_{2} - 24.0 \\left(\\alpha_{1}^{2} - 2.0 \\alpha_{1} \\left(\\alpha_{2} - \\beta_{1} + \\beta_{2}\\right) + \\alpha_{2}^{2} + 2.0 \\alpha_{2} \\left(\\beta_{1} + \\beta_{2}\\right) + \\beta_{1}^{2} - 2.0 \\beta_{1} \\beta_{2} + \\beta_{2}^{2}\\right)^{0.5}\\right) + \\beta_{1} \\beta_{2}^{2} \\left(40.0 \\beta_{2} - 24.0 \\left(\\alpha_{1}^{2} - 2.0 \\alpha_{1} \\left(\\alpha_{2} - \\beta_{1} + \\beta_{2}\\right) + \\alpha_{2}^{2} + 2.0 \\alpha_{2} \\left(\\beta_{1} + \\beta_{2}\\right) + \\beta_{1}^{2} - 2.0 \\beta_{1} \\beta_{2} + \\beta_{2}^{2}\\right)^{0.5}\\right) - 10.0 \\beta_{2}^{4} + 8.0 \\beta_{2}^{3} \\left(\\alpha_{1}^{2} - 2.0 \\alpha_{1} \\left(\\alpha_{2} - \\beta_{1} + \\beta_{2}\\right) + \\alpha_{2}^{2} + 2.0 \\alpha_{2} \\left(\\beta_{1} + \\beta_{2}\\right) + \\beta_{1}^{2} - 2.0 \\beta_{1} \\beta_{2} + \\beta_{2}^{2}\\right)^{0.5}\\right) + 2.0 \\alpha_{2}^{5} + \\alpha_{2}^{4} \\left(10.0 \\beta_{1} + 4.0 \\beta_{2} + 2.0 \\left(\\alpha_{1}^{2} - 2.0 \\alpha_{1} \\left(\\alpha_{2} - \\beta_{1} + \\beta_{2}\\right) + \\alpha_{2}^{2} + 2.0 \\alpha_{2} \\left(\\beta_{1} + \\beta_{2}\\right) + \\beta_{1}^{2} - 2.0 \\beta_{1} \\beta_{2} + \\beta_{2}^{2}\\right)^{0.5}\\right) + \\alpha_{2}^{3} \\left(20.0 \\beta_{1}^{2} + \\beta_{1} \\left(2.0 \\beta_{2} + 8.0 \\left(\\alpha_{1}^{2} - 2.0 \\alpha_{1} \\left(\\alpha_{2} - \\beta_{1} + \\beta_{2}\\right) + \\alpha_{2}^{2} + 2.0 \\alpha_{2} \\left(\\beta_{1} + \\beta_{2}\\right) + \\beta_{1}^{2} - 2.0 \\beta_{1} \\beta_{2} + \\beta_{2}^{2}\\right)^{0.5}\\right) + 2.0 \\beta_{2}^{2} + 2.0 \\beta_{2} \\left(\\alpha_{1}^{2} - 2.0 \\alpha_{1} \\left(\\alpha_{2} - \\beta_{1} + \\beta_{2}\\right) + \\alpha_{2}^{2} + 2.0 \\alpha_{2} \\left(\\beta_{1} + \\beta_{2}\\right) + \\beta_{1}^{2} - 2.0 \\beta_{1} \\beta_{2} + \\beta_{2}^{2}\\right)^{0.5}\\right) - \\alpha_{2}^{2} \\left(- 20.0 \\beta_{1}^{3} + \\beta_{1}^{2} \\left(18.0 \\beta_{2} - 12.0 \\left(\\alpha_{1}^{2} - 2.0 \\alpha_{1} \\left(\\alpha_{2} - \\beta_{1} + \\beta_{2}\\right) + \\alpha_{2}^{2} + 2.0 \\alpha_{2} \\left(\\beta_{1} + \\beta_{2}\\right) + \\beta_{1}^{2} - 2.0 \\beta_{1} \\beta_{2} + \\beta_{2}^{2}\\right)^{0.5}\\right) + 4.0 \\beta_{1} \\beta_{2} \\left(\\alpha_{1}^{2} - 2.0 \\alpha_{1} \\left(\\alpha_{2} - \\beta_{1} + \\beta_{2}\\right) + \\alpha_{2}^{2} + 2.0 \\alpha_{2} \\left(\\beta_{1} + \\beta_{2}\\right) + \\beta_{1}^{2} - 2.0 \\beta_{1} \\beta_{2} + \\beta_{2}^{2}\\right)^{0.5} + 2.0 \\beta_{2}^{3}\\right) + \\alpha_{2} \\left(10.0 \\beta_{1}^{4} - \\beta_{1}^{3} \\left(26.0 \\beta_{2} - 8.0 \\left(\\alpha_{1}^{2} - 2.0 \\alpha_{1} \\left(\\alpha_{2} - \\beta_{1} + \\beta_{2}\\right) + \\alpha_{2}^{2} + 2.0 \\alpha_{2} \\left(\\beta_{1} + \\beta_{2}\\right) + \\beta_{1}^{2} - 2.0 \\beta_{1} \\beta_{2} + \\beta_{2}^{2}\\right)^{0.5}\\right) + \\beta_{1}^{2} \\beta_{2} \\left(18.0 \\beta_{2} - 14.0 \\left(\\alpha_{1}^{2} - 2.0 \\alpha_{1} \\left(\\alpha_{2} - \\beta_{1} + \\beta_{2}\\right) + \\alpha_{2}^{2} + 2.0 \\alpha_{2} \\left(\\beta_{1} + \\beta_{2}\\right) + \\beta_{1}^{2} - 2.0 \\beta_{1} \\beta_{2} + \\beta_{2}^{2}\\right)^{0.5}\\right) + \\beta_{1} \\beta_{2}^{2} \\left(2.0 \\beta_{2} + 4.0 \\left(\\alpha_{1}^{2} - 2.0 \\alpha_{1} \\left(\\alpha_{2} - \\beta_{1} + \\beta_{2}\\right) + \\alpha_{2}^{2} + 2.0 \\alpha_{2} \\left(\\beta_{1} + \\beta_{2}\\right) + \\beta_{1}^{2} - 2.0 \\beta_{1} \\beta_{2} + \\beta_{2}^{2}\\right)^{0.5}\\right) - 4.0 \\beta_{2}^{4} + 2.0 \\beta_{2}^{3} \\left(\\alpha_{1}^{2} - 2.0 \\alpha_{1} \\left(\\alpha_{2} - \\beta_{1} + \\beta_{2}\\right) + \\alpha_{2}^{2} + 2.0 \\alpha_{2} \\left(\\beta_{1} + \\beta_{2}\\right) + \\beta_{1}^{2} - 2.0 \\beta_{1} \\beta_{2} + \\beta_{2}^{2}\\right)^{0.5}\\right) + 2.0 \\beta_{1}^{5} - \\beta_{1}^{4} \\left(10.0 \\beta_{2} - 2.0 \\left(\\alpha_{1}^{2} - 2.0 \\alpha_{1} \\left(\\alpha_{2} - \\beta_{1} + \\beta_{2}\\right) + \\alpha_{2}^{2} + 2.0 \\alpha_{2} \\left(\\beta_{1} + \\beta_{2}\\right) + \\beta_{1}^{2} - 2.0 \\beta_{1} \\beta_{2} + \\beta_{2}^{2}\\right)^{0.5}\\right) + \\beta_{1}^{3} \\beta_{2} \\left(20.0 \\beta_{2} - 8.0 \\left(\\alpha_{1}^{2} - 2.0 \\alpha_{1} \\left(\\alpha_{2} - \\beta_{1} + \\beta_{2}\\right) + \\alpha_{2}^{2} + 2.0 \\alpha_{2} \\left(\\beta_{1} + \\beta_{2}\\right) + \\beta_{1}^{2} - 2.0 \\beta_{1} \\beta_{2} + \\beta_{2}^{2}\\right)^{0.5}\\right) - \\beta_{1}^{2} \\beta_{2}^{2} \\left(20.0 \\beta_{2} - 12.0 \\left(\\alpha_{1}^{2} - 2.0 \\alpha_{1} \\left(\\alpha_{2} - \\beta_{1} + \\beta_{2}\\right) + \\alpha_{2}^{2} + 2.0 \\alpha_{2} \\left(\\beta_{1} + \\beta_{2}\\right) + \\beta_{1}^{2} - 2.0 \\beta_{1} \\beta_{2} + \\beta_{2}^{2}\\right)^{0.5}\\right) + \\beta_{1} \\beta_{2}^{3} \\left(10.0 \\beta_{2} - 8.0 \\left(\\alpha_{1}^{2} - 2.0 \\alpha_{1} \\left(\\alpha_{2} - \\beta_{1} + \\beta_{2}\\right) + \\alpha_{2}^{2} + 2.0 \\alpha_{2} \\left(\\beta_{1} + \\beta_{2}\\right) + \\beta_{1}^{2} - 2.0 \\beta_{1} \\beta_{2} + \\beta_{2}^{2}\\right)^{0.5}\\right) - 2.0 \\beta_{2}^{5} + 2.0 \\beta_{2}^{4} \\left(\\alpha_{1}^{2} - 2.0 \\alpha_{1} \\left(\\alpha_{2} - \\beta_{1} + \\beta_{2}\\right) + \\alpha_{2}^{2} + 2.0 \\alpha_{2} \\left(\\beta_{1} + \\beta_{2}\\right) + \\beta_{1}^{2} - 2.0 \\beta_{1} \\beta_{2} + \\beta_{2}^{2}\\right)^{0.5}\\right)} - \\frac{\\left(\\alpha_{1} + \\alpha_{2} + \\beta_{1} - \\beta_{2} - \\sqrt{\\alpha_{1}^{2} - 2 \\alpha_{1} \\left(\\alpha_{2} - \\beta_{1} + \\beta_{2}\\right) + \\alpha_{2}^{2} + 2 \\alpha_{2} \\left(\\beta_{1} + \\beta_{2}\\right) + \\beta_{1}^{2} - 2 \\beta_{1} \\beta_{2} + \\beta_{2}^{2}}\\right) \\left(\\alpha_{1}^{2} \\left(\\alpha_{1} - 3.0 \\alpha_{2} + \\beta_{1} + \\beta_{2} - \\sqrt{\\alpha_{1}^{2} - 2.0 \\alpha_{1} \\left(\\alpha_{2} - \\beta_{1} + \\beta_{2}\\right) + \\alpha_{2}^{2} + 2.0 \\alpha_{2} \\left(\\beta_{1} + \\beta_{2}\\right) + \\beta_{1}^{2} - 2.0 \\beta_{1} \\beta_{2} + \\beta_{2}^{2}}\\right) + \\alpha_{1} \\left(- 4.0 \\alpha_{2}^{2} + \\alpha_{2} \\left(\\alpha_{1} + \\alpha_{2} - 3.0 \\beta_{1} + 5.0 \\beta_{2} - 5.0 \\sqrt{\\alpha_{1}^{2} - 2.0 \\alpha_{1} \\left(\\alpha_{2} - \\beta_{1} + \\beta_{2}\\right) + \\alpha_{2}^{2} + 2.0 \\alpha_{2} \\left(\\beta_{1} + \\beta_{2}\\right) + \\beta_{1}^{2} - 2.0 \\beta_{1} \\beta_{2} + \\beta_{2}^{2}}\\right) + 2.0 \\beta_{1} \\left(\\alpha_{1} + \\alpha_{2} + \\beta_{1} + \\beta_{2} - \\sqrt{\\alpha_{1}^{2} - 2.0 \\alpha_{1} \\left(\\alpha_{2} - \\beta_{1} + \\beta_{2}\\right) + \\alpha_{2}^{2} + 2.0 \\alpha_{2} \\left(\\beta_{1} + \\beta_{2}\\right) + \\beta_{1}^{2} - 2.0 \\beta_{1} \\beta_{2} + \\beta_{2}^{2}}\\right) - 2.0 \\beta_{2} \\left(\\alpha_{1} + \\alpha_{2} + \\beta_{1} + \\beta_{2} - \\sqrt{\\alpha_{1}^{2} - 2.0 \\alpha_{1} \\left(\\alpha_{2} - \\beta_{1} + \\beta_{2}\\right) + \\alpha_{2}^{2} + 2.0 \\alpha_{2} \\left(\\beta_{1} + \\beta_{2}\\right) + \\beta_{1}^{2} - 2.0 \\beta_{1} \\beta_{2} + \\beta_{2}^{2}}\\right) + \\left(\\alpha_{1} + \\alpha_{2} + \\beta_{1} + \\beta_{2} - \\sqrt{\\alpha_{1}^{2} - 2.0 \\alpha_{1} \\left(\\alpha_{2} - \\beta_{1} + \\beta_{2}\\right) + \\alpha_{2}^{2} + 2.0 \\alpha_{2} \\left(\\beta_{1} + \\beta_{2}\\right) + \\beta_{1}^{2} - 2.0 \\beta_{1} \\beta_{2} + \\beta_{2}^{2}}\\right) \\sqrt{\\alpha_{1}^{2} - 2.0 \\alpha_{1} \\left(\\alpha_{2} - \\beta_{1} + \\beta_{2}\\right) + \\alpha_{2}^{2} + 2.0 \\alpha_{2} \\left(\\beta_{1} + \\beta_{2}\\right) + \\beta_{1}^{2} - 2.0 \\beta_{1} \\beta_{2} + \\beta_{2}^{2}}\\right) + 2.0 \\alpha_{2}^{2} \\left(\\alpha_{1} + \\alpha_{2} + \\beta_{1} + \\beta_{2} - \\sqrt{\\alpha_{1}^{2} - 2.0 \\alpha_{1} \\left(\\alpha_{2} - \\beta_{1} + \\beta_{2}\\right) + \\alpha_{2}^{2} + 2.0 \\alpha_{2} \\left(\\beta_{1} + \\beta_{2}\\right) + \\beta_{1}^{2} - 2.0 \\beta_{1} \\beta_{2} + \\beta_{2}^{2}}\\right) + \\alpha_{2} \\left(3.0 \\beta_{1} - \\beta_{2} + 2.0 \\sqrt{\\alpha_{1}^{2} - 2.0 \\alpha_{1} \\left(\\alpha_{2} - \\beta_{1} + \\beta_{2}\\right) + \\alpha_{2}^{2} + 2.0 \\alpha_{2} \\left(\\beta_{1} + \\beta_{2}\\right) + \\beta_{1}^{2} - 2.0 \\beta_{1} \\beta_{2} + \\beta_{2}^{2}}\\right) \\left(\\alpha_{1} + \\alpha_{2} + \\beta_{1} + \\beta_{2} - \\sqrt{\\alpha_{1}^{2} - 2.0 \\alpha_{1} \\left(\\alpha_{2} - \\beta_{1} + \\beta_{2}\\right) + \\alpha_{2}^{2} + 2.0 \\alpha_{2} \\left(\\beta_{1} + \\beta_{2}\\right) + \\beta_{1}^{2} - 2.0 \\beta_{1} \\beta_{2} + \\beta_{2}^{2}}\\right) + \\beta_{1}^{2} \\left(\\alpha_{1} + \\alpha_{2} + \\beta_{1} + \\beta_{2} - \\sqrt{\\alpha_{1}^{2} - 2.0 \\alpha_{1} \\left(\\alpha_{2} - \\beta_{1} + \\beta_{2}\\right) + \\alpha_{2}^{2} + 2.0 \\alpha_{2} \\left(\\beta_{1} + \\beta_{2}\\right) + \\beta_{1}^{2} - 2.0 \\beta_{1} \\beta_{2} + \\beta_{2}^{2}}\\right) - \\beta_{1} \\left(2.0 \\beta_{2} - \\sqrt{\\alpha_{1}^{2} - 2.0 \\alpha_{1} \\left(\\alpha_{2} - \\beta_{1} + \\beta_{2}\\right) + \\alpha_{2}^{2} + 2.0 \\alpha_{2} \\left(\\beta_{1} + \\beta_{2}\\right) + \\beta_{1}^{2} - 2.0 \\beta_{1} \\beta_{2} + \\beta_{2}^{2}}\\right) \\left(\\alpha_{1} + \\alpha_{2} + \\beta_{1} + \\beta_{2} - \\sqrt{\\alpha_{1}^{2} - 2.0 \\alpha_{1} \\left(\\alpha_{2} - \\beta_{1} + \\beta_{2}\\right) + \\alpha_{2}^{2} + 2.0 \\alpha_{2} \\left(\\beta_{1} + \\beta_{2}\\right) + \\beta_{1}^{2} - 2.0 \\beta_{1} \\beta_{2} + \\beta_{2}^{2}}\\right) + \\beta_{2}^{2} \\left(\\alpha_{1} + \\alpha_{2} + \\beta_{1} + \\beta_{2} - \\sqrt{\\alpha_{1}^{2} - 2.0 \\alpha_{1} \\left(\\alpha_{2} - \\beta_{1} + \\beta_{2}\\right) + \\alpha_{2}^{2} + 2.0 \\alpha_{2} \\left(\\beta_{1} + \\beta_{2}\\right) + \\beta_{1}^{2} - 2.0 \\beta_{1} \\beta_{2} + \\beta_{2}^{2}}\\right) - \\beta_{2} \\left(\\alpha_{1} + \\alpha_{2} + \\beta_{1} + \\beta_{2} - \\sqrt{\\alpha_{1}^{2} - 2.0 \\alpha_{1} \\left(\\alpha_{2} - \\beta_{1} + \\beta_{2}\\right) + \\alpha_{2}^{2} + 2.0 \\alpha_{2} \\left(\\beta_{1} + \\beta_{2}\\right) + \\beta_{1}^{2} - 2.0 \\beta_{1} \\beta_{2} + \\beta_{2}^{2}}\\right) \\sqrt{\\alpha_{1}^{2} - 2.0 \\alpha_{1} \\left(\\alpha_{2} - \\beta_{1} + \\beta_{2}\\right) + \\alpha_{2}^{2} + 2.0 \\alpha_{2} \\left(\\beta_{1} + \\beta_{2}\\right) + \\beta_{1}^{2} - 2.0 \\beta_{1} \\beta_{2} + \\beta_{2}^{2}}\\right) e^{- \\frac{t \\left(\\alpha_{1} + \\alpha_{2} + \\beta_{1} + \\beta_{2} - \\sqrt{\\alpha_{1}^{2} - 2 \\alpha_{1} \\alpha_{2} + 2 \\alpha_{1} \\beta_{1} - 2 \\alpha_{1} \\beta_{2} + \\alpha_{2}^{2} + 2 \\alpha_{2} \\beta_{1} + 2 \\alpha_{2} \\beta_{2} + \\beta_{1}^{2} - 2 \\beta_{1} \\beta_{2} + \\beta_{2}^{2}}\\right)}{2}}}{2 \\alpha_{2} \\left(\\alpha_{1} + \\alpha_{2} + \\beta_{1} + \\beta_{2} - \\sqrt{\\alpha_{1}^{2} - 2.0 \\alpha_{1} \\left(\\alpha_{2} - \\beta_{1} + \\beta_{2}\\right) + \\alpha_{2}^{2} + 2.0 \\alpha_{2} \\left(\\beta_{1} + \\beta_{2}\\right) + \\beta_{1}^{2} - 2.0 \\beta_{1} \\beta_{2} + \\beta_{2}^{2}}\\right) \\left(2.0 \\alpha_{1}^{2} - \\alpha_{1} \\left(4.0 \\alpha_{2} - 4.0 \\beta_{1} + 4.0 \\beta_{2} - 2.0 \\left(\\alpha_{1}^{2} - 2.0 \\alpha_{1} \\left(\\alpha_{2} - \\beta_{1} + \\beta_{2}\\right) + \\alpha_{2}^{2} + 2.0 \\alpha_{2} \\left(\\beta_{1} + \\beta_{2}\\right) + \\beta_{1}^{2} - 2.0 \\beta_{1} \\beta_{2} + \\beta_{2}^{2}\\right)^{0.5}\\right) + 2.0 \\alpha_{2}^{2} + \\alpha_{2} \\left(4.0 \\beta_{1} + 4.0 \\beta_{2} + 2.0 \\left(\\alpha_{1}^{2} - 2.0 \\alpha_{1} \\left(\\alpha_{2} - \\beta_{1} + \\beta_{2}\\right) + \\alpha_{2}^{2} + 2.0 \\alpha_{2} \\left(\\beta_{1} + \\beta_{2}\\right) + \\beta_{1}^{2} - 2.0 \\beta_{1} \\beta_{2} + \\beta_{2}^{2}\\right)^{0.5}\\right) + 2.0 \\beta_{1}^{2} - \\beta_{1} \\left(4.0 \\beta_{2} - 2.0 \\left(\\alpha_{1}^{2} - 2.0 \\alpha_{1} \\left(\\alpha_{2} - \\beta_{1} + \\beta_{2}\\right) + \\alpha_{2}^{2} + 2.0 \\alpha_{2} \\left(\\beta_{1} + \\beta_{2}\\right) + \\beta_{1}^{2} - 2.0 \\beta_{1} \\beta_{2} + \\beta_{2}^{2}\\right)^{0.5}\\right) + 2.0 \\beta_{2}^{2} - 2.0 \\beta_{2} \\left(\\alpha_{1}^{2} - 2.0 \\alpha_{1} \\left(\\alpha_{2} - \\beta_{1} + \\beta_{2}\\right) + \\alpha_{2}^{2} + 2.0 \\alpha_{2} \\left(\\beta_{1} + \\beta_{2}\\right) + \\beta_{1}^{2} - 2.0 \\beta_{1} \\beta_{2} + \\beta_{2}^{2}\\right)^{0.5}\\right)}$"
      ],
      "text/plain": [
       "Eq(P2(t), -alpha1*(alpha1 + alpha2 + beta1 - beta2 - sqrt(alpha1**2 - 2*alpha1*(alpha2 - beta1 + beta2) + alpha2**2 + 2*alpha2*(beta1 + beta2) + beta1**2 - 2*beta1*beta2 + beta2**2))*Piecewise((2*exp(t*(alpha1 + alpha2 + beta1 + beta2 - sqrt(alpha1**2 - 2*alpha1*alpha2 + 2*alpha1*beta1 - 2*alpha1*beta2 + alpha2**2 + 2*alpha2*beta1 + 2*alpha2*beta2 + beta1**2 - 2*beta1*beta2 + beta2**2))/2)/(alpha1 + alpha2 + beta1 + beta2 - sqrt(alpha1**2 - 2*alpha1*alpha2 + 2*alpha1*beta1 - 2*alpha1*beta2 + alpha2**2 + 2*alpha2*beta1 + 2*alpha2*beta2 + beta1**2 - 2*beta1*beta2 + beta2**2)), Ne(alpha1 + alpha2 + beta1 + beta2 - sqrt(alpha1**2 - 2*alpha1*alpha2 + 2*alpha1*beta1 - 2*alpha1*beta2 + alpha2**2 + 2*alpha2*beta1 + 2*alpha2*beta2 + beta1**2 - 2*beta1*beta2 + beta2**2), 0)), (t, True))*exp(-t*(alpha1 + alpha2 + beta1 + beta2 - sqrt(alpha1**2 - 2*alpha1*alpha2 + 2*alpha1*beta1 - 2*alpha1*beta2 + alpha2**2 + 2*alpha2*beta1 + 2*alpha2*beta2 + beta1**2 - 2*beta1*beta2 + beta2**2))/2)/(2*sqrt(alpha1**2 - 2*alpha1*(alpha2 - beta1 + beta2) + alpha2**2 + 2*alpha2*(beta1 + beta2) + beta1**2 - 2*beta1*beta2 + beta2**2)) + alpha1*(alpha1 + alpha2 + beta1 - beta2 + sqrt(alpha1**2 - 2*alpha1*(alpha2 - beta1 + beta2) + alpha2**2 + 2*alpha2*(beta1 + beta2) + beta1**2 - 2*beta1*beta2 + beta2**2))*Piecewise((2*exp(t*(alpha1 + alpha2 + beta1 + beta2 + sqrt(alpha1**2 - 2*alpha1*alpha2 + 2*alpha1*beta1 - 2*alpha1*beta2 + alpha2**2 + 2*alpha2*beta1 + 2*alpha2*beta2 + beta1**2 - 2*beta1*beta2 + beta2**2))/2)/(alpha1 + alpha2 + beta1 + beta2 + sqrt(alpha1**2 - 2*alpha1*alpha2 + 2*alpha1*beta1 - 2*alpha1*beta2 + alpha2**2 + 2*alpha2*beta1 + 2*alpha2*beta2 + beta1**2 - 2*beta1*beta2 + beta2**2)), Ne(alpha1 + alpha2 + beta1 + beta2 + sqrt(alpha1**2 - 2*alpha1*alpha2 + 2*alpha1*beta1 - 2*alpha1*beta2 + alpha2**2 + 2*alpha2*beta1 + 2*alpha2*beta2 + beta1**2 - 2*beta1*beta2 + beta2**2), 0)), (t, True))*exp(-t*(alpha1 + alpha2 + beta1 + beta2 + sqrt(alpha1**2 - 2*alpha1*alpha2 + 2*alpha1*beta1 - 2*alpha1*beta2 + alpha2**2 + 2*alpha2*beta1 + 2*alpha2*beta2 + beta1**2 - 2*beta1*beta2 + beta2**2))/2)/(2*sqrt(alpha1**2 - 2*alpha1*(alpha2 - beta1 + beta2) + alpha2**2 + 2*alpha2*(beta1 + beta2) + beta1**2 - 2*beta1*beta2 + beta2**2)) + (alpha1 + alpha2 + beta1 - beta2 + sqrt(alpha1**2 - 2*alpha1*(alpha2 - beta1 + beta2) + alpha2**2 + 2*alpha2*(beta1 + beta2) + beta1**2 - 2*beta1*beta2 + beta2**2))*(-4.0*alpha1**5 + alpha1**4*(2.0*alpha1 + 6.0*alpha2 - 14.0*beta1 + 18.0*beta2 - 2.0*sqrt(alpha1**2 - 2.0*alpha1*(alpha2 - beta1 + beta2) + alpha2**2 + 2.0*alpha2*(beta1 + beta2) + beta1**2 - 2.0*beta1*beta2 + beta2**2)) - alpha1**3*(alpha2*(2.0*alpha1 + 2.0*alpha2 + 10.0*beta1 + 14.0*beta2 + 2.0*sqrt(alpha1**2 - 2.0*alpha1*(alpha2 - beta1 + beta2) + alpha2**2 + 2.0*alpha2*(beta1 + beta2) + beta1**2 - 2.0*beta1*beta2 + beta2**2)) + 24.0*beta1**2 - beta1*(7.0*alpha1 + 7.0*alpha2 + 7.0*beta1 + 55.0*beta2 - 5.0*sqrt(alpha1**2 - 2.0*alpha1*(alpha2 - beta1 + beta2) + alpha2**2 + 2.0*alpha2*(beta1 + beta2) + beta1**2 - 2.0*beta1*beta2 + beta2**2)) + 24.0*beta2**2 + beta2*(8.0*alpha1 + 8.0*alpha2 + 8.0*beta1 + 8.0*beta2 - 4.0*sqrt(alpha1**2 - 2.0*alpha1*(alpha2 - beta1 + beta2) + alpha2**2 + 2.0*alpha2*(beta1 + beta2) + beta1**2 - 2.0*beta1*beta2 + beta2**2)) - 2.0*(alpha1 + alpha2 + beta1 + beta2 + sqrt(alpha1**2 - 2.0*alpha1*(alpha2 - beta1 + beta2) + alpha2**2 + 2.0*alpha2*(beta1 + beta2) + beta1**2 - 2.0*beta1*beta2 + beta2**2))*sqrt(alpha1**2 - 2.0*alpha1*(alpha2 - beta1 + beta2) + alpha2**2 + 2.0*alpha2*(beta1 + beta2) + beta1**2 - 2.0*beta1*beta2 + beta2**2)) + alpha1**2*(4.0*alpha2**3 - alpha2**2*(alpha1 + alpha2 + 9.0*beta1 + beta2 + sqrt(alpha1**2 - 2.0*alpha1*(alpha2 - beta1 + beta2) + alpha2**2 + 2.0*alpha2*(beta1 + beta2) + beta1**2 - 2.0*beta1*beta2 + beta2**2)) + alpha2*(-28.0*beta1**2 + 16.0*beta1*beta2 + 4.0*beta1*(alpha1 + alpha2 + beta1 + beta2 + sqrt(alpha1**2 + 2.0*alpha1*(-alpha2 + beta1 - beta2) + alpha2**2 + 2.0*alpha2*(beta1 + beta2) + beta1**2 - 2.0*beta1*beta2 + beta2**2)) - 12.0*beta1*sqrt(alpha1**2 + 2.0*alpha1*(-alpha2 + beta1 - beta2) + alpha2**2 + 2.0*alpha2*(beta1 + beta2) + beta1**2 - 2.0*beta1*beta2 + beta2**2) + 12.0*beta2**2 + 6.0*beta2*(alpha1 + alpha2 + beta1 + beta2 + sqrt(alpha1**2 + 2.0*alpha1*(-alpha2 + beta1 - beta2) + alpha2**2 + 2.0*alpha2*(beta1 + beta2) + beta1**2 - 2.0*beta1*beta2 + beta2**2))) - 16.0*beta1**3 + beta1**2*(9.0*alpha1 + 9.0*alpha2 + 9.0*beta1 + 57.0*beta2 - 3.0*sqrt(alpha1**2 + 2.0*alpha1*(-alpha2 + beta1 - beta2) + alpha2**2 + 2.0*alpha2*(beta1 + beta2) + beta1**2 - 2.0*beta1*beta2 + beta2**2)) - beta1*(48.0*beta2**2 + 21.0*beta2*(alpha1 + alpha2 + beta1 + beta2 + sqrt(alpha1**2 - 2.0*alpha1*(alpha2 - beta1 + beta2) + alpha2**2 + 2.0*alpha2*(beta1 + beta2) + beta1**2 - 2.0*beta1*beta2 + beta2**2)) - 24.0*beta2*sqrt(alpha1**2 - 2.0*alpha1*(alpha2 - beta1 + beta2) + alpha2**2 + 2.0*alpha2*(beta1 + beta2) + beta1**2 - 2.0*beta1*beta2 + beta2**2) - 5.0*(alpha1 + alpha2 + beta1 + beta2 + sqrt(alpha1**2 - 2.0*alpha1*(alpha2 - beta1 + beta2) + alpha2**2 + 2.0*alpha2*(beta1 + beta2) + beta1**2 - 2.0*beta1*beta2 + beta2**2))*sqrt(alpha1**2 - 2.0*alpha1*(alpha2 - beta1 + beta2) + alpha2**2 + 2.0*alpha2*(beta1 + beta2) + beta1**2 - 2.0*beta1*beta2 + beta2**2)) + 16.0*beta2**3 + 12.0*beta2**2*(alpha1 + alpha2 + beta1 + beta2) - 6.0*beta2*(alpha1 + alpha2 + beta1 + beta2 + sqrt(alpha1**2 - 2.0*alpha1*(alpha2 - beta1 + beta2) + alpha2**2 + 2.0*alpha2*(beta1 + beta2) + beta1**2 - 2.0*beta1*beta2 + beta2**2))*sqrt(alpha1**2 - 2.0*alpha1*(alpha2 - beta1 + beta2) + alpha2**2 + 2.0*alpha2*(beta1 + beta2) + beta1**2 - 2.0*beta1*beta2 + beta2**2)) - alpha1*(4.0*alpha2**4 + alpha2**3*(16.0*beta1 + 4.0*beta2 + 4.0*sqrt(alpha1**2 - 2.0*alpha1*(alpha2 - beta1 + beta2) + alpha2**2 + 2.0*alpha2*(beta1 + beta2) + beta1**2 - 2.0*beta1*beta2 + beta2**2)) - alpha2**2*(-24.0*beta1**2 + 8.0*beta1*beta2 + 5.0*beta1*(alpha1 + alpha2 + beta1 + beta2 + sqrt(alpha1**2 - 2.0*alpha1*(alpha2 - beta1 + beta2) + alpha2**2 + 2.0*alpha2*(beta1 + beta2) + beta1**2 - 2.0*beta1*beta2 + beta2**2)) - 12.0*beta1*sqrt(alpha1**2 - 2.0*alpha1*(alpha2 - beta1 + beta2) + alpha2**2 + 2.0*alpha2*(beta1 + beta2) + beta1**2 - 2.0*beta1*beta2 + beta2**2) + 2.0*beta2*(alpha1 + alpha2 + beta1 + beta2 + sqrt(alpha1**2 - 2.0*alpha1*(alpha2 - beta1 + beta2) + alpha2**2 + 2.0*alpha2*(beta1 + beta2) + beta1**2 - 2.0*beta1*beta2 + beta2**2)) + (alpha1 + alpha2 + beta1 + beta2 + sqrt(alpha1**2 - 2.0*alpha1*(alpha2 - beta1 + beta2) + alpha2**2 + 2.0*alpha2*(beta1 + beta2) + beta1**2 - 2.0*beta1*beta2 + beta2**2))*sqrt(alpha1**2 - 2.0*alpha1*(alpha2 - beta1 + beta2) + alpha2**2 + 2.0*alpha2*(beta1 + beta2) + beta1**2 - 2.0*beta1*beta2 + beta2**2)) + alpha2*(16.0*beta1**3 - 28.0*beta1**2*beta2 - 10.0*beta1**2*(alpha1 + alpha2 + beta1 + beta2 + sqrt(alpha1**2 - 2.0*alpha1*(alpha2 - beta1 + beta2) + alpha2**2 + 2.0*alpha2*(beta1 + beta2) + beta1**2 - 2.0*beta1*beta2 + beta2**2)) + 12.0*beta1**2*sqrt(alpha1**2 - 2.0*alpha1*(alpha2 - beta1 + beta2) + alpha2**2 + 2.0*alpha2*(beta1 + beta2) + beta1**2 - 2.0*beta1*beta2 + beta2**2) + 8.0*beta1*beta2**2 + 8.0*beta1*beta2*(alpha1 + alpha2 + beta1 + beta2 + sqrt(alpha1**2 - 2.0*alpha1*(alpha2 - beta1 + beta2) + alpha2**2 + 2.0*alpha2*(beta1 + beta2) + beta1**2 - 2.0*beta1*beta2 + beta2**2)) - 12.0*beta1*beta2*sqrt(alpha1**2 - 2.0*alpha1*(alpha2 - beta1 + beta2) + alpha2**2 + 2.0*alpha2*(beta1 + beta2) + beta1**2 - 2.0*beta1*beta2 + beta2**2) - 5.0*beta1*(alpha1 + alpha2 + beta1 + beta2 + sqrt(alpha1**2 - 2.0*alpha1*(alpha2 - beta1 + beta2) + alpha2**2 + 2.0*alpha2*(beta1 + beta2) + beta1**2 - 2.0*beta1*beta2 + beta2**2))*sqrt(alpha1**2 - 2.0*alpha1*(alpha2 - beta1 + beta2) + alpha2**2 + 2.0*alpha2*(beta1 + beta2) + beta1**2 - 2.0*beta1*beta2 + beta2**2) + 4.0*beta2**3 + 6.0*beta2**2*(alpha1 + alpha2 + beta1 + beta2 + sqrt(alpha1**2 - 2.0*alpha1*(alpha2 - beta1 + beta2) + alpha2**2 + 2.0*alpha2*(beta1 + beta2) + beta1**2 - 2.0*beta1*beta2 + beta2**2))) + 4.0*beta1**4 - beta1**3*(5.0*alpha1 + 5.0*alpha2 + 5.0*beta1 + 21.0*beta2 + 1.0*sqrt(alpha1**2 - 2.0*alpha1*(alpha2 - beta1 + beta2) + alpha2**2 + 2.0*alpha2*(beta1 + beta2) + beta1**2 - 2.0*beta1*beta2 + beta2**2)) + beta1**2*(24.0*beta2**2 + 18.0*beta2*(alpha1 + alpha2 + beta1 + beta2 + sqrt(alpha1**2 - 2.0*alpha1*(alpha2 - beta1 + beta2) + alpha2**2 + 2.0*alpha2*(beta1 + beta2) + beta1**2 - 2.0*beta1*beta2 + beta2**2)) - 12.0*beta2*sqrt(alpha1**2 - 2.0*alpha1*(alpha2 - beta1 + beta2) + alpha2**2 + 2.0*alpha2*(beta1 + beta2) + beta1**2 - 2.0*beta1*beta2 + beta2**2) - 4.0*(alpha1 + alpha2 + beta1 + beta2 + sqrt(alpha1**2 - 2.0*alpha1*(alpha2 - beta1 + beta2) + alpha2**2 + 2.0*alpha2*(beta1 + beta2) + beta1**2 - 2.0*beta1*beta2 + beta2**2))*sqrt(alpha1**2 - 2.0*alpha1*(alpha2 - beta1 + beta2) + alpha2**2 + 2.0*alpha2*(beta1 + beta2) + beta1**2 - 2.0*beta1*beta2 + beta2**2)) - beta1*beta2*(16.0*beta2**2 + 21.0*beta2*(alpha1 + alpha2 + beta1 + beta2 + sqrt(alpha1**2 - 2.0*alpha1*(alpha2 - beta1 + beta2) + alpha2**2 + 2.0*alpha2*(beta1 + beta2) + beta1**2 - 2.0*beta1*beta2 + beta2**2)) - 12.0*beta2*sqrt(alpha1**2 - 2.0*alpha1*(alpha2 - beta1 + beta2) + alpha2**2 + 2.0*alpha2*(beta1 + beta2) + beta1**2 - 2.0*beta1*beta2 + beta2**2) - 10.0*(alpha1 + alpha2 + beta1 + beta2 + sqrt(alpha1**2 - 2.0*alpha1*(alpha2 - beta1 + beta2) + alpha2**2 + 2.0*alpha2*(beta1 + beta2) + beta1**2 - 2.0*beta1*beta2 + beta2**2))*sqrt(alpha1**2 - 2.0*alpha1*(alpha2 - beta1 + beta2) + alpha2**2 + 2.0*alpha2*(beta1 + beta2) + beta1**2 - 2.0*beta1*beta2 + beta2**2)) + 4.0*beta2**4 + beta2**3*(8.0*alpha1 + 8.0*alpha2 + 8.0*beta1 + 8.0*beta2 + 4.0*sqrt(alpha1**2 - 2.0*alpha1*(alpha2 - beta1 + beta2) + alpha2**2 + 2.0*alpha2*(beta1 + beta2) + beta1**2 - 2.0*beta1*beta2 + beta2**2)) - 6.0*beta2**2*(alpha1 + alpha2 + beta1 + beta2 + sqrt(alpha1**2 - 2.0*alpha1*(alpha2 - beta1 + beta2) + alpha2**2 + 2.0*alpha2*(beta1 + beta2) + beta1**2 - 2.0*beta1*beta2 + beta2**2))*sqrt(alpha1**2 - 2.0*alpha1*(alpha2 - beta1 + beta2) + alpha2**2 + 2.0*alpha2*(beta1 + beta2) + beta1**2 - 2.0*beta1*beta2 + beta2**2)) + alpha2**4*(alpha1 + alpha2 + beta1 + beta2 + sqrt(alpha1**2 - 2.0*alpha1*(alpha2 - beta1 + beta2) + alpha2**2 + 2.0*alpha2*(beta1 + beta2) + beta1**2 - 2.0*beta1*beta2 + beta2**2)) + alpha2**3*(4.0*beta1 + sqrt(alpha1**2 - 2.0*alpha1*(alpha2 - beta1 + beta2) + alpha2**2 + 2.0*alpha2*(beta1 + beta2) + beta1**2 - 2.0*beta1*beta2 + beta2**2))*(alpha1 + alpha2 + beta1 + beta2 + sqrt(alpha1**2 - 2.0*alpha1*(alpha2 - beta1 + beta2) + alpha2**2 + 2.0*alpha2*(beta1 + beta2) + beta1**2 - 2.0*beta1*beta2 + beta2**2)) - alpha2**2*(-6.0*beta1**2 + beta1*(5.0*beta2 - 3.0*sqrt(alpha1**2 - 2.0*alpha1*(alpha2 - beta1 + beta2) + alpha2**2 + 2.0*alpha2*(beta1 + beta2) + beta1**2 - 2.0*beta1*beta2 + beta2**2)) + beta2**2 + beta2*sqrt(alpha1**2 - 2.0*alpha1*(alpha2 - beta1 + beta2) + alpha2**2 + 2.0*alpha2*(beta1 + beta2) + beta1**2 - 2.0*beta1*beta2 + beta2**2))*(alpha1 + alpha2 + beta1 + beta2 + sqrt(alpha1**2 - 2.0*alpha1*(alpha2 - beta1 + beta2) + alpha2**2 + 2.0*alpha2*(beta1 + beta2) + beta1**2 - 2.0*beta1*beta2 + beta2**2)) + alpha2*(4.0*beta1**3 - beta1**2*(10.0*beta2 - 3.0*sqrt(alpha1**2 - 2.0*alpha1*(alpha2 - beta1 + beta2) + alpha2**2 + 2.0*alpha2*(beta1 + beta2) + beta1**2 - 2.0*beta1*beta2 + beta2**2)) + beta1*beta2*(4.0*beta2 - 5.0*sqrt(alpha1**2 + 2.0*alpha1*(-alpha2 + beta1 - beta2) + alpha2**2 + 2.0*alpha2*(beta1 + beta2) + beta1**2 - 2.0*beta1*beta2 + beta2**2)) + 2.0*beta2**3)*(alpha1 + alpha2 + beta1 + beta2 + sqrt(alpha1**2 - 2.0*alpha1*(alpha2 - beta1 + beta2) + alpha2**2 + 2.0*alpha2*(beta1 + beta2) + beta1**2 - 2.0*beta1*beta2 + beta2**2)) + beta1**4*(alpha1 + alpha2 + beta1 + beta2 + sqrt(alpha1**2 - 2.0*alpha1*(alpha2 - beta1 + beta2) + alpha2**2 + 2.0*alpha2*(beta1 + beta2) + beta1**2 - 2.0*beta1*beta2 + beta2**2)) - beta1**3*(5.0*beta2 - sqrt(alpha1**2 - 2.0*alpha1*(alpha2 - beta1 + beta2) + alpha2**2 + 2.0*alpha2*(beta1 + beta2) + beta1**2 - 2.0*beta1*beta2 + beta2**2))*(alpha1 + alpha2 + beta1 + beta2 + sqrt(alpha1**2 - 2.0*alpha1*(alpha2 - beta1 + beta2) + alpha2**2 + 2.0*alpha2*(beta1 + beta2) + beta1**2 - 2.0*beta1*beta2 + beta2**2)) + beta1**2*beta2*(9.0*beta2 - 4.0*sqrt(alpha1**2 - 2.0*alpha1*(alpha2 - beta1 + beta2) + alpha2**2 + 2.0*alpha2*(beta1 + beta2) + beta1**2 - 2.0*beta1*beta2 + beta2**2))*(alpha1 + alpha2 + beta1 + beta2 + sqrt(alpha1**2 - 2.0*alpha1*(alpha2 - beta1 + beta2) + alpha2**2 + 2.0*alpha2*(beta1 + beta2) + beta1**2 - 2.0*beta1*beta2 + beta2**2)) - beta1*beta2**2*(7.0*beta2 - 5.0*sqrt(alpha1**2 - 2.0*alpha1*(alpha2 - beta1 + beta2) + alpha2**2 + 2.0*alpha2*(beta1 + beta2) + beta1**2 - 2.0*beta1*beta2 + beta2**2))*(alpha1 + alpha2 + beta1 + beta2 + sqrt(alpha1**2 - 2.0*alpha1*(alpha2 - beta1 + beta2) + alpha2**2 + 2.0*alpha2*(beta1 + beta2) + beta1**2 - 2.0*beta1*beta2 + beta2**2)) + 2.0*beta2**4*(alpha1 + alpha2 + beta1 + beta2 + sqrt(alpha1**2 - 2.0*alpha1*(alpha2 - beta1 + beta2) + alpha2**2 + 2.0*alpha2*(beta1 + beta2) + beta1**2 - 2.0*beta1*beta2 + beta2**2)) - 2.0*beta2**3*(alpha1 + alpha2 + beta1 + beta2 + sqrt(alpha1**2 - 2.0*alpha1*(alpha2 - beta1 + beta2) + alpha2**2 + 2.0*alpha2*(beta1 + beta2) + beta1**2 - 2.0*beta1*beta2 + beta2**2))*sqrt(alpha1**2 - 2.0*alpha1*(alpha2 - beta1 + beta2) + alpha2**2 + 2.0*alpha2*(beta1 + beta2) + beta1**2 - 2.0*beta1*beta2 + beta2**2))*exp(-t*(alpha1 + alpha2 + beta1 + beta2 + sqrt(alpha1**2 - 2*alpha1*alpha2 + 2*alpha1*beta1 - 2*alpha1*beta2 + alpha2**2 + 2*alpha2*beta1 + 2*alpha2*beta2 + beta1**2 - 2*beta1*beta2 + beta2**2))/2)/(2*(alpha1 + alpha2 + beta1 + beta2 + sqrt(alpha1**2 - 2.0*alpha1*(alpha2 - beta1 + beta2) + alpha2**2 + 2.0*alpha2*(beta1 + beta2) + beta1**2 - 2.0*beta1*beta2 + beta2**2))*(2.0*alpha1**5 - alpha1**4*(4.0*alpha2 - 10.0*beta1 + 10.0*beta2 - 2.0*(alpha1**2 - 2.0*alpha1*(alpha2 - beta1 + beta2) + alpha2**2 + 2.0*alpha2*(beta1 + beta2) + beta1**2 - 2.0*beta1*beta2 + beta2**2)**0.5) + alpha1**3*(2.0*alpha2**2 - alpha2*(2.0*beta1 - 16.0*beta2 + 2.0*(alpha1**2 - 2.0*alpha1*(alpha2 - beta1 + beta2) + alpha2**2 + 2.0*alpha2*(beta1 + beta2) + beta1**2 - 2.0*beta1*beta2 + beta2**2)**0.5) + 20.0*beta1**2 - beta1*(40.0*beta2 - 8.0*(alpha1**2 - 2.0*alpha1*(alpha2 - beta1 + beta2) + alpha2**2 + 2.0*alpha2*(beta1 + beta2) + beta1**2 - 2.0*beta1*beta2 + beta2**2)**0.5) + 20.0*beta2**2 - 8.0*beta2*(alpha1**2 - 2.0*alpha1*(alpha2 - beta1 + beta2) + alpha2**2 + 2.0*alpha2*(beta1 + beta2) + beta1**2 - 2.0*beta1*beta2 + beta2**2)**0.5) + alpha1**2*(2.0*alpha2**3 - 6.0*alpha2**2*beta2 + alpha2*(18.0*beta1**2 + 6.0*beta1*beta2 + 4.0*beta1*(alpha1**2 - 2.0*alpha1*(alpha2 - beta1 + beta2) + alpha2**2 + 2.0*alpha2*(beta1 + beta2) + beta1**2 - 2.0*beta1*beta2 + beta2**2)**0.5 - 24.0*beta2**2 + 6.0*beta2*(alpha1**2 - 2.0*alpha1*(alpha2 - beta1 + beta2) + alpha2**2 + 2.0*alpha2*(beta1 + beta2) + beta1**2 - 2.0*beta1*beta2 + beta2**2)**0.5) + 20.0*beta1**3 - beta1**2*(60.0*beta2 - 12.0*(alpha1**2 - 2.0*alpha1*(alpha2 - beta1 + beta2) + alpha2**2 + 2.0*alpha2*(beta1 + beta2) + beta1**2 - 2.0*beta1*beta2 + beta2**2)**0.5) + beta1*beta2*(60.0*beta2 - 24.0*(alpha1**2 - 2.0*alpha1*(alpha2 - beta1 + beta2) + alpha2**2 + 2.0*alpha2*(beta1 + beta2) + beta1**2 - 2.0*beta1*beta2 + beta2**2)**0.5) - 20.0*beta2**3 + 12.0*beta2**2*(alpha1**2 - 2.0*alpha1*(alpha2 - beta1 + beta2) + alpha2**2 + 2.0*alpha2*(beta1 + beta2) + beta1**2 - 2.0*beta1*beta2 + beta2**2)**0.5) - alpha1*(4.0*alpha2**4 + alpha2**3*(2.0*beta1 + 4.0*beta2 + 2.0*(alpha1**2 - 2.0*alpha1*(alpha2 - beta1 + beta2) + alpha2**2 + 2.0*alpha2*(beta1 + beta2) + beta1**2 - 2.0*beta1*beta2 + beta2**2)**0.5) - alpha2**2*(18.0*beta1**2 + 4.0*beta1*(alpha1**2 - 2.0*alpha1*(alpha2 - beta1 + beta2) + alpha2**2 + 2.0*alpha2*(beta1 + beta2) + beta1**2 - 2.0*beta1*beta2 + beta2**2)**0.5 + 6.0*beta2**2) + alpha2*(-26.0*beta1**3 + 36.0*beta1**2*beta2 - 14.0*beta1**2*(alpha1**2 - 2.0*alpha1*(alpha2 - beta1 + beta2) + alpha2**2 + 2.0*alpha2*(beta1 + beta2) + beta1**2 - 2.0*beta1*beta2 + beta2**2)**0.5 + 6.0*beta1*beta2**2 + 8.0*beta1*beta2*(alpha1**2 - 2.0*alpha1*(alpha2 - beta1 + beta2) + alpha2**2 + 2.0*alpha2*(beta1 + beta2) + beta1**2 - 2.0*beta1*beta2 + beta2**2)**0.5 - 16.0*beta2**3 + 6.0*beta2**2*(alpha1**2 - 2.0*alpha1*(alpha2 - beta1 + beta2) + alpha2**2 + 2.0*alpha2*(beta1 + beta2) + beta1**2 - 2.0*beta1*beta2 + beta2**2)**0.5) - 10.0*beta1**4 + beta1**3*(40.0*beta2 - 8.0*(alpha1**2 - 2.0*alpha1*(alpha2 - beta1 + beta2) + alpha2**2 + 2.0*alpha2*(beta1 + beta2) + beta1**2 - 2.0*beta1*beta2 + beta2**2)**0.5) - beta1**2*beta2*(60.0*beta2 - 24.0*(alpha1**2 - 2.0*alpha1*(alpha2 - beta1 + beta2) + alpha2**2 + 2.0*alpha2*(beta1 + beta2) + beta1**2 - 2.0*beta1*beta2 + beta2**2)**0.5) + beta1*beta2**2*(40.0*beta2 - 24.0*(alpha1**2 - 2.0*alpha1*(alpha2 - beta1 + beta2) + alpha2**2 + 2.0*alpha2*(beta1 + beta2) + beta1**2 - 2.0*beta1*beta2 + beta2**2)**0.5) - 10.0*beta2**4 + 8.0*beta2**3*(alpha1**2 - 2.0*alpha1*(alpha2 - beta1 + beta2) + alpha2**2 + 2.0*alpha2*(beta1 + beta2) + beta1**2 - 2.0*beta1*beta2 + beta2**2)**0.5) + 2.0*alpha2**5 + alpha2**4*(10.0*beta1 + 4.0*beta2 + 2.0*(alpha1**2 - 2.0*alpha1*(alpha2 - beta1 + beta2) + alpha2**2 + 2.0*alpha2*(beta1 + beta2) + beta1**2 - 2.0*beta1*beta2 + beta2**2)**0.5) + alpha2**3*(20.0*beta1**2 + beta1*(2.0*beta2 + 8.0*(alpha1**2 - 2.0*alpha1*(alpha2 - beta1 + beta2) + alpha2**2 + 2.0*alpha2*(beta1 + beta2) + beta1**2 - 2.0*beta1*beta2 + beta2**2)**0.5) + 2.0*beta2**2 + 2.0*beta2*(alpha1**2 - 2.0*alpha1*(alpha2 - beta1 + beta2) + alpha2**2 + 2.0*alpha2*(beta1 + beta2) + beta1**2 - 2.0*beta1*beta2 + beta2**2)**0.5) - alpha2**2*(-20.0*beta1**3 + beta1**2*(18.0*beta2 - 12.0*(alpha1**2 - 2.0*alpha1*(alpha2 - beta1 + beta2) + alpha2**2 + 2.0*alpha2*(beta1 + beta2) + beta1**2 - 2.0*beta1*beta2 + beta2**2)**0.5) + 4.0*beta1*beta2*(alpha1**2 - 2.0*alpha1*(alpha2 - beta1 + beta2) + alpha2**2 + 2.0*alpha2*(beta1 + beta2) + beta1**2 - 2.0*beta1*beta2 + beta2**2)**0.5 + 2.0*beta2**3) + alpha2*(10.0*beta1**4 - beta1**3*(26.0*beta2 - 8.0*(alpha1**2 - 2.0*alpha1*(alpha2 - beta1 + beta2) + alpha2**2 + 2.0*alpha2*(beta1 + beta2) + beta1**2 - 2.0*beta1*beta2 + beta2**2)**0.5) + beta1**2*beta2*(18.0*beta2 - 14.0*(alpha1**2 - 2.0*alpha1*(alpha2 - beta1 + beta2) + alpha2**2 + 2.0*alpha2*(beta1 + beta2) + beta1**2 - 2.0*beta1*beta2 + beta2**2)**0.5) + beta1*beta2**2*(2.0*beta2 + 4.0*(alpha1**2 - 2.0*alpha1*(alpha2 - beta1 + beta2) + alpha2**2 + 2.0*alpha2*(beta1 + beta2) + beta1**2 - 2.0*beta1*beta2 + beta2**2)**0.5) - 4.0*beta2**4 + 2.0*beta2**3*(alpha1**2 - 2.0*alpha1*(alpha2 - beta1 + beta2) + alpha2**2 + 2.0*alpha2*(beta1 + beta2) + beta1**2 - 2.0*beta1*beta2 + beta2**2)**0.5) + 2.0*beta1**5 - beta1**4*(10.0*beta2 - 2.0*(alpha1**2 - 2.0*alpha1*(alpha2 - beta1 + beta2) + alpha2**2 + 2.0*alpha2*(beta1 + beta2) + beta1**2 - 2.0*beta1*beta2 + beta2**2)**0.5) + beta1**3*beta2*(20.0*beta2 - 8.0*(alpha1**2 - 2.0*alpha1*(alpha2 - beta1 + beta2) + alpha2**2 + 2.0*alpha2*(beta1 + beta2) + beta1**2 - 2.0*beta1*beta2 + beta2**2)**0.5) - beta1**2*beta2**2*(20.0*beta2 - 12.0*(alpha1**2 - 2.0*alpha1*(alpha2 - beta1 + beta2) + alpha2**2 + 2.0*alpha2*(beta1 + beta2) + beta1**2 - 2.0*beta1*beta2 + beta2**2)**0.5) + beta1*beta2**3*(10.0*beta2 - 8.0*(alpha1**2 - 2.0*alpha1*(alpha2 - beta1 + beta2) + alpha2**2 + 2.0*alpha2*(beta1 + beta2) + beta1**2 - 2.0*beta1*beta2 + beta2**2)**0.5) - 2.0*beta2**5 + 2.0*beta2**4*(alpha1**2 - 2.0*alpha1*(alpha2 - beta1 + beta2) + alpha2**2 + 2.0*alpha2*(beta1 + beta2) + beta1**2 - 2.0*beta1*beta2 + beta2**2)**0.5)) - (alpha1 + alpha2 + beta1 - beta2 - sqrt(alpha1**2 - 2*alpha1*(alpha2 - beta1 + beta2) + alpha2**2 + 2*alpha2*(beta1 + beta2) + beta1**2 - 2*beta1*beta2 + beta2**2))*(alpha1**2*(alpha1 - 3.0*alpha2 + beta1 + beta2 - sqrt(alpha1**2 - 2.0*alpha1*(alpha2 - beta1 + beta2) + alpha2**2 + 2.0*alpha2*(beta1 + beta2) + beta1**2 - 2.0*beta1*beta2 + beta2**2)) + alpha1*(-4.0*alpha2**2 + alpha2*(alpha1 + alpha2 - 3.0*beta1 + 5.0*beta2 - 5.0*sqrt(alpha1**2 - 2.0*alpha1*(alpha2 - beta1 + beta2) + alpha2**2 + 2.0*alpha2*(beta1 + beta2) + beta1**2 - 2.0*beta1*beta2 + beta2**2)) + 2.0*beta1*(alpha1 + alpha2 + beta1 + beta2 - sqrt(alpha1**2 - 2.0*alpha1*(alpha2 - beta1 + beta2) + alpha2**2 + 2.0*alpha2*(beta1 + beta2) + beta1**2 - 2.0*beta1*beta2 + beta2**2)) - 2.0*beta2*(alpha1 + alpha2 + beta1 + beta2 - sqrt(alpha1**2 - 2.0*alpha1*(alpha2 - beta1 + beta2) + alpha2**2 + 2.0*alpha2*(beta1 + beta2) + beta1**2 - 2.0*beta1*beta2 + beta2**2)) + (alpha1 + alpha2 + beta1 + beta2 - sqrt(alpha1**2 - 2.0*alpha1*(alpha2 - beta1 + beta2) + alpha2**2 + 2.0*alpha2*(beta1 + beta2) + beta1**2 - 2.0*beta1*beta2 + beta2**2))*sqrt(alpha1**2 - 2.0*alpha1*(alpha2 - beta1 + beta2) + alpha2**2 + 2.0*alpha2*(beta1 + beta2) + beta1**2 - 2.0*beta1*beta2 + beta2**2)) + 2.0*alpha2**2*(alpha1 + alpha2 + beta1 + beta2 - sqrt(alpha1**2 - 2.0*alpha1*(alpha2 - beta1 + beta2) + alpha2**2 + 2.0*alpha2*(beta1 + beta2) + beta1**2 - 2.0*beta1*beta2 + beta2**2)) + alpha2*(3.0*beta1 - beta2 + 2.0*sqrt(alpha1**2 - 2.0*alpha1*(alpha2 - beta1 + beta2) + alpha2**2 + 2.0*alpha2*(beta1 + beta2) + beta1**2 - 2.0*beta1*beta2 + beta2**2))*(alpha1 + alpha2 + beta1 + beta2 - sqrt(alpha1**2 - 2.0*alpha1*(alpha2 - beta1 + beta2) + alpha2**2 + 2.0*alpha2*(beta1 + beta2) + beta1**2 - 2.0*beta1*beta2 + beta2**2)) + beta1**2*(alpha1 + alpha2 + beta1 + beta2 - sqrt(alpha1**2 - 2.0*alpha1*(alpha2 - beta1 + beta2) + alpha2**2 + 2.0*alpha2*(beta1 + beta2) + beta1**2 - 2.0*beta1*beta2 + beta2**2)) - beta1*(2.0*beta2 - sqrt(alpha1**2 - 2.0*alpha1*(alpha2 - beta1 + beta2) + alpha2**2 + 2.0*alpha2*(beta1 + beta2) + beta1**2 - 2.0*beta1*beta2 + beta2**2))*(alpha1 + alpha2 + beta1 + beta2 - sqrt(alpha1**2 - 2.0*alpha1*(alpha2 - beta1 + beta2) + alpha2**2 + 2.0*alpha2*(beta1 + beta2) + beta1**2 - 2.0*beta1*beta2 + beta2**2)) + beta2**2*(alpha1 + alpha2 + beta1 + beta2 - sqrt(alpha1**2 - 2.0*alpha1*(alpha2 - beta1 + beta2) + alpha2**2 + 2.0*alpha2*(beta1 + beta2) + beta1**2 - 2.0*beta1*beta2 + beta2**2)) - beta2*(alpha1 + alpha2 + beta1 + beta2 - sqrt(alpha1**2 - 2.0*alpha1*(alpha2 - beta1 + beta2) + alpha2**2 + 2.0*alpha2*(beta1 + beta2) + beta1**2 - 2.0*beta1*beta2 + beta2**2))*sqrt(alpha1**2 - 2.0*alpha1*(alpha2 - beta1 + beta2) + alpha2**2 + 2.0*alpha2*(beta1 + beta2) + beta1**2 - 2.0*beta1*beta2 + beta2**2))*exp(-t*(alpha1 + alpha2 + beta1 + beta2 - sqrt(alpha1**2 - 2*alpha1*alpha2 + 2*alpha1*beta1 - 2*alpha1*beta2 + alpha2**2 + 2*alpha2*beta1 + 2*alpha2*beta2 + beta1**2 - 2*beta1*beta2 + beta2**2))/2)/(2*alpha2*(alpha1 + alpha2 + beta1 + beta2 - sqrt(alpha1**2 - 2.0*alpha1*(alpha2 - beta1 + beta2) + alpha2**2 + 2.0*alpha2*(beta1 + beta2) + beta1**2 - 2.0*beta1*beta2 + beta2**2))*(2.0*alpha1**2 - alpha1*(4.0*alpha2 - 4.0*beta1 + 4.0*beta2 - 2.0*(alpha1**2 - 2.0*alpha1*(alpha2 - beta1 + beta2) + alpha2**2 + 2.0*alpha2*(beta1 + beta2) + beta1**2 - 2.0*beta1*beta2 + beta2**2)**0.5) + 2.0*alpha2**2 + alpha2*(4.0*beta1 + 4.0*beta2 + 2.0*(alpha1**2 - 2.0*alpha1*(alpha2 - beta1 + beta2) + alpha2**2 + 2.0*alpha2*(beta1 + beta2) + beta1**2 - 2.0*beta1*beta2 + beta2**2)**0.5) + 2.0*beta1**2 - beta1*(4.0*beta2 - 2.0*(alpha1**2 - 2.0*alpha1*(alpha2 - beta1 + beta2) + alpha2**2 + 2.0*alpha2*(beta1 + beta2) + beta1**2 - 2.0*beta1*beta2 + beta2**2)**0.5) + 2.0*beta2**2 - 2.0*beta2*(alpha1**2 - 2.0*alpha1*(alpha2 - beta1 + beta2) + alpha2**2 + 2.0*alpha2*(beta1 + beta2) + beta1**2 - 2.0*beta1*beta2 + beta2**2)**0.5)))"
      ]
     },
     "metadata": {},
     "output_type": "display_data"
    },
    {
     "data": {
      "text/latex": [
       "$\\displaystyle P_{3}{\\left(t \\right)} = \\frac{\\alpha_{1} \\alpha_{2} \\left(\\begin{cases} \\frac{2 e^{\\frac{t \\left(\\alpha_{1} + \\alpha_{2} + \\beta_{1} + \\beta_{2} - \\sqrt{\\alpha_{1}^{2} - 2 \\alpha_{1} \\alpha_{2} + 2 \\alpha_{1} \\beta_{1} - 2 \\alpha_{1} \\beta_{2} + \\alpha_{2}^{2} + 2 \\alpha_{2} \\beta_{1} + 2 \\alpha_{2} \\beta_{2} + \\beta_{1}^{2} - 2 \\beta_{1} \\beta_{2} + \\beta_{2}^{2}}\\right)}{2}}}{\\alpha_{1} + \\alpha_{2} + \\beta_{1} + \\beta_{2} - \\sqrt{\\alpha_{1}^{2} - 2 \\alpha_{1} \\alpha_{2} + 2 \\alpha_{1} \\beta_{1} - 2 \\alpha_{1} \\beta_{2} + \\alpha_{2}^{2} + 2 \\alpha_{2} \\beta_{1} + 2 \\alpha_{2} \\beta_{2} + \\beta_{1}^{2} - 2 \\beta_{1} \\beta_{2} + \\beta_{2}^{2}}} & \\text{for}\\: \\alpha_{1} + \\alpha_{2} + \\beta_{1} + \\beta_{2} - \\sqrt{\\alpha_{1}^{2} - 2 \\alpha_{1} \\alpha_{2} + 2 \\alpha_{1} \\beta_{1} - 2 \\alpha_{1} \\beta_{2} + \\alpha_{2}^{2} + 2 \\alpha_{2} \\beta_{1} + 2 \\alpha_{2} \\beta_{2} + \\beta_{1}^{2} - 2 \\beta_{1} \\beta_{2} + \\beta_{2}^{2}} \\neq 0 \\\\t & \\text{otherwise} \\end{cases}\\right) e^{- \\frac{t \\left(\\alpha_{1} + \\alpha_{2} + \\beta_{1} + \\beta_{2} - \\sqrt{\\alpha_{1}^{2} - 2 \\alpha_{1} \\alpha_{2} + 2 \\alpha_{1} \\beta_{1} - 2 \\alpha_{1} \\beta_{2} + \\alpha_{2}^{2} + 2 \\alpha_{2} \\beta_{1} + 2 \\alpha_{2} \\beta_{2} + \\beta_{1}^{2} - 2 \\beta_{1} \\beta_{2} + \\beta_{2}^{2}}\\right)}{2}}}{\\sqrt{\\alpha_{1}^{2} - 2 \\alpha_{1} \\left(\\alpha_{2} - \\beta_{1} + \\beta_{2}\\right) + \\alpha_{2}^{2} + 2 \\alpha_{2} \\left(\\beta_{1} + \\beta_{2}\\right) + \\beta_{1}^{2} - 2 \\beta_{1} \\beta_{2} + \\beta_{2}^{2}}} - \\frac{\\alpha_{1} \\alpha_{2} \\left(\\begin{cases} \\frac{2 e^{\\frac{t \\left(\\alpha_{1} + \\alpha_{2} + \\beta_{1} + \\beta_{2} + \\sqrt{\\alpha_{1}^{2} - 2 \\alpha_{1} \\alpha_{2} + 2 \\alpha_{1} \\beta_{1} - 2 \\alpha_{1} \\beta_{2} + \\alpha_{2}^{2} + 2 \\alpha_{2} \\beta_{1} + 2 \\alpha_{2} \\beta_{2} + \\beta_{1}^{2} - 2 \\beta_{1} \\beta_{2} + \\beta_{2}^{2}}\\right)}{2}}}{\\alpha_{1} + \\alpha_{2} + \\beta_{1} + \\beta_{2} + \\sqrt{\\alpha_{1}^{2} - 2 \\alpha_{1} \\alpha_{2} + 2 \\alpha_{1} \\beta_{1} - 2 \\alpha_{1} \\beta_{2} + \\alpha_{2}^{2} + 2 \\alpha_{2} \\beta_{1} + 2 \\alpha_{2} \\beta_{2} + \\beta_{1}^{2} - 2 \\beta_{1} \\beta_{2} + \\beta_{2}^{2}}} & \\text{for}\\: \\alpha_{1} + \\alpha_{2} + \\beta_{1} + \\beta_{2} + \\sqrt{\\alpha_{1}^{2} - 2 \\alpha_{1} \\alpha_{2} + 2 \\alpha_{1} \\beta_{1} - 2 \\alpha_{1} \\beta_{2} + \\alpha_{2}^{2} + 2 \\alpha_{2} \\beta_{1} + 2 \\alpha_{2} \\beta_{2} + \\beta_{1}^{2} - 2 \\beta_{1} \\beta_{2} + \\beta_{2}^{2}} \\neq 0 \\\\t & \\text{otherwise} \\end{cases}\\right) e^{- \\frac{t \\left(\\alpha_{1} + \\alpha_{2} + \\beta_{1} + \\beta_{2} + \\sqrt{\\alpha_{1}^{2} - 2 \\alpha_{1} \\alpha_{2} + 2 \\alpha_{1} \\beta_{1} - 2 \\alpha_{1} \\beta_{2} + \\alpha_{2}^{2} + 2 \\alpha_{2} \\beta_{1} + 2 \\alpha_{2} \\beta_{2} + \\beta_{1}^{2} - 2 \\beta_{1} \\beta_{2} + \\beta_{2}^{2}}\\right)}{2}}}{\\sqrt{\\alpha_{1}^{2} - 2 \\alpha_{1} \\left(\\alpha_{2} - \\beta_{1} + \\beta_{2}\\right) + \\alpha_{2}^{2} + 2 \\alpha_{2} \\left(\\beta_{1} + \\beta_{2}\\right) + \\beta_{1}^{2} - 2 \\beta_{1} \\beta_{2} + \\beta_{2}^{2}}} - \\frac{\\alpha_{2} \\left(- 4.0 \\alpha_{1}^{5} + \\alpha_{1}^{4} \\left(2.0 \\alpha_{1} + 6.0 \\alpha_{2} - 14.0 \\beta_{1} + 18.0 \\beta_{2} - 2.0 \\sqrt{\\alpha_{1}^{2} - 2.0 \\alpha_{1} \\left(\\alpha_{2} - \\beta_{1} + \\beta_{2}\\right) + \\alpha_{2}^{2} + 2.0 \\alpha_{2} \\left(\\beta_{1} + \\beta_{2}\\right) + \\beta_{1}^{2} - 2.0 \\beta_{1} \\beta_{2} + \\beta_{2}^{2}}\\right) - \\alpha_{1}^{3} \\left(\\alpha_{2} \\left(2.0 \\alpha_{1} + 2.0 \\alpha_{2} + 10.0 \\beta_{1} + 14.0 \\beta_{2} + 2.0 \\sqrt{\\alpha_{1}^{2} - 2.0 \\alpha_{1} \\left(\\alpha_{2} - \\beta_{1} + \\beta_{2}\\right) + \\alpha_{2}^{2} + 2.0 \\alpha_{2} \\left(\\beta_{1} + \\beta_{2}\\right) + \\beta_{1}^{2} - 2.0 \\beta_{1} \\beta_{2} + \\beta_{2}^{2}}\\right) + 24.0 \\beta_{1}^{2} - \\beta_{1} \\left(7.0 \\alpha_{1} + 7.0 \\alpha_{2} + 7.0 \\beta_{1} + 55.0 \\beta_{2} - 5.0 \\sqrt{\\alpha_{1}^{2} - 2.0 \\alpha_{1} \\left(\\alpha_{2} - \\beta_{1} + \\beta_{2}\\right) + \\alpha_{2}^{2} + 2.0 \\alpha_{2} \\left(\\beta_{1} + \\beta_{2}\\right) + \\beta_{1}^{2} - 2.0 \\beta_{1} \\beta_{2} + \\beta_{2}^{2}}\\right) + 24.0 \\beta_{2}^{2} + \\beta_{2} \\left(8.0 \\alpha_{1} + 8.0 \\alpha_{2} + 8.0 \\beta_{1} + 8.0 \\beta_{2} - 4.0 \\sqrt{\\alpha_{1}^{2} - 2.0 \\alpha_{1} \\left(\\alpha_{2} - \\beta_{1} + \\beta_{2}\\right) + \\alpha_{2}^{2} + 2.0 \\alpha_{2} \\left(\\beta_{1} + \\beta_{2}\\right) + \\beta_{1}^{2} - 2.0 \\beta_{1} \\beta_{2} + \\beta_{2}^{2}}\\right) - 2.0 \\left(\\alpha_{1} + \\alpha_{2} + \\beta_{1} + \\beta_{2} + \\sqrt{\\alpha_{1}^{2} - 2.0 \\alpha_{1} \\left(\\alpha_{2} - \\beta_{1} + \\beta_{2}\\right) + \\alpha_{2}^{2} + 2.0 \\alpha_{2} \\left(\\beta_{1} + \\beta_{2}\\right) + \\beta_{1}^{2} - 2.0 \\beta_{1} \\beta_{2} + \\beta_{2}^{2}}\\right) \\sqrt{\\alpha_{1}^{2} - 2.0 \\alpha_{1} \\left(\\alpha_{2} - \\beta_{1} + \\beta_{2}\\right) + \\alpha_{2}^{2} + 2.0 \\alpha_{2} \\left(\\beta_{1} + \\beta_{2}\\right) + \\beta_{1}^{2} - 2.0 \\beta_{1} \\beta_{2} + \\beta_{2}^{2}}\\right) + \\alpha_{1}^{2} \\left(4.0 \\alpha_{2}^{3} - \\alpha_{2}^{2} \\left(\\alpha_{1} + \\alpha_{2} + 9.0 \\beta_{1} + \\beta_{2} + \\sqrt{\\alpha_{1}^{2} - 2.0 \\alpha_{1} \\left(\\alpha_{2} - \\beta_{1} + \\beta_{2}\\right) + \\alpha_{2}^{2} + 2.0 \\alpha_{2} \\left(\\beta_{1} + \\beta_{2}\\right) + \\beta_{1}^{2} - 2.0 \\beta_{1} \\beta_{2} + \\beta_{2}^{2}}\\right) + \\alpha_{2} \\left(- 28.0 \\beta_{1}^{2} + 16.0 \\beta_{1} \\beta_{2} + 4.0 \\beta_{1} \\left(\\alpha_{1} + \\alpha_{2} + \\beta_{1} + \\beta_{2} + \\sqrt{\\alpha_{1}^{2} - 2.0 \\alpha_{1} \\left(\\alpha_{2} - \\beta_{1} + \\beta_{2}\\right) + \\alpha_{2}^{2} + 2.0 \\alpha_{2} \\left(\\beta_{1} + \\beta_{2}\\right) + \\beta_{1}^{2} - 2.0 \\beta_{1} \\beta_{2} + \\beta_{2}^{2}}\\right) - 12.0 \\beta_{1} \\sqrt{\\alpha_{1}^{2} - 2.0 \\alpha_{1} \\left(\\alpha_{2} - \\beta_{1} + \\beta_{2}\\right) + \\alpha_{2}^{2} + 2.0 \\alpha_{2} \\left(\\beta_{1} + \\beta_{2}\\right) + \\beta_{1}^{2} - 2.0 \\beta_{1} \\beta_{2} + \\beta_{2}^{2}} + 12.0 \\beta_{2}^{2} + 6.0 \\beta_{2} \\left(\\alpha_{1} + \\alpha_{2} + \\beta_{1} + \\beta_{2} + \\sqrt{\\alpha_{1}^{2} - 2.0 \\alpha_{1} \\left(\\alpha_{2} - \\beta_{1} + \\beta_{2}\\right) + \\alpha_{2}^{2} + 2.0 \\alpha_{2} \\left(\\beta_{1} + \\beta_{2}\\right) + \\beta_{1}^{2} - 2.0 \\beta_{1} \\beta_{2} + \\beta_{2}^{2}}\\right)\\right) - 16.0 \\beta_{1}^{3} + \\beta_{1}^{2} \\left(9.0 \\alpha_{1} + 9.0 \\alpha_{2} + 9.0 \\beta_{1} + 57.0 \\beta_{2} - 3.0 \\sqrt{\\alpha_{1}^{2} - 2.0 \\alpha_{1} \\left(\\alpha_{2} - \\beta_{1} + \\beta_{2}\\right) + \\alpha_{2}^{2} + 2.0 \\alpha_{2} \\left(\\beta_{1} + \\beta_{2}\\right) + \\beta_{1}^{2} - 2.0 \\beta_{1} \\beta_{2} + \\beta_{2}^{2}}\\right) - \\beta_{1} \\left(48.0 \\beta_{2}^{2} + 21.0 \\beta_{2} \\left(\\alpha_{1} + \\alpha_{2} + \\beta_{1} + \\beta_{2} + \\sqrt{\\alpha_{1}^{2} - 2.0 \\alpha_{1} \\left(\\alpha_{2} - \\beta_{1} + \\beta_{2}\\right) + \\alpha_{2}^{2} + 2.0 \\alpha_{2} \\left(\\beta_{1} + \\beta_{2}\\right) + \\beta_{1}^{2} - 2.0 \\beta_{1} \\beta_{2} + \\beta_{2}^{2}}\\right) - 24.0 \\beta_{2} \\sqrt{\\alpha_{1}^{2} - 2.0 \\alpha_{1} \\left(\\alpha_{2} - \\beta_{1} + \\beta_{2}\\right) + \\alpha_{2}^{2} + 2.0 \\alpha_{2} \\left(\\beta_{1} + \\beta_{2}\\right) + \\beta_{1}^{2} - 2.0 \\beta_{1} \\beta_{2} + \\beta_{2}^{2}} - 5.0 \\left(\\alpha_{1} + \\alpha_{2} + \\beta_{1} + \\beta_{2} + \\sqrt{\\alpha_{1}^{2} - 2.0 \\alpha_{1} \\left(\\alpha_{2} - \\beta_{1} + \\beta_{2}\\right) + \\alpha_{2}^{2} + 2.0 \\alpha_{2} \\left(\\beta_{1} + \\beta_{2}\\right) + \\beta_{1}^{2} - 2.0 \\beta_{1} \\beta_{2} + \\beta_{2}^{2}}\\right) \\sqrt{\\alpha_{1}^{2} - 2.0 \\alpha_{1} \\left(\\alpha_{2} - \\beta_{1} + \\beta_{2}\\right) + \\alpha_{2}^{2} + 2.0 \\alpha_{2} \\left(\\beta_{1} + \\beta_{2}\\right) + \\beta_{1}^{2} - 2.0 \\beta_{1} \\beta_{2} + \\beta_{2}^{2}}\\right) + 16.0 \\beta_{2}^{3} + 12.0 \\beta_{2}^{2} \\left(\\alpha_{1} + \\alpha_{2} + \\beta_{1} + \\beta_{2}\\right) - 6.0 \\beta_{2} \\left(\\alpha_{1} + \\alpha_{2} + \\beta_{1} + \\beta_{2} + \\sqrt{\\alpha_{1}^{2} - 2.0 \\alpha_{1} \\left(\\alpha_{2} - \\beta_{1} + \\beta_{2}\\right) + \\alpha_{2}^{2} + 2.0 \\alpha_{2} \\left(\\beta_{1} + \\beta_{2}\\right) + \\beta_{1}^{2} - 2.0 \\beta_{1} \\beta_{2} + \\beta_{2}^{2}}\\right) \\sqrt{\\alpha_{1}^{2} - 2.0 \\alpha_{1} \\left(\\alpha_{2} - \\beta_{1} + \\beta_{2}\\right) + \\alpha_{2}^{2} + 2.0 \\alpha_{2} \\left(\\beta_{1} + \\beta_{2}\\right) + \\beta_{1}^{2} - 2.0 \\beta_{1} \\beta_{2} + \\beta_{2}^{2}}\\right) - \\alpha_{1} \\left(4.0 \\alpha_{2}^{4} + \\alpha_{2}^{3} \\left(16.0 \\beta_{1} + 4.0 \\beta_{2} + 4.0 \\sqrt{\\alpha_{1}^{2} - 2.0 \\alpha_{1} \\left(\\alpha_{2} - \\beta_{1} + \\beta_{2}\\right) + \\alpha_{2}^{2} + 2.0 \\alpha_{2} \\left(\\beta_{1} + \\beta_{2}\\right) + \\beta_{1}^{2} - 2.0 \\beta_{1} \\beta_{2} + \\beta_{2}^{2}}\\right) - \\alpha_{2}^{2} \\left(- 24.0 \\beta_{1}^{2} + 8.0 \\beta_{1} \\beta_{2} + 5.0 \\beta_{1} \\left(\\alpha_{1} + \\alpha_{2} + \\beta_{1} + \\beta_{2} + \\sqrt{\\alpha_{1}^{2} - 2.0 \\alpha_{1} \\left(\\alpha_{2} - \\beta_{1} + \\beta_{2}\\right) + \\alpha_{2}^{2} + 2.0 \\alpha_{2} \\left(\\beta_{1} + \\beta_{2}\\right) + \\beta_{1}^{2} - 2.0 \\beta_{1} \\beta_{2} + \\beta_{2}^{2}}\\right) - 12.0 \\beta_{1} \\sqrt{\\alpha_{1}^{2} - 2.0 \\alpha_{1} \\left(\\alpha_{2} - \\beta_{1} + \\beta_{2}\\right) + \\alpha_{2}^{2} + 2.0 \\alpha_{2} \\left(\\beta_{1} + \\beta_{2}\\right) + \\beta_{1}^{2} - 2.0 \\beta_{1} \\beta_{2} + \\beta_{2}^{2}} + 2.0 \\beta_{2} \\left(\\alpha_{1} + \\alpha_{2} + \\beta_{1} + \\beta_{2} + \\sqrt{\\alpha_{1}^{2} - 2.0 \\alpha_{1} \\left(\\alpha_{2} - \\beta_{1} + \\beta_{2}\\right) + \\alpha_{2}^{2} + 2.0 \\alpha_{2} \\left(\\beta_{1} + \\beta_{2}\\right) + \\beta_{1}^{2} - 2.0 \\beta_{1} \\beta_{2} + \\beta_{2}^{2}}\\right) + \\left(\\alpha_{1} + \\alpha_{2} + \\beta_{1} + \\beta_{2} + \\sqrt{\\alpha_{1}^{2} - 2.0 \\alpha_{1} \\left(\\alpha_{2} - \\beta_{1} + \\beta_{2}\\right) + \\alpha_{2}^{2} + 2.0 \\alpha_{2} \\left(\\beta_{1} + \\beta_{2}\\right) + \\beta_{1}^{2} - 2.0 \\beta_{1} \\beta_{2} + \\beta_{2}^{2}}\\right) \\sqrt{\\alpha_{1}^{2} - 2.0 \\alpha_{1} \\left(\\alpha_{2} - \\beta_{1} + \\beta_{2}\\right) + \\alpha_{2}^{2} + 2.0 \\alpha_{2} \\left(\\beta_{1} + \\beta_{2}\\right) + \\beta_{1}^{2} - 2.0 \\beta_{1} \\beta_{2} + \\beta_{2}^{2}}\\right) + \\alpha_{2} \\left(16.0 \\beta_{1}^{3} - 28.0 \\beta_{1}^{2} \\beta_{2} - 10.0 \\beta_{1}^{2} \\left(\\alpha_{1} + \\alpha_{2} + \\beta_{1} + \\beta_{2} + \\sqrt{\\alpha_{1}^{2} - 2.0 \\alpha_{1} \\left(\\alpha_{2} - \\beta_{1} + \\beta_{2}\\right) + \\alpha_{2}^{2} + 2.0 \\alpha_{2} \\left(\\beta_{1} + \\beta_{2}\\right) + \\beta_{1}^{2} - 2.0 \\beta_{1} \\beta_{2} + \\beta_{2}^{2}}\\right) + 12.0 \\beta_{1}^{2} \\sqrt{\\alpha_{1}^{2} - 2.0 \\alpha_{1} \\left(\\alpha_{2} - \\beta_{1} + \\beta_{2}\\right) + \\alpha_{2}^{2} + 2.0 \\alpha_{2} \\left(\\beta_{1} + \\beta_{2}\\right) + \\beta_{1}^{2} - 2.0 \\beta_{1} \\beta_{2} + \\beta_{2}^{2}} + 8.0 \\beta_{1} \\beta_{2}^{2} + 8.0 \\beta_{1} \\beta_{2} \\left(\\alpha_{1} + \\alpha_{2} + \\beta_{1} + \\beta_{2} + \\sqrt{\\alpha_{1}^{2} - 2.0 \\alpha_{1} \\left(\\alpha_{2} - \\beta_{1} + \\beta_{2}\\right) + \\alpha_{2}^{2} + 2.0 \\alpha_{2} \\left(\\beta_{1} + \\beta_{2}\\right) + \\beta_{1}^{2} - 2.0 \\beta_{1} \\beta_{2} + \\beta_{2}^{2}}\\right) - 12.0 \\beta_{1} \\beta_{2} \\sqrt{\\alpha_{1}^{2} - 2.0 \\alpha_{1} \\left(\\alpha_{2} - \\beta_{1} + \\beta_{2}\\right) + \\alpha_{2}^{2} + 2.0 \\alpha_{2} \\left(\\beta_{1} + \\beta_{2}\\right) + \\beta_{1}^{2} - 2.0 \\beta_{1} \\beta_{2} + \\beta_{2}^{2}} - 5.0 \\beta_{1} \\left(\\alpha_{1} + \\alpha_{2} + \\beta_{1} + \\beta_{2} + \\sqrt{\\alpha_{1}^{2} - 2.0 \\alpha_{1} \\left(\\alpha_{2} - \\beta_{1} + \\beta_{2}\\right) + \\alpha_{2}^{2} + 2.0 \\alpha_{2} \\left(\\beta_{1} + \\beta_{2}\\right) + \\beta_{1}^{2} - 2.0 \\beta_{1} \\beta_{2} + \\beta_{2}^{2}}\\right) \\sqrt{\\alpha_{1}^{2} - 2.0 \\alpha_{1} \\left(\\alpha_{2} - \\beta_{1} + \\beta_{2}\\right) + \\alpha_{2}^{2} + 2.0 \\alpha_{2} \\left(\\beta_{1} + \\beta_{2}\\right) + \\beta_{1}^{2} - 2.0 \\beta_{1} \\beta_{2} + \\beta_{2}^{2}} + 4.0 \\beta_{2}^{3} + 6.0 \\beta_{2}^{2} \\left(\\alpha_{1} + \\alpha_{2} + \\beta_{1} + \\beta_{2} + \\sqrt{\\alpha_{1}^{2} - 2.0 \\alpha_{1} \\left(\\alpha_{2} - \\beta_{1} + \\beta_{2}\\right) + \\alpha_{2}^{2} + 2.0 \\alpha_{2} \\left(\\beta_{1} + \\beta_{2}\\right) + \\beta_{1}^{2} - 2.0 \\beta_{1} \\beta_{2} + \\beta_{2}^{2}}\\right)\\right) + 4.0 \\beta_{1}^{4} - \\beta_{1}^{3} \\left(5.0 \\alpha_{1} + 5.0 \\alpha_{2} + 5.0 \\beta_{1} + 21.0 \\beta_{2} + 1.0 \\sqrt{\\alpha_{1}^{2} - 2.0 \\alpha_{1} \\left(\\alpha_{2} - \\beta_{1} + \\beta_{2}\\right) + \\alpha_{2}^{2} + 2.0 \\alpha_{2} \\left(\\beta_{1} + \\beta_{2}\\right) + \\beta_{1}^{2} - 2.0 \\beta_{1} \\beta_{2} + \\beta_{2}^{2}}\\right) + \\beta_{1}^{2} \\left(24.0 \\beta_{2}^{2} + 18.0 \\beta_{2} \\left(\\alpha_{1} + \\alpha_{2} + \\beta_{1} + \\beta_{2} + \\sqrt{\\alpha_{1}^{2} - 2.0 \\alpha_{1} \\left(\\alpha_{2} - \\beta_{1} + \\beta_{2}\\right) + \\alpha_{2}^{2} + 2.0 \\alpha_{2} \\left(\\beta_{1} + \\beta_{2}\\right) + \\beta_{1}^{2} - 2.0 \\beta_{1} \\beta_{2} + \\beta_{2}^{2}}\\right) - 12.0 \\beta_{2} \\sqrt{\\alpha_{1}^{2} - 2.0 \\alpha_{1} \\left(\\alpha_{2} - \\beta_{1} + \\beta_{2}\\right) + \\alpha_{2}^{2} + 2.0 \\alpha_{2} \\left(\\beta_{1} + \\beta_{2}\\right) + \\beta_{1}^{2} - 2.0 \\beta_{1} \\beta_{2} + \\beta_{2}^{2}} - 4.0 \\left(\\alpha_{1} + \\alpha_{2} + \\beta_{1} + \\beta_{2} + \\sqrt{\\alpha_{1}^{2} - 2.0 \\alpha_{1} \\left(\\alpha_{2} - \\beta_{1} + \\beta_{2}\\right) + \\alpha_{2}^{2} + 2.0 \\alpha_{2} \\left(\\beta_{1} + \\beta_{2}\\right) + \\beta_{1}^{2} - 2.0 \\beta_{1} \\beta_{2} + \\beta_{2}^{2}}\\right) \\sqrt{\\alpha_{1}^{2} - 2.0 \\alpha_{1} \\left(\\alpha_{2} - \\beta_{1} + \\beta_{2}\\right) + \\alpha_{2}^{2} + 2.0 \\alpha_{2} \\left(\\beta_{1} + \\beta_{2}\\right) + \\beta_{1}^{2} - 2.0 \\beta_{1} \\beta_{2} + \\beta_{2}^{2}}\\right) - \\beta_{1} \\beta_{2} \\left(16.0 \\beta_{2}^{2} + 21.0 \\beta_{2} \\left(\\alpha_{1} + \\alpha_{2} + \\beta_{1} + \\beta_{2} + \\sqrt{\\alpha_{1}^{2} - 2.0 \\alpha_{1} \\left(\\alpha_{2} - \\beta_{1} + \\beta_{2}\\right) + \\alpha_{2}^{2} + 2.0 \\alpha_{2} \\left(\\beta_{1} + \\beta_{2}\\right) + \\beta_{1}^{2} - 2.0 \\beta_{1} \\beta_{2} + \\beta_{2}^{2}}\\right) - 12.0 \\beta_{2} \\sqrt{\\alpha_{1}^{2} - 2.0 \\alpha_{1} \\left(\\alpha_{2} - \\beta_{1} + \\beta_{2}\\right) + \\alpha_{2}^{2} + 2.0 \\alpha_{2} \\left(\\beta_{1} + \\beta_{2}\\right) + \\beta_{1}^{2} - 2.0 \\beta_{1} \\beta_{2} + \\beta_{2}^{2}} - 10.0 \\left(\\alpha_{1} + \\alpha_{2} + \\beta_{1} + \\beta_{2} + \\sqrt{\\alpha_{1}^{2} - 2.0 \\alpha_{1} \\left(\\alpha_{2} - \\beta_{1} + \\beta_{2}\\right) + \\alpha_{2}^{2} + 2.0 \\alpha_{2} \\left(\\beta_{1} + \\beta_{2}\\right) + \\beta_{1}^{2} - 2.0 \\beta_{1} \\beta_{2} + \\beta_{2}^{2}}\\right) \\sqrt{\\alpha_{1}^{2} - 2.0 \\alpha_{1} \\left(\\alpha_{2} - \\beta_{1} + \\beta_{2}\\right) + \\alpha_{2}^{2} + 2.0 \\alpha_{2} \\left(\\beta_{1} + \\beta_{2}\\right) + \\beta_{1}^{2} - 2.0 \\beta_{1} \\beta_{2} + \\beta_{2}^{2}}\\right) + 4.0 \\beta_{2}^{4} + \\beta_{2}^{3} \\left(8.0 \\alpha_{1} + 8.0 \\alpha_{2} + 8.0 \\beta_{1} + 8.0 \\beta_{2} + 4.0 \\sqrt{\\alpha_{1}^{2} - 2.0 \\alpha_{1} \\left(\\alpha_{2} - \\beta_{1} + \\beta_{2}\\right) + \\alpha_{2}^{2} + 2.0 \\alpha_{2} \\left(\\beta_{1} + \\beta_{2}\\right) + \\beta_{1}^{2} - 2.0 \\beta_{1} \\beta_{2} + \\beta_{2}^{2}}\\right) - 6.0 \\beta_{2}^{2} \\left(\\alpha_{1} + \\alpha_{2} + \\beta_{1} + \\beta_{2} + \\sqrt{\\alpha_{1}^{2} - 2.0 \\alpha_{1} \\left(\\alpha_{2} - \\beta_{1} + \\beta_{2}\\right) + \\alpha_{2}^{2} + 2.0 \\alpha_{2} \\left(\\beta_{1} + \\beta_{2}\\right) + \\beta_{1}^{2} - 2.0 \\beta_{1} \\beta_{2} + \\beta_{2}^{2}}\\right) \\sqrt{\\alpha_{1}^{2} - 2.0 \\alpha_{1} \\left(\\alpha_{2} - \\beta_{1} + \\beta_{2}\\right) + \\alpha_{2}^{2} + 2.0 \\alpha_{2} \\left(\\beta_{1} + \\beta_{2}\\right) + \\beta_{1}^{2} - 2.0 \\beta_{1} \\beta_{2} + \\beta_{2}^{2}}\\right) + \\alpha_{2}^{4} \\left(\\alpha_{1} + \\alpha_{2} + \\beta_{1} + \\beta_{2} + \\sqrt{\\alpha_{1}^{2} - 2.0 \\alpha_{1} \\left(\\alpha_{2} - \\beta_{1} + \\beta_{2}\\right) + \\alpha_{2}^{2} + 2.0 \\alpha_{2} \\left(\\beta_{1} + \\beta_{2}\\right) + \\beta_{1}^{2} - 2.0 \\beta_{1} \\beta_{2} + \\beta_{2}^{2}}\\right) + \\alpha_{2}^{3} \\left(4.0 \\beta_{1} + \\sqrt{\\alpha_{1}^{2} - 2.0 \\alpha_{1} \\left(\\alpha_{2} - \\beta_{1} + \\beta_{2}\\right) + \\alpha_{2}^{2} + 2.0 \\alpha_{2} \\left(\\beta_{1} + \\beta_{2}\\right) + \\beta_{1}^{2} - 2.0 \\beta_{1} \\beta_{2} + \\beta_{2}^{2}}\\right) \\left(\\alpha_{1} + \\alpha_{2} + \\beta_{1} + \\beta_{2} + \\sqrt{\\alpha_{1}^{2} - 2.0 \\alpha_{1} \\left(\\alpha_{2} - \\beta_{1} + \\beta_{2}\\right) + \\alpha_{2}^{2} + 2.0 \\alpha_{2} \\left(\\beta_{1} + \\beta_{2}\\right) + \\beta_{1}^{2} - 2.0 \\beta_{1} \\beta_{2} + \\beta_{2}^{2}}\\right) - \\alpha_{2}^{2} \\left(- 6.0 \\beta_{1}^{2} + \\beta_{1} \\left(5.0 \\beta_{2} - 3.0 \\sqrt{\\alpha_{1}^{2} - 2.0 \\alpha_{1} \\left(\\alpha_{2} - \\beta_{1} + \\beta_{2}\\right) + \\alpha_{2}^{2} + 2.0 \\alpha_{2} \\left(\\beta_{1} + \\beta_{2}\\right) + \\beta_{1}^{2} - 2.0 \\beta_{1} \\beta_{2} + \\beta_{2}^{2}}\\right) + \\beta_{2}^{2} + \\beta_{2} \\sqrt{\\alpha_{1}^{2} - 2.0 \\alpha_{1} \\left(\\alpha_{2} - \\beta_{1} + \\beta_{2}\\right) + \\alpha_{2}^{2} + 2.0 \\alpha_{2} \\left(\\beta_{1} + \\beta_{2}\\right) + \\beta_{1}^{2} - 2.0 \\beta_{1} \\beta_{2} + \\beta_{2}^{2}}\\right) \\left(\\alpha_{1} + \\alpha_{2} + \\beta_{1} + \\beta_{2} + \\sqrt{\\alpha_{1}^{2} - 2.0 \\alpha_{1} \\left(\\alpha_{2} - \\beta_{1} + \\beta_{2}\\right) + \\alpha_{2}^{2} + 2.0 \\alpha_{2} \\left(\\beta_{1} + \\beta_{2}\\right) + \\beta_{1}^{2} - 2.0 \\beta_{1} \\beta_{2} + \\beta_{2}^{2}}\\right) + \\alpha_{2} \\left(4.0 \\beta_{1}^{3} - \\beta_{1}^{2} \\left(10.0 \\beta_{2} - 3.0 \\sqrt{\\alpha_{1}^{2} - 2.0 \\alpha_{1} \\left(\\alpha_{2} - \\beta_{1} + \\beta_{2}\\right) + \\alpha_{2}^{2} + 2.0 \\alpha_{2} \\left(\\beta_{1} + \\beta_{2}\\right) + \\beta_{1}^{2} - 2.0 \\beta_{1} \\beta_{2} + \\beta_{2}^{2}}\\right) + \\beta_{1} \\beta_{2} \\left(4.0 \\beta_{2} - 5.0 \\sqrt{\\alpha_{1}^{2} - 2.0 \\alpha_{1} \\left(\\alpha_{2} - \\beta_{1} + \\beta_{2}\\right) + \\alpha_{2}^{2} + 2.0 \\alpha_{2} \\left(\\beta_{1} + \\beta_{2}\\right) + \\beta_{1}^{2} - 2.0 \\beta_{1} \\beta_{2} + \\beta_{2}^{2}}\\right) + 2.0 \\beta_{2}^{3}\\right) \\left(\\alpha_{1} + \\alpha_{2} + \\beta_{1} + \\beta_{2} + \\sqrt{\\alpha_{1}^{2} - 2.0 \\alpha_{1} \\left(\\alpha_{2} - \\beta_{1} + \\beta_{2}\\right) + \\alpha_{2}^{2} + 2.0 \\alpha_{2} \\left(\\beta_{1} + \\beta_{2}\\right) + \\beta_{1}^{2} - 2.0 \\beta_{1} \\beta_{2} + \\beta_{2}^{2}}\\right) + \\beta_{1}^{4} \\left(\\alpha_{1} + \\alpha_{2} + \\beta_{1} + \\beta_{2} + \\sqrt{\\alpha_{1}^{2} - 2.0 \\alpha_{1} \\left(\\alpha_{2} - \\beta_{1} + \\beta_{2}\\right) + \\alpha_{2}^{2} + 2.0 \\alpha_{2} \\left(\\beta_{1} + \\beta_{2}\\right) + \\beta_{1}^{2} - 2.0 \\beta_{1} \\beta_{2} + \\beta_{2}^{2}}\\right) - \\beta_{1}^{3} \\left(5.0 \\beta_{2} - \\sqrt{\\alpha_{1}^{2} - 2.0 \\alpha_{1} \\left(\\alpha_{2} - \\beta_{1} + \\beta_{2}\\right) + \\alpha_{2}^{2} + 2.0 \\alpha_{2} \\left(\\beta_{1} + \\beta_{2}\\right) + \\beta_{1}^{2} - 2.0 \\beta_{1} \\beta_{2} + \\beta_{2}^{2}}\\right) \\left(\\alpha_{1} + \\alpha_{2} + \\beta_{1} + \\beta_{2} + \\sqrt{\\alpha_{1}^{2} - 2.0 \\alpha_{1} \\left(\\alpha_{2} - \\beta_{1} + \\beta_{2}\\right) + \\alpha_{2}^{2} + 2.0 \\alpha_{2} \\left(\\beta_{1} + \\beta_{2}\\right) + \\beta_{1}^{2} - 2.0 \\beta_{1} \\beta_{2} + \\beta_{2}^{2}}\\right) + \\beta_{1}^{2} \\beta_{2} \\left(9.0 \\beta_{2} - 4.0 \\sqrt{\\alpha_{1}^{2} - 2.0 \\alpha_{1} \\left(\\alpha_{2} - \\beta_{1} + \\beta_{2}\\right) + \\alpha_{2}^{2} + 2.0 \\alpha_{2} \\left(\\beta_{1} + \\beta_{2}\\right) + \\beta_{1}^{2} - 2.0 \\beta_{1} \\beta_{2} + \\beta_{2}^{2}}\\right) \\left(\\alpha_{1} + \\alpha_{2} + \\beta_{1} + \\beta_{2} + \\sqrt{\\alpha_{1}^{2} - 2.0 \\alpha_{1} \\left(\\alpha_{2} - \\beta_{1} + \\beta_{2}\\right) + \\alpha_{2}^{2} + 2.0 \\alpha_{2} \\left(\\beta_{1} + \\beta_{2}\\right) + \\beta_{1}^{2} - 2.0 \\beta_{1} \\beta_{2} + \\beta_{2}^{2}}\\right) - \\beta_{1} \\beta_{2}^{2} \\left(7.0 \\beta_{2} - 5.0 \\sqrt{\\alpha_{1}^{2} - 2.0 \\alpha_{1} \\left(\\alpha_{2} - \\beta_{1} + \\beta_{2}\\right) + \\alpha_{2}^{2} + 2.0 \\alpha_{2} \\left(\\beta_{1} + \\beta_{2}\\right) + \\beta_{1}^{2} - 2.0 \\beta_{1} \\beta_{2} + \\beta_{2}^{2}}\\right) \\left(\\alpha_{1} + \\alpha_{2} + \\beta_{1} + \\beta_{2} + \\sqrt{\\alpha_{1}^{2} - 2.0 \\alpha_{1} \\left(\\alpha_{2} - \\beta_{1} + \\beta_{2}\\right) + \\alpha_{2}^{2} + 2.0 \\alpha_{2} \\left(\\beta_{1} + \\beta_{2}\\right) + \\beta_{1}^{2} - 2.0 \\beta_{1} \\beta_{2} + \\beta_{2}^{2}}\\right) + 2.0 \\beta_{2}^{4} \\left(\\alpha_{1} + \\alpha_{2} + \\beta_{1} + \\beta_{2} + \\sqrt{\\alpha_{1}^{2} - 2.0 \\alpha_{1} \\left(\\alpha_{2} - \\beta_{1} + \\beta_{2}\\right) + \\alpha_{2}^{2} + 2.0 \\alpha_{2} \\left(\\beta_{1} + \\beta_{2}\\right) + \\beta_{1}^{2} - 2.0 \\beta_{1} \\beta_{2} + \\beta_{2}^{2}}\\right) - 2.0 \\beta_{2}^{3} \\left(\\alpha_{1} + \\alpha_{2} + \\beta_{1} + \\beta_{2} + \\sqrt{\\alpha_{1}^{2} - 2.0 \\alpha_{1} \\left(\\alpha_{2} - \\beta_{1} + \\beta_{2}\\right) + \\alpha_{2}^{2} + 2.0 \\alpha_{2} \\left(\\beta_{1} + \\beta_{2}\\right) + \\beta_{1}^{2} - 2.0 \\beta_{1} \\beta_{2} + \\beta_{2}^{2}}\\right) \\sqrt{\\alpha_{1}^{2} - 2.0 \\alpha_{1} \\left(\\alpha_{2} - \\beta_{1} + \\beta_{2}\\right) + \\alpha_{2}^{2} + 2.0 \\alpha_{2} \\left(\\beta_{1} + \\beta_{2}\\right) + \\beta_{1}^{2} - 2.0 \\beta_{1} \\beta_{2} + \\beta_{2}^{2}}\\right) e^{- \\frac{t \\left(\\alpha_{1} + \\alpha_{2} + \\beta_{1} + \\beta_{2} + \\sqrt{\\alpha_{1}^{2} - 2 \\alpha_{1} \\alpha_{2} + 2 \\alpha_{1} \\beta_{1} - 2 \\alpha_{1} \\beta_{2} + \\alpha_{2}^{2} + 2 \\alpha_{2} \\beta_{1} + 2 \\alpha_{2} \\beta_{2} + \\beta_{1}^{2} - 2 \\beta_{1} \\beta_{2} + \\beta_{2}^{2}}\\right)}{2}}}{\\left(\\alpha_{1} + \\alpha_{2} + \\beta_{1} + \\beta_{2} + \\sqrt{\\alpha_{1}^{2} - 2.0 \\alpha_{1} \\left(\\alpha_{2} - \\beta_{1} + \\beta_{2}\\right) + \\alpha_{2}^{2} + 2.0 \\alpha_{2} \\left(\\beta_{1} + \\beta_{2}\\right) + \\beta_{1}^{2} - 2.0 \\beta_{1} \\beta_{2} + \\beta_{2}^{2}}\\right) \\left(2.0 \\alpha_{1}^{5} - \\alpha_{1}^{4} \\left(4.0 \\alpha_{2} - 10.0 \\beta_{1} + 10.0 \\beta_{2} - 2.0 \\left(\\alpha_{1}^{2} - 2.0 \\alpha_{1} \\left(\\alpha_{2} - \\beta_{1} + \\beta_{2}\\right) + \\alpha_{2}^{2} + 2.0 \\alpha_{2} \\left(\\beta_{1} + \\beta_{2}\\right) + \\beta_{1}^{2} - 2.0 \\beta_{1} \\beta_{2} + \\beta_{2}^{2}\\right)^{0.5}\\right) + \\alpha_{1}^{3} \\left(2.0 \\alpha_{2}^{2} - \\alpha_{2} \\left(2.0 \\beta_{1} - 16.0 \\beta_{2} + 2.0 \\left(\\alpha_{1}^{2} - 2.0 \\alpha_{1} \\left(\\alpha_{2} - \\beta_{1} + \\beta_{2}\\right) + \\alpha_{2}^{2} + 2.0 \\alpha_{2} \\left(\\beta_{1} + \\beta_{2}\\right) + \\beta_{1}^{2} - 2.0 \\beta_{1} \\beta_{2} + \\beta_{2}^{2}\\right)^{0.5}\\right) + 20.0 \\beta_{1}^{2} - \\beta_{1} \\left(40.0 \\beta_{2} - 8.0 \\left(\\alpha_{1}^{2} - 2.0 \\alpha_{1} \\left(\\alpha_{2} - \\beta_{1} + \\beta_{2}\\right) + \\alpha_{2}^{2} + 2.0 \\alpha_{2} \\left(\\beta_{1} + \\beta_{2}\\right) + \\beta_{1}^{2} - 2.0 \\beta_{1} \\beta_{2} + \\beta_{2}^{2}\\right)^{0.5}\\right) + 20.0 \\beta_{2}^{2} - 8.0 \\beta_{2} \\left(\\alpha_{1}^{2} - 2.0 \\alpha_{1} \\left(\\alpha_{2} - \\beta_{1} + \\beta_{2}\\right) + \\alpha_{2}^{2} + 2.0 \\alpha_{2} \\left(\\beta_{1} + \\beta_{2}\\right) + \\beta_{1}^{2} - 2.0 \\beta_{1} \\beta_{2} + \\beta_{2}^{2}\\right)^{0.5}\\right) + \\alpha_{1}^{2} \\left(2.0 \\alpha_{2}^{3} - 6.0 \\alpha_{2}^{2} \\beta_{2} + \\alpha_{2} \\left(18.0 \\beta_{1}^{2} + 6.0 \\beta_{1} \\beta_{2} + 4.0 \\beta_{1} \\left(\\alpha_{1}^{2} - 2.0 \\alpha_{1} \\left(\\alpha_{2} - \\beta_{1} + \\beta_{2}\\right) + \\alpha_{2}^{2} + 2.0 \\alpha_{2} \\left(\\beta_{1} + \\beta_{2}\\right) + \\beta_{1}^{2} - 2.0 \\beta_{1} \\beta_{2} + \\beta_{2}^{2}\\right)^{0.5} - 24.0 \\beta_{2}^{2} + 6.0 \\beta_{2} \\left(\\alpha_{1}^{2} - 2.0 \\alpha_{1} \\left(\\alpha_{2} - \\beta_{1} + \\beta_{2}\\right) + \\alpha_{2}^{2} + 2.0 \\alpha_{2} \\left(\\beta_{1} + \\beta_{2}\\right) + \\beta_{1}^{2} - 2.0 \\beta_{1} \\beta_{2} + \\beta_{2}^{2}\\right)^{0.5}\\right) + 20.0 \\beta_{1}^{3} - \\beta_{1}^{2} \\left(60.0 \\beta_{2} - 12.0 \\left(\\alpha_{1}^{2} - 2.0 \\alpha_{1} \\left(\\alpha_{2} - \\beta_{1} + \\beta_{2}\\right) + \\alpha_{2}^{2} + 2.0 \\alpha_{2} \\left(\\beta_{1} + \\beta_{2}\\right) + \\beta_{1}^{2} - 2.0 \\beta_{1} \\beta_{2} + \\beta_{2}^{2}\\right)^{0.5}\\right) + \\beta_{1} \\beta_{2} \\left(60.0 \\beta_{2} - 24.0 \\left(\\alpha_{1}^{2} - 2.0 \\alpha_{1} \\left(\\alpha_{2} - \\beta_{1} + \\beta_{2}\\right) + \\alpha_{2}^{2} + 2.0 \\alpha_{2} \\left(\\beta_{1} + \\beta_{2}\\right) + \\beta_{1}^{2} - 2.0 \\beta_{1} \\beta_{2} + \\beta_{2}^{2}\\right)^{0.5}\\right) - 20.0 \\beta_{2}^{3} + 12.0 \\beta_{2}^{2} \\left(\\alpha_{1}^{2} - 2.0 \\alpha_{1} \\left(\\alpha_{2} - \\beta_{1} + \\beta_{2}\\right) + \\alpha_{2}^{2} + 2.0 \\alpha_{2} \\left(\\beta_{1} + \\beta_{2}\\right) + \\beta_{1}^{2} - 2.0 \\beta_{1} \\beta_{2} + \\beta_{2}^{2}\\right)^{0.5}\\right) - \\alpha_{1} \\left(4.0 \\alpha_{2}^{4} + \\alpha_{2}^{3} \\left(2.0 \\beta_{1} + 4.0 \\beta_{2} + 2.0 \\left(\\alpha_{1}^{2} - 2.0 \\alpha_{1} \\left(\\alpha_{2} - \\beta_{1} + \\beta_{2}\\right) + \\alpha_{2}^{2} + 2.0 \\alpha_{2} \\left(\\beta_{1} + \\beta_{2}\\right) + \\beta_{1}^{2} - 2.0 \\beta_{1} \\beta_{2} + \\beta_{2}^{2}\\right)^{0.5}\\right) - \\alpha_{2}^{2} \\left(18.0 \\beta_{1}^{2} + 4.0 \\beta_{1} \\left(\\alpha_{1}^{2} - 2.0 \\alpha_{1} \\left(\\alpha_{2} - \\beta_{1} + \\beta_{2}\\right) + \\alpha_{2}^{2} + 2.0 \\alpha_{2} \\left(\\beta_{1} + \\beta_{2}\\right) + \\beta_{1}^{2} - 2.0 \\beta_{1} \\beta_{2} + \\beta_{2}^{2}\\right)^{0.5} + 6.0 \\beta_{2}^{2}\\right) + \\alpha_{2} \\left(- 26.0 \\beta_{1}^{3} + 36.0 \\beta_{1}^{2} \\beta_{2} - 14.0 \\beta_{1}^{2} \\left(\\alpha_{1}^{2} - 2.0 \\alpha_{1} \\left(\\alpha_{2} - \\beta_{1} + \\beta_{2}\\right) + \\alpha_{2}^{2} + 2.0 \\alpha_{2} \\left(\\beta_{1} + \\beta_{2}\\right) + \\beta_{1}^{2} - 2.0 \\beta_{1} \\beta_{2} + \\beta_{2}^{2}\\right)^{0.5} + 6.0 \\beta_{1} \\beta_{2}^{2} + 8.0 \\beta_{1} \\beta_{2} \\left(\\alpha_{1}^{2} - 2.0 \\alpha_{1} \\left(\\alpha_{2} - \\beta_{1} + \\beta_{2}\\right) + \\alpha_{2}^{2} + 2.0 \\alpha_{2} \\left(\\beta_{1} + \\beta_{2}\\right) + \\beta_{1}^{2} - 2.0 \\beta_{1} \\beta_{2} + \\beta_{2}^{2}\\right)^{0.5} - 16.0 \\beta_{2}^{3} + 6.0 \\beta_{2}^{2} \\left(\\alpha_{1}^{2} - 2.0 \\alpha_{1} \\left(\\alpha_{2} - \\beta_{1} + \\beta_{2}\\right) + \\alpha_{2}^{2} + 2.0 \\alpha_{2} \\left(\\beta_{1} + \\beta_{2}\\right) + \\beta_{1}^{2} - 2.0 \\beta_{1} \\beta_{2} + \\beta_{2}^{2}\\right)^{0.5}\\right) - 10.0 \\beta_{1}^{4} + \\beta_{1}^{3} \\left(40.0 \\beta_{2} - 8.0 \\left(\\alpha_{1}^{2} - 2.0 \\alpha_{1} \\left(\\alpha_{2} - \\beta_{1} + \\beta_{2}\\right) + \\alpha_{2}^{2} + 2.0 \\alpha_{2} \\left(\\beta_{1} + \\beta_{2}\\right) + \\beta_{1}^{2} - 2.0 \\beta_{1} \\beta_{2} + \\beta_{2}^{2}\\right)^{0.5}\\right) - \\beta_{1}^{2} \\beta_{2} \\left(60.0 \\beta_{2} - 24.0 \\left(\\alpha_{1}^{2} - 2.0 \\alpha_{1} \\left(\\alpha_{2} - \\beta_{1} + \\beta_{2}\\right) + \\alpha_{2}^{2} + 2.0 \\alpha_{2} \\left(\\beta_{1} + \\beta_{2}\\right) + \\beta_{1}^{2} - 2.0 \\beta_{1} \\beta_{2} + \\beta_{2}^{2}\\right)^{0.5}\\right) + \\beta_{1} \\beta_{2}^{2} \\left(40.0 \\beta_{2} - 24.0 \\left(\\alpha_{1}^{2} - 2.0 \\alpha_{1} \\left(\\alpha_{2} - \\beta_{1} + \\beta_{2}\\right) + \\alpha_{2}^{2} + 2.0 \\alpha_{2} \\left(\\beta_{1} + \\beta_{2}\\right) + \\beta_{1}^{2} - 2.0 \\beta_{1} \\beta_{2} + \\beta_{2}^{2}\\right)^{0.5}\\right) - 10.0 \\beta_{2}^{4} + 8.0 \\beta_{2}^{3} \\left(\\alpha_{1}^{2} - 2.0 \\alpha_{1} \\left(\\alpha_{2} - \\beta_{1} + \\beta_{2}\\right) + \\alpha_{2}^{2} + 2.0 \\alpha_{2} \\left(\\beta_{1} + \\beta_{2}\\right) + \\beta_{1}^{2} - 2.0 \\beta_{1} \\beta_{2} + \\beta_{2}^{2}\\right)^{0.5}\\right) + 2.0 \\alpha_{2}^{5} + \\alpha_{2}^{4} \\left(10.0 \\beta_{1} + 4.0 \\beta_{2} + 2.0 \\left(\\alpha_{1}^{2} - 2.0 \\alpha_{1} \\left(\\alpha_{2} - \\beta_{1} + \\beta_{2}\\right) + \\alpha_{2}^{2} + 2.0 \\alpha_{2} \\left(\\beta_{1} + \\beta_{2}\\right) + \\beta_{1}^{2} - 2.0 \\beta_{1} \\beta_{2} + \\beta_{2}^{2}\\right)^{0.5}\\right) + \\alpha_{2}^{3} \\left(20.0 \\beta_{1}^{2} + \\beta_{1} \\left(2.0 \\beta_{2} + 8.0 \\left(\\alpha_{1}^{2} - 2.0 \\alpha_{1} \\left(\\alpha_{2} - \\beta_{1} + \\beta_{2}\\right) + \\alpha_{2}^{2} + 2.0 \\alpha_{2} \\left(\\beta_{1} + \\beta_{2}\\right) + \\beta_{1}^{2} - 2.0 \\beta_{1} \\beta_{2} + \\beta_{2}^{2}\\right)^{0.5}\\right) + 2.0 \\beta_{2}^{2} + 2.0 \\beta_{2} \\left(\\alpha_{1}^{2} - 2.0 \\alpha_{1} \\left(\\alpha_{2} - \\beta_{1} + \\beta_{2}\\right) + \\alpha_{2}^{2} + 2.0 \\alpha_{2} \\left(\\beta_{1} + \\beta_{2}\\right) + \\beta_{1}^{2} - 2.0 \\beta_{1} \\beta_{2} + \\beta_{2}^{2}\\right)^{0.5}\\right) - \\alpha_{2}^{2} \\left(- 20.0 \\beta_{1}^{3} + \\beta_{1}^{2} \\left(18.0 \\beta_{2} - 12.0 \\left(\\alpha_{1}^{2} - 2.0 \\alpha_{1} \\left(\\alpha_{2} - \\beta_{1} + \\beta_{2}\\right) + \\alpha_{2}^{2} + 2.0 \\alpha_{2} \\left(\\beta_{1} + \\beta_{2}\\right) + \\beta_{1}^{2} - 2.0 \\beta_{1} \\beta_{2} + \\beta_{2}^{2}\\right)^{0.5}\\right) + 4.0 \\beta_{1} \\beta_{2} \\left(\\alpha_{1}^{2} - 2.0 \\alpha_{1} \\left(\\alpha_{2} - \\beta_{1} + \\beta_{2}\\right) + \\alpha_{2}^{2} + 2.0 \\alpha_{2} \\left(\\beta_{1} + \\beta_{2}\\right) + \\beta_{1}^{2} - 2.0 \\beta_{1} \\beta_{2} + \\beta_{2}^{2}\\right)^{0.5} + 2.0 \\beta_{2}^{3}\\right) + \\alpha_{2} \\left(10.0 \\beta_{1}^{4} - \\beta_{1}^{3} \\left(26.0 \\beta_{2} - 8.0 \\left(\\alpha_{1}^{2} - 2.0 \\alpha_{1} \\left(\\alpha_{2} - \\beta_{1} + \\beta_{2}\\right) + \\alpha_{2}^{2} + 2.0 \\alpha_{2} \\left(\\beta_{1} + \\beta_{2}\\right) + \\beta_{1}^{2} - 2.0 \\beta_{1} \\beta_{2} + \\beta_{2}^{2}\\right)^{0.5}\\right) + \\beta_{1}^{2} \\beta_{2} \\left(18.0 \\beta_{2} - 14.0 \\left(\\alpha_{1}^{2} - 2.0 \\alpha_{1} \\left(\\alpha_{2} - \\beta_{1} + \\beta_{2}\\right) + \\alpha_{2}^{2} + 2.0 \\alpha_{2} \\left(\\beta_{1} + \\beta_{2}\\right) + \\beta_{1}^{2} - 2.0 \\beta_{1} \\beta_{2} + \\beta_{2}^{2}\\right)^{0.5}\\right) + \\beta_{1} \\beta_{2}^{2} \\left(2.0 \\beta_{2} + 4.0 \\left(\\alpha_{1}^{2} - 2.0 \\alpha_{1} \\left(\\alpha_{2} - \\beta_{1} + \\beta_{2}\\right) + \\alpha_{2}^{2} + 2.0 \\alpha_{2} \\left(\\beta_{1} + \\beta_{2}\\right) + \\beta_{1}^{2} - 2.0 \\beta_{1} \\beta_{2} + \\beta_{2}^{2}\\right)^{0.5}\\right) - 4.0 \\beta_{2}^{4} + 2.0 \\beta_{2}^{3} \\left(\\alpha_{1}^{2} - 2.0 \\alpha_{1} \\left(\\alpha_{2} - \\beta_{1} + \\beta_{2}\\right) + \\alpha_{2}^{2} + 2.0 \\alpha_{2} \\left(\\beta_{1} + \\beta_{2}\\right) + \\beta_{1}^{2} - 2.0 \\beta_{1} \\beta_{2} + \\beta_{2}^{2}\\right)^{0.5}\\right) + 2.0 \\beta_{1}^{5} - \\beta_{1}^{4} \\left(10.0 \\beta_{2} - 2.0 \\left(\\alpha_{1}^{2} - 2.0 \\alpha_{1} \\left(\\alpha_{2} - \\beta_{1} + \\beta_{2}\\right) + \\alpha_{2}^{2} + 2.0 \\alpha_{2} \\left(\\beta_{1} + \\beta_{2}\\right) + \\beta_{1}^{2} - 2.0 \\beta_{1} \\beta_{2} + \\beta_{2}^{2}\\right)^{0.5}\\right) + \\beta_{1}^{3} \\beta_{2} \\left(20.0 \\beta_{2} - 8.0 \\left(\\alpha_{1}^{2} - 2.0 \\alpha_{1} \\left(\\alpha_{2} - \\beta_{1} + \\beta_{2}\\right) + \\alpha_{2}^{2} + 2.0 \\alpha_{2} \\left(\\beta_{1} + \\beta_{2}\\right) + \\beta_{1}^{2} - 2.0 \\beta_{1} \\beta_{2} + \\beta_{2}^{2}\\right)^{0.5}\\right) - \\beta_{1}^{2} \\beta_{2}^{2} \\left(20.0 \\beta_{2} - 12.0 \\left(\\alpha_{1}^{2} - 2.0 \\alpha_{1} \\left(\\alpha_{2} - \\beta_{1} + \\beta_{2}\\right) + \\alpha_{2}^{2} + 2.0 \\alpha_{2} \\left(\\beta_{1} + \\beta_{2}\\right) + \\beta_{1}^{2} - 2.0 \\beta_{1} \\beta_{2} + \\beta_{2}^{2}\\right)^{0.5}\\right) + \\beta_{1} \\beta_{2}^{3} \\left(10.0 \\beta_{2} - 8.0 \\left(\\alpha_{1}^{2} - 2.0 \\alpha_{1} \\left(\\alpha_{2} - \\beta_{1} + \\beta_{2}\\right) + \\alpha_{2}^{2} + 2.0 \\alpha_{2} \\left(\\beta_{1} + \\beta_{2}\\right) + \\beta_{1}^{2} - 2.0 \\beta_{1} \\beta_{2} + \\beta_{2}^{2}\\right)^{0.5}\\right) - 2.0 \\beta_{2}^{5} + 2.0 \\beta_{2}^{4} \\left(\\alpha_{1}^{2} - 2.0 \\alpha_{1} \\left(\\alpha_{2} - \\beta_{1} + \\beta_{2}\\right) + \\alpha_{2}^{2} + 2.0 \\alpha_{2} \\left(\\beta_{1} + \\beta_{2}\\right) + \\beta_{1}^{2} - 2.0 \\beta_{1} \\beta_{2} + \\beta_{2}^{2}\\right)^{0.5}\\right)} + \\frac{\\left(\\alpha_{1}^{2} \\left(\\alpha_{1} - 3.0 \\alpha_{2} + \\beta_{1} + \\beta_{2} - \\sqrt{\\alpha_{1}^{2} - 2.0 \\alpha_{1} \\left(\\alpha_{2} - \\beta_{1} + \\beta_{2}\\right) + \\alpha_{2}^{2} + 2.0 \\alpha_{2} \\left(\\beta_{1} + \\beta_{2}\\right) + \\beta_{1}^{2} - 2.0 \\beta_{1} \\beta_{2} + \\beta_{2}^{2}}\\right) + \\alpha_{1} \\left(- 4.0 \\alpha_{2}^{2} + \\alpha_{2} \\left(\\alpha_{1} + \\alpha_{2} - 3.0 \\beta_{1} + 5.0 \\beta_{2} - 5.0 \\sqrt{\\alpha_{1}^{2} - 2.0 \\alpha_{1} \\left(\\alpha_{2} - \\beta_{1} + \\beta_{2}\\right) + \\alpha_{2}^{2} + 2.0 \\alpha_{2} \\left(\\beta_{1} + \\beta_{2}\\right) + \\beta_{1}^{2} - 2.0 \\beta_{1} \\beta_{2} + \\beta_{2}^{2}}\\right) + 2.0 \\beta_{1} \\left(\\alpha_{1} + \\alpha_{2} + \\beta_{1} + \\beta_{2} - \\sqrt{\\alpha_{1}^{2} - 2.0 \\alpha_{1} \\left(\\alpha_{2} - \\beta_{1} + \\beta_{2}\\right) + \\alpha_{2}^{2} + 2.0 \\alpha_{2} \\left(\\beta_{1} + \\beta_{2}\\right) + \\beta_{1}^{2} - 2.0 \\beta_{1} \\beta_{2} + \\beta_{2}^{2}}\\right) - 2.0 \\beta_{2} \\left(\\alpha_{1} + \\alpha_{2} + \\beta_{1} + \\beta_{2} - \\sqrt{\\alpha_{1}^{2} - 2.0 \\alpha_{1} \\left(\\alpha_{2} - \\beta_{1} + \\beta_{2}\\right) + \\alpha_{2}^{2} + 2.0 \\alpha_{2} \\left(\\beta_{1} + \\beta_{2}\\right) + \\beta_{1}^{2} - 2.0 \\beta_{1} \\beta_{2} + \\beta_{2}^{2}}\\right) + \\left(\\alpha_{1} + \\alpha_{2} + \\beta_{1} + \\beta_{2} - \\sqrt{\\alpha_{1}^{2} - 2.0 \\alpha_{1} \\left(\\alpha_{2} - \\beta_{1} + \\beta_{2}\\right) + \\alpha_{2}^{2} + 2.0 \\alpha_{2} \\left(\\beta_{1} + \\beta_{2}\\right) + \\beta_{1}^{2} - 2.0 \\beta_{1} \\beta_{2} + \\beta_{2}^{2}}\\right) \\sqrt{\\alpha_{1}^{2} - 2.0 \\alpha_{1} \\left(\\alpha_{2} - \\beta_{1} + \\beta_{2}\\right) + \\alpha_{2}^{2} + 2.0 \\alpha_{2} \\left(\\beta_{1} + \\beta_{2}\\right) + \\beta_{1}^{2} - 2.0 \\beta_{1} \\beta_{2} + \\beta_{2}^{2}}\\right) + 2.0 \\alpha_{2}^{2} \\left(\\alpha_{1} + \\alpha_{2} + \\beta_{1} + \\beta_{2} - \\sqrt{\\alpha_{1}^{2} - 2.0 \\alpha_{1} \\left(\\alpha_{2} - \\beta_{1} + \\beta_{2}\\right) + \\alpha_{2}^{2} + 2.0 \\alpha_{2} \\left(\\beta_{1} + \\beta_{2}\\right) + \\beta_{1}^{2} - 2.0 \\beta_{1} \\beta_{2} + \\beta_{2}^{2}}\\right) + \\alpha_{2} \\left(3.0 \\beta_{1} - \\beta_{2} + 2.0 \\sqrt{\\alpha_{1}^{2} - 2.0 \\alpha_{1} \\left(\\alpha_{2} - \\beta_{1} + \\beta_{2}\\right) + \\alpha_{2}^{2} + 2.0 \\alpha_{2} \\left(\\beta_{1} + \\beta_{2}\\right) + \\beta_{1}^{2} - 2.0 \\beta_{1} \\beta_{2} + \\beta_{2}^{2}}\\right) \\left(\\alpha_{1} + \\alpha_{2} + \\beta_{1} + \\beta_{2} - \\sqrt{\\alpha_{1}^{2} - 2.0 \\alpha_{1} \\left(\\alpha_{2} - \\beta_{1} + \\beta_{2}\\right) + \\alpha_{2}^{2} + 2.0 \\alpha_{2} \\left(\\beta_{1} + \\beta_{2}\\right) + \\beta_{1}^{2} - 2.0 \\beta_{1} \\beta_{2} + \\beta_{2}^{2}}\\right) + \\beta_{1}^{2} \\left(\\alpha_{1} + \\alpha_{2} + \\beta_{1} + \\beta_{2} - \\sqrt{\\alpha_{1}^{2} - 2.0 \\alpha_{1} \\left(\\alpha_{2} - \\beta_{1} + \\beta_{2}\\right) + \\alpha_{2}^{2} + 2.0 \\alpha_{2} \\left(\\beta_{1} + \\beta_{2}\\right) + \\beta_{1}^{2} - 2.0 \\beta_{1} \\beta_{2} + \\beta_{2}^{2}}\\right) - \\beta_{1} \\left(2.0 \\beta_{2} - \\sqrt{\\alpha_{1}^{2} - 2.0 \\alpha_{1} \\left(\\alpha_{2} - \\beta_{1} + \\beta_{2}\\right) + \\alpha_{2}^{2} + 2.0 \\alpha_{2} \\left(\\beta_{1} + \\beta_{2}\\right) + \\beta_{1}^{2} - 2.0 \\beta_{1} \\beta_{2} + \\beta_{2}^{2}}\\right) \\left(\\alpha_{1} + \\alpha_{2} + \\beta_{1} + \\beta_{2} - \\sqrt{\\alpha_{1}^{2} - 2.0 \\alpha_{1} \\left(\\alpha_{2} - \\beta_{1} + \\beta_{2}\\right) + \\alpha_{2}^{2} + 2.0 \\alpha_{2} \\left(\\beta_{1} + \\beta_{2}\\right) + \\beta_{1}^{2} - 2.0 \\beta_{1} \\beta_{2} + \\beta_{2}^{2}}\\right) + \\beta_{2}^{2} \\left(\\alpha_{1} + \\alpha_{2} + \\beta_{1} + \\beta_{2} - \\sqrt{\\alpha_{1}^{2} - 2.0 \\alpha_{1} \\left(\\alpha_{2} - \\beta_{1} + \\beta_{2}\\right) + \\alpha_{2}^{2} + 2.0 \\alpha_{2} \\left(\\beta_{1} + \\beta_{2}\\right) + \\beta_{1}^{2} - 2.0 \\beta_{1} \\beta_{2} + \\beta_{2}^{2}}\\right) - \\beta_{2} \\left(\\alpha_{1} + \\alpha_{2} + \\beta_{1} + \\beta_{2} - \\sqrt{\\alpha_{1}^{2} - 2.0 \\alpha_{1} \\left(\\alpha_{2} - \\beta_{1} + \\beta_{2}\\right) + \\alpha_{2}^{2} + 2.0 \\alpha_{2} \\left(\\beta_{1} + \\beta_{2}\\right) + \\beta_{1}^{2} - 2.0 \\beta_{1} \\beta_{2} + \\beta_{2}^{2}}\\right) \\sqrt{\\alpha_{1}^{2} - 2.0 \\alpha_{1} \\left(\\alpha_{2} - \\beta_{1} + \\beta_{2}\\right) + \\alpha_{2}^{2} + 2.0 \\alpha_{2} \\left(\\beta_{1} + \\beta_{2}\\right) + \\beta_{1}^{2} - 2.0 \\beta_{1} \\beta_{2} + \\beta_{2}^{2}}\\right) e^{- \\frac{t \\left(\\alpha_{1} + \\alpha_{2} + \\beta_{1} + \\beta_{2} - \\sqrt{\\alpha_{1}^{2} - 2 \\alpha_{1} \\alpha_{2} + 2 \\alpha_{1} \\beta_{1} - 2 \\alpha_{1} \\beta_{2} + \\alpha_{2}^{2} + 2 \\alpha_{2} \\beta_{1} + 2 \\alpha_{2} \\beta_{2} + \\beta_{1}^{2} - 2 \\beta_{1} \\beta_{2} + \\beta_{2}^{2}}\\right)}{2}}}{\\left(\\alpha_{1} + \\alpha_{2} + \\beta_{1} + \\beta_{2} - \\sqrt{\\alpha_{1}^{2} - 2.0 \\alpha_{1} \\left(\\alpha_{2} - \\beta_{1} + \\beta_{2}\\right) + \\alpha_{2}^{2} + 2.0 \\alpha_{2} \\left(\\beta_{1} + \\beta_{2}\\right) + \\beta_{1}^{2} - 2.0 \\beta_{1} \\beta_{2} + \\beta_{2}^{2}}\\right) \\left(2.0 \\alpha_{1}^{2} - \\alpha_{1} \\left(4.0 \\alpha_{2} - 4.0 \\beta_{1} + 4.0 \\beta_{2} - 2.0 \\left(\\alpha_{1}^{2} - 2.0 \\alpha_{1} \\left(\\alpha_{2} - \\beta_{1} + \\beta_{2}\\right) + \\alpha_{2}^{2} + 2.0 \\alpha_{2} \\left(\\beta_{1} + \\beta_{2}\\right) + \\beta_{1}^{2} - 2.0 \\beta_{1} \\beta_{2} + \\beta_{2}^{2}\\right)^{0.5}\\right) + 2.0 \\alpha_{2}^{2} + \\alpha_{2} \\left(4.0 \\beta_{1} + 4.0 \\beta_{2} + 2.0 \\left(\\alpha_{1}^{2} - 2.0 \\alpha_{1} \\left(\\alpha_{2} - \\beta_{1} + \\beta_{2}\\right) + \\alpha_{2}^{2} + 2.0 \\alpha_{2} \\left(\\beta_{1} + \\beta_{2}\\right) + \\beta_{1}^{2} - 2.0 \\beta_{1} \\beta_{2} + \\beta_{2}^{2}\\right)^{0.5}\\right) + 2.0 \\beta_{1}^{2} - \\beta_{1} \\left(4.0 \\beta_{2} - 2.0 \\left(\\alpha_{1}^{2} - 2.0 \\alpha_{1} \\left(\\alpha_{2} - \\beta_{1} + \\beta_{2}\\right) + \\alpha_{2}^{2} + 2.0 \\alpha_{2} \\left(\\beta_{1} + \\beta_{2}\\right) + \\beta_{1}^{2} - 2.0 \\beta_{1} \\beta_{2} + \\beta_{2}^{2}\\right)^{0.5}\\right) + 2.0 \\beta_{2}^{2} - 2.0 \\beta_{2} \\left(\\alpha_{1}^{2} - 2.0 \\alpha_{1} \\left(\\alpha_{2} - \\beta_{1} + \\beta_{2}\\right) + \\alpha_{2}^{2} + 2.0 \\alpha_{2} \\left(\\beta_{1} + \\beta_{2}\\right) + \\beta_{1}^{2} - 2.0 \\beta_{1} \\beta_{2} + \\beta_{2}^{2}\\right)^{0.5}\\right)}$"
      ],
      "text/plain": [
       "Eq(P3(t), alpha1*alpha2*Piecewise((2*exp(t*(alpha1 + alpha2 + beta1 + beta2 - sqrt(alpha1**2 - 2*alpha1*alpha2 + 2*alpha1*beta1 - 2*alpha1*beta2 + alpha2**2 + 2*alpha2*beta1 + 2*alpha2*beta2 + beta1**2 - 2*beta1*beta2 + beta2**2))/2)/(alpha1 + alpha2 + beta1 + beta2 - sqrt(alpha1**2 - 2*alpha1*alpha2 + 2*alpha1*beta1 - 2*alpha1*beta2 + alpha2**2 + 2*alpha2*beta1 + 2*alpha2*beta2 + beta1**2 - 2*beta1*beta2 + beta2**2)), Ne(alpha1 + alpha2 + beta1 + beta2 - sqrt(alpha1**2 - 2*alpha1*alpha2 + 2*alpha1*beta1 - 2*alpha1*beta2 + alpha2**2 + 2*alpha2*beta1 + 2*alpha2*beta2 + beta1**2 - 2*beta1*beta2 + beta2**2), 0)), (t, True))*exp(-t*(alpha1 + alpha2 + beta1 + beta2 - sqrt(alpha1**2 - 2*alpha1*alpha2 + 2*alpha1*beta1 - 2*alpha1*beta2 + alpha2**2 + 2*alpha2*beta1 + 2*alpha2*beta2 + beta1**2 - 2*beta1*beta2 + beta2**2))/2)/sqrt(alpha1**2 - 2*alpha1*(alpha2 - beta1 + beta2) + alpha2**2 + 2*alpha2*(beta1 + beta2) + beta1**2 - 2*beta1*beta2 + beta2**2) - alpha1*alpha2*Piecewise((2*exp(t*(alpha1 + alpha2 + beta1 + beta2 + sqrt(alpha1**2 - 2*alpha1*alpha2 + 2*alpha1*beta1 - 2*alpha1*beta2 + alpha2**2 + 2*alpha2*beta1 + 2*alpha2*beta2 + beta1**2 - 2*beta1*beta2 + beta2**2))/2)/(alpha1 + alpha2 + beta1 + beta2 + sqrt(alpha1**2 - 2*alpha1*alpha2 + 2*alpha1*beta1 - 2*alpha1*beta2 + alpha2**2 + 2*alpha2*beta1 + 2*alpha2*beta2 + beta1**2 - 2*beta1*beta2 + beta2**2)), Ne(alpha1 + alpha2 + beta1 + beta2 + sqrt(alpha1**2 - 2*alpha1*alpha2 + 2*alpha1*beta1 - 2*alpha1*beta2 + alpha2**2 + 2*alpha2*beta1 + 2*alpha2*beta2 + beta1**2 - 2*beta1*beta2 + beta2**2), 0)), (t, True))*exp(-t*(alpha1 + alpha2 + beta1 + beta2 + sqrt(alpha1**2 - 2*alpha1*alpha2 + 2*alpha1*beta1 - 2*alpha1*beta2 + alpha2**2 + 2*alpha2*beta1 + 2*alpha2*beta2 + beta1**2 - 2*beta1*beta2 + beta2**2))/2)/sqrt(alpha1**2 - 2*alpha1*(alpha2 - beta1 + beta2) + alpha2**2 + 2*alpha2*(beta1 + beta2) + beta1**2 - 2*beta1*beta2 + beta2**2) - alpha2*(-4.0*alpha1**5 + alpha1**4*(2.0*alpha1 + 6.0*alpha2 - 14.0*beta1 + 18.0*beta2 - 2.0*sqrt(alpha1**2 - 2.0*alpha1*(alpha2 - beta1 + beta2) + alpha2**2 + 2.0*alpha2*(beta1 + beta2) + beta1**2 - 2.0*beta1*beta2 + beta2**2)) - alpha1**3*(alpha2*(2.0*alpha1 + 2.0*alpha2 + 10.0*beta1 + 14.0*beta2 + 2.0*sqrt(alpha1**2 - 2.0*alpha1*(alpha2 - beta1 + beta2) + alpha2**2 + 2.0*alpha2*(beta1 + beta2) + beta1**2 - 2.0*beta1*beta2 + beta2**2)) + 24.0*beta1**2 - beta1*(7.0*alpha1 + 7.0*alpha2 + 7.0*beta1 + 55.0*beta2 - 5.0*sqrt(alpha1**2 - 2.0*alpha1*(alpha2 - beta1 + beta2) + alpha2**2 + 2.0*alpha2*(beta1 + beta2) + beta1**2 - 2.0*beta1*beta2 + beta2**2)) + 24.0*beta2**2 + beta2*(8.0*alpha1 + 8.0*alpha2 + 8.0*beta1 + 8.0*beta2 - 4.0*sqrt(alpha1**2 - 2.0*alpha1*(alpha2 - beta1 + beta2) + alpha2**2 + 2.0*alpha2*(beta1 + beta2) + beta1**2 - 2.0*beta1*beta2 + beta2**2)) - 2.0*(alpha1 + alpha2 + beta1 + beta2 + sqrt(alpha1**2 - 2.0*alpha1*(alpha2 - beta1 + beta2) + alpha2**2 + 2.0*alpha2*(beta1 + beta2) + beta1**2 - 2.0*beta1*beta2 + beta2**2))*sqrt(alpha1**2 - 2.0*alpha1*(alpha2 - beta1 + beta2) + alpha2**2 + 2.0*alpha2*(beta1 + beta2) + beta1**2 - 2.0*beta1*beta2 + beta2**2)) + alpha1**2*(4.0*alpha2**3 - alpha2**2*(alpha1 + alpha2 + 9.0*beta1 + beta2 + sqrt(alpha1**2 - 2.0*alpha1*(alpha2 - beta1 + beta2) + alpha2**2 + 2.0*alpha2*(beta1 + beta2) + beta1**2 - 2.0*beta1*beta2 + beta2**2)) + alpha2*(-28.0*beta1**2 + 16.0*beta1*beta2 + 4.0*beta1*(alpha1 + alpha2 + beta1 + beta2 + sqrt(alpha1**2 - 2.0*alpha1*(alpha2 - beta1 + beta2) + alpha2**2 + 2.0*alpha2*(beta1 + beta2) + beta1**2 - 2.0*beta1*beta2 + beta2**2)) - 12.0*beta1*sqrt(alpha1**2 - 2.0*alpha1*(alpha2 - beta1 + beta2) + alpha2**2 + 2.0*alpha2*(beta1 + beta2) + beta1**2 - 2.0*beta1*beta2 + beta2**2) + 12.0*beta2**2 + 6.0*beta2*(alpha1 + alpha2 + beta1 + beta2 + sqrt(alpha1**2 - 2.0*alpha1*(alpha2 - beta1 + beta2) + alpha2**2 + 2.0*alpha2*(beta1 + beta2) + beta1**2 - 2.0*beta1*beta2 + beta2**2))) - 16.0*beta1**3 + beta1**2*(9.0*alpha1 + 9.0*alpha2 + 9.0*beta1 + 57.0*beta2 - 3.0*sqrt(alpha1**2 - 2.0*alpha1*(alpha2 - beta1 + beta2) + alpha2**2 + 2.0*alpha2*(beta1 + beta2) + beta1**2 - 2.0*beta1*beta2 + beta2**2)) - beta1*(48.0*beta2**2 + 21.0*beta2*(alpha1 + alpha2 + beta1 + beta2 + sqrt(alpha1**2 - 2.0*alpha1*(alpha2 - beta1 + beta2) + alpha2**2 + 2.0*alpha2*(beta1 + beta2) + beta1**2 - 2.0*beta1*beta2 + beta2**2)) - 24.0*beta2*sqrt(alpha1**2 - 2.0*alpha1*(alpha2 - beta1 + beta2) + alpha2**2 + 2.0*alpha2*(beta1 + beta2) + beta1**2 - 2.0*beta1*beta2 + beta2**2) - 5.0*(alpha1 + alpha2 + beta1 + beta2 + sqrt(alpha1**2 - 2.0*alpha1*(alpha2 - beta1 + beta2) + alpha2**2 + 2.0*alpha2*(beta1 + beta2) + beta1**2 - 2.0*beta1*beta2 + beta2**2))*sqrt(alpha1**2 - 2.0*alpha1*(alpha2 - beta1 + beta2) + alpha2**2 + 2.0*alpha2*(beta1 + beta2) + beta1**2 - 2.0*beta1*beta2 + beta2**2)) + 16.0*beta2**3 + 12.0*beta2**2*(alpha1 + alpha2 + beta1 + beta2) - 6.0*beta2*(alpha1 + alpha2 + beta1 + beta2 + sqrt(alpha1**2 - 2.0*alpha1*(alpha2 - beta1 + beta2) + alpha2**2 + 2.0*alpha2*(beta1 + beta2) + beta1**2 - 2.0*beta1*beta2 + beta2**2))*sqrt(alpha1**2 - 2.0*alpha1*(alpha2 - beta1 + beta2) + alpha2**2 + 2.0*alpha2*(beta1 + beta2) + beta1**2 - 2.0*beta1*beta2 + beta2**2)) - alpha1*(4.0*alpha2**4 + alpha2**3*(16.0*beta1 + 4.0*beta2 + 4.0*sqrt(alpha1**2 - 2.0*alpha1*(alpha2 - beta1 + beta2) + alpha2**2 + 2.0*alpha2*(beta1 + beta2) + beta1**2 - 2.0*beta1*beta2 + beta2**2)) - alpha2**2*(-24.0*beta1**2 + 8.0*beta1*beta2 + 5.0*beta1*(alpha1 + alpha2 + beta1 + beta2 + sqrt(alpha1**2 - 2.0*alpha1*(alpha2 - beta1 + beta2) + alpha2**2 + 2.0*alpha2*(beta1 + beta2) + beta1**2 - 2.0*beta1*beta2 + beta2**2)) - 12.0*beta1*sqrt(alpha1**2 - 2.0*alpha1*(alpha2 - beta1 + beta2) + alpha2**2 + 2.0*alpha2*(beta1 + beta2) + beta1**2 - 2.0*beta1*beta2 + beta2**2) + 2.0*beta2*(alpha1 + alpha2 + beta1 + beta2 + sqrt(alpha1**2 - 2.0*alpha1*(alpha2 - beta1 + beta2) + alpha2**2 + 2.0*alpha2*(beta1 + beta2) + beta1**2 - 2.0*beta1*beta2 + beta2**2)) + (alpha1 + alpha2 + beta1 + beta2 + sqrt(alpha1**2 - 2.0*alpha1*(alpha2 - beta1 + beta2) + alpha2**2 + 2.0*alpha2*(beta1 + beta2) + beta1**2 - 2.0*beta1*beta2 + beta2**2))*sqrt(alpha1**2 - 2.0*alpha1*(alpha2 - beta1 + beta2) + alpha2**2 + 2.0*alpha2*(beta1 + beta2) + beta1**2 - 2.0*beta1*beta2 + beta2**2)) + alpha2*(16.0*beta1**3 - 28.0*beta1**2*beta2 - 10.0*beta1**2*(alpha1 + alpha2 + beta1 + beta2 + sqrt(alpha1**2 - 2.0*alpha1*(alpha2 - beta1 + beta2) + alpha2**2 + 2.0*alpha2*(beta1 + beta2) + beta1**2 - 2.0*beta1*beta2 + beta2**2)) + 12.0*beta1**2*sqrt(alpha1**2 - 2.0*alpha1*(alpha2 - beta1 + beta2) + alpha2**2 + 2.0*alpha2*(beta1 + beta2) + beta1**2 - 2.0*beta1*beta2 + beta2**2) + 8.0*beta1*beta2**2 + 8.0*beta1*beta2*(alpha1 + alpha2 + beta1 + beta2 + sqrt(alpha1**2 - 2.0*alpha1*(alpha2 - beta1 + beta2) + alpha2**2 + 2.0*alpha2*(beta1 + beta2) + beta1**2 - 2.0*beta1*beta2 + beta2**2)) - 12.0*beta1*beta2*sqrt(alpha1**2 - 2.0*alpha1*(alpha2 - beta1 + beta2) + alpha2**2 + 2.0*alpha2*(beta1 + beta2) + beta1**2 - 2.0*beta1*beta2 + beta2**2) - 5.0*beta1*(alpha1 + alpha2 + beta1 + beta2 + sqrt(alpha1**2 - 2.0*alpha1*(alpha2 - beta1 + beta2) + alpha2**2 + 2.0*alpha2*(beta1 + beta2) + beta1**2 - 2.0*beta1*beta2 + beta2**2))*sqrt(alpha1**2 - 2.0*alpha1*(alpha2 - beta1 + beta2) + alpha2**2 + 2.0*alpha2*(beta1 + beta2) + beta1**2 - 2.0*beta1*beta2 + beta2**2) + 4.0*beta2**3 + 6.0*beta2**2*(alpha1 + alpha2 + beta1 + beta2 + sqrt(alpha1**2 - 2.0*alpha1*(alpha2 - beta1 + beta2) + alpha2**2 + 2.0*alpha2*(beta1 + beta2) + beta1**2 - 2.0*beta1*beta2 + beta2**2))) + 4.0*beta1**4 - beta1**3*(5.0*alpha1 + 5.0*alpha2 + 5.0*beta1 + 21.0*beta2 + 1.0*sqrt(alpha1**2 - 2.0*alpha1*(alpha2 - beta1 + beta2) + alpha2**2 + 2.0*alpha2*(beta1 + beta2) + beta1**2 - 2.0*beta1*beta2 + beta2**2)) + beta1**2*(24.0*beta2**2 + 18.0*beta2*(alpha1 + alpha2 + beta1 + beta2 + sqrt(alpha1**2 - 2.0*alpha1*(alpha2 - beta1 + beta2) + alpha2**2 + 2.0*alpha2*(beta1 + beta2) + beta1**2 - 2.0*beta1*beta2 + beta2**2)) - 12.0*beta2*sqrt(alpha1**2 - 2.0*alpha1*(alpha2 - beta1 + beta2) + alpha2**2 + 2.0*alpha2*(beta1 + beta2) + beta1**2 - 2.0*beta1*beta2 + beta2**2) - 4.0*(alpha1 + alpha2 + beta1 + beta2 + sqrt(alpha1**2 - 2.0*alpha1*(alpha2 - beta1 + beta2) + alpha2**2 + 2.0*alpha2*(beta1 + beta2) + beta1**2 - 2.0*beta1*beta2 + beta2**2))*sqrt(alpha1**2 - 2.0*alpha1*(alpha2 - beta1 + beta2) + alpha2**2 + 2.0*alpha2*(beta1 + beta2) + beta1**2 - 2.0*beta1*beta2 + beta2**2)) - beta1*beta2*(16.0*beta2**2 + 21.0*beta2*(alpha1 + alpha2 + beta1 + beta2 + sqrt(alpha1**2 - 2.0*alpha1*(alpha2 - beta1 + beta2) + alpha2**2 + 2.0*alpha2*(beta1 + beta2) + beta1**2 - 2.0*beta1*beta2 + beta2**2)) - 12.0*beta2*sqrt(alpha1**2 - 2.0*alpha1*(alpha2 - beta1 + beta2) + alpha2**2 + 2.0*alpha2*(beta1 + beta2) + beta1**2 - 2.0*beta1*beta2 + beta2**2) - 10.0*(alpha1 + alpha2 + beta1 + beta2 + sqrt(alpha1**2 - 2.0*alpha1*(alpha2 - beta1 + beta2) + alpha2**2 + 2.0*alpha2*(beta1 + beta2) + beta1**2 - 2.0*beta1*beta2 + beta2**2))*sqrt(alpha1**2 - 2.0*alpha1*(alpha2 - beta1 + beta2) + alpha2**2 + 2.0*alpha2*(beta1 + beta2) + beta1**2 - 2.0*beta1*beta2 + beta2**2)) + 4.0*beta2**4 + beta2**3*(8.0*alpha1 + 8.0*alpha2 + 8.0*beta1 + 8.0*beta2 + 4.0*sqrt(alpha1**2 - 2.0*alpha1*(alpha2 - beta1 + beta2) + alpha2**2 + 2.0*alpha2*(beta1 + beta2) + beta1**2 - 2.0*beta1*beta2 + beta2**2)) - 6.0*beta2**2*(alpha1 + alpha2 + beta1 + beta2 + sqrt(alpha1**2 - 2.0*alpha1*(alpha2 - beta1 + beta2) + alpha2**2 + 2.0*alpha2*(beta1 + beta2) + beta1**2 - 2.0*beta1*beta2 + beta2**2))*sqrt(alpha1**2 - 2.0*alpha1*(alpha2 - beta1 + beta2) + alpha2**2 + 2.0*alpha2*(beta1 + beta2) + beta1**2 - 2.0*beta1*beta2 + beta2**2)) + alpha2**4*(alpha1 + alpha2 + beta1 + beta2 + sqrt(alpha1**2 - 2.0*alpha1*(alpha2 - beta1 + beta2) + alpha2**2 + 2.0*alpha2*(beta1 + beta2) + beta1**2 - 2.0*beta1*beta2 + beta2**2)) + alpha2**3*(4.0*beta1 + sqrt(alpha1**2 - 2.0*alpha1*(alpha2 - beta1 + beta2) + alpha2**2 + 2.0*alpha2*(beta1 + beta2) + beta1**2 - 2.0*beta1*beta2 + beta2**2))*(alpha1 + alpha2 + beta1 + beta2 + sqrt(alpha1**2 - 2.0*alpha1*(alpha2 - beta1 + beta2) + alpha2**2 + 2.0*alpha2*(beta1 + beta2) + beta1**2 - 2.0*beta1*beta2 + beta2**2)) - alpha2**2*(-6.0*beta1**2 + beta1*(5.0*beta2 - 3.0*sqrt(alpha1**2 - 2.0*alpha1*(alpha2 - beta1 + beta2) + alpha2**2 + 2.0*alpha2*(beta1 + beta2) + beta1**2 - 2.0*beta1*beta2 + beta2**2)) + beta2**2 + beta2*sqrt(alpha1**2 - 2.0*alpha1*(alpha2 - beta1 + beta2) + alpha2**2 + 2.0*alpha2*(beta1 + beta2) + beta1**2 - 2.0*beta1*beta2 + beta2**2))*(alpha1 + alpha2 + beta1 + beta2 + sqrt(alpha1**2 - 2.0*alpha1*(alpha2 - beta1 + beta2) + alpha2**2 + 2.0*alpha2*(beta1 + beta2) + beta1**2 - 2.0*beta1*beta2 + beta2**2)) + alpha2*(4.0*beta1**3 - beta1**2*(10.0*beta2 - 3.0*sqrt(alpha1**2 - 2.0*alpha1*(alpha2 - beta1 + beta2) + alpha2**2 + 2.0*alpha2*(beta1 + beta2) + beta1**2 - 2.0*beta1*beta2 + beta2**2)) + beta1*beta2*(4.0*beta2 - 5.0*sqrt(alpha1**2 - 2.0*alpha1*(alpha2 - beta1 + beta2) + alpha2**2 + 2.0*alpha2*(beta1 + beta2) + beta1**2 - 2.0*beta1*beta2 + beta2**2)) + 2.0*beta2**3)*(alpha1 + alpha2 + beta1 + beta2 + sqrt(alpha1**2 - 2.0*alpha1*(alpha2 - beta1 + beta2) + alpha2**2 + 2.0*alpha2*(beta1 + beta2) + beta1**2 - 2.0*beta1*beta2 + beta2**2)) + beta1**4*(alpha1 + alpha2 + beta1 + beta2 + sqrt(alpha1**2 - 2.0*alpha1*(alpha2 - beta1 + beta2) + alpha2**2 + 2.0*alpha2*(beta1 + beta2) + beta1**2 - 2.0*beta1*beta2 + beta2**2)) - beta1**3*(5.0*beta2 - sqrt(alpha1**2 - 2.0*alpha1*(alpha2 - beta1 + beta2) + alpha2**2 + 2.0*alpha2*(beta1 + beta2) + beta1**2 - 2.0*beta1*beta2 + beta2**2))*(alpha1 + alpha2 + beta1 + beta2 + sqrt(alpha1**2 - 2.0*alpha1*(alpha2 - beta1 + beta2) + alpha2**2 + 2.0*alpha2*(beta1 + beta2) + beta1**2 - 2.0*beta1*beta2 + beta2**2)) + beta1**2*beta2*(9.0*beta2 - 4.0*sqrt(alpha1**2 - 2.0*alpha1*(alpha2 - beta1 + beta2) + alpha2**2 + 2.0*alpha2*(beta1 + beta2) + beta1**2 - 2.0*beta1*beta2 + beta2**2))*(alpha1 + alpha2 + beta1 + beta2 + sqrt(alpha1**2 - 2.0*alpha1*(alpha2 - beta1 + beta2) + alpha2**2 + 2.0*alpha2*(beta1 + beta2) + beta1**2 - 2.0*beta1*beta2 + beta2**2)) - beta1*beta2**2*(7.0*beta2 - 5.0*sqrt(alpha1**2 - 2.0*alpha1*(alpha2 - beta1 + beta2) + alpha2**2 + 2.0*alpha2*(beta1 + beta2) + beta1**2 - 2.0*beta1*beta2 + beta2**2))*(alpha1 + alpha2 + beta1 + beta2 + sqrt(alpha1**2 - 2.0*alpha1*(alpha2 - beta1 + beta2) + alpha2**2 + 2.0*alpha2*(beta1 + beta2) + beta1**2 - 2.0*beta1*beta2 + beta2**2)) + 2.0*beta2**4*(alpha1 + alpha2 + beta1 + beta2 + sqrt(alpha1**2 - 2.0*alpha1*(alpha2 - beta1 + beta2) + alpha2**2 + 2.0*alpha2*(beta1 + beta2) + beta1**2 - 2.0*beta1*beta2 + beta2**2)) - 2.0*beta2**3*(alpha1 + alpha2 + beta1 + beta2 + sqrt(alpha1**2 - 2.0*alpha1*(alpha2 - beta1 + beta2) + alpha2**2 + 2.0*alpha2*(beta1 + beta2) + beta1**2 - 2.0*beta1*beta2 + beta2**2))*sqrt(alpha1**2 - 2.0*alpha1*(alpha2 - beta1 + beta2) + alpha2**2 + 2.0*alpha2*(beta1 + beta2) + beta1**2 - 2.0*beta1*beta2 + beta2**2))*exp(-t*(alpha1 + alpha2 + beta1 + beta2 + sqrt(alpha1**2 - 2*alpha1*alpha2 + 2*alpha1*beta1 - 2*alpha1*beta2 + alpha2**2 + 2*alpha2*beta1 + 2*alpha2*beta2 + beta1**2 - 2*beta1*beta2 + beta2**2))/2)/((alpha1 + alpha2 + beta1 + beta2 + sqrt(alpha1**2 - 2.0*alpha1*(alpha2 - beta1 + beta2) + alpha2**2 + 2.0*alpha2*(beta1 + beta2) + beta1**2 - 2.0*beta1*beta2 + beta2**2))*(2.0*alpha1**5 - alpha1**4*(4.0*alpha2 - 10.0*beta1 + 10.0*beta2 - 2.0*(alpha1**2 - 2.0*alpha1*(alpha2 - beta1 + beta2) + alpha2**2 + 2.0*alpha2*(beta1 + beta2) + beta1**2 - 2.0*beta1*beta2 + beta2**2)**0.5) + alpha1**3*(2.0*alpha2**2 - alpha2*(2.0*beta1 - 16.0*beta2 + 2.0*(alpha1**2 - 2.0*alpha1*(alpha2 - beta1 + beta2) + alpha2**2 + 2.0*alpha2*(beta1 + beta2) + beta1**2 - 2.0*beta1*beta2 + beta2**2)**0.5) + 20.0*beta1**2 - beta1*(40.0*beta2 - 8.0*(alpha1**2 - 2.0*alpha1*(alpha2 - beta1 + beta2) + alpha2**2 + 2.0*alpha2*(beta1 + beta2) + beta1**2 - 2.0*beta1*beta2 + beta2**2)**0.5) + 20.0*beta2**2 - 8.0*beta2*(alpha1**2 - 2.0*alpha1*(alpha2 - beta1 + beta2) + alpha2**2 + 2.0*alpha2*(beta1 + beta2) + beta1**2 - 2.0*beta1*beta2 + beta2**2)**0.5) + alpha1**2*(2.0*alpha2**3 - 6.0*alpha2**2*beta2 + alpha2*(18.0*beta1**2 + 6.0*beta1*beta2 + 4.0*beta1*(alpha1**2 - 2.0*alpha1*(alpha2 - beta1 + beta2) + alpha2**2 + 2.0*alpha2*(beta1 + beta2) + beta1**2 - 2.0*beta1*beta2 + beta2**2)**0.5 - 24.0*beta2**2 + 6.0*beta2*(alpha1**2 - 2.0*alpha1*(alpha2 - beta1 + beta2) + alpha2**2 + 2.0*alpha2*(beta1 + beta2) + beta1**2 - 2.0*beta1*beta2 + beta2**2)**0.5) + 20.0*beta1**3 - beta1**2*(60.0*beta2 - 12.0*(alpha1**2 - 2.0*alpha1*(alpha2 - beta1 + beta2) + alpha2**2 + 2.0*alpha2*(beta1 + beta2) + beta1**2 - 2.0*beta1*beta2 + beta2**2)**0.5) + beta1*beta2*(60.0*beta2 - 24.0*(alpha1**2 - 2.0*alpha1*(alpha2 - beta1 + beta2) + alpha2**2 + 2.0*alpha2*(beta1 + beta2) + beta1**2 - 2.0*beta1*beta2 + beta2**2)**0.5) - 20.0*beta2**3 + 12.0*beta2**2*(alpha1**2 - 2.0*alpha1*(alpha2 - beta1 + beta2) + alpha2**2 + 2.0*alpha2*(beta1 + beta2) + beta1**2 - 2.0*beta1*beta2 + beta2**2)**0.5) - alpha1*(4.0*alpha2**4 + alpha2**3*(2.0*beta1 + 4.0*beta2 + 2.0*(alpha1**2 - 2.0*alpha1*(alpha2 - beta1 + beta2) + alpha2**2 + 2.0*alpha2*(beta1 + beta2) + beta1**2 - 2.0*beta1*beta2 + beta2**2)**0.5) - alpha2**2*(18.0*beta1**2 + 4.0*beta1*(alpha1**2 - 2.0*alpha1*(alpha2 - beta1 + beta2) + alpha2**2 + 2.0*alpha2*(beta1 + beta2) + beta1**2 - 2.0*beta1*beta2 + beta2**2)**0.5 + 6.0*beta2**2) + alpha2*(-26.0*beta1**3 + 36.0*beta1**2*beta2 - 14.0*beta1**2*(alpha1**2 - 2.0*alpha1*(alpha2 - beta1 + beta2) + alpha2**2 + 2.0*alpha2*(beta1 + beta2) + beta1**2 - 2.0*beta1*beta2 + beta2**2)**0.5 + 6.0*beta1*beta2**2 + 8.0*beta1*beta2*(alpha1**2 - 2.0*alpha1*(alpha2 - beta1 + beta2) + alpha2**2 + 2.0*alpha2*(beta1 + beta2) + beta1**2 - 2.0*beta1*beta2 + beta2**2)**0.5 - 16.0*beta2**3 + 6.0*beta2**2*(alpha1**2 - 2.0*alpha1*(alpha2 - beta1 + beta2) + alpha2**2 + 2.0*alpha2*(beta1 + beta2) + beta1**2 - 2.0*beta1*beta2 + beta2**2)**0.5) - 10.0*beta1**4 + beta1**3*(40.0*beta2 - 8.0*(alpha1**2 - 2.0*alpha1*(alpha2 - beta1 + beta2) + alpha2**2 + 2.0*alpha2*(beta1 + beta2) + beta1**2 - 2.0*beta1*beta2 + beta2**2)**0.5) - beta1**2*beta2*(60.0*beta2 - 24.0*(alpha1**2 - 2.0*alpha1*(alpha2 - beta1 + beta2) + alpha2**2 + 2.0*alpha2*(beta1 + beta2) + beta1**2 - 2.0*beta1*beta2 + beta2**2)**0.5) + beta1*beta2**2*(40.0*beta2 - 24.0*(alpha1**2 - 2.0*alpha1*(alpha2 - beta1 + beta2) + alpha2**2 + 2.0*alpha2*(beta1 + beta2) + beta1**2 - 2.0*beta1*beta2 + beta2**2)**0.5) - 10.0*beta2**4 + 8.0*beta2**3*(alpha1**2 - 2.0*alpha1*(alpha2 - beta1 + beta2) + alpha2**2 + 2.0*alpha2*(beta1 + beta2) + beta1**2 - 2.0*beta1*beta2 + beta2**2)**0.5) + 2.0*alpha2**5 + alpha2**4*(10.0*beta1 + 4.0*beta2 + 2.0*(alpha1**2 - 2.0*alpha1*(alpha2 - beta1 + beta2) + alpha2**2 + 2.0*alpha2*(beta1 + beta2) + beta1**2 - 2.0*beta1*beta2 + beta2**2)**0.5) + alpha2**3*(20.0*beta1**2 + beta1*(2.0*beta2 + 8.0*(alpha1**2 - 2.0*alpha1*(alpha2 - beta1 + beta2) + alpha2**2 + 2.0*alpha2*(beta1 + beta2) + beta1**2 - 2.0*beta1*beta2 + beta2**2)**0.5) + 2.0*beta2**2 + 2.0*beta2*(alpha1**2 - 2.0*alpha1*(alpha2 - beta1 + beta2) + alpha2**2 + 2.0*alpha2*(beta1 + beta2) + beta1**2 - 2.0*beta1*beta2 + beta2**2)**0.5) - alpha2**2*(-20.0*beta1**3 + beta1**2*(18.0*beta2 - 12.0*(alpha1**2 - 2.0*alpha1*(alpha2 - beta1 + beta2) + alpha2**2 + 2.0*alpha2*(beta1 + beta2) + beta1**2 - 2.0*beta1*beta2 + beta2**2)**0.5) + 4.0*beta1*beta2*(alpha1**2 - 2.0*alpha1*(alpha2 - beta1 + beta2) + alpha2**2 + 2.0*alpha2*(beta1 + beta2) + beta1**2 - 2.0*beta1*beta2 + beta2**2)**0.5 + 2.0*beta2**3) + alpha2*(10.0*beta1**4 - beta1**3*(26.0*beta2 - 8.0*(alpha1**2 - 2.0*alpha1*(alpha2 - beta1 + beta2) + alpha2**2 + 2.0*alpha2*(beta1 + beta2) + beta1**2 - 2.0*beta1*beta2 + beta2**2)**0.5) + beta1**2*beta2*(18.0*beta2 - 14.0*(alpha1**2 - 2.0*alpha1*(alpha2 - beta1 + beta2) + alpha2**2 + 2.0*alpha2*(beta1 + beta2) + beta1**2 - 2.0*beta1*beta2 + beta2**2)**0.5) + beta1*beta2**2*(2.0*beta2 + 4.0*(alpha1**2 - 2.0*alpha1*(alpha2 - beta1 + beta2) + alpha2**2 + 2.0*alpha2*(beta1 + beta2) + beta1**2 - 2.0*beta1*beta2 + beta2**2)**0.5) - 4.0*beta2**4 + 2.0*beta2**3*(alpha1**2 - 2.0*alpha1*(alpha2 - beta1 + beta2) + alpha2**2 + 2.0*alpha2*(beta1 + beta2) + beta1**2 - 2.0*beta1*beta2 + beta2**2)**0.5) + 2.0*beta1**5 - beta1**4*(10.0*beta2 - 2.0*(alpha1**2 - 2.0*alpha1*(alpha2 - beta1 + beta2) + alpha2**2 + 2.0*alpha2*(beta1 + beta2) + beta1**2 - 2.0*beta1*beta2 + beta2**2)**0.5) + beta1**3*beta2*(20.0*beta2 - 8.0*(alpha1**2 - 2.0*alpha1*(alpha2 - beta1 + beta2) + alpha2**2 + 2.0*alpha2*(beta1 + beta2) + beta1**2 - 2.0*beta1*beta2 + beta2**2)**0.5) - beta1**2*beta2**2*(20.0*beta2 - 12.0*(alpha1**2 - 2.0*alpha1*(alpha2 - beta1 + beta2) + alpha2**2 + 2.0*alpha2*(beta1 + beta2) + beta1**2 - 2.0*beta1*beta2 + beta2**2)**0.5) + beta1*beta2**3*(10.0*beta2 - 8.0*(alpha1**2 - 2.0*alpha1*(alpha2 - beta1 + beta2) + alpha2**2 + 2.0*alpha2*(beta1 + beta2) + beta1**2 - 2.0*beta1*beta2 + beta2**2)**0.5) - 2.0*beta2**5 + 2.0*beta2**4*(alpha1**2 - 2.0*alpha1*(alpha2 - beta1 + beta2) + alpha2**2 + 2.0*alpha2*(beta1 + beta2) + beta1**2 - 2.0*beta1*beta2 + beta2**2)**0.5)) + (alpha1**2*(alpha1 - 3.0*alpha2 + beta1 + beta2 - sqrt(alpha1**2 - 2.0*alpha1*(alpha2 - beta1 + beta2) + alpha2**2 + 2.0*alpha2*(beta1 + beta2) + beta1**2 - 2.0*beta1*beta2 + beta2**2)) + alpha1*(-4.0*alpha2**2 + alpha2*(alpha1 + alpha2 - 3.0*beta1 + 5.0*beta2 - 5.0*sqrt(alpha1**2 - 2.0*alpha1*(alpha2 - beta1 + beta2) + alpha2**2 + 2.0*alpha2*(beta1 + beta2) + beta1**2 - 2.0*beta1*beta2 + beta2**2)) + 2.0*beta1*(alpha1 + alpha2 + beta1 + beta2 - sqrt(alpha1**2 - 2.0*alpha1*(alpha2 - beta1 + beta2) + alpha2**2 + 2.0*alpha2*(beta1 + beta2) + beta1**2 - 2.0*beta1*beta2 + beta2**2)) - 2.0*beta2*(alpha1 + alpha2 + beta1 + beta2 - sqrt(alpha1**2 - 2.0*alpha1*(alpha2 - beta1 + beta2) + alpha2**2 + 2.0*alpha2*(beta1 + beta2) + beta1**2 - 2.0*beta1*beta2 + beta2**2)) + (alpha1 + alpha2 + beta1 + beta2 - sqrt(alpha1**2 - 2.0*alpha1*(alpha2 - beta1 + beta2) + alpha2**2 + 2.0*alpha2*(beta1 + beta2) + beta1**2 - 2.0*beta1*beta2 + beta2**2))*sqrt(alpha1**2 - 2.0*alpha1*(alpha2 - beta1 + beta2) + alpha2**2 + 2.0*alpha2*(beta1 + beta2) + beta1**2 - 2.0*beta1*beta2 + beta2**2)) + 2.0*alpha2**2*(alpha1 + alpha2 + beta1 + beta2 - sqrt(alpha1**2 - 2.0*alpha1*(alpha2 - beta1 + beta2) + alpha2**2 + 2.0*alpha2*(beta1 + beta2) + beta1**2 - 2.0*beta1*beta2 + beta2**2)) + alpha2*(3.0*beta1 - beta2 + 2.0*sqrt(alpha1**2 - 2.0*alpha1*(alpha2 - beta1 + beta2) + alpha2**2 + 2.0*alpha2*(beta1 + beta2) + beta1**2 - 2.0*beta1*beta2 + beta2**2))*(alpha1 + alpha2 + beta1 + beta2 - sqrt(alpha1**2 - 2.0*alpha1*(alpha2 - beta1 + beta2) + alpha2**2 + 2.0*alpha2*(beta1 + beta2) + beta1**2 - 2.0*beta1*beta2 + beta2**2)) + beta1**2*(alpha1 + alpha2 + beta1 + beta2 - sqrt(alpha1**2 - 2.0*alpha1*(alpha2 - beta1 + beta2) + alpha2**2 + 2.0*alpha2*(beta1 + beta2) + beta1**2 - 2.0*beta1*beta2 + beta2**2)) - beta1*(2.0*beta2 - sqrt(alpha1**2 - 2.0*alpha1*(alpha2 - beta1 + beta2) + alpha2**2 + 2.0*alpha2*(beta1 + beta2) + beta1**2 - 2.0*beta1*beta2 + beta2**2))*(alpha1 + alpha2 + beta1 + beta2 - sqrt(alpha1**2 - 2.0*alpha1*(alpha2 - beta1 + beta2) + alpha2**2 + 2.0*alpha2*(beta1 + beta2) + beta1**2 - 2.0*beta1*beta2 + beta2**2)) + beta2**2*(alpha1 + alpha2 + beta1 + beta2 - sqrt(alpha1**2 - 2.0*alpha1*(alpha2 - beta1 + beta2) + alpha2**2 + 2.0*alpha2*(beta1 + beta2) + beta1**2 - 2.0*beta1*beta2 + beta2**2)) - beta2*(alpha1 + alpha2 + beta1 + beta2 - sqrt(alpha1**2 - 2.0*alpha1*(alpha2 - beta1 + beta2) + alpha2**2 + 2.0*alpha2*(beta1 + beta2) + beta1**2 - 2.0*beta1*beta2 + beta2**2))*sqrt(alpha1**2 - 2.0*alpha1*(alpha2 - beta1 + beta2) + alpha2**2 + 2.0*alpha2*(beta1 + beta2) + beta1**2 - 2.0*beta1*beta2 + beta2**2))*exp(-t*(alpha1 + alpha2 + beta1 + beta2 - sqrt(alpha1**2 - 2*alpha1*alpha2 + 2*alpha1*beta1 - 2*alpha1*beta2 + alpha2**2 + 2*alpha2*beta1 + 2*alpha2*beta2 + beta1**2 - 2*beta1*beta2 + beta2**2))/2)/((alpha1 + alpha2 + beta1 + beta2 - sqrt(alpha1**2 - 2.0*alpha1*(alpha2 - beta1 + beta2) + alpha2**2 + 2.0*alpha2*(beta1 + beta2) + beta1**2 - 2.0*beta1*beta2 + beta2**2))*(2.0*alpha1**2 - alpha1*(4.0*alpha2 - 4.0*beta1 + 4.0*beta2 - 2.0*(alpha1**2 - 2.0*alpha1*(alpha2 - beta1 + beta2) + alpha2**2 + 2.0*alpha2*(beta1 + beta2) + beta1**2 - 2.0*beta1*beta2 + beta2**2)**0.5) + 2.0*alpha2**2 + alpha2*(4.0*beta1 + 4.0*beta2 + 2.0*(alpha1**2 - 2.0*alpha1*(alpha2 - beta1 + beta2) + alpha2**2 + 2.0*alpha2*(beta1 + beta2) + beta1**2 - 2.0*beta1*beta2 + beta2**2)**0.5) + 2.0*beta1**2 - beta1*(4.0*beta2 - 2.0*(alpha1**2 - 2.0*alpha1*(alpha2 - beta1 + beta2) + alpha2**2 + 2.0*alpha2*(beta1 + beta2) + beta1**2 - 2.0*beta1*beta2 + beta2**2)**0.5) + 2.0*beta2**2 - 2.0*beta2*(alpha1**2 - 2.0*alpha1*(alpha2 - beta1 + beta2) + alpha2**2 + 2.0*alpha2*(beta1 + beta2) + beta1**2 - 2.0*beta1*beta2 + beta2**2)**0.5)))"
      ]
     },
     "metadata": {},
     "output_type": "display_data"
    }
   ],
   "source": [
    "# Символьные начальные условия\n",
    "P2_0, P3_0 = sym.symbols('P2_0 P3_0')  # начальные значения\n",
    "\n",
    "# Словарь начальных условий\n",
    "ics = {\n",
    "    P2.subs(t, 0): 1/2, #P2_I_0,\n",
    "    P3.subs(t, 0): 1/2 #P3_I_0,\n",
    "}\n",
    "#\n",
    "## Решение системы ОДУ с начальными условиями\n",
    "solution = sym.dsolve(system, ics=ics)\n",
    "#\n",
    "# Красивый вывод решений\n",
    "for sol in solution:\n",
    "    #simplified = sym.simplify(sol)\n",
    "    display(sol)"
   ]
  },
  {
   "cell_type": "code",
   "execution_count": null,
   "metadata": {},
   "outputs": [],
   "source": []
  },
  {
   "cell_type": "markdown",
   "metadata": {},
   "source": [
    "## Три состояния ворот с кратными интенсивностями прехода\n",
    "${S}^1 \\underset{\\beta}{\\stackrel{2 \\alpha}{\\rightleftarrows}} {S}^2 \\underset{2 \\beta}{\\stackrel{\\alpha}{\\rightleftarrows}} {S}^3$\n",
    "\n",
    "Система уравнений Колмогорова\n",
    "\\begin{equation}\n",
    "\t\\begin{aligned}\n",
    "\t& \\dot{P}^1=-2\\alpha {P}^1 + \\beta {P}^2\\\\\n",
    "\t& \\dot{P}^2=-(\\alpha+\\beta) {P}^2 +2 \\alpha {P}^1 +2\\beta \\mathrm{P}^3\\\\\n",
    "\t& \\dot{P}^3=\\alpha \\mathrm{P}^2 - 2\\beta \\mathrm{P}^3\\\\\n",
    "\t\\end{aligned}\n",
    "\\end{equation}\n",
    "\n",
    "Нормировочное условие\n",
    "\\begin{equation} \n",
    "\t{P}^1 + {P}^2 + {P}^3 = 1\n",
    "\\end{equation}\n",
    "Для приложений ${P}^1$ -- закрытое состояние, ${P}^3=P_{Open}$ -- отркытое состояние"
   ]
  },
  {
   "cell_type": "code",
   "execution_count": 10,
   "metadata": {},
   "outputs": [
    {
     "name": "stdout",
     "output_type": "stream",
     "text": [
      "Матрица A:\n"
     ]
    },
    {
     "data": {
      "text/latex": [
       "$\\displaystyle \\left[\\begin{matrix}- 3 \\alpha - \\beta & - 2 \\alpha + 2 \\beta\\\\\\alpha & - 2 \\beta\\end{matrix}\\right]$"
      ],
      "text/plain": [
       "Matrix([\n",
       "[-3*alpha - beta, -2*alpha + 2*beta],\n",
       "[          alpha,           -2*beta]])"
      ]
     },
     "metadata": {},
     "output_type": "display_data"
    },
    {
     "name": "stdout",
     "output_type": "stream",
     "text": [
      "\n",
      "Свободный столбец b:\n"
     ]
    },
    {
     "data": {
      "text/latex": [
       "$\\displaystyle \\left[\\begin{matrix}- 2 \\alpha\\\\0\\end{matrix}\\right]$"
      ],
      "text/plain": [
       "Matrix([\n",
       "[-2*alpha],\n",
       "[       0]])"
      ]
     },
     "metadata": {},
     "output_type": "display_data"
    }
   ],
   "source": [
    "# Переменная\n",
    "t = sym.Symbol('t')\n",
    "\n",
    "# Переменные — функции от времени\n",
    "P2 = sym.Function('P2')(t)\n",
    "P3 = sym.Function('P3')(t)\n",
    "\n",
    "# Параметры\n",
    "alpha, beta = sym.symbols('alpha beta',  positive=True)\n",
    "\n",
    "# Выражаем P1 из алгебраических условий\n",
    "P1 = 1 - P2 - P3\n",
    "\n",
    "# Система дифференциальных уравнений:\n",
    "dP2 = sym.Eq(P2.diff(t), -(alpha + beta)*P2 + 2*alpha*P1 + 2*beta*P3)\n",
    "dP3 = sym.Eq(P3.diff(t), alpha*P2 - 2*beta*P3)\n",
    "\n",
    "\n",
    "# Вывод всей системы\n",
    "system = [dP2, dP3]\n",
    "\n",
    "# Переменные системы — СПИСОК\n",
    "vars_ = [P2, P3]\n",
    "\n",
    "# Правая часть уравнений\n",
    "rhs = [eq.rhs for eq in system]\n",
    "\n",
    "# Получение матрицы и свободного столбца\n",
    "A, b = sym.linear_eq_to_matrix(rhs, vars_)\n",
    "\n",
    "# Печать\n",
    "print(\"Матрица A:\")\n",
    "display(A)\n",
    "\n",
    "print(\"\\nСвободный столбец b:\")\n",
    "display(b)"
   ]
  },
  {
   "cell_type": "code",
   "execution_count": 11,
   "metadata": {},
   "outputs": [
    {
     "data": {
      "text/plain": [
       "[Eq(Derivative(P2(t), t), 2*alpha*(-P2(t) - P3(t) + 1) + 2*beta*P3(t) + (-alpha - beta)*P2(t)),\n",
       " Eq(Derivative(P3(t), t), alpha*P2(t) - 2*beta*P3(t))]"
      ]
     },
     "execution_count": 11,
     "metadata": {},
     "output_type": "execute_result"
    }
   ],
   "source": [
    "system"
   ]
  },
  {
   "cell_type": "markdown",
   "metadata": {},
   "source": [
    "#### Собственные числа"
   ]
  },
  {
   "cell_type": "code",
   "execution_count": 12,
   "metadata": {},
   "outputs": [
    {
     "data": {
      "text/latex": [
       "$\\displaystyle 2 \\alpha^{2} + 4 \\alpha \\beta + 2 \\beta^{2} + lam^{2} + 3 lam \\left(\\alpha + \\beta\\right)$"
      ],
      "text/plain": [
       "2*alpha**2 + 4*alpha*beta + 2*beta**2 + lam**2 + 3*lam*(alpha + beta)"
      ]
     },
     "metadata": {},
     "output_type": "display_data"
    }
   ],
   "source": [
    "lam = sym.Symbol('lam')\n",
    "D=sym.Matrix([[-lam, 0],[0, -lam]])+A\n",
    "det=sym.collect(D.det(), lam)\n",
    "display(det.together()) # детерминант"
   ]
  },
  {
   "cell_type": "code",
   "execution_count": 13,
   "metadata": {},
   "outputs": [
    {
     "data": {
      "text/latex": [
       "$\\displaystyle lam = - \\alpha - \\beta$"
      ],
      "text/plain": [
       "Eq(lam, -alpha - beta)"
      ]
     },
     "metadata": {},
     "output_type": "display_data"
    },
    {
     "data": {
      "text/latex": [
       "$\\displaystyle lam = - 2 \\alpha - 2 \\beta$"
      ],
      "text/plain": [
       "Eq(lam, -2*alpha - 2*beta)"
      ]
     },
     "metadata": {},
     "output_type": "display_data"
    }
   ],
   "source": [
    "lam1, lam2=sym.roots(det, lam)\n",
    "# решения характеристического уравнения\n",
    "for s in [lam1, lam2]:\n",
    "    display(sym.Eq(lam, s))"
   ]
  },
  {
   "cell_type": "markdown",
   "metadata": {},
   "source": [
    "#### Стациораные решения"
   ]
  },
  {
   "cell_type": "code",
   "execution_count": 14,
   "metadata": {},
   "outputs": [
    {
     "data": {
      "text/latex": [
       "$\\displaystyle P_{2 eq} = - \\frac{2 \\alpha \\beta}{\\alpha^{2} + 2 \\alpha \\beta + \\beta^{2}}$"
      ],
      "text/plain": [
       "Eq(P2_eq, -2*alpha*beta/(alpha**2 + 2*alpha*beta + beta**2))"
      ]
     },
     "metadata": {},
     "output_type": "display_data"
    },
    {
     "data": {
      "text/latex": [
       "$\\displaystyle P_{3 eq} = - \\frac{\\alpha^{2}}{\\alpha^{2} + 2 \\alpha \\beta + \\beta^{2}}$"
      ],
      "text/plain": [
       "Eq(P3_eq, -alpha**2/(alpha**2 + 2*alpha*beta + beta**2))"
      ]
     },
     "metadata": {},
     "output_type": "display_data"
    }
   ],
   "source": [
    "P2_eq, P3_eq = sym.symbols('P2_eq P3_eq')\n",
    "P_eq = sym.Matrix([P2_eq, P3_eq])\n",
    "# Матрица A * P_eq + b\n",
    "expr = A * P_eq + b\n",
    "\n",
    "# Составляем уравнения: A * P + b = 0 → уравнения поэлементно\n",
    "steady_eqs = [sym.Eq(expr[i], 0) for i in range(expr.shape[0])]\n",
    "\n",
    "# Решаем\n",
    "sol = sym.solve(steady_eqs, [P2_eq, P3_eq], dict=True)\n",
    "\n",
    "for s in sol:\n",
    "    for var, expr in s.items():\n",
    "        display(sym.Eq(var, expr))"
   ]
  },
  {
   "cell_type": "markdown",
   "metadata": {},
   "source": [
    "#### Решения"
   ]
  },
  {
   "cell_type": "code",
   "execution_count": 15,
   "metadata": {},
   "outputs": [
    {
     "data": {
      "text/latex": [
       "$\\displaystyle P_{2}{\\left(t \\right)} = \\frac{2 \\alpha \\beta}{\\left(\\alpha + \\beta\\right)^{2}} + \\left(\\frac{2 P_{2 0} \\alpha}{\\alpha + \\beta} + \\frac{2 P_{3 0} \\left(\\alpha - \\beta\\right)}{\\alpha + \\beta} - \\frac{2 \\alpha^{2}}{\\left(\\alpha + \\beta\\right)^{2}}\\right) e^{- t \\left(2 \\alpha + 2 \\beta\\right)} - \\left(\\frac{P_{2 0} \\left(\\alpha - \\beta\\right)}{\\alpha + \\beta} + \\frac{2 P_{3 0} \\left(\\alpha - \\beta\\right)}{\\alpha + \\beta} - \\frac{2 \\alpha \\left(\\alpha - \\beta\\right)}{\\left(\\alpha + \\beta\\right)^{2}}\\right) e^{- t \\left(\\alpha + \\beta\\right)}$"
      ],
      "text/plain": [
       "Eq(P2(t), 2*alpha*beta/(alpha + beta)**2 + (2*P2_0*alpha/(alpha + beta) + 2*P3_0*(alpha - beta)/(alpha + beta) - 2*alpha**2/(alpha + beta)**2)*exp(-t*(2*alpha + 2*beta)) - (P2_0*(alpha - beta)/(alpha + beta) + 2*P3_0*(alpha - beta)/(alpha + beta) - 2*alpha*(alpha - beta)/(alpha + beta)**2)*exp(-t*(alpha + beta)))"
      ]
     },
     "metadata": {},
     "output_type": "display_data"
    },
    {
     "data": {
      "text/latex": [
       "$\\displaystyle P_{3}{\\left(t \\right)} = \\frac{\\alpha^{2}}{\\left(\\alpha + \\beta\\right)^{2}} + \\left(\\frac{P_{2 0} \\alpha}{\\alpha + \\beta} + \\frac{2 P_{3 0} \\alpha}{\\alpha + \\beta} - \\frac{2 \\alpha^{2}}{\\left(\\alpha + \\beta\\right)^{2}}\\right) e^{- t \\left(\\alpha + \\beta\\right)} - \\left(\\frac{P_{2 0} \\alpha}{\\alpha + \\beta} + \\frac{P_{3 0} \\left(\\alpha - \\beta\\right)}{\\alpha + \\beta} - \\frac{\\alpha^{2}}{\\left(\\alpha + \\beta\\right)^{2}}\\right) e^{- t \\left(2 \\alpha + 2 \\beta\\right)}$"
      ],
      "text/plain": [
       "Eq(P3(t), alpha**2/(alpha + beta)**2 + (P2_0*alpha/(alpha + beta) + 2*P3_0*alpha/(alpha + beta) - 2*alpha**2/(alpha + beta)**2)*exp(-t*(alpha + beta)) - (P2_0*alpha/(alpha + beta) + P3_0*(alpha - beta)/(alpha + beta) - alpha**2/(alpha + beta)**2)*exp(-t*(2*alpha + 2*beta)))"
      ]
     },
     "metadata": {},
     "output_type": "display_data"
    }
   ],
   "source": [
    "# Символьные начальные условия\n",
    "P2_0, P3_0 = sym.symbols('P2_0 P3_0')  # начальные значения\n",
    "\n",
    "# Словарь начальных условий\n",
    "ics = {\n",
    "    P2.subs(t, 0): P2_0,\n",
    "    P3.subs(t, 0): P3_0,\n",
    "}\n",
    "#\n",
    "## Решение системы ОДУ с начальными условиями\n",
    "solution = sym.dsolve(system, ics=ics)\n",
    "#\n",
    "# Красивый вывод решений\n",
    "for sol in solution:\n",
    "    #simplified = sym.simplify(sol)\n",
    "    display(sol)"
   ]
  },
  {
   "cell_type": "markdown",
   "metadata": {},
   "source": [
    "## Четыре состояния ворот с независимыми интенсивностями прехода\n",
    "${S}^1 \\underset{\\beta}{\\stackrel{3\\alpha}{\\rightleftarrows}} {S}^2 \\underset{2\\beta}{\\stackrel{2\\alpha}{\\rightleftarrows}} {S}^3 \\underset{3\\beta}{\\stackrel{\\alpha}{\\rightleftarrows}} {S}^4$\n",
    "\n",
    "Система уравнений Колмогорова\n",
    "\\begin{equation}\n",
    "\t\\begin{aligned}\n",
    "\t& \\dot{P}^1=-3\\alpha {P}^1 +  \\beta {P}^2\\\\\n",
    "\t& \\dot{P}^2=-(2\\alpha+\\beta) {P}^2 + 3 \\alpha {P}^1 +2 \\beta {P}^3\\\\\n",
    "\t& \\dot{P}^3=-(\\alpha+2\\beta) {P}^3 + 2\\alpha {P}^2 +3 \\beta {P}^4\\\\\n",
    "\t& \\dot{P}^4=\\alpha \\mathrm{P}^3 - 3 \\beta \\mathrm{P}^4\\\\\n",
    "\t\\end{aligned}\n",
    "\\end{equation}\n",
    "\n",
    "Нормировочное условие\n",
    "\\begin{equation} \n",
    "\t{P}^1 + {P}^2 + {P}^3+ {P}^4= 1\n",
    "\\end{equation}\n",
    "Для приложений ${P}^1$ -- закрытое состояние, ${P}^4=P_{Open}$ -- отркытое состояние"
   ]
  },
  {
   "cell_type": "code",
   "execution_count": 16,
   "metadata": {},
   "outputs": [
    {
     "name": "stdout",
     "output_type": "stream",
     "text": [
      "Матрица A:\n"
     ]
    },
    {
     "data": {
      "text/latex": [
       "$\\displaystyle \\left[\\begin{matrix}- 5 \\alpha - \\beta & - 3 \\alpha + 2 \\beta & - 3 \\alpha\\\\2 \\alpha & - \\alpha - 2 \\beta & 3 \\beta\\\\0 & \\alpha & - 3 \\beta\\end{matrix}\\right]$"
      ],
      "text/plain": [
       "Matrix([\n",
       "[-5*alpha - beta, -3*alpha + 2*beta, -3*alpha],\n",
       "[        2*alpha,   -alpha - 2*beta,   3*beta],\n",
       "[              0,             alpha,  -3*beta]])"
      ]
     },
     "metadata": {},
     "output_type": "display_data"
    },
    {
     "name": "stdout",
     "output_type": "stream",
     "text": [
      "\n",
      "Свободный столбец b:\n"
     ]
    },
    {
     "data": {
      "text/latex": [
       "$\\displaystyle \\left[\\begin{matrix}- 3 \\alpha\\\\0\\\\0\\end{matrix}\\right]$"
      ],
      "text/plain": [
       "Matrix([\n",
       "[-3*alpha],\n",
       "[       0],\n",
       "[       0]])"
      ]
     },
     "metadata": {},
     "output_type": "display_data"
    }
   ],
   "source": [
    "# Переменная времени\n",
    "t = sym.Symbol('t')\n",
    "\n",
    "# Вероятности состояний как функции времени\n",
    "P2 = sym.Function('P2')(t)\n",
    "P3 = sym.Function('P3')(t)\n",
    "P4 = sym.Function('P4')(t)\n",
    "\n",
    "# Параметры\n",
    "alpha, beta = sym.symbols('alpha beta', positive=True)\n",
    "\n",
    "# Нормировка: выражаем P1\n",
    "P1 = 1 - P2 - P3 - P4\n",
    "\n",
    "# Уравнения Колмогорова\n",
    "dP2 = sym.Eq(P2.diff(t), -(2*alpha + beta)*P2 + 3*alpha*P1 + 2*beta*P3)\n",
    "dP3 = sym.Eq(P3.diff(t), -(alpha + 2*beta)*P3 + 2*alpha*P2 + 3*beta*P4)\n",
    "dP4 = sym.Eq(P4.diff(t), alpha*P3 - 3*beta*P4)\n",
    "\n",
    "# Вывод всей системы\n",
    "system = [dP2, dP3, dP4]\n",
    "\n",
    "# Переменные системы — СПИСОК\n",
    "vars_ = [P2, P3, P4]\n",
    "\n",
    "# Правая часть уравнений\n",
    "rhs = [eq.rhs for eq in system]\n",
    "\n",
    "# Получение матрицы и свободного столбца\n",
    "A, b = sym.linear_eq_to_matrix(rhs, vars_)\n",
    "\n",
    "# Печать\n",
    "print(\"Матрица A:\")\n",
    "display(A)\n",
    "\n",
    "print(\"\\nСвободный столбец b:\")\n",
    "display(b)"
   ]
  },
  {
   "cell_type": "code",
   "execution_count": 17,
   "metadata": {},
   "outputs": [
    {
     "data": {
      "text/plain": [
       "[Eq(Derivative(P2(t), t), 3*alpha*(-P2(t) - P3(t) - P4(t) + 1) + 2*beta*P3(t) + (-2*alpha - beta)*P2(t)),\n",
       " Eq(Derivative(P3(t), t), 2*alpha*P2(t) + 3*beta*P4(t) + (-alpha - 2*beta)*P3(t)),\n",
       " Eq(Derivative(P4(t), t), alpha*P3(t) - 3*beta*P4(t))]"
      ]
     },
     "execution_count": 17,
     "metadata": {},
     "output_type": "execute_result"
    }
   ],
   "source": [
    "system"
   ]
  },
  {
   "cell_type": "markdown",
   "metadata": {},
   "source": [
    "#### Собственные числа"
   ]
  },
  {
   "cell_type": "code",
   "execution_count": 18,
   "metadata": {},
   "outputs": [
    {
     "data": {
      "text/latex": [
       "$\\displaystyle - 6 \\alpha^{3} - 18 \\alpha^{2} \\beta - 18 \\alpha \\beta^{2} - 6 \\beta^{3} - lam^{3} + 6 lam^{2} \\left(- \\alpha - \\beta\\right) + 11 lam \\left(- \\alpha^{2} - 2 \\alpha \\beta - \\beta^{2}\\right)$"
      ],
      "text/plain": [
       "-6*alpha**3 - 18*alpha**2*beta - 18*alpha*beta**2 - 6*beta**3 - lam**3 + 6*lam**2*(-alpha - beta) + 11*lam*(-alpha**2 - 2*alpha*beta - beta**2)"
      ]
     },
     "metadata": {},
     "output_type": "display_data"
    }
   ],
   "source": [
    "lam = sym.Symbol('lam')\n",
    "D=sym.Matrix([[-lam, 0, 0],[0, -lam, 0], [0, 0, -lam]])+A\n",
    "det=sym.collect(D.det(), lam)\n",
    "display(det.together()) # детерминант"
   ]
  },
  {
   "cell_type": "code",
   "execution_count": 19,
   "metadata": {},
   "outputs": [
    {
     "data": {
      "text/latex": [
       "$\\displaystyle lam = - \\alpha - \\beta$"
      ],
      "text/plain": [
       "Eq(lam, -alpha - beta)"
      ]
     },
     "metadata": {},
     "output_type": "display_data"
    },
    {
     "data": {
      "text/latex": [
       "$\\displaystyle lam = - 2 \\alpha - 2 \\beta$"
      ],
      "text/plain": [
       "Eq(lam, -2*alpha - 2*beta)"
      ]
     },
     "metadata": {},
     "output_type": "display_data"
    },
    {
     "data": {
      "text/latex": [
       "$\\displaystyle lam = - 3 \\alpha - 3 \\beta$"
      ],
      "text/plain": [
       "Eq(lam, -3*alpha - 3*beta)"
      ]
     },
     "metadata": {},
     "output_type": "display_data"
    }
   ],
   "source": [
    "lam1, lam2, lam0=sym.roots(det, lam)\n",
    "# решения характеристического уравнения\n",
    "for s in [lam1, lam2, lam0]:\n",
    "    display(sym.Eq(lam, s))"
   ]
  },
  {
   "cell_type": "markdown",
   "metadata": {},
   "source": [
    "#### Стациораные решения"
   ]
  },
  {
   "cell_type": "code",
   "execution_count": 20,
   "metadata": {},
   "outputs": [
    {
     "data": {
      "text/latex": [
       "$\\displaystyle P_{2 eq} = - \\frac{3 \\alpha \\beta^{2}}{\\alpha^{3} + 3 \\alpha^{2} \\beta + 3 \\alpha \\beta^{2} + \\beta^{3}}$"
      ],
      "text/plain": [
       "Eq(P2_eq, -3*alpha*beta**2/(alpha**3 + 3*alpha**2*beta + 3*alpha*beta**2 + beta**3))"
      ]
     },
     "metadata": {},
     "output_type": "display_data"
    },
    {
     "data": {
      "text/latex": [
       "$\\displaystyle P_{3 eq} = - \\frac{3 \\alpha^{2} \\beta}{\\alpha^{3} + 3 \\alpha^{2} \\beta + 3 \\alpha \\beta^{2} + \\beta^{3}}$"
      ],
      "text/plain": [
       "Eq(P3_eq, -3*alpha**2*beta/(alpha**3 + 3*alpha**2*beta + 3*alpha*beta**2 + beta**3))"
      ]
     },
     "metadata": {},
     "output_type": "display_data"
    },
    {
     "data": {
      "text/latex": [
       "$\\displaystyle P_{4 eq} = - \\frac{\\alpha^{3}}{\\alpha^{3} + 3 \\alpha^{2} \\beta + 3 \\alpha \\beta^{2} + \\beta^{3}}$"
      ],
      "text/plain": [
       "Eq(P4_eq, -alpha**3/(alpha**3 + 3*alpha**2*beta + 3*alpha*beta**2 + beta**3))"
      ]
     },
     "metadata": {},
     "output_type": "display_data"
    }
   ],
   "source": [
    "P2_eq, P3_eq, P4_eq = sym.symbols('P2_eq P3_eq P4_eq')\n",
    "P_eq = sym.Matrix([P2_eq, P3_eq, P4_eq])\n",
    "# Матрица A * P_eq + b\n",
    "expr = A * P_eq + b\n",
    "\n",
    "# Составляем уравнения: A * P + b = 0 → уравнения поэлементно\n",
    "steady_eqs = [sym.Eq(expr[i], 0) for i in range(expr.shape[0])]\n",
    "\n",
    "# Решаем\n",
    "sol = sym.solve(steady_eqs, [P2_eq, P3_eq, P4_eq], dict=True)\n",
    "\n",
    "for s in sol:\n",
    "    for var, expr in s.items():\n",
    "        display(sym.Eq(var, expr))"
   ]
  },
  {
   "cell_type": "code",
   "execution_count": 21,
   "metadata": {},
   "outputs": [
    {
     "data": {
      "text/plain": [
       "[{P2_eq: -3*alpha*beta**2/(alpha**3 + 3*alpha**2*beta + 3*alpha*beta**2 + beta**3),\n",
       "  P3_eq: -3*alpha**2*beta/(alpha**3 + 3*alpha**2*beta + 3*alpha*beta**2 + beta**3),\n",
       "  P4_eq: -alpha**3/(alpha**3 + 3*alpha**2*beta + 3*alpha*beta**2 + beta**3)}]"
      ]
     },
     "execution_count": 21,
     "metadata": {},
     "output_type": "execute_result"
    }
   ],
   "source": [
    "sol"
   ]
  },
  {
   "cell_type": "markdown",
   "metadata": {},
   "source": [
    "#### Решения"
   ]
  },
  {
   "cell_type": "code",
   "execution_count": 27,
   "metadata": {},
   "outputs": [
    {
     "data": {
      "text/latex": [
       "$\\displaystyle P_{2}{\\left(t \\right)} = \\frac{3 \\alpha \\beta^{2}}{\\left(\\alpha + \\beta\\right) \\left(\\alpha^{2} + 2 \\alpha \\beta + \\beta^{2}\\right)} + \\left(\\frac{3 P_{2 0} \\alpha^{2} \\left(\\alpha + \\beta\\right)}{\\alpha^{3} + 3 \\alpha^{2} \\beta + 3 \\alpha \\beta^{2} + \\beta^{3}} + \\frac{3 P_{3 0} \\alpha \\left(\\alpha - \\beta\\right) \\left(\\alpha + \\beta\\right)}{\\alpha^{3} + 3 \\alpha^{2} \\beta + 3 \\alpha \\beta^{2} + \\beta^{3}} + \\frac{3 P_{4 0} \\left(\\alpha + \\beta\\right) \\left(\\alpha^{2} - \\alpha \\beta + \\beta^{2}\\right)}{\\alpha^{3} + 3 \\alpha^{2} \\beta + 3 \\alpha \\beta^{2} + \\beta^{3}} - \\frac{3 \\alpha^{3}}{\\alpha^{3} + 3 \\alpha^{2} \\beta + 3 \\alpha \\beta^{2} + \\beta^{3}}\\right) e^{- t \\left(3 \\alpha + 3 \\beta\\right)} - \\left(\\frac{2 P_{2 0} \\alpha \\left(\\alpha - 2 \\beta\\right) \\left(\\alpha + \\beta\\right)}{\\alpha^{3} + 3 \\alpha^{2} \\beta + 3 \\alpha \\beta^{2} + \\beta^{3}} + \\frac{P_{3 0} \\left(\\alpha - 2 \\beta\\right) \\left(\\alpha + \\beta\\right) \\left(3 \\alpha - \\beta\\right)}{\\alpha^{3} + 3 \\alpha^{2} \\beta + 3 \\alpha \\beta^{2} + \\beta^{3}} + \\frac{3 P_{4 0} \\left(\\alpha - 2 \\beta\\right) \\left(\\alpha - \\beta\\right) \\left(\\alpha + \\beta\\right)}{\\alpha^{3} + 3 \\alpha^{2} \\beta + 3 \\alpha \\beta^{2} + \\beta^{3}} - \\frac{3 \\alpha^{2} \\left(\\alpha - 2 \\beta\\right)}{\\alpha^{3} + 3 \\alpha^{2} \\beta + 3 \\alpha \\beta^{2} + \\beta^{3}}\\right) e^{- t \\left(2 \\alpha + 2 \\beta\\right)} - \\left(\\frac{P_{2 0} \\beta \\left(\\alpha + \\beta\\right) \\left(2 \\alpha - \\beta\\right)}{\\alpha^{3} + 3 \\alpha^{2} \\beta + 3 \\alpha \\beta^{2} + \\beta^{3}} + \\frac{2 P_{3 0} \\beta \\left(\\alpha + \\beta\\right) \\left(2 \\alpha - \\beta\\right)}{\\alpha^{3} + 3 \\alpha^{2} \\beta + 3 \\alpha \\beta^{2} + \\beta^{3}} + \\frac{3 P_{4 0} \\beta \\left(\\alpha + \\beta\\right) \\left(2 \\alpha - \\beta\\right)}{\\alpha^{3} + 3 \\alpha^{2} \\beta + 3 \\alpha \\beta^{2} + \\beta^{3}} - \\frac{3 \\alpha \\beta \\left(2 \\alpha - \\beta\\right)}{\\alpha^{3} + 3 \\alpha^{2} \\beta + 3 \\alpha \\beta^{2} + \\beta^{3}}\\right) e^{- t \\left(\\alpha + \\beta\\right)}$"
      ],
      "text/plain": [
       "Eq(P2(t), 3*alpha*beta**2/((alpha + beta)*(alpha**2 + 2*alpha*beta + beta**2)) + (3*P2_0*alpha**2*(alpha + beta)/(alpha**3 + 3*alpha**2*beta + 3*alpha*beta**2 + beta**3) + 3*P3_0*alpha*(alpha - beta)*(alpha + beta)/(alpha**3 + 3*alpha**2*beta + 3*alpha*beta**2 + beta**3) + 3*P4_0*(alpha + beta)*(alpha**2 - alpha*beta + beta**2)/(alpha**3 + 3*alpha**2*beta + 3*alpha*beta**2 + beta**3) - 3*alpha**3/(alpha**3 + 3*alpha**2*beta + 3*alpha*beta**2 + beta**3))*exp(-t*(3*alpha + 3*beta)) - (2*P2_0*alpha*(alpha - 2*beta)*(alpha + beta)/(alpha**3 + 3*alpha**2*beta + 3*alpha*beta**2 + beta**3) + P3_0*(alpha - 2*beta)*(alpha + beta)*(3*alpha - beta)/(alpha**3 + 3*alpha**2*beta + 3*alpha*beta**2 + beta**3) + 3*P4_0*(alpha - 2*beta)*(alpha - beta)*(alpha + beta)/(alpha**3 + 3*alpha**2*beta + 3*alpha*beta**2 + beta**3) - 3*alpha**2*(alpha - 2*beta)/(alpha**3 + 3*alpha**2*beta + 3*alpha*beta**2 + beta**3))*exp(-t*(2*alpha + 2*beta)) - (P2_0*beta*(alpha + beta)*(2*alpha - beta)/(alpha**3 + 3*alpha**2*beta + 3*alpha*beta**2 + beta**3) + 2*P3_0*beta*(alpha + beta)*(2*alpha - beta)/(alpha**3 + 3*alpha**2*beta + 3*alpha*beta**2 + beta**3) + 3*P4_0*beta*(alpha + beta)*(2*alpha - beta)/(alpha**3 + 3*alpha**2*beta + 3*alpha*beta**2 + beta**3) - 3*alpha*beta*(2*alpha - beta)/(alpha**3 + 3*alpha**2*beta + 3*alpha*beta**2 + beta**3))*exp(-t*(alpha + beta)))"
      ]
     },
     "metadata": {},
     "output_type": "display_data"
    },
    {
     "data": {
      "text/latex": [
       "$\\displaystyle P_{3}{\\left(t \\right)} = \\frac{3 \\alpha^{2} \\beta}{\\left(\\alpha + \\beta\\right) \\left(\\alpha^{2} + 2 \\alpha \\beta + \\beta^{2}\\right)} - \\left(\\frac{3 P_{2 0} \\alpha^{2} \\left(\\alpha + \\beta\\right)}{\\alpha^{3} + 3 \\alpha^{2} \\beta + 3 \\alpha \\beta^{2} + \\beta^{3}} + \\frac{3 P_{3 0} \\alpha \\left(\\alpha - \\beta\\right) \\left(\\alpha + \\beta\\right)}{\\alpha^{3} + 3 \\alpha^{2} \\beta + 3 \\alpha \\beta^{2} + \\beta^{3}} + \\frac{3 P_{4 0} \\left(\\alpha + \\beta\\right) \\left(\\alpha^{2} - \\alpha \\beta + \\beta^{2}\\right)}{\\alpha^{3} + 3 \\alpha^{2} \\beta + 3 \\alpha \\beta^{2} + \\beta^{3}} - \\frac{3 \\alpha^{3}}{\\alpha^{3} + 3 \\alpha^{2} \\beta + 3 \\alpha \\beta^{2} + \\beta^{3}}\\right) e^{- t \\left(3 \\alpha + 3 \\beta\\right)} - \\left(\\frac{P_{2 0} \\alpha \\left(\\alpha - 2 \\beta\\right) \\left(\\alpha + \\beta\\right)}{\\alpha^{3} + 3 \\alpha^{2} \\beta + 3 \\alpha \\beta^{2} + \\beta^{3}} + \\frac{2 P_{3 0} \\alpha \\left(\\alpha - 2 \\beta\\right) \\left(\\alpha + \\beta\\right)}{\\alpha^{3} + 3 \\alpha^{2} \\beta + 3 \\alpha \\beta^{2} + \\beta^{3}} + \\frac{3 P_{4 0} \\alpha \\left(\\alpha - 2 \\beta\\right) \\left(\\alpha + \\beta\\right)}{\\alpha^{3} + 3 \\alpha^{2} \\beta + 3 \\alpha \\beta^{2} + \\beta^{3}} - \\frac{3 \\alpha^{2} \\left(\\alpha - 2 \\beta\\right)}{\\alpha^{3} + 3 \\alpha^{2} \\beta + 3 \\alpha \\beta^{2} + \\beta^{3}}\\right) e^{- t \\left(\\alpha + \\beta\\right)} + \\left(\\frac{2 P_{2 0} \\alpha \\left(\\alpha + \\beta\\right) \\left(2 \\alpha - \\beta\\right)}{\\alpha^{3} + 3 \\alpha^{2} \\beta + 3 \\alpha \\beta^{2} + \\beta^{3}} + \\frac{P_{3 0} \\left(\\alpha + \\beta\\right) \\left(2 \\alpha - \\beta\\right) \\left(3 \\alpha - \\beta\\right)}{\\alpha^{3} + 3 \\alpha^{2} \\beta + 3 \\alpha \\beta^{2} + \\beta^{3}} + \\frac{3 P_{4 0} \\left(\\alpha - \\beta\\right) \\left(\\alpha + \\beta\\right) \\left(2 \\alpha - \\beta\\right)}{\\alpha^{3} + 3 \\alpha^{2} \\beta + 3 \\alpha \\beta^{2} + \\beta^{3}} - \\frac{3 \\alpha^{2} \\left(2 \\alpha - \\beta\\right)}{\\alpha^{3} + 3 \\alpha^{2} \\beta + 3 \\alpha \\beta^{2} + \\beta^{3}}\\right) e^{- t \\left(2 \\alpha + 2 \\beta\\right)}$"
      ],
      "text/plain": [
       "Eq(P3(t), 3*alpha**2*beta/((alpha + beta)*(alpha**2 + 2*alpha*beta + beta**2)) - (3*P2_0*alpha**2*(alpha + beta)/(alpha**3 + 3*alpha**2*beta + 3*alpha*beta**2 + beta**3) + 3*P3_0*alpha*(alpha - beta)*(alpha + beta)/(alpha**3 + 3*alpha**2*beta + 3*alpha*beta**2 + beta**3) + 3*P4_0*(alpha + beta)*(alpha**2 - alpha*beta + beta**2)/(alpha**3 + 3*alpha**2*beta + 3*alpha*beta**2 + beta**3) - 3*alpha**3/(alpha**3 + 3*alpha**2*beta + 3*alpha*beta**2 + beta**3))*exp(-t*(3*alpha + 3*beta)) - (P2_0*alpha*(alpha - 2*beta)*(alpha + beta)/(alpha**3 + 3*alpha**2*beta + 3*alpha*beta**2 + beta**3) + 2*P3_0*alpha*(alpha - 2*beta)*(alpha + beta)/(alpha**3 + 3*alpha**2*beta + 3*alpha*beta**2 + beta**3) + 3*P4_0*alpha*(alpha - 2*beta)*(alpha + beta)/(alpha**3 + 3*alpha**2*beta + 3*alpha*beta**2 + beta**3) - 3*alpha**2*(alpha - 2*beta)/(alpha**3 + 3*alpha**2*beta + 3*alpha*beta**2 + beta**3))*exp(-t*(alpha + beta)) + (2*P2_0*alpha*(alpha + beta)*(2*alpha - beta)/(alpha**3 + 3*alpha**2*beta + 3*alpha*beta**2 + beta**3) + P3_0*(alpha + beta)*(2*alpha - beta)*(3*alpha - beta)/(alpha**3 + 3*alpha**2*beta + 3*alpha*beta**2 + beta**3) + 3*P4_0*(alpha - beta)*(alpha + beta)*(2*alpha - beta)/(alpha**3 + 3*alpha**2*beta + 3*alpha*beta**2 + beta**3) - 3*alpha**2*(2*alpha - beta)/(alpha**3 + 3*alpha**2*beta + 3*alpha*beta**2 + beta**3))*exp(-t*(2*alpha + 2*beta)))"
      ]
     },
     "metadata": {},
     "output_type": "display_data"
    },
    {
     "data": {
      "text/latex": [
       "$\\displaystyle P_{4}{\\left(t \\right)} = \\frac{\\alpha^{3}}{\\left(\\alpha + \\beta\\right) \\left(\\alpha^{2} + 2 \\alpha \\beta + \\beta^{2}\\right)} + \\left(\\frac{P_{2 0} \\alpha^{2} \\left(\\alpha + \\beta\\right)}{\\alpha^{3} + 3 \\alpha^{2} \\beta + 3 \\alpha \\beta^{2} + \\beta^{3}} + \\frac{2 P_{3 0} \\alpha^{2} \\left(\\alpha + \\beta\\right)}{\\alpha^{3} + 3 \\alpha^{2} \\beta + 3 \\alpha \\beta^{2} + \\beta^{3}} + \\frac{3 P_{4 0} \\alpha^{2} \\left(\\alpha + \\beta\\right)}{\\alpha^{3} + 3 \\alpha^{2} \\beta + 3 \\alpha \\beta^{2} + \\beta^{3}} - \\frac{3 \\alpha^{3}}{\\alpha^{3} + 3 \\alpha^{2} \\beta + 3 \\alpha \\beta^{2} + \\beta^{3}}\\right) e^{- t \\left(\\alpha + \\beta\\right)} + \\left(\\frac{P_{2 0} \\alpha^{2} \\left(\\alpha + \\beta\\right)}{\\alpha^{3} + 3 \\alpha^{2} \\beta + 3 \\alpha \\beta^{2} + \\beta^{3}} + \\frac{P_{3 0} \\alpha \\left(\\alpha - \\beta\\right) \\left(\\alpha + \\beta\\right)}{\\alpha^{3} + 3 \\alpha^{2} \\beta + 3 \\alpha \\beta^{2} + \\beta^{3}} + \\frac{P_{4 0} \\left(\\alpha + \\beta\\right) \\left(\\alpha^{2} - \\alpha \\beta + \\beta^{2}\\right)}{\\alpha^{3} + 3 \\alpha^{2} \\beta + 3 \\alpha \\beta^{2} + \\beta^{3}} - \\frac{\\alpha^{3}}{\\alpha^{3} + 3 \\alpha^{2} \\beta + 3 \\alpha \\beta^{2} + \\beta^{3}}\\right) e^{- t \\left(3 \\alpha + 3 \\beta\\right)} - \\left(\\frac{2 P_{2 0} \\alpha^{2} \\left(\\alpha + \\beta\\right)}{\\alpha^{3} + 3 \\alpha^{2} \\beta + 3 \\alpha \\beta^{2} + \\beta^{3}} + \\frac{P_{3 0} \\alpha \\left(\\alpha + \\beta\\right) \\left(3 \\alpha - \\beta\\right)}{\\alpha^{3} + 3 \\alpha^{2} \\beta + 3 \\alpha \\beta^{2} + \\beta^{3}} + \\frac{3 P_{4 0} \\alpha \\left(\\alpha - \\beta\\right) \\left(\\alpha + \\beta\\right)}{\\alpha^{3} + 3 \\alpha^{2} \\beta + 3 \\alpha \\beta^{2} + \\beta^{3}} - \\frac{3 \\alpha^{3}}{\\alpha^{3} + 3 \\alpha^{2} \\beta + 3 \\alpha \\beta^{2} + \\beta^{3}}\\right) e^{- t \\left(2 \\alpha + 2 \\beta\\right)}$"
      ],
      "text/plain": [
       "Eq(P4(t), alpha**3/((alpha + beta)*(alpha**2 + 2*alpha*beta + beta**2)) + (P2_0*alpha**2*(alpha + beta)/(alpha**3 + 3*alpha**2*beta + 3*alpha*beta**2 + beta**3) + 2*P3_0*alpha**2*(alpha + beta)/(alpha**3 + 3*alpha**2*beta + 3*alpha*beta**2 + beta**3) + 3*P4_0*alpha**2*(alpha + beta)/(alpha**3 + 3*alpha**2*beta + 3*alpha*beta**2 + beta**3) - 3*alpha**3/(alpha**3 + 3*alpha**2*beta + 3*alpha*beta**2 + beta**3))*exp(-t*(alpha + beta)) + (P2_0*alpha**2*(alpha + beta)/(alpha**3 + 3*alpha**2*beta + 3*alpha*beta**2 + beta**3) + P3_0*alpha*(alpha - beta)*(alpha + beta)/(alpha**3 + 3*alpha**2*beta + 3*alpha*beta**2 + beta**3) + P4_0*(alpha + beta)*(alpha**2 - alpha*beta + beta**2)/(alpha**3 + 3*alpha**2*beta + 3*alpha*beta**2 + beta**3) - alpha**3/(alpha**3 + 3*alpha**2*beta + 3*alpha*beta**2 + beta**3))*exp(-t*(3*alpha + 3*beta)) - (2*P2_0*alpha**2*(alpha + beta)/(alpha**3 + 3*alpha**2*beta + 3*alpha*beta**2 + beta**3) + P3_0*alpha*(alpha + beta)*(3*alpha - beta)/(alpha**3 + 3*alpha**2*beta + 3*alpha*beta**2 + beta**3) + 3*P4_0*alpha*(alpha - beta)*(alpha + beta)/(alpha**3 + 3*alpha**2*beta + 3*alpha*beta**2 + beta**3) - 3*alpha**3/(alpha**3 + 3*alpha**2*beta + 3*alpha*beta**2 + beta**3))*exp(-t*(2*alpha + 2*beta)))"
      ]
     },
     "metadata": {},
     "output_type": "display_data"
    }
   ],
   "source": [
    "# Символьные начальные условия\n",
    "P2_0, P3_0, P4_0 = sym.symbols('P2_0 P3_0 P4_0')  # начальные значения\n",
    "\n",
    "# Словарь начальных условий\n",
    "ics = {\n",
    "    P2.subs(t, 0): P2_0,\n",
    "    P3.subs(t, 0): P3_0,\n",
    "    P4.subs(t, 0): P4_0,\n",
    "}\n",
    "#\n",
    "## Решение системы ОДУ с начальными условиями\n",
    "solution = sym.dsolve(system, ics=ics)\n",
    "#\n",
    "# Красивый вывод решений\n",
    "for sol in solution:\n",
    "    #simplified = sym.simplify(sol)\n",
    "    display(sol)"
   ]
  },
  {
   "cell_type": "code",
   "execution_count": 34,
   "metadata": {},
   "outputs": [],
   "source": [
    "#Функция lambdify() переводит выражения SymPy в функции Python.\n",
    "#f = lambdify([a, b], expr, \"numpy\")"
   ]
  }
 ],
 "metadata": {
  "kernelspec": {
   "display_name": "Python 3 (ipykernel)",
   "language": "python",
   "name": "python3"
  },
  "language_info": {
   "codemirror_mode": {
    "name": "ipython",
    "version": 3
   },
   "file_extension": ".py",
   "mimetype": "text/x-python",
   "name": "python",
   "nbconvert_exporter": "python",
   "pygments_lexer": "ipython3",
   "version": "3.11.6"
  }
 },
 "nbformat": 4,
 "nbformat_minor": 4
}
