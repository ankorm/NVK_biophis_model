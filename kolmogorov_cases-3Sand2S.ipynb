{
 "cells": [
  {
   "cell_type": "code",
   "execution_count": 1,
   "metadata": {},
   "outputs": [],
   "source": [
    "import sympy as sym\n",
    "from sympy import latex\n",
    "from IPython.display import display"
   ]
  },
  {
   "cell_type": "markdown",
   "metadata": {},
   "source": [
    "Рассматривается два процесса: с теремя (I) и с двумя (II) сосотояниями. Причем процесс I допустим только для одного из состояний процесса II."
   ]
  },
  {
   "cell_type": "markdown",
   "metadata": {},
   "source": [
    "##  C независимыми интенсивностями прехода (общий случай)\n",
    "### Три состояния ворот (активационная частица)\n",
    "\n",
    "${S}^1_I \\underset{\\beta^1_I}{\\stackrel{\\alpha^1_I}{\\rightleftarrows}} {S}^2_I \\underset{\\beta^2_I}{\\stackrel{\\alpha^2_I}{\\rightleftarrows}} {S}^3_I$\n",
    "\n",
    "Система уравнений Колмогорова\n",
    "\\begin{equation} \n",
    "\t\\begin{aligned}\n",
    "\t& \\dot{P}^1_I=-\\alpha^1_I {P}^1_I + \\beta^1_I {P}^2_I\\\\\n",
    "\t& \\dot{P}^2_I=-(\\alpha^2_I+\\beta^1_I) {P}^2_I + \\alpha^1_I {P}^1_I +\\beta^2_I \\mathrm{P}^3_I\\\\\n",
    "\t& \\dot{P}^3_I=\\alpha^2_I \\mathrm{P}^2_I - \\beta^2_I \\mathrm{P}^3_I\\\\\n",
    "\t\\end{aligned}\n",
    "\\end{equation}\n",
    "\n",
    "\\begin{equation} \n",
    "    {P}^1_I+{P}^2_I+{P}^3_I = P^2_{II}\n",
    "\\end{equation} \n",
    "\n",
    "${S}^1_i$ будет соответсвовать закрытому состоянию калана, поэтому от переменные связанные с ним будем исключать\n",
    "\n",
    "### Два состояния ворот\n",
    "${S}^1_{II} \\underset{\\beta^1_{II}}{\\stackrel{\\alpha^1_{II}}{\\rightleftarrows}} {S}^2_{II}$\n",
    "\n",
    "Система уравнений Колмогорова\n",
    "\\begin{equation} \n",
    "\t\\begin{aligned}\n",
    "\t& \\dot{P}^1_{II}=-\\alpha^1_{II} {P}^1_I + \\beta^1_{II} {P}^2_{II}\\\\\n",
    "\t& \\dot{P}^2_{II}=\\alpha^1_{II} \\mathrm{P}^1_{II} - \\beta^1_{II} \\mathrm{P}^2_{II}\\\\\n",
    "\t\\end{aligned}\n",
    "\\end{equation}\n",
    "\n",
    "\\begin{equation} \n",
    "    {P}^1_{II}+{P}^2_{II} = 1\n",
    "\\end{equation} "
   ]
  },
  {
   "cell_type": "code",
   "execution_count": 2,
   "metadata": {},
   "outputs": [],
   "source": [
    "# Переменная\n",
    "t = sym.Symbol('t')\n",
    "\n",
    "# Переменные — функции от времени\n",
    "P2_I = sym.Function('P2_I')(t)\n",
    "P3_I = sym.Function('P3_I')(t)\n",
    "P2_II = sym.Function('P2_II')(t)\n",
    "\n",
    "# Параметры\n",
    "alpha1_I, alpha2_I, beta1_I, beta2_I = sym.symbols('alpha1_I alpha2_I beta1_I beta2_I',  positive=True)\n",
    "alpha1_II, beta1_II = sym.symbols('alpha1_II beta1_II',  positive=True)\n",
    "\n",
    "# Выражаем P1_I и P1_II из алгебраических условий\n",
    "P1_II = 1 - P2_II\n",
    "P1_I = P2_II - P2_I - P3_I\n",
    "\n",
    "# Дифференциальные уравнения\n",
    "dP2_I = sym.Eq(P2_I.diff(t), -(alpha2_I + beta1_I)*P2_I + alpha1_I*P1_I + beta2_I*P3_I)\n",
    "dP3_I = sym.Eq(P3_I.diff(t), alpha2_I*P2_I - beta2_I*P3_I)\n",
    "dP2_II = sym.Eq(P2_II.diff(t), alpha1_II*P1_II - beta1_II*P2_II)\n",
    "\n",
    "# Подстановка выражений для P1_I и P1_II\n",
    "dP2_I_subs = dP2_I.subs('P1_I', P1_I)\n",
    "dP2_II_subs = dP2_II.subs('P1_II', P1_II)\n",
    "\n",
    "# Вывод всей системы\n",
    "system = [dP2_I_subs, dP3_I, dP2_II_subs]"
   ]
  },
  {
   "cell_type": "markdown",
   "metadata": {},
   "source": [
    "#### получившаяся система\n",
    "\n",
    "\\begin{equation} \n",
    "\t\\begin{aligned}\n",
    "&\\frac{d}{d t} P_{2\\_I}{\\left(t \\right)} = - \\left(\\alpha_{2\\_I} + \\beta_{1\\_I}\\right) P_{2\\_I}{\\left(t \\right)} + \\alpha_{1\\_I} \\left(1 - P_{2\\_II}{\\left(t \\right)} - P_{2\\_I}{\\left(t \\right)} - P_{3\\_I}{\\left(t \\right)}\\right) + \\beta_{2\\_I} P_{3\\_I}{\\left(t \\right)} \\\\\n",
    "&\\frac{d}{d t} P_{3\\_I}{\\left(t \\right)} = \\alpha_{2\\_I} P_{2\\_I}{\\left(t \\right)} - \\beta_{2\\_I} P_{3\\_I}{\\left(t \\right)} \\\\\n",
    "&\\frac{d}{d t} P_{2\\_II}{\\left(t \\right)} = \\alpha_{1\\_II} \\left(1 - P_{2\\_II}{\\left(t \\right)}\\right) - \\beta_{1\\_II} P_{2\\_II}{\\left(t \\right)}\n",
    "\t\\end{aligned}\n",
    "\\end{equation}"
   ]
  },
  {
   "cell_type": "code",
   "execution_count": 3,
   "metadata": {},
   "outputs": [
    {
     "name": "stdout",
     "output_type": "stream",
     "text": [
      "Матрица A:\n"
     ]
    },
    {
     "data": {
      "text/latex": [
       "$\\displaystyle \\left[\\begin{matrix}- \\alpha_{1 I} - \\alpha_{2 I} - \\beta_{1 I} & - \\alpha_{1 I} + \\beta_{2 I} & \\alpha_{1 I}\\\\\\alpha_{2 I} & - \\beta_{2 I} & 0\\\\0 & 0 & - \\alpha_{1 II} - \\beta_{1 II}\\end{matrix}\\right]$"
      ],
      "text/plain": [
       "Matrix([\n",
       "[-alpha1_I - alpha2_I - beta1_I, -alpha1_I + beta2_I,              alpha1_I],\n",
       "[                      alpha2_I,            -beta2_I,                     0],\n",
       "[                             0,                   0, -alpha1_II - beta1_II]])"
      ]
     },
     "metadata": {},
     "output_type": "display_data"
    },
    {
     "name": "stdout",
     "output_type": "stream",
     "text": [
      "\n",
      "Свободный столбец b:\n"
     ]
    },
    {
     "data": {
      "text/latex": [
       "$\\displaystyle \\left[\\begin{matrix}0\\\\0\\\\- \\alpha_{1 II}\\end{matrix}\\right]$"
      ],
      "text/plain": [
       "Matrix([\n",
       "[         0],\n",
       "[         0],\n",
       "[-alpha1_II]])"
      ]
     },
     "metadata": {},
     "output_type": "display_data"
    }
   ],
   "source": [
    "# Переменные системы — СПИСОК\n",
    "vars_ = [P2_I, P3_I, P2_II]\n",
    "\n",
    "# Правая часть уравнений\n",
    "rhs = [eq.rhs for eq in system]\n",
    "\n",
    "# Получение матрицы и свободного столбца\n",
    "A, b = sym.linear_eq_to_matrix(rhs, vars_)\n",
    "\n",
    "# Печать\n",
    "print(\"Матрица A:\")\n",
    "display(A)\n",
    "\n",
    "print(\"\\nСвободный столбец b:\")\n",
    "display(b)\n"
   ]
  },
  {
   "cell_type": "markdown",
   "metadata": {},
   "source": [
    "#### Собственные числа"
   ]
  },
  {
   "cell_type": "code",
   "execution_count": 4,
   "metadata": {},
   "outputs": [
    {
     "data": {
      "text/latex": [
       "$\\displaystyle - \\alpha_{1 I} \\alpha_{1 II} \\alpha_{2 I} - \\alpha_{1 I} \\alpha_{1 II} \\beta_{2 I} - \\alpha_{1 I} \\alpha_{2 I} \\beta_{1 II} - \\alpha_{1 I} \\beta_{1 II} \\beta_{2 I} - \\alpha_{1 II} \\beta_{1 I} \\beta_{2 I} - \\beta_{1 I} \\beta_{1 II} \\beta_{2 I} - lam^{3} + lam^{2} \\left(- \\alpha_{1 I} - \\alpha_{1 II} - \\alpha_{2 I} - \\beta_{1 I} - \\beta_{1 II} - \\beta_{2 I}\\right) + lam \\left(- \\alpha_{1 I} \\alpha_{1 II} - \\alpha_{1 I} \\alpha_{2 I} - \\alpha_{1 I} \\beta_{1 II} - \\alpha_{1 I} \\beta_{2 I} - \\alpha_{1 II} \\alpha_{2 I} - \\alpha_{1 II} \\beta_{1 I} - \\alpha_{1 II} \\beta_{2 I} - \\alpha_{2 I} \\beta_{1 II} - \\beta_{1 I} \\beta_{1 II} - \\beta_{1 I} \\beta_{2 I} - \\beta_{1 II} \\beta_{2 I}\\right)$"
      ],
      "text/plain": [
       "-alpha1_I*alpha1_II*alpha2_I - alpha1_I*alpha1_II*beta2_I - alpha1_I*alpha2_I*beta1_II - alpha1_I*beta1_II*beta2_I - alpha1_II*beta1_I*beta2_I - beta1_I*beta1_II*beta2_I - lam**3 + lam**2*(-alpha1_I - alpha1_II - alpha2_I - beta1_I - beta1_II - beta2_I) + lam*(-alpha1_I*alpha1_II - alpha1_I*alpha2_I - alpha1_I*beta1_II - alpha1_I*beta2_I - alpha1_II*alpha2_I - alpha1_II*beta1_I - alpha1_II*beta2_I - alpha2_I*beta1_II - beta1_I*beta1_II - beta1_I*beta2_I - beta1_II*beta2_I)"
      ]
     },
     "metadata": {},
     "output_type": "display_data"
    }
   ],
   "source": [
    "lam = sym.Symbol('lam')\n",
    "D=sym.Matrix([[-lam, 0, 0],[0, -lam, 0],[0, 0,-lam]])+A\n",
    "det=sym.collect(D.det(), lam)\n",
    "display(det.together()) # детерминант"
   ]
  },
  {
   "cell_type": "code",
   "execution_count": 5,
   "metadata": {},
   "outputs": [
    {
     "data": {
      "text/latex": [
       "$\\displaystyle lam = - \\alpha_{1 II} - \\beta_{1 II}$"
      ],
      "text/plain": [
       "Eq(lam, -alpha1_II - beta1_II)"
      ]
     },
     "metadata": {},
     "output_type": "display_data"
    },
    {
     "data": {
      "text/latex": [
       "$\\displaystyle lam = - \\frac{\\alpha_{1 I}}{2} - \\frac{\\alpha_{2 I}}{2} - \\frac{\\beta_{1 I}}{2} - \\frac{\\beta_{2 I}}{2} - \\frac{\\sqrt{\\alpha_{1 I}^{2} - 2 \\alpha_{1 I} \\alpha_{2 I} + 2 \\alpha_{1 I} \\beta_{1 I} - 2 \\alpha_{1 I} \\beta_{2 I} + \\alpha_{2 I}^{2} + 2 \\alpha_{2 I} \\beta_{1 I} + 2 \\alpha_{2 I} \\beta_{2 I} + \\beta_{1 I}^{2} - 2 \\beta_{1 I} \\beta_{2 I} + \\beta_{2 I}^{2}}}{2}$"
      ],
      "text/plain": [
       "Eq(lam, -alpha1_I/2 - alpha2_I/2 - beta1_I/2 - beta2_I/2 - sqrt(alpha1_I**2 - 2*alpha1_I*alpha2_I + 2*alpha1_I*beta1_I - 2*alpha1_I*beta2_I + alpha2_I**2 + 2*alpha2_I*beta1_I + 2*alpha2_I*beta2_I + beta1_I**2 - 2*beta1_I*beta2_I + beta2_I**2)/2)"
      ]
     },
     "metadata": {},
     "output_type": "display_data"
    },
    {
     "data": {
      "text/latex": [
       "$\\displaystyle lam = - \\frac{\\alpha_{1 I}}{2} - \\frac{\\alpha_{2 I}}{2} - \\frac{\\beta_{1 I}}{2} - \\frac{\\beta_{2 I}}{2} + \\frac{\\sqrt{\\alpha_{1 I}^{2} - 2 \\alpha_{1 I} \\alpha_{2 I} + 2 \\alpha_{1 I} \\beta_{1 I} - 2 \\alpha_{1 I} \\beta_{2 I} + \\alpha_{2 I}^{2} + 2 \\alpha_{2 I} \\beta_{1 I} + 2 \\alpha_{2 I} \\beta_{2 I} + \\beta_{1 I}^{2} - 2 \\beta_{1 I} \\beta_{2 I} + \\beta_{2 I}^{2}}}{2}$"
      ],
      "text/plain": [
       "Eq(lam, -alpha1_I/2 - alpha2_I/2 - beta1_I/2 - beta2_I/2 + sqrt(alpha1_I**2 - 2*alpha1_I*alpha2_I + 2*alpha1_I*beta1_I - 2*alpha1_I*beta2_I + alpha2_I**2 + 2*alpha2_I*beta1_I + 2*alpha2_I*beta2_I + beta1_I**2 - 2*beta1_I*beta2_I + beta2_I**2)/2)"
      ]
     },
     "metadata": {},
     "output_type": "display_data"
    }
   ],
   "source": [
    "lam1, lam2, lam0=sym.roots(det, lam)\n",
    "# решения характеристического уравнения\n",
    "for s in [lam1, lam2, lam0]:\n",
    "    display(sym.Eq(lam, s))"
   ]
  },
  {
   "cell_type": "markdown",
   "metadata": {},
   "source": [
    "#### Стационарые решения"
   ]
  },
  {
   "cell_type": "code",
   "execution_count": 6,
   "metadata": {},
   "outputs": [],
   "source": [
    "P2_I_eq, P3_I_eq, P2_II_eq = sym.symbols('P2_I_eq P3_I_eq P2_II_eq')\n",
    "P_eq = sym.Matrix([P2_I_eq, P3_I_eq, P2_II_eq])\n",
    "# Матрица A * P_eq + b\n",
    "expr = A * P_eq + b\n",
    "\n",
    "# Составляем уравнения: A * P + b = 0 → уравнения поэлементно\n",
    "steady_eqs = [sym.Eq(expr[i], 0) for i in range(expr.shape[0])]\n",
    "\n",
    "# Решаем\n",
    "sol = sym.solve(steady_eqs, [P2_I_eq, P3_I_eq, P2_II_eq], dict=True)"
   ]
  },
  {
   "cell_type": "code",
   "execution_count": 7,
   "metadata": {},
   "outputs": [
    {
     "data": {
      "text/latex": [
       "$\\displaystyle P_{2 II eq} = - \\frac{\\alpha_{1 II}}{\\alpha_{1 II} + \\beta_{1 II}}$"
      ],
      "text/plain": [
       "Eq(P2_II_eq, -alpha1_II/(alpha1_II + beta1_II))"
      ]
     },
     "metadata": {},
     "output_type": "display_data"
    },
    {
     "data": {
      "text/latex": [
       "$\\displaystyle P_{2 I eq} = - \\frac{\\alpha_{1 I} \\alpha_{1 II} \\beta_{2 I}}{\\alpha_{1 I} \\alpha_{1 II} \\alpha_{2 I} + \\alpha_{1 I} \\alpha_{1 II} \\beta_{2 I} + \\alpha_{1 I} \\alpha_{2 I} \\beta_{1 II} + \\alpha_{1 I} \\beta_{1 II} \\beta_{2 I} + \\alpha_{1 II} \\beta_{1 I} \\beta_{2 I} + \\beta_{1 I} \\beta_{1 II} \\beta_{2 I}}$"
      ],
      "text/plain": [
       "Eq(P2_I_eq, -alpha1_I*alpha1_II*beta2_I/(alpha1_I*alpha1_II*alpha2_I + alpha1_I*alpha1_II*beta2_I + alpha1_I*alpha2_I*beta1_II + alpha1_I*beta1_II*beta2_I + alpha1_II*beta1_I*beta2_I + beta1_I*beta1_II*beta2_I))"
      ]
     },
     "metadata": {},
     "output_type": "display_data"
    },
    {
     "data": {
      "text/latex": [
       "$\\displaystyle P_{3 I eq} = - \\frac{\\alpha_{1 I} \\alpha_{1 II} \\alpha_{2 I}}{\\alpha_{1 I} \\alpha_{1 II} \\alpha_{2 I} + \\alpha_{1 I} \\alpha_{1 II} \\beta_{2 I} + \\alpha_{1 I} \\alpha_{2 I} \\beta_{1 II} + \\alpha_{1 I} \\beta_{1 II} \\beta_{2 I} + \\alpha_{1 II} \\beta_{1 I} \\beta_{2 I} + \\beta_{1 I} \\beta_{1 II} \\beta_{2 I}}$"
      ],
      "text/plain": [
       "Eq(P3_I_eq, -alpha1_I*alpha1_II*alpha2_I/(alpha1_I*alpha1_II*alpha2_I + alpha1_I*alpha1_II*beta2_I + alpha1_I*alpha2_I*beta1_II + alpha1_I*beta1_II*beta2_I + alpha1_II*beta1_I*beta2_I + beta1_I*beta1_II*beta2_I))"
      ]
     },
     "metadata": {},
     "output_type": "display_data"
    }
   ],
   "source": [
    "for s in sol:\n",
    "    for var, expr in s.items():\n",
    "        display(sym.Eq(var, expr))"
   ]
  },
  {
   "cell_type": "markdown",
   "metadata": {},
   "source": [
    "#### Решения"
   ]
  },
  {
   "cell_type": "code",
   "execution_count": 8,
   "metadata": {},
   "outputs": [],
   "source": [
    "### Решения не считаются легко в лоб, в данной постановке. Возможно это можно покрутить руками (?)\n",
    "## Символьные начальные условия\n",
    "#C1, C2, C3 = sym.symbols('C1 C2 C3')  # начальные значения\n",
    "#\n",
    "## Словарь начальных условий\n",
    "#ics = {\n",
    "#    P2_I.subs(t, 0): C1,\n",
    "#    P3_I.subs(t, 0): C2,\n",
    "#    P2_II.subs(t, 0): C3\n",
    "#}\n",
    "#\n",
    "## Решение системы ОДУ с начальными условиями\n",
    "#solution = sym.dsolve(system, ics=ics)\n",
    "#\n",
    "## Красивый вывод решений\n",
    "#for sol in solution:\n",
    "#    display(sol)"
   ]
  },
  {
   "cell_type": "code",
   "execution_count": null,
   "metadata": {},
   "outputs": [],
   "source": []
  },
  {
   "cell_type": "markdown",
   "metadata": {},
   "source": [
    "## Задача с кратными интенсивностями прехода для прцесса I\n",
    "### Три состояния ворот\n",
    "\n",
    "$\\alpha$ - растущая\n",
    "$\\beta$ - убывающая\n",
    "\n",
    "${S}^1_I \\underset{\\beta_I}{\\stackrel{2\\alpha_I}{\\rightleftarrows}} {S}^2_I \\underset{2\\beta_I}{\\stackrel{\\alpha_I}{\\rightleftarrows}} {S}^3_I$\n",
    "\n",
    "Система уравнений Колмогорова\n",
    "\\begin{equation} \n",
    "\t\\begin{aligned}\n",
    "\t& \\dot{P}^1_I=-2\\alpha_I {P}^1_I + \\beta_I {P}^2_I\\\\\n",
    "\t& \\dot{P}^2_I=-(\\alpha_I+\\beta_I) {P}^2_I + 2\\alpha_I {P}^1_I +2\\beta_I \\mathrm{P}^3_I\\\\\n",
    "\t& \\dot{P}^3_I=\\alpha_I \\mathrm{P}^2_I - 2\\beta_I \\mathrm{P}^3_I\\\\\n",
    "\t\\end{aligned}\n",
    "\\end{equation}\n",
    "\n",
    "\\begin{equation} \n",
    "    {P}^1_I+{P}^2_I+{P}^3_I = P^2_{II}\n",
    "\\end{equation} \n",
    "\n",
    "\n",
    "### Два состояния ворот\n",
    "\n",
    "$\\alpha$ - убывающая\n",
    "$\\beta$ -  растущая\n",
    "\n",
    "${S}^1_{II} \\underset{\\beta_{II}}{\\stackrel{\\alpha_{II}}{\\rightleftarrows}} {S}^2_{II}$\n",
    "\n",
    "Система уравнений Колмогорова\n",
    "\\begin{equation} \n",
    "\t\\begin{aligned}\n",
    "\t& \\dot{P}^1_{II}=-\\alpha_{II} {P}^1_I + \\beta_{II} {P}^2_{II}\\\\\n",
    "\t& \\dot{P}^2_{II}=\\alpha_{II} \\mathrm{P}^1_{II} - \\beta_{II} \\mathrm{P}^2_{II}\\\\\n",
    "\t\\end{aligned}\n",
    "\\end{equation}\n",
    "\n",
    "\\begin{equation} \n",
    "    {P}^1_{II}+{P}^2_{II} = 1\n",
    "\\end{equation} \n",
    "\n",
    "${S}^1_i$ будет соответсвовать закрытому состоянию калана, поэтому от переменные связанные с ним будем исключать\n"
   ]
  },
  {
   "cell_type": "code",
   "execution_count": 9,
   "metadata": {},
   "outputs": [
    {
     "data": {
      "text/latex": [
       "$\\displaystyle \\frac{d}{d t} P_{2 I}{\\left(t \\right)} = 2 \\alpha_{I} \\left(- P_{2 I}{\\left(t \\right)} + P_{2 II}{\\left(t \\right)} - P_{3 I}{\\left(t \\right)}\\right) + 2 \\beta_{I} P_{3 I}{\\left(t \\right)} + \\left(- \\alpha_{I} - \\beta_{I}\\right) P_{2 I}{\\left(t \\right)}$"
      ],
      "text/plain": [
       "Eq(Derivative(P2_I(t), t), 2*alpha_I*(-P2_I(t) + P2_II(t) - P3_I(t)) + 2*beta_I*P3_I(t) + (-alpha_I - beta_I)*P2_I(t))"
      ]
     },
     "metadata": {},
     "output_type": "display_data"
    },
    {
     "data": {
      "text/latex": [
       "$\\displaystyle \\frac{d}{d t} P_{3 I}{\\left(t \\right)} = \\alpha_{I} P_{2 I}{\\left(t \\right)} - 2 \\beta_{I} P_{3 I}{\\left(t \\right)}$"
      ],
      "text/plain": [
       "Eq(Derivative(P3_I(t), t), alpha_I*P2_I(t) - 2*beta_I*P3_I(t))"
      ]
     },
     "metadata": {},
     "output_type": "display_data"
    },
    {
     "data": {
      "text/latex": [
       "$\\displaystyle \\frac{d}{d t} P_{2 II}{\\left(t \\right)} = \\alpha_{II} \\left(1 - P_{2 II}{\\left(t \\right)}\\right) - \\beta_{II} P_{2 II}{\\left(t \\right)}$"
      ],
      "text/plain": [
       "Eq(Derivative(P2_II(t), t), alpha_II*(1 - P2_II(t)) - beta_II*P2_II(t))"
      ]
     },
     "metadata": {},
     "output_type": "display_data"
    }
   ],
   "source": [
    "t = sym.Symbol('t')\n",
    "\n",
    "# Функции от времени\n",
    "P2_I = sym.Function('P2_I')(t)\n",
    "P3_I = sym.Function('P3_I')(t)\n",
    "P2_II = sym.Function('P2_II')(t)\n",
    "\n",
    "# Параметры\n",
    "alpha_I, beta_I = sym.symbols('alpha_I beta_I',  positive=True)\n",
    "alpha_II, beta_II = sym.symbols('alpha_II beta_II',  positive=True)\n",
    "\n",
    "# Алгебраические связи\n",
    "P1_II = 1 - P2_II\n",
    "P1_I = P2_II - P2_I - P3_I\n",
    "\n",
    "# Дифференциальные уравнения\n",
    "dP2_I = sym.Eq(P2_I.diff(t), -(alpha_I + beta_I)*P2_I + 2*alpha_I*P1_I + 2*beta_I*P3_I)\n",
    "dP3_I = sym.Eq(P3_I.diff(t), alpha_I*P2_I - 2*beta_I*P3_I)\n",
    "dP2_II = sym.Eq(P2_II.diff(t), alpha_II*P1_II - beta_II*P2_II)\n",
    "\n",
    "# Подстановка зависимостей\n",
    "dP2_I_subs = dP2_I.subs({'P1_I': P1_I})\n",
    "dP2_II_subs = dP2_II.subs({'P1_II': P1_II})\n",
    "\n",
    "# Собираем финальную систему\n",
    "system = [dP2_I_subs, dP3_I, dP2_II_subs]\n",
    "\n",
    "# Красивый вывод в блокноте\n",
    "display(*system)\n"
   ]
  },
  {
   "cell_type": "code",
   "execution_count": 10,
   "metadata": {},
   "outputs": [
    {
     "name": "stdout",
     "output_type": "stream",
     "text": [
      "Матрица A:\n"
     ]
    },
    {
     "data": {
      "text/latex": [
       "$\\displaystyle \\left[\\begin{matrix}- 3 \\alpha_{I} - \\beta_{I} & - 2 \\alpha_{I} + 2 \\beta_{I} & 2 \\alpha_{I}\\\\\\alpha_{I} & - 2 \\beta_{I} & 0\\\\0 & 0 & - \\alpha_{II} - \\beta_{II}\\end{matrix}\\right]$"
      ],
      "text/plain": [
       "Matrix([\n",
       "[-3*alpha_I - beta_I, -2*alpha_I + 2*beta_I,           2*alpha_I],\n",
       "[            alpha_I,             -2*beta_I,                   0],\n",
       "[                  0,                     0, -alpha_II - beta_II]])"
      ]
     },
     "metadata": {},
     "output_type": "display_data"
    },
    {
     "name": "stdout",
     "output_type": "stream",
     "text": [
      "Свободный столбец b:\n"
     ]
    },
    {
     "data": {
      "text/latex": [
       "$\\displaystyle \\left[\\begin{matrix}0\\\\0\\\\\\alpha_{II}\\end{matrix}\\right]$"
      ],
      "text/plain": [
       "Matrix([\n",
       "[       0],\n",
       "[       0],\n",
       "[alpha_II]])"
      ]
     },
     "metadata": {},
     "output_type": "display_data"
    }
   ],
   "source": [
    "# Список переменных (в нужном порядке)\n",
    "variables = [P2_I, P3_I, P2_II]\n",
    "\n",
    "# Правая часть системы (f = A*P + b)\n",
    "rhs = [eq.rhs for eq in system]\n",
    "\n",
    "# Получаем матрицу A и свободный вектор b\n",
    "A, b = sym.linear_eq_to_matrix(rhs, variables)\n",
    "b = -b\n",
    "\n",
    "# Красивый вывод\n",
    "print(\"Матрица A:\")\n",
    "display(A)\n",
    "\n",
    "print(\"Свободный столбец b:\")\n",
    "display(b)"
   ]
  },
  {
   "cell_type": "markdown",
   "metadata": {},
   "source": [
    "#### Собственные числа"
   ]
  },
  {
   "cell_type": "code",
   "execution_count": 11,
   "metadata": {},
   "outputs": [
    {
     "data": {
      "text/latex": [
       "$\\displaystyle - 2 \\alpha_{I}^{2} \\alpha_{II} - 2 \\alpha_{I}^{2} \\beta_{II} - 4 \\alpha_{I} \\alpha_{II} \\beta_{I} - 4 \\alpha_{I} \\beta_{I} \\beta_{II} - 2 \\alpha_{II} \\beta_{I}^{2} - 2 \\beta_{I}^{2} \\beta_{II} - lam^{3} + lam^{2} \\left(- 3 \\alpha_{I} - \\alpha_{II} - 3 \\beta_{I} - \\beta_{II}\\right) + lam \\left(- 2 \\alpha_{I}^{2} - 3 \\alpha_{I} \\alpha_{II} - 4 \\alpha_{I} \\beta_{I} - 3 \\alpha_{I} \\beta_{II} - 3 \\alpha_{II} \\beta_{I} - 2 \\beta_{I}^{2} - 3 \\beta_{I} \\beta_{II}\\right)$"
      ],
      "text/plain": [
       "-2*alpha_I**2*alpha_II - 2*alpha_I**2*beta_II - 4*alpha_I*alpha_II*beta_I - 4*alpha_I*beta_I*beta_II - 2*alpha_II*beta_I**2 - 2*beta_I**2*beta_II - lam**3 + lam**2*(-3*alpha_I - alpha_II - 3*beta_I - beta_II) + lam*(-2*alpha_I**2 - 3*alpha_I*alpha_II - 4*alpha_I*beta_I - 3*alpha_I*beta_II - 3*alpha_II*beta_I - 2*beta_I**2 - 3*beta_I*beta_II)"
      ]
     },
     "metadata": {},
     "output_type": "display_data"
    }
   ],
   "source": [
    "D=sym.Matrix([[-lam, 0, 0],[0, -lam, 0],[0, 0,-lam]])+A\n",
    "det=sym.collect(D.det(), lam)\n",
    "#sym.print_latex(det)\n",
    "display(det) # детерминант"
   ]
  },
  {
   "cell_type": "code",
   "execution_count": 12,
   "metadata": {},
   "outputs": [
    {
     "data": {
      "text/latex": [
       "$\\displaystyle lam = - \\alpha_{I} - \\beta_{I}$"
      ],
      "text/plain": [
       "Eq(lam, -alpha_I - beta_I)"
      ]
     },
     "metadata": {},
     "output_type": "display_data"
    },
    {
     "data": {
      "text/latex": [
       "$\\displaystyle lam = - \\alpha_{II} - \\beta_{II}$"
      ],
      "text/plain": [
       "Eq(lam, -alpha_II - beta_II)"
      ]
     },
     "metadata": {},
     "output_type": "display_data"
    },
    {
     "data": {
      "text/latex": [
       "$\\displaystyle lam = - 2 \\alpha_{I} - 2 \\beta_{I}$"
      ],
      "text/plain": [
       "Eq(lam, -2*alpha_I - 2*beta_I)"
      ]
     },
     "metadata": {},
     "output_type": "display_data"
    }
   ],
   "source": [
    "lam1, lam2, lam0=sym.roots(det, lam)\n",
    "# решения характеристического уравнения\n",
    "for s in [lam1, lam2, lam0]:\n",
    "    display(sym.Eq(lam, s))"
   ]
  },
  {
   "cell_type": "markdown",
   "metadata": {},
   "source": [
    "#### Стациораные решения"
   ]
  },
  {
   "cell_type": "code",
   "execution_count": 13,
   "metadata": {},
   "outputs": [],
   "source": [
    "P2_I_eq, P3_I_eq, P2_II_eq = sym.symbols('P2_I_eq P3_I_eq P2_II_eq')\n",
    "P_eq = sym.Matrix([P2_I_eq, P3_I_eq, P2_II_eq])\n",
    "# Матрица A * P_eq + b\n",
    "expr = A * P_eq + b\n",
    "\n",
    "# Составляем уравнения: A * P + b = 0 → уравнения поэлементно\n",
    "steady_eqs = [sym.Eq(expr[i], 0) for i in range(expr.shape[0])]\n",
    "\n",
    "# Решаем\n",
    "sol = sym.solve(steady_eqs, [P2_I_eq, P3_I_eq, P2_II_eq], dict=True)"
   ]
  },
  {
   "cell_type": "code",
   "execution_count": 14,
   "metadata": {},
   "outputs": [
    {
     "data": {
      "text/latex": [
       "$\\displaystyle P_{2 II eq} = \\frac{\\alpha_{II}}{\\alpha_{II} + \\beta_{II}}$"
      ],
      "text/plain": [
       "Eq(P2_II_eq, alpha_II/(alpha_II + beta_II))"
      ]
     },
     "metadata": {},
     "output_type": "display_data"
    },
    {
     "data": {
      "text/latex": [
       "$\\displaystyle P_{2 I eq} = \\frac{2 \\alpha_{I} \\alpha_{II} \\beta_{I}}{\\alpha_{I}^{2} \\alpha_{II} + \\alpha_{I}^{2} \\beta_{II} + 2 \\alpha_{I} \\alpha_{II} \\beta_{I} + 2 \\alpha_{I} \\beta_{I} \\beta_{II} + \\alpha_{II} \\beta_{I}^{2} + \\beta_{I}^{2} \\beta_{II}}$"
      ],
      "text/plain": [
       "Eq(P2_I_eq, 2*alpha_I*alpha_II*beta_I/(alpha_I**2*alpha_II + alpha_I**2*beta_II + 2*alpha_I*alpha_II*beta_I + 2*alpha_I*beta_I*beta_II + alpha_II*beta_I**2 + beta_I**2*beta_II))"
      ]
     },
     "metadata": {},
     "output_type": "display_data"
    },
    {
     "data": {
      "text/latex": [
       "$\\displaystyle P_{3 I eq} = \\frac{\\alpha_{I}^{2} \\alpha_{II}}{\\alpha_{I}^{2} \\alpha_{II} + \\alpha_{I}^{2} \\beta_{II} + 2 \\alpha_{I} \\alpha_{II} \\beta_{I} + 2 \\alpha_{I} \\beta_{I} \\beta_{II} + \\alpha_{II} \\beta_{I}^{2} + \\beta_{I}^{2} \\beta_{II}}$"
      ],
      "text/plain": [
       "Eq(P3_I_eq, alpha_I**2*alpha_II/(alpha_I**2*alpha_II + alpha_I**2*beta_II + 2*alpha_I*alpha_II*beta_I + 2*alpha_I*beta_I*beta_II + alpha_II*beta_I**2 + beta_I**2*beta_II))"
      ]
     },
     "metadata": {},
     "output_type": "display_data"
    }
   ],
   "source": [
    "for s in sol:\n",
    "    for var, expr in s.items():\n",
    "        display(sym.Eq(var, expr))"
   ]
  },
  {
   "cell_type": "markdown",
   "metadata": {},
   "source": [
    "#### Решения"
   ]
  },
  {
   "cell_type": "code",
   "execution_count": 15,
   "metadata": {},
   "outputs": [
    {
     "data": {
      "text/latex": [
       "$\\displaystyle P_{2 I}{\\left(t \\right)} = - \\frac{2 \\alpha_{I} \\alpha_{II} \\left(- \\alpha_{I} \\left(\\alpha_{II} + \\beta_{II}\\right) \\left(\\alpha_{I}^{2} + 2 \\alpha_{I} \\beta_{I} + \\beta_{I}^{2}\\right) \\left(2 \\alpha_{I}^{2} - \\alpha_{I} \\left(3 \\alpha_{II} - 4 \\beta_{I} + 3 \\beta_{II}\\right) + \\alpha_{II}^{2} - \\alpha_{II} \\left(3 \\beta_{I} - 2 \\beta_{II}\\right) + 2 \\beta_{I}^{2} - 3 \\beta_{I} \\beta_{II} + \\beta_{II}^{2}\\right) + \\alpha_{II} \\left(\\alpha_{I} + \\beta_{I}\\right) \\left(- 2 \\alpha_{I}^{2} + \\alpha_{I} \\left(\\alpha_{II} - 4 \\beta_{I} + \\beta_{II}\\right) + \\alpha_{II} \\beta_{I} - 2 \\beta_{I}^{2} + \\beta_{I} \\beta_{II}\\right) \\left(- \\alpha_{I}^{2} + \\alpha_{I} \\left(\\alpha_{II} - 2 \\beta_{I} + \\beta_{II}\\right) + \\alpha_{II} \\beta_{I} - \\beta_{I}^{2} + \\beta_{I} \\beta_{II}\\right) - \\beta_{I} \\left(2 \\left(\\alpha_{I} + \\beta_{I}\\right) \\left(- \\alpha_{I}^{2} + \\alpha_{I} \\left(\\alpha_{II} - 2 \\beta_{I} + \\beta_{II}\\right) + \\alpha_{II} \\beta_{I} - \\beta_{I}^{2} + \\beta_{I} \\beta_{II}\\right) + \\left(\\alpha_{II} + \\beta_{II}\\right) \\left(2 \\alpha_{I}^{2} - \\alpha_{I} \\left(3 \\alpha_{II} - 4 \\beta_{I} + 3 \\beta_{II}\\right) + \\alpha_{II}^{2} - \\alpha_{II} \\left(3 \\beta_{I} - 2 \\beta_{II}\\right) + 2 \\beta_{I}^{2} - 3 \\beta_{I} \\beta_{II} + \\beta_{II}^{2}\\right)\\right) \\left(- 2 \\alpha_{I}^{2} + \\alpha_{I} \\left(\\alpha_{II} - 4 \\beta_{I} + \\beta_{II}\\right) + \\alpha_{II} \\beta_{I} - 2 \\beta_{I}^{2} + \\beta_{I} \\beta_{II}\\right) + \\beta_{II} \\left(\\alpha_{I} + \\beta_{I}\\right) \\left(- 2 \\alpha_{I}^{2} + \\alpha_{I} \\left(\\alpha_{II} - 4 \\beta_{I} + \\beta_{II}\\right) + \\alpha_{II} \\beta_{I} - 2 \\beta_{I}^{2} + \\beta_{I} \\beta_{II}\\right) \\left(- \\alpha_{I}^{2} + \\alpha_{I} \\left(\\alpha_{II} - 2 \\beta_{I} + \\beta_{II}\\right) + \\alpha_{II} \\beta_{I} - \\beta_{I}^{2} + \\beta_{I} \\beta_{II}\\right)\\right)}{\\left(\\alpha_{I} + \\beta_{I}\\right) \\left(\\alpha_{II} + \\beta_{II}\\right) \\left(- 2 \\alpha_{I}^{2} + \\alpha_{I} \\left(\\alpha_{II} - 4 \\beta_{I} + \\beta_{II}\\right) + \\alpha_{II} \\beta_{I} - 2 \\beta_{I}^{2} + \\beta_{I} \\beta_{II}\\right) \\left(- \\alpha_{I}^{2} + \\alpha_{I} \\left(\\alpha_{II} - 2 \\beta_{I} + \\beta_{II}\\right) + \\alpha_{II} \\beta_{I} - \\beta_{I}^{2} + \\beta_{I} \\beta_{II}\\right) \\left(2 \\alpha_{I}^{2} - \\alpha_{I} \\left(3 \\alpha_{II} - 4 \\beta_{I} + 3 \\beta_{II}\\right) + \\alpha_{II}^{2} - \\alpha_{II} \\left(3 \\beta_{I} - 2 \\beta_{II}\\right) + 2 \\beta_{I}^{2} - 3 \\beta_{I} \\beta_{II} + \\beta_{II}^{2}\\right)} - \\frac{\\alpha_{I} \\beta_{II} \\left(2.0 \\alpha_{II} - 4.0 \\beta_{I} + 2.0 \\beta_{II}\\right) e^{- t \\left(\\alpha_{II} + \\beta_{II}\\right)}}{\\left(\\alpha_{II} + \\beta_{II}\\right) \\left(2 \\alpha_{I}^{2} - \\alpha_{I} \\left(3 \\alpha_{II} - 4 \\beta_{I} + 3 \\beta_{II}\\right) + \\alpha_{II}^{2} - \\alpha_{II} \\left(3 \\beta_{I} - 2 \\beta_{II}\\right) + 2 \\beta_{I}^{2} - 3 \\beta_{I} \\beta_{II} + \\beta_{II}^{2}\\right)} - \\frac{\\left(\\alpha_{I} - \\beta_{I}\\right) \\left(\\alpha_{I} \\left(\\alpha_{I} - 4.0 \\alpha_{II} + \\beta_{I}\\right) + 3.0 \\alpha_{II} \\left(\\alpha_{I} + \\beta_{I}\\right) - 3.0 \\beta_{I} \\left(\\alpha_{I} + \\beta_{I}\\right) + 3.0 \\beta_{II} \\left(\\alpha_{I} + \\beta_{I}\\right)\\right) e^{- t \\left(\\alpha_{I} + \\beta_{I}\\right)}}{\\left(\\alpha_{I} + \\beta_{I}\\right) \\left(- 2.0 \\alpha_{I}^{2} + \\alpha_{I} \\left(2.0 \\alpha_{II} - 4.0 \\beta_{I} + 2.0 \\beta_{II}\\right) + 2.0 \\alpha_{II} \\beta_{I} - 2.0 \\beta_{I}^{2} + 2.0 \\beta_{I} \\beta_{II}\\right)} - \\frac{2 \\left(2.0 \\alpha_{I}^{2} \\alpha_{II} - 2.0 \\alpha_{I} \\left(\\alpha_{I} + \\beta_{I}\\right) \\left(\\alpha_{II} - \\beta_{I} + \\beta_{II}\\right) + \\alpha_{II} \\beta_{I} \\left(\\alpha_{I} + \\beta_{I}\\right) - 2.0 \\beta_{I}^{2} \\left(\\alpha_{I} + \\beta_{I}\\right) + \\beta_{I} \\beta_{II} \\left(\\alpha_{I} + \\beta_{I}\\right)\\right) e^{- t \\left(2 \\alpha_{I} + 2 \\beta_{I}\\right)}}{\\left(\\alpha_{I} + \\beta_{I}\\right) \\left(- 4.0 \\alpha_{I}^{2} + \\alpha_{I} \\left(2.0 \\alpha_{II} - 8.0 \\beta_{I} + 2.0 \\beta_{II}\\right) + 2.0 \\alpha_{II} \\beta_{I} - 4.0 \\beta_{I}^{2} + 2.0 \\beta_{I} \\beta_{II}\\right)}$"
      ],
      "text/plain": [
       "Eq(P2_I(t), -2*alpha_I*alpha_II*(-alpha_I*(alpha_II + beta_II)*(alpha_I**2 + 2*alpha_I*beta_I + beta_I**2)*(2*alpha_I**2 - alpha_I*(3*alpha_II - 4*beta_I + 3*beta_II) + alpha_II**2 - alpha_II*(3*beta_I - 2*beta_II) + 2*beta_I**2 - 3*beta_I*beta_II + beta_II**2) + alpha_II*(alpha_I + beta_I)*(-2*alpha_I**2 + alpha_I*(alpha_II - 4*beta_I + beta_II) + alpha_II*beta_I - 2*beta_I**2 + beta_I*beta_II)*(-alpha_I**2 + alpha_I*(alpha_II - 2*beta_I + beta_II) + alpha_II*beta_I - beta_I**2 + beta_I*beta_II) - beta_I*(2*(alpha_I + beta_I)*(-alpha_I**2 + alpha_I*(alpha_II - 2*beta_I + beta_II) + alpha_II*beta_I - beta_I**2 + beta_I*beta_II) + (alpha_II + beta_II)*(2*alpha_I**2 - alpha_I*(3*alpha_II - 4*beta_I + 3*beta_II) + alpha_II**2 - alpha_II*(3*beta_I - 2*beta_II) + 2*beta_I**2 - 3*beta_I*beta_II + beta_II**2))*(-2*alpha_I**2 + alpha_I*(alpha_II - 4*beta_I + beta_II) + alpha_II*beta_I - 2*beta_I**2 + beta_I*beta_II) + beta_II*(alpha_I + beta_I)*(-2*alpha_I**2 + alpha_I*(alpha_II - 4*beta_I + beta_II) + alpha_II*beta_I - 2*beta_I**2 + beta_I*beta_II)*(-alpha_I**2 + alpha_I*(alpha_II - 2*beta_I + beta_II) + alpha_II*beta_I - beta_I**2 + beta_I*beta_II))/((alpha_I + beta_I)*(alpha_II + beta_II)*(-2*alpha_I**2 + alpha_I*(alpha_II - 4*beta_I + beta_II) + alpha_II*beta_I - 2*beta_I**2 + beta_I*beta_II)*(-alpha_I**2 + alpha_I*(alpha_II - 2*beta_I + beta_II) + alpha_II*beta_I - beta_I**2 + beta_I*beta_II)*(2*alpha_I**2 - alpha_I*(3*alpha_II - 4*beta_I + 3*beta_II) + alpha_II**2 - alpha_II*(3*beta_I - 2*beta_II) + 2*beta_I**2 - 3*beta_I*beta_II + beta_II**2)) - alpha_I*beta_II*(2.0*alpha_II - 4.0*beta_I + 2.0*beta_II)*exp(-t*(alpha_II + beta_II))/((alpha_II + beta_II)*(2*alpha_I**2 - alpha_I*(3*alpha_II - 4*beta_I + 3*beta_II) + alpha_II**2 - alpha_II*(3*beta_I - 2*beta_II) + 2*beta_I**2 - 3*beta_I*beta_II + beta_II**2)) - (alpha_I - beta_I)*(alpha_I*(alpha_I - 4.0*alpha_II + beta_I) + 3.0*alpha_II*(alpha_I + beta_I) - 3.0*beta_I*(alpha_I + beta_I) + 3.0*beta_II*(alpha_I + beta_I))*exp(-t*(alpha_I + beta_I))/((alpha_I + beta_I)*(-2.0*alpha_I**2 + alpha_I*(2.0*alpha_II - 4.0*beta_I + 2.0*beta_II) + 2.0*alpha_II*beta_I - 2.0*beta_I**2 + 2.0*beta_I*beta_II)) - 2*(2.0*alpha_I**2*alpha_II - 2.0*alpha_I*(alpha_I + beta_I)*(alpha_II - beta_I + beta_II) + alpha_II*beta_I*(alpha_I + beta_I) - 2.0*beta_I**2*(alpha_I + beta_I) + beta_I*beta_II*(alpha_I + beta_I))*exp(-t*(2*alpha_I + 2*beta_I))/((alpha_I + beta_I)*(-4.0*alpha_I**2 + alpha_I*(2.0*alpha_II - 8.0*beta_I + 2.0*beta_II) + 2.0*alpha_II*beta_I - 4.0*beta_I**2 + 2.0*beta_I*beta_II)))"
      ]
     },
     "metadata": {},
     "output_type": "display_data"
    },
    {
     "data": {
      "text/latex": [
       "$\\displaystyle P_{3 I}{\\left(t \\right)} = \\frac{\\alpha_{I}^{2} \\alpha_{II} \\left(2 \\left(\\alpha_{I} + \\beta_{I}\\right) \\left(- 2 \\alpha_{I}^{2} + \\alpha_{I} \\left(\\alpha_{II} - 4 \\beta_{I} + \\beta_{II}\\right) + \\alpha_{II} \\beta_{I} - 2 \\beta_{I}^{2} + \\beta_{I} \\beta_{II}\\right) \\left(- \\alpha_{I}^{2} + \\alpha_{I} \\left(\\alpha_{II} - 2 \\beta_{I} + \\beta_{II}\\right) + \\alpha_{II} \\beta_{I} - \\beta_{I}^{2} + \\beta_{I} \\beta_{II}\\right) + 2 \\left(\\alpha_{II} + \\beta_{II}\\right) \\left(- 2 \\alpha_{I}^{2} + \\alpha_{I} \\left(\\alpha_{II} - 4 \\beta_{I} + \\beta_{II}\\right) + \\alpha_{II} \\beta_{I} - 2 \\beta_{I}^{2} + \\beta_{I} \\beta_{II}\\right) \\left(2 \\alpha_{I}^{2} - \\alpha_{I} \\left(3 \\alpha_{II} - 4 \\beta_{I} + 3 \\beta_{II}\\right) + \\alpha_{II}^{2} - \\alpha_{II} \\left(3 \\beta_{I} - 2 \\beta_{II}\\right) + 2 \\beta_{I}^{2} - 3 \\beta_{I} \\beta_{II} + \\beta_{II}^{2}\\right) - \\left(\\alpha_{II} + \\beta_{II}\\right) \\left(- \\alpha_{I}^{2} + \\alpha_{I} \\left(\\alpha_{II} - 2 \\beta_{I} + \\beta_{II}\\right) + \\alpha_{II} \\beta_{I} - \\beta_{I}^{2} + \\beta_{I} \\beta_{II}\\right) \\left(2 \\alpha_{I}^{2} - \\alpha_{I} \\left(3 \\alpha_{II} - 4 \\beta_{I} + 3 \\beta_{II}\\right) + \\alpha_{II}^{2} - \\alpha_{II} \\left(3 \\beta_{I} - 2 \\beta_{II}\\right) + 2 \\beta_{I}^{2} - 3 \\beta_{I} \\beta_{II} + \\beta_{II}^{2}\\right)\\right)}{\\left(\\alpha_{I} + \\beta_{I}\\right) \\left(\\alpha_{II} + \\beta_{II}\\right) \\left(- 2 \\alpha_{I}^{2} + \\alpha_{I} \\left(\\alpha_{II} - 4 \\beta_{I} + \\beta_{II}\\right) + \\alpha_{II} \\beta_{I} - 2 \\beta_{I}^{2} + \\beta_{I} \\beta_{II}\\right) \\left(- \\alpha_{I}^{2} + \\alpha_{I} \\left(\\alpha_{II} - 2 \\beta_{I} + \\beta_{II}\\right) + \\alpha_{II} \\beta_{I} - \\beta_{I}^{2} + \\beta_{I} \\beta_{II}\\right) \\left(2 \\alpha_{I}^{2} - \\alpha_{I} \\left(3 \\alpha_{II} - 4 \\beta_{I} + 3 \\beta_{II}\\right) + \\alpha_{II}^{2} - \\alpha_{II} \\left(3 \\beta_{I} - 2 \\beta_{II}\\right) + 2 \\beta_{I}^{2} - 3 \\beta_{I} \\beta_{II} + \\beta_{II}^{2}\\right)} + \\frac{2.0 \\alpha_{I}^{2} \\beta_{II} e^{- t \\left(\\alpha_{II} + \\beta_{II}\\right)}}{\\left(\\alpha_{II} + \\beta_{II}\\right) \\left(2 \\alpha_{I}^{2} - \\alpha_{I} \\left(3 \\alpha_{II} - 4 \\beta_{I} + 3 \\beta_{II}\\right) + \\alpha_{II}^{2} - \\alpha_{II} \\left(3 \\beta_{I} - 2 \\beta_{II}\\right) + 2 \\beta_{I}^{2} - 3 \\beta_{I} \\beta_{II} + \\beta_{II}^{2}\\right)} + \\frac{\\alpha_{I} \\left(\\alpha_{I} \\left(\\alpha_{I} - 4.0 \\alpha_{II} + \\beta_{I}\\right) + 3.0 \\alpha_{II} \\left(\\alpha_{I} + \\beta_{I}\\right) - 3.0 \\beta_{I} \\left(\\alpha_{I} + \\beta_{I}\\right) + 3.0 \\beta_{II} \\left(\\alpha_{I} + \\beta_{I}\\right)\\right) e^{- t \\left(\\alpha_{I} + \\beta_{I}\\right)}}{\\left(\\alpha_{I} + \\beta_{I}\\right) \\left(- 2.0 \\alpha_{I}^{2} + \\alpha_{I} \\left(2.0 \\alpha_{II} - 4.0 \\beta_{I} + 2.0 \\beta_{II}\\right) + 2.0 \\alpha_{II} \\beta_{I} - 2.0 \\beta_{I}^{2} + 2.0 \\beta_{I} \\beta_{II}\\right)} + \\frac{\\left(2.0 \\alpha_{I}^{2} \\alpha_{II} - 2.0 \\alpha_{I} \\left(\\alpha_{I} + \\beta_{I}\\right) \\left(\\alpha_{II} - \\beta_{I} + \\beta_{II}\\right) + \\alpha_{II} \\beta_{I} \\left(\\alpha_{I} + \\beta_{I}\\right) - 2.0 \\beta_{I}^{2} \\left(\\alpha_{I} + \\beta_{I}\\right) + \\beta_{I} \\beta_{II} \\left(\\alpha_{I} + \\beta_{I}\\right)\\right) e^{- t \\left(2 \\alpha_{I} + 2 \\beta_{I}\\right)}}{\\left(\\alpha_{I} + \\beta_{I}\\right) \\left(- 4.0 \\alpha_{I}^{2} + \\alpha_{I} \\left(2.0 \\alpha_{II} - 8.0 \\beta_{I} + 2.0 \\beta_{II}\\right) + 2.0 \\alpha_{II} \\beta_{I} - 4.0 \\beta_{I}^{2} + 2.0 \\beta_{I} \\beta_{II}\\right)}$"
      ],
      "text/plain": [
       "Eq(P3_I(t), alpha_I**2*alpha_II*(2*(alpha_I + beta_I)*(-2*alpha_I**2 + alpha_I*(alpha_II - 4*beta_I + beta_II) + alpha_II*beta_I - 2*beta_I**2 + beta_I*beta_II)*(-alpha_I**2 + alpha_I*(alpha_II - 2*beta_I + beta_II) + alpha_II*beta_I - beta_I**2 + beta_I*beta_II) + 2*(alpha_II + beta_II)*(-2*alpha_I**2 + alpha_I*(alpha_II - 4*beta_I + beta_II) + alpha_II*beta_I - 2*beta_I**2 + beta_I*beta_II)*(2*alpha_I**2 - alpha_I*(3*alpha_II - 4*beta_I + 3*beta_II) + alpha_II**2 - alpha_II*(3*beta_I - 2*beta_II) + 2*beta_I**2 - 3*beta_I*beta_II + beta_II**2) - (alpha_II + beta_II)*(-alpha_I**2 + alpha_I*(alpha_II - 2*beta_I + beta_II) + alpha_II*beta_I - beta_I**2 + beta_I*beta_II)*(2*alpha_I**2 - alpha_I*(3*alpha_II - 4*beta_I + 3*beta_II) + alpha_II**2 - alpha_II*(3*beta_I - 2*beta_II) + 2*beta_I**2 - 3*beta_I*beta_II + beta_II**2))/((alpha_I + beta_I)*(alpha_II + beta_II)*(-2*alpha_I**2 + alpha_I*(alpha_II - 4*beta_I + beta_II) + alpha_II*beta_I - 2*beta_I**2 + beta_I*beta_II)*(-alpha_I**2 + alpha_I*(alpha_II - 2*beta_I + beta_II) + alpha_II*beta_I - beta_I**2 + beta_I*beta_II)*(2*alpha_I**2 - alpha_I*(3*alpha_II - 4*beta_I + 3*beta_II) + alpha_II**2 - alpha_II*(3*beta_I - 2*beta_II) + 2*beta_I**2 - 3*beta_I*beta_II + beta_II**2)) + 2.0*alpha_I**2*beta_II*exp(-t*(alpha_II + beta_II))/((alpha_II + beta_II)*(2*alpha_I**2 - alpha_I*(3*alpha_II - 4*beta_I + 3*beta_II) + alpha_II**2 - alpha_II*(3*beta_I - 2*beta_II) + 2*beta_I**2 - 3*beta_I*beta_II + beta_II**2)) + alpha_I*(alpha_I*(alpha_I - 4.0*alpha_II + beta_I) + 3.0*alpha_II*(alpha_I + beta_I) - 3.0*beta_I*(alpha_I + beta_I) + 3.0*beta_II*(alpha_I + beta_I))*exp(-t*(alpha_I + beta_I))/((alpha_I + beta_I)*(-2.0*alpha_I**2 + alpha_I*(2.0*alpha_II - 4.0*beta_I + 2.0*beta_II) + 2.0*alpha_II*beta_I - 2.0*beta_I**2 + 2.0*beta_I*beta_II)) + (2.0*alpha_I**2*alpha_II - 2.0*alpha_I*(alpha_I + beta_I)*(alpha_II - beta_I + beta_II) + alpha_II*beta_I*(alpha_I + beta_I) - 2.0*beta_I**2*(alpha_I + beta_I) + beta_I*beta_II*(alpha_I + beta_I))*exp(-t*(2*alpha_I + 2*beta_I))/((alpha_I + beta_I)*(-4.0*alpha_I**2 + alpha_I*(2.0*alpha_II - 8.0*beta_I + 2.0*beta_II) + 2.0*alpha_II*beta_I - 4.0*beta_I**2 + 2.0*beta_I*beta_II)))"
      ]
     },
     "metadata": {},
     "output_type": "display_data"
    },
    {
     "data": {
      "text/latex": [
       "$\\displaystyle P_{2 II}{\\left(t \\right)} = \\frac{\\alpha_{II}}{\\alpha_{II} + \\beta_{II}} + \\frac{1.0 \\beta_{II} e^{- t \\left(\\alpha_{II} + \\beta_{II}\\right)}}{\\alpha_{II} + \\beta_{II}}$"
      ],
      "text/plain": [
       "Eq(P2_II(t), alpha_II/(alpha_II + beta_II) + 1.0*beta_II*exp(-t*(alpha_II + beta_II))/(alpha_II + beta_II))"
      ]
     },
     "metadata": {},
     "output_type": "display_data"
    }
   ],
   "source": [
    "# Символьные начальные условия\n",
    "P2_I_0, P3_I_0, P2_II_0 = sym.symbols('P2_I_0 P3_I_0 P2_II_0')  # начальные значения\n",
    "\n",
    "# Словарь начальных условий\n",
    "ics = {\n",
    "    P2_I.subs(t, 0): 1/2, #P2_I_0,\n",
    "    P3_I.subs(t, 0): 1/2, #P3_I_0,\n",
    "    P2_II.subs(t, 0): 1 #P2_II_0\n",
    "}\n",
    "#\n",
    "## Решение системы ОДУ с начальными условиями\n",
    "solution = sym.dsolve(system, ics=ics)\n",
    "#\n",
    "# Красивый вывод решений\n",
    "for sol in solution:\n",
    "    #simplified = sym.simplify(sol)\n",
    "    display(sol)"
   ]
  },
  {
   "cell_type": "code",
   "execution_count": 16,
   "metadata": {},
   "outputs": [
    {
     "data": {
      "text/latex": [
       "$\\displaystyle \\frac{\\alpha_{I}^{2} \\alpha_{II} \\left(2 \\left(\\alpha_{I} + \\beta_{I}\\right) \\left(- 2 \\alpha_{I}^{2} + \\alpha_{I} \\left(\\alpha_{II} - 4 \\beta_{I} + \\beta_{II}\\right) + \\alpha_{II} \\beta_{I} - 2 \\beta_{I}^{2} + \\beta_{I} \\beta_{II}\\right) \\left(- \\alpha_{I}^{2} + \\alpha_{I} \\left(\\alpha_{II} - 2 \\beta_{I} + \\beta_{II}\\right) + \\alpha_{II} \\beta_{I} - \\beta_{I}^{2} + \\beta_{I} \\beta_{II}\\right) + 2 \\left(\\alpha_{II} + \\beta_{II}\\right) \\left(- 2 \\alpha_{I}^{2} + \\alpha_{I} \\left(\\alpha_{II} - 4 \\beta_{I} + \\beta_{II}\\right) + \\alpha_{II} \\beta_{I} - 2 \\beta_{I}^{2} + \\beta_{I} \\beta_{II}\\right) \\left(2 \\alpha_{I}^{2} - \\alpha_{I} \\left(3 \\alpha_{II} - 4 \\beta_{I} + 3 \\beta_{II}\\right) + \\alpha_{II}^{2} - \\alpha_{II} \\left(3 \\beta_{I} - 2 \\beta_{II}\\right) + 2 \\beta_{I}^{2} - 3 \\beta_{I} \\beta_{II} + \\beta_{II}^{2}\\right) - \\left(\\alpha_{II} + \\beta_{II}\\right) \\left(- \\alpha_{I}^{2} + \\alpha_{I} \\left(\\alpha_{II} - 2 \\beta_{I} + \\beta_{II}\\right) + \\alpha_{II} \\beta_{I} - \\beta_{I}^{2} + \\beta_{I} \\beta_{II}\\right) \\left(2 \\alpha_{I}^{2} - \\alpha_{I} \\left(3 \\alpha_{II} - 4 \\beta_{I} + 3 \\beta_{II}\\right) + \\alpha_{II}^{2} - \\alpha_{II} \\left(3 \\beta_{I} - 2 \\beta_{II}\\right) + 2 \\beta_{I}^{2} - 3 \\beta_{I} \\beta_{II} + \\beta_{II}^{2}\\right)\\right)}{\\left(\\alpha_{I} + \\beta_{I}\\right) \\left(\\alpha_{II} + \\beta_{II}\\right) \\left(- 2 \\alpha_{I}^{2} + \\alpha_{I} \\left(\\alpha_{II} - 4 \\beta_{I} + \\beta_{II}\\right) + \\alpha_{II} \\beta_{I} - 2 \\beta_{I}^{2} + \\beta_{I} \\beta_{II}\\right) \\left(- \\alpha_{I}^{2} + \\alpha_{I} \\left(\\alpha_{II} - 2 \\beta_{I} + \\beta_{II}\\right) + \\alpha_{II} \\beta_{I} - \\beta_{I}^{2} + \\beta_{I} \\beta_{II}\\right) \\left(2 \\alpha_{I}^{2} - \\alpha_{I} \\left(3 \\alpha_{II} - 4 \\beta_{I} + 3 \\beta_{II}\\right) + \\alpha_{II}^{2} - \\alpha_{II} \\left(3 \\beta_{I} - 2 \\beta_{II}\\right) + 2 \\beta_{I}^{2} - 3 \\beta_{I} \\beta_{II} + \\beta_{II}^{2}\\right)} + \\frac{2.0 \\alpha_{I}^{2} \\beta_{II} e^{- t \\left(\\alpha_{II} + \\beta_{II}\\right)}}{\\left(\\alpha_{II} + \\beta_{II}\\right) \\left(2 \\alpha_{I}^{2} - \\alpha_{I} \\left(3 \\alpha_{II} - 4 \\beta_{I} + 3 \\beta_{II}\\right) + \\alpha_{II}^{2} - \\alpha_{II} \\left(3 \\beta_{I} - 2 \\beta_{II}\\right) + 2 \\beta_{I}^{2} - 3 \\beta_{I} \\beta_{II} + \\beta_{II}^{2}\\right)} - \\frac{2 \\alpha_{I} \\alpha_{II} \\left(- \\alpha_{I} \\left(\\alpha_{II} + \\beta_{II}\\right) \\left(\\alpha_{I}^{2} + 2 \\alpha_{I} \\beta_{I} + \\beta_{I}^{2}\\right) \\left(2 \\alpha_{I}^{2} - \\alpha_{I} \\left(3 \\alpha_{II} - 4 \\beta_{I} + 3 \\beta_{II}\\right) + \\alpha_{II}^{2} - \\alpha_{II} \\left(3 \\beta_{I} - 2 \\beta_{II}\\right) + 2 \\beta_{I}^{2} - 3 \\beta_{I} \\beta_{II} + \\beta_{II}^{2}\\right) + \\alpha_{II} \\left(\\alpha_{I} + \\beta_{I}\\right) \\left(- 2 \\alpha_{I}^{2} + \\alpha_{I} \\left(\\alpha_{II} - 4 \\beta_{I} + \\beta_{II}\\right) + \\alpha_{II} \\beta_{I} - 2 \\beta_{I}^{2} + \\beta_{I} \\beta_{II}\\right) \\left(- \\alpha_{I}^{2} + \\alpha_{I} \\left(\\alpha_{II} - 2 \\beta_{I} + \\beta_{II}\\right) + \\alpha_{II} \\beta_{I} - \\beta_{I}^{2} + \\beta_{I} \\beta_{II}\\right) - \\beta_{I} \\left(2 \\left(\\alpha_{I} + \\beta_{I}\\right) \\left(- \\alpha_{I}^{2} + \\alpha_{I} \\left(\\alpha_{II} - 2 \\beta_{I} + \\beta_{II}\\right) + \\alpha_{II} \\beta_{I} - \\beta_{I}^{2} + \\beta_{I} \\beta_{II}\\right) + \\left(\\alpha_{II} + \\beta_{II}\\right) \\left(2 \\alpha_{I}^{2} - \\alpha_{I} \\left(3 \\alpha_{II} - 4 \\beta_{I} + 3 \\beta_{II}\\right) + \\alpha_{II}^{2} - \\alpha_{II} \\left(3 \\beta_{I} - 2 \\beta_{II}\\right) + 2 \\beta_{I}^{2} - 3 \\beta_{I} \\beta_{II} + \\beta_{II}^{2}\\right)\\right) \\left(- 2 \\alpha_{I}^{2} + \\alpha_{I} \\left(\\alpha_{II} - 4 \\beta_{I} + \\beta_{II}\\right) + \\alpha_{II} \\beta_{I} - 2 \\beta_{I}^{2} + \\beta_{I} \\beta_{II}\\right) + \\beta_{II} \\left(\\alpha_{I} + \\beta_{I}\\right) \\left(- 2 \\alpha_{I}^{2} + \\alpha_{I} \\left(\\alpha_{II} - 4 \\beta_{I} + \\beta_{II}\\right) + \\alpha_{II} \\beta_{I} - 2 \\beta_{I}^{2} + \\beta_{I} \\beta_{II}\\right) \\left(- \\alpha_{I}^{2} + \\alpha_{I} \\left(\\alpha_{II} - 2 \\beta_{I} + \\beta_{II}\\right) + \\alpha_{II} \\beta_{I} - \\beta_{I}^{2} + \\beta_{I} \\beta_{II}\\right)\\right)}{\\left(\\alpha_{I} + \\beta_{I}\\right) \\left(\\alpha_{II} + \\beta_{II}\\right) \\left(- 2 \\alpha_{I}^{2} + \\alpha_{I} \\left(\\alpha_{II} - 4 \\beta_{I} + \\beta_{II}\\right) + \\alpha_{II} \\beta_{I} - 2 \\beta_{I}^{2} + \\beta_{I} \\beta_{II}\\right) \\left(- \\alpha_{I}^{2} + \\alpha_{I} \\left(\\alpha_{II} - 2 \\beta_{I} + \\beta_{II}\\right) + \\alpha_{II} \\beta_{I} - \\beta_{I}^{2} + \\beta_{I} \\beta_{II}\\right) \\left(2 \\alpha_{I}^{2} - \\alpha_{I} \\left(3 \\alpha_{II} - 4 \\beta_{I} + 3 \\beta_{II}\\right) + \\alpha_{II}^{2} - \\alpha_{II} \\left(3 \\beta_{I} - 2 \\beta_{II}\\right) + 2 \\beta_{I}^{2} - 3 \\beta_{I} \\beta_{II} + \\beta_{II}^{2}\\right)} - \\frac{\\alpha_{I} \\beta_{II} \\left(2.0 \\alpha_{II} - 4.0 \\beta_{I} + 2.0 \\beta_{II}\\right) e^{- t \\left(\\alpha_{II} + \\beta_{II}\\right)}}{\\left(\\alpha_{II} + \\beta_{II}\\right) \\left(2 \\alpha_{I}^{2} - \\alpha_{I} \\left(3 \\alpha_{II} - 4 \\beta_{I} + 3 \\beta_{II}\\right) + \\alpha_{II}^{2} - \\alpha_{II} \\left(3 \\beta_{I} - 2 \\beta_{II}\\right) + 2 \\beta_{I}^{2} - 3 \\beta_{I} \\beta_{II} + \\beta_{II}^{2}\\right)} + \\frac{\\alpha_{I} \\left(\\alpha_{I} \\left(\\alpha_{I} - 4.0 \\alpha_{II} + \\beta_{I}\\right) + 3.0 \\alpha_{II} \\left(\\alpha_{I} + \\beta_{I}\\right) - 3.0 \\beta_{I} \\left(\\alpha_{I} + \\beta_{I}\\right) + 3.0 \\beta_{II} \\left(\\alpha_{I} + \\beta_{I}\\right)\\right) e^{- t \\left(\\alpha_{I} + \\beta_{I}\\right)}}{\\left(\\alpha_{I} + \\beta_{I}\\right) \\left(- 2.0 \\alpha_{I}^{2} + \\alpha_{I} \\left(2.0 \\alpha_{II} - 4.0 \\beta_{I} + 2.0 \\beta_{II}\\right) + 2.0 \\alpha_{II} \\beta_{I} - 2.0 \\beta_{I}^{2} + 2.0 \\beta_{I} \\beta_{II}\\right)} - \\frac{\\left(\\alpha_{I} - \\beta_{I}\\right) \\left(\\alpha_{I} \\left(\\alpha_{I} - 4.0 \\alpha_{II} + \\beta_{I}\\right) + 3.0 \\alpha_{II} \\left(\\alpha_{I} + \\beta_{I}\\right) - 3.0 \\beta_{I} \\left(\\alpha_{I} + \\beta_{I}\\right) + 3.0 \\beta_{II} \\left(\\alpha_{I} + \\beta_{I}\\right)\\right) e^{- t \\left(\\alpha_{I} + \\beta_{I}\\right)}}{\\left(\\alpha_{I} + \\beta_{I}\\right) \\left(- 2.0 \\alpha_{I}^{2} + \\alpha_{I} \\left(2.0 \\alpha_{II} - 4.0 \\beta_{I} + 2.0 \\beta_{II}\\right) + 2.0 \\alpha_{II} \\beta_{I} - 2.0 \\beta_{I}^{2} + 2.0 \\beta_{I} \\beta_{II}\\right)} - \\frac{\\left(2.0 \\alpha_{I}^{2} \\alpha_{II} - 2.0 \\alpha_{I} \\left(\\alpha_{I} + \\beta_{I}\\right) \\left(\\alpha_{II} - \\beta_{I} + \\beta_{II}\\right) + \\alpha_{II} \\beta_{I} \\left(\\alpha_{I} + \\beta_{I}\\right) - 2.0 \\beta_{I}^{2} \\left(\\alpha_{I} + \\beta_{I}\\right) + \\beta_{I} \\beta_{II} \\left(\\alpha_{I} + \\beta_{I}\\right)\\right) e^{- t \\left(2 \\alpha_{I} + 2 \\beta_{I}\\right)}}{\\left(\\alpha_{I} + \\beta_{I}\\right) \\left(- 4.0 \\alpha_{I}^{2} + \\alpha_{I} \\left(2.0 \\alpha_{II} - 8.0 \\beta_{I} + 2.0 \\beta_{II}\\right) + 2.0 \\alpha_{II} \\beta_{I} - 4.0 \\beta_{I}^{2} + 2.0 \\beta_{I} \\beta_{II}\\right)}$"
      ],
      "text/plain": [
       "alpha_I**2*alpha_II*(2*(alpha_I + beta_I)*(-2*alpha_I**2 + alpha_I*(alpha_II - 4*beta_I + beta_II) + alpha_II*beta_I - 2*beta_I**2 + beta_I*beta_II)*(-alpha_I**2 + alpha_I*(alpha_II - 2*beta_I + beta_II) + alpha_II*beta_I - beta_I**2 + beta_I*beta_II) + 2*(alpha_II + beta_II)*(-2*alpha_I**2 + alpha_I*(alpha_II - 4*beta_I + beta_II) + alpha_II*beta_I - 2*beta_I**2 + beta_I*beta_II)*(2*alpha_I**2 - alpha_I*(3*alpha_II - 4*beta_I + 3*beta_II) + alpha_II**2 - alpha_II*(3*beta_I - 2*beta_II) + 2*beta_I**2 - 3*beta_I*beta_II + beta_II**2) - (alpha_II + beta_II)*(-alpha_I**2 + alpha_I*(alpha_II - 2*beta_I + beta_II) + alpha_II*beta_I - beta_I**2 + beta_I*beta_II)*(2*alpha_I**2 - alpha_I*(3*alpha_II - 4*beta_I + 3*beta_II) + alpha_II**2 - alpha_II*(3*beta_I - 2*beta_II) + 2*beta_I**2 - 3*beta_I*beta_II + beta_II**2))/((alpha_I + beta_I)*(alpha_II + beta_II)*(-2*alpha_I**2 + alpha_I*(alpha_II - 4*beta_I + beta_II) + alpha_II*beta_I - 2*beta_I**2 + beta_I*beta_II)*(-alpha_I**2 + alpha_I*(alpha_II - 2*beta_I + beta_II) + alpha_II*beta_I - beta_I**2 + beta_I*beta_II)*(2*alpha_I**2 - alpha_I*(3*alpha_II - 4*beta_I + 3*beta_II) + alpha_II**2 - alpha_II*(3*beta_I - 2*beta_II) + 2*beta_I**2 - 3*beta_I*beta_II + beta_II**2)) + 2.0*alpha_I**2*beta_II*exp(-t*(alpha_II + beta_II))/((alpha_II + beta_II)*(2*alpha_I**2 - alpha_I*(3*alpha_II - 4*beta_I + 3*beta_II) + alpha_II**2 - alpha_II*(3*beta_I - 2*beta_II) + 2*beta_I**2 - 3*beta_I*beta_II + beta_II**2)) - 2*alpha_I*alpha_II*(-alpha_I*(alpha_II + beta_II)*(alpha_I**2 + 2*alpha_I*beta_I + beta_I**2)*(2*alpha_I**2 - alpha_I*(3*alpha_II - 4*beta_I + 3*beta_II) + alpha_II**2 - alpha_II*(3*beta_I - 2*beta_II) + 2*beta_I**2 - 3*beta_I*beta_II + beta_II**2) + alpha_II*(alpha_I + beta_I)*(-2*alpha_I**2 + alpha_I*(alpha_II - 4*beta_I + beta_II) + alpha_II*beta_I - 2*beta_I**2 + beta_I*beta_II)*(-alpha_I**2 + alpha_I*(alpha_II - 2*beta_I + beta_II) + alpha_II*beta_I - beta_I**2 + beta_I*beta_II) - beta_I*(2*(alpha_I + beta_I)*(-alpha_I**2 + alpha_I*(alpha_II - 2*beta_I + beta_II) + alpha_II*beta_I - beta_I**2 + beta_I*beta_II) + (alpha_II + beta_II)*(2*alpha_I**2 - alpha_I*(3*alpha_II - 4*beta_I + 3*beta_II) + alpha_II**2 - alpha_II*(3*beta_I - 2*beta_II) + 2*beta_I**2 - 3*beta_I*beta_II + beta_II**2))*(-2*alpha_I**2 + alpha_I*(alpha_II - 4*beta_I + beta_II) + alpha_II*beta_I - 2*beta_I**2 + beta_I*beta_II) + beta_II*(alpha_I + beta_I)*(-2*alpha_I**2 + alpha_I*(alpha_II - 4*beta_I + beta_II) + alpha_II*beta_I - 2*beta_I**2 + beta_I*beta_II)*(-alpha_I**2 + alpha_I*(alpha_II - 2*beta_I + beta_II) + alpha_II*beta_I - beta_I**2 + beta_I*beta_II))/((alpha_I + beta_I)*(alpha_II + beta_II)*(-2*alpha_I**2 + alpha_I*(alpha_II - 4*beta_I + beta_II) + alpha_II*beta_I - 2*beta_I**2 + beta_I*beta_II)*(-alpha_I**2 + alpha_I*(alpha_II - 2*beta_I + beta_II) + alpha_II*beta_I - beta_I**2 + beta_I*beta_II)*(2*alpha_I**2 - alpha_I*(3*alpha_II - 4*beta_I + 3*beta_II) + alpha_II**2 - alpha_II*(3*beta_I - 2*beta_II) + 2*beta_I**2 - 3*beta_I*beta_II + beta_II**2)) - alpha_I*beta_II*(2.0*alpha_II - 4.0*beta_I + 2.0*beta_II)*exp(-t*(alpha_II + beta_II))/((alpha_II + beta_II)*(2*alpha_I**2 - alpha_I*(3*alpha_II - 4*beta_I + 3*beta_II) + alpha_II**2 - alpha_II*(3*beta_I - 2*beta_II) + 2*beta_I**2 - 3*beta_I*beta_II + beta_II**2)) + alpha_I*(alpha_I*(alpha_I - 4.0*alpha_II + beta_I) + 3.0*alpha_II*(alpha_I + beta_I) - 3.0*beta_I*(alpha_I + beta_I) + 3.0*beta_II*(alpha_I + beta_I))*exp(-t*(alpha_I + beta_I))/((alpha_I + beta_I)*(-2.0*alpha_I**2 + alpha_I*(2.0*alpha_II - 4.0*beta_I + 2.0*beta_II) + 2.0*alpha_II*beta_I - 2.0*beta_I**2 + 2.0*beta_I*beta_II)) - (alpha_I - beta_I)*(alpha_I*(alpha_I - 4.0*alpha_II + beta_I) + 3.0*alpha_II*(alpha_I + beta_I) - 3.0*beta_I*(alpha_I + beta_I) + 3.0*beta_II*(alpha_I + beta_I))*exp(-t*(alpha_I + beta_I))/((alpha_I + beta_I)*(-2.0*alpha_I**2 + alpha_I*(2.0*alpha_II - 4.0*beta_I + 2.0*beta_II) + 2.0*alpha_II*beta_I - 2.0*beta_I**2 + 2.0*beta_I*beta_II)) - (2.0*alpha_I**2*alpha_II - 2.0*alpha_I*(alpha_I + beta_I)*(alpha_II - beta_I + beta_II) + alpha_II*beta_I*(alpha_I + beta_I) - 2.0*beta_I**2*(alpha_I + beta_I) + beta_I*beta_II*(alpha_I + beta_I))*exp(-t*(2*alpha_I + 2*beta_I))/((alpha_I + beta_I)*(-4.0*alpha_I**2 + alpha_I*(2.0*alpha_II - 8.0*beta_I + 2.0*beta_II) + 2.0*alpha_II*beta_I - 4.0*beta_I**2 + 2.0*beta_I*beta_II))"
      ]
     },
     "metadata": {},
     "output_type": "display_data"
    }
   ],
   "source": [
    "sum_expr = (solution[0].rhs + solution[1].rhs)\n",
    "display(sum_expr)"
   ]
  },
  {
   "cell_type": "code",
   "execution_count": 17,
   "metadata": {},
   "outputs": [],
   "source": [
    "#Функция lambdify() переводит выражения SymPy в функции Python.\n",
    "#f = lambdify([a, b], expr, \"numpy\")"
   ]
  },
  {
   "cell_type": "code",
   "execution_count": 19,
   "metadata": {},
   "outputs": [],
   "source": [
    "#solution"
   ]
  },
  {
   "cell_type": "code",
   "execution_count": null,
   "metadata": {},
   "outputs": [],
   "source": []
  }
 ],
 "metadata": {
  "kernelspec": {
   "display_name": "Python 3 (ipykernel)",
   "language": "python",
   "name": "python3"
  },
  "language_info": {
   "codemirror_mode": {
    "name": "ipython",
    "version": 3
   },
   "file_extension": ".py",
   "mimetype": "text/x-python",
   "name": "python",
   "nbconvert_exporter": "python",
   "pygments_lexer": "ipython3",
   "version": "3.11.6"
  }
 },
 "nbformat": 4,
 "nbformat_minor": 4
}
