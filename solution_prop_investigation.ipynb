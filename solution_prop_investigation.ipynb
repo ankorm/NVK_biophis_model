{
 "cells": [
  {
   "cell_type": "markdown",
   "id": "bb7ef613-02e0-46cc-81a2-7e5f399cf163",
   "metadata": {},
   "source": [
    "# Исследование свойств решения уравнений колмогорова"
   ]
  },
  {
   "cell_type": "code",
   "execution_count": 1,
   "id": "91adc229-05b3-4d8b-adfd-3799fa4c88a5",
   "metadata": {},
   "outputs": [],
   "source": [
    "# 2-state\n"
   ]
  },
  {
   "cell_type": "code",
   "execution_count": 2,
   "id": "8759bb94-e996-4662-aff8-db94c20c178e",
   "metadata": {},
   "outputs": [],
   "source": [
    "# 3-state"
   ]
  },
  {
   "cell_type": "code",
   "execution_count": 3,
   "id": "e6d1363b-bbfd-40f5-b68d-9a09f438c26c",
   "metadata": {},
   "outputs": [],
   "source": [
    "# 4-state"
   ]
  },
  {
   "cell_type": "code",
   "execution_count": 4,
   "id": "505ea18d-80cc-4647-86e2-c753e055ef8f",
   "metadata": {},
   "outputs": [],
   "source": [
    "import numpy as np"
   ]
  },
  {
   "cell_type": "code",
   "execution_count": 5,
   "id": "7a0f1714-da29-4184-8dd5-b4bb77ff8348",
   "metadata": {},
   "outputs": [],
   "source": [
    "import ___kolmogorov_models as kolm_mod"
   ]
  },
  {
   "cell_type": "code",
   "execution_count": 6,
   "id": "e9b4795b-f3cb-4ec5-ba5c-a2cba6156363",
   "metadata": {},
   "outputs": [],
   "source": [
    "from scipy.integrate import solve_ivp\n",
    "import matplotlib.pyplot as plt\n",
    "import numpy as np\n"
   ]
  },
  {
   "cell_type": "code",
   "execution_count": 7,
   "id": "3989abb7-340c-4bc6-9928-3e4266ab7a62",
   "metadata": {},
   "outputs": [],
   "source": [
    "# Тестовая функция вероятности открытия\n",
    "def bolt_Popen(V, V12=-80, s=6):\n",
    "    return 1 / (1 + np.exp((V - V12) / s))\n",
    "\n",
    "def tau(V):\n",
    "    return 4  # можно заменить на любую функцию"
   ]
  },
  {
   "cell_type": "code",
   "execution_count": 8,
   "id": "041261b4-6584-4161-a021-1a7e636855bd",
   "metadata": {},
   "outputs": [],
   "source": [
    "# Функции переходов\n",
    "def alpha_test(V, bolt_Popen, V12, s, tau):\n",
    "    P = (bolt_Popen(V, V12=V12, s=s))**(1/3)\n",
    "    return P / tau(V)\n",
    "\n",
    "def beta_test(V, bolt_Popen, V12, s, tau):\n",
    "    P = (bolt_Popen(V, V12=V12, s=s))**(1/3)\n",
    "    return (1 - P) / tau(V)\n",
    "\n",
    "    # Функции переходов\n",
    "\n",
    "def alpha_full(V, a_alpha, b_alpha):\n",
    "    u = a_alpha * V + b_alpha\n",
    "    # Чтобы избежать деления на 0 при u → 0\n",
    "    with np.errstate(divide='ignore', invalid='ignore'):\n",
    "        result = np.where(np.abs(u) < 1e-8, 1.0, u / (1 - np.exp(-u)))\n",
    "    return result\n",
    "\n",
    "def beta_full(V, a_beta, b_beta):\n",
    "    u = a_beta * V + b_beta\n",
    "    return np.exp(-u)"
   ]
  },
  {
   "cell_type": "code",
   "execution_count": 12,
   "id": "ffb0f0fe-a8de-4c96-9449-d8e07b743ed9",
   "metadata": {},
   "outputs": [],
   "source": [
    "    # Функции интенсивностей для активацинных ворот -- растущая // из закрытого в открытое\n",
    "def alpha_full(V, p_alpha):\n",
    "    a_alpha, b_alpha = p_alpha[0], p_alpha[1]\n",
    "    u = a_alpha * V + b_alpha\n",
    "    # Чтобы избежать деления на 0 при u → 0\n",
    "    with np.errstate(divide='ignore', invalid='ignore'):\n",
    "        result = np.where(np.abs(u) < 1e-8, 1.0, u / (1 - np.exp(-u)))\n",
    "    return result\n",
    "    \n",
    "# для активацинных ворот -- убывающая // из открытого в закрытое\n",
    "def beta_full(V, p_beta): # из открытого в закрытое\n",
    "    a_alpha, b_alpha = p_beta[0], p_beta[1]\n",
    "    u = a_beta * V + b_beta\n",
    "    return np.exp(-u)\n",
    "\n",
    "def state_x4_depend_ab_stat_sol(V,  alpha_func, beta_func, p_alpha, p_beta):\n",
    "    alpha = alpha_func(V, p_alpha)\n",
    "    beta = beta_func(V, p_beta)\n",
    "\n",
    "    denom = alpha**3 + 3*alpha**2*beta + 3*alpha*beta**2 + beta**3\n",
    "\n",
    "    P2_eq = 3 * alpha * beta**2 / denom\n",
    "    P3_eq = 3 * alpha**2 * beta / denom\n",
    "    P4_eq = alpha**3 / denom\n",
    "\n",
    "    return {\n",
    "        'P2_eq': P2_eq,\n",
    "        'P3_eq': P3_eq,\n",
    "        'P4_eq': P4_eq\n",
    "    }\n",
    "\n",
    "def state_x4_depend_ab_rph(t, y, V_func, alpha_func=alpha_full, beta_func=beta_full,\n",
    "                           p_alpha=[0,0], p_beta=[0,0], V_0=-170, V_1=-10, t_0=10):\n",
    "    \"\"\"\n",
    "    Правая часть системы ОДУ для модели с четырьмя состояниями ворот.\n",
    "    \n",
    "    Параметры:\n",
    "    ----------\n",
    "    t : float\n",
    "        Время\n",
    "    y : array-like\n",
    "        Вектор состояния [P2, P3, P4]\n",
    "    V_func : callable\n",
    "        Функция напряжения V(t)\n",
    "    a_alpha, b_alpha : float\n",
    "        Параметры функции α(V)\n",
    "    a_beta, b_beta : float\n",
    "        Параметры функции β(V)\n",
    "        \n",
    "    Возвращает:\n",
    "    -----------\n",
    "    dydt : list[float]\n",
    "        Производные [dP2/dt, dP3/dt, dP4/dt]\n",
    "    \"\"\"\n",
    "    P2, P3, P4 = y\n",
    "    V = V_func(t, V_0, V_1, t_0=10)\n",
    "\n",
    "    alpha = alpha_func(V, p_alpha)\n",
    "    beta = beta_func(V, p_beta)\n",
    "\n",
    "    dP2dt = 3 * alpha * (1 - P2 - P3 - P4) + 2 * beta * P3 + (-2 * alpha - beta) * P2\n",
    "    dP3dt = 2 * alpha * P2 + 3 * beta * P4 + (-alpha - 2 * beta) * P3\n",
    "    dP4dt = alpha * P3 - 3 * beta * P4\n",
    "\n",
    "    return [dP2dt, dP3dt, dP4dt]\n"
   ]
  },
  {
   "cell_type": "code",
   "execution_count": null,
   "id": "6a768f15-cb3b-4ba4-bc9a-d05f8abf2b4d",
   "metadata": {},
   "outputs": [],
   "source": []
  },
  {
   "cell_type": "code",
   "execution_count": 15,
   "id": "2fa5cc13-7be8-48c2-af43-359ff12f3e31",
   "metadata": {},
   "outputs": [],
   "source": [
    "V_0 = -180\n",
    "V_1 = -70\n",
    "def V_volt_clamp(t, V_0, V_1, t_0=10): \n",
    "    return V_0 if t < t_0 else V_1"
   ]
  },
  {
   "cell_type": "code",
   "execution_count": 16,
   "id": "949ce87f-a718-4ca4-b780-105e2d0e5b41",
   "metadata": {},
   "outputs": [
    {
     "data": {
      "image/png": "[encoded data removed]",
      "text/plain": [
       "<Figure size 640x480 with 1 Axes>"
      ]
     },
     "metadata": {},
     "output_type": "display_data"
    }
   ],
   "source": [
    "from scipy.integrate import solve_ivp\n",
    "import matplotlib.pyplot as plt\n",
    "\n",
    "# Заданные параметры\n",
    "a_alpha = 0.0628\n",
    "b_alpha = -2.163\n",
    "a_beta = 0.0872\n",
    "b_beta = 9.16\n",
    "\n",
    "par_a = [a_alpha, b_alpha]\n",
    "par_b = [a_beta, b_beta]\n",
    "\n",
    "# Функция напряжения\n",
    "V_func = lambda t: -40  # постоянное\n",
    "\n",
    "# Начальные условия\n",
    "y0 = [0.0, 0.0, 0.0]\n",
    "\n",
    "# Решение ОДУ\n",
    "sol = solve_ivp(\n",
    "    fun=lambda t, y: state_x4_depend_ab_rph(t, y, V_volt_clamp, alpha_func=alpha_full, beta_func=beta_full,\n",
    "                                            p_alpha=par_a, p_beta=par_b, V_0=V_0, V_1=V_1, t_0=10),\n",
    "    t_span=(0, 100),\n",
    "    y0=y0,\n",
    "    t_eval=np.linspace(0, 100, 1000)\n",
    ")\n",
    "\n",
    "# График\n",
    "plt.plot(sol.t, sol.y[0], label='P2')\n",
    "plt.plot(sol.t, sol.y[1], label='P3')\n",
    "plt.plot(sol.t, sol.y[2], label='P4')\n",
    "plt.xlabel(\"t\")\n",
    "plt.ylabel(\"Probability\")\n",
    "plt.legend()\n",
    "plt.grid(True)\n",
    "plt.title(\"Численное решение 4-состояний\")\n",
    "plt.show()\n"
   ]
  },
  {
   "cell_type": "code",
   "execution_count": 17,
   "id": "b7c7241c-a4f7-4368-b245-6480bba3e020",
   "metadata": {},
   "outputs": [],
   "source": [
    "import nevergrad as ng\n",
    "\n",
    "# ----------------------------------------------------------------------\n",
    "# 2. Функция-цель «0 — если решение существует, иначе 10⁶»\n",
    "# ----------------------------------------------------------------------\n",
    "def objective(x):\n",
    "    # x = [a_alpha, b_alpha, a_beta, b_beta, V_0, V_1]\n",
    "    a_alpha, b_alpha, a_beta, b_beta, V_0, V_1 = x\n",
    "    p_alpha = [a_alpha, b_alpha]\n",
    "    p_beta  = [a_beta, b_beta]\n",
    "    try:\n",
    "        sol = solve_ivp(\n",
    "            fun=lambda t, y: state_x4_depend_ab_rph(\n",
    "                t, y, V_volt_clamp,\n",
    "                alpha_func=alpha_full,\n",
    "                beta_func=beta_full,\n",
    "                p_alpha=p_alpha,\n",
    "                p_beta=p_beta,\n",
    "                V_0=V_0,\n",
    "                V_1=V_1                # ← КЛЮЧ: передаём прямо сюда!\n",
    "            ),\n",
    "            t_span=(0, 100),\n",
    "            y0=[0.0, 0.0, 0.0],\n",
    "            t_eval=np.linspace(0, 100, 400),\n",
    "            rtol=1e-5,\n",
    "            atol=1e-8\n",
    "        )\n",
    "        return 0.0 if is_solution_valid(sol) else 1e6\n",
    "    except Exception:\n",
    "        return 1e6"
   ]
  },
  {
   "cell_type": "code",
   "execution_count": 18,
   "id": "86cda78d-71d0-4218-953e-be6127fb5991",
   "metadata": {},
   "outputs": [
    {
     "name": "stderr",
     "output_type": "stream",
     "text": [
      "/Users/anko/PycharmProjects/NVK_biophis_model/venv/lib/python3.11/site-packages/nevergrad/parametrization/_datalayers.py:107: NevergradRuntimeWarning: Bounds are 0.21000000000000002 sigma away from each other at the closest, you should aim for at least 3 for better quality.\n",
      "  warnings.warn(\n"
     ]
    }
   ],
   "source": [
    "# ----------------------------------------------------------------------\n",
    "# 3. Параметризация Nevergrad\n",
    "# ----------------------------------------------------------------------\n",
    "bounds_min = [-0.01,  -20, -0.01,  -20, -180, -180]   # a_α, b_α, a_β, b_β, V_0, V_1\n",
    "bounds_max = [0.20,   20, 0.20,   20,   20,   20]\n",
    "\n",
    "parametrization = ng.p.Array(shape=(6,)).set_bounds(bounds_min, bounds_max)\n",
    "\n",
    "optimizer = ng.optimizers.NGOpt(\n",
    "    parametrization=parametrization,\n",
    "    budget=2000                # ← сколько «шагов» (решений ОДУ) вы готовы посчитать\n",
    ")\n",
    "\n",
    "recommendation = optimizer.minimize(objective)\n",
    "\n"
   ]
  },
  {
   "cell_type": "code",
   "execution_count": 19,
   "id": "e14a054b-1940-4d65-bc16-65a0d524d621",
   "metadata": {},
   "outputs": [
    {
     "name": "stdout",
     "output_type": "stream",
     "text": [
      "Найдено допустимое решение:\n",
      " a_alpha = 0.15334\n",
      " b_alpha = -2.71683\n",
      " a_beta  = 0.06195\n",
      " b_beta  = -3.25620\n",
      " V_0     = -88.07 mV\n",
      " V_1     = -44.22 mV\n"
     ]
    }
   ],
   "source": [
    "print(\"Найдено допустимое решение:\")\n",
    "print(f\" a_alpha = {recommendation.value[0]:.5f}\")\n",
    "print(f\" b_alpha = {recommendation.value[1]:.5f}\")\n",
    "print(f\" a_beta  = {recommendation.value[2]:.5f}\")\n",
    "print(f\" b_beta  = {recommendation.value[3]:.5f}\")\n",
    "print(f\" V_0     = {recommendation.value[4]:.2f} mV\")\n",
    "print(f\" V_1     = {recommendation.value[5]:.2f} mV\")"
   ]
  },
  {
   "cell_type": "code",
   "execution_count": 20,
   "id": "77589db9-f0bb-4733-b30f-1f0312657072",
   "metadata": {
    "scrolled": true
   },
   "outputs": [],
   "source": [
    "import numpy as np\n",
    "from scipy.integrate import solve_ivp\n",
    "from itertools import repeat\n",
    "from SALib.sample import latin       # pip install SALib\n",
    "from joblib import Parallel, delayed # pip install joblib\n",
    "\n",
    "# -------------------------------------------------------------------\n",
    "# 1.  Volt-Clamp\n",
    "# -------------------------------------------------------------------\n",
    "V0, V1 = -170.0, -50.0          \n",
    "# -------------------------------------------------------------------\n",
    "# 2.  Начальные (очень широкие) пределы\n",
    "# -------------------------------------------------------------------\n",
    "bounds = np.array([\n",
    "    [-1,  1],  # a_alpha\n",
    "    [-30.,  30.],   # b_alpha\n",
    "    [-1,  1],  # a_beta\n",
    "    [-30.,  30.]    # b_beta\n",
    "])\n",
    "# -------------------------------------------------------------------\n",
    "# 3.  Проверка решения\n",
    "# -------------------------------------------------------------------\n",
    "def is_valid(param_vec):\n",
    "    a_a, b_a, a_b, b_b = param_vec\n",
    "    try:\n",
    "        sol = solve_ivp(lambda t, y:\n",
    "                            state_x4_depend_ab_rph(\n",
    "                                t, y, V_volt_clamp,\n",
    "                                alpha_func=alpha_full,\n",
    "                                beta_func=beta_full,\n",
    "                                p_alpha=[a_a, b_a],\n",
    "                                p_beta=[a_b, b_b],\n",
    "                                V_0=V0, V_1=V1),\n",
    "                        (0, 100), [0., 0., 0.],\n",
    "                        t_eval=np.linspace(0, 100, 400),\n",
    "                        rtol=1e-5, atol=1e-8)\n",
    "        return sol.success and np.isfinite(sol.y).all()\n",
    "    except Exception:\n",
    "        return False\n",
    "\n",
    "# -------------------------------------------------------------------\n",
    "# 4.  Итеративное сужение границ\n",
    "# -------------------------------------------------------------------\n",
    "n_iter   = 3          # сколько раз уточняем\n",
    "n_points = 8000       # сколько точек в каждой итерации\n",
    "shrink   = 0.10       # насколько «съедаем» пустой край (10 %)\n",
    "\n",
    "for k in range(n_iter):\n",
    "    # 4.1 LHS-семплирование внутри текущих bounds\n",
    "    problem = {\n",
    "    \"num_vars\": 4,\n",
    "    \"names\":    [\"a_alpha\", \"b_alpha\", \"a_beta\", \"b_beta\"],\n",
    "    \"bounds\":   bounds.tolist()          # ←  БЕЗ .T\n",
    "    }\n",
    "    sample = latin.sample(problem, n_points)\n",
    "\n",
    "    # 4.2 Параллельно проверяем\n",
    "    valid_mask = Parallel(n_jobs=-1, verbose=0)(\n",
    "        delayed(is_valid)(p) for p in sample)\n",
    "    valid_pts = sample[np.array(valid_mask)]\n",
    "\n",
    "    if valid_pts.size == 0:\n",
    "        raise RuntimeError(\"На итерации %d не найдено ни одной валидной точки\" % (k+1))\n",
    "\n",
    "    # 4.3 Новые границы = min/max по валидным точкам\n",
    "    new_bounds = np.column_stack((valid_pts.min(axis=0),\n",
    "                                  valid_pts.max(axis=0)))\n",
    "\n",
    "    # 4.4 «Съедаем» пустое пространство\n",
    "    span = new_bounds[:,1] - new_bounds[:,0]\n",
    "    bounds = np.column_stack((new_bounds[:,0] - shrink*span,\n",
    "                              new_bounds[:,1] + shrink*span))"
   ]
  },
  {
   "cell_type": "code",
   "execution_count": 21,
   "id": "c15ece81-f039-415e-8c04-edc4d5331747",
   "metadata": {},
   "outputs": [
    {
     "name": "stdout",
     "output_type": "stream",
     "text": [
      "a_alpha: [-1.72707  1.72692]\n",
      "b_alpha: [-51.81615  51.81509]\n",
      "a_beta : [-1.72734  1.72744]\n",
      "b_beta : [-51.82048  51.82609]\n"
     ]
    }
   ],
   "source": [
    "# -------------------------------------------------------------------\n",
    "# 5.  Результат\n",
    "# -------------------------------------------------------------------\n",
    "pars = [\"a_alpha\",\"b_alpha\",\"a_beta\",\"b_beta\"]\n",
    "for name,(lo,hi) in zip(pars,bounds):\n",
    "    print(f\"{name:7s}: [{lo: .5f} {hi: .5f}]\")"
   ]
  },
  {
   "cell_type": "markdown",
   "id": "c2dc2863-2cb4-4ea4-bd39-3a7020896c7d",
   "metadata": {},
   "source": [
    "#### Выводы\n",
    "Для разных Volt Clamp имеем следующие допустимыле области значений:\n",
    "1) V: -180.0 -> -40.0: \\\n",
    "a_alpha: [-1.72736  1.72745] \\\n",
    "b_alpha: [-51.82433  51.82322] \\\n",
    "a_beta : [-1.72722  1.72745] \\\n",
    "b_beta : [-51.81788  51.82206] \\\n",
    "комментарий: область симметрична\n",
    "2) при обратном переходе V: -40.0 -> -180.0: \\\n",
    "   a_alpha: [-1.72722  1.72736] \\\n",
    "b_alpha: [-51.81554  51.81188] \\\n",
    "a_beta : [-1.72710  1.72724] \\\n",
    "b_beta : [-51.82585  51.82027] \\\n",
    "значения близки. возможно погрешность счета\n",
    "3) V: -20.0 -> -180.0: результат не меняется"
   ]
  },
  {
   "cell_type": "code",
   "execution_count": null,
   "id": "fe6f0bef-5806-4b6d-946c-a857d7558fb7",
   "metadata": {},
   "outputs": [],
   "source": []
  },
  {
   "cell_type": "markdown",
   "id": "d5e92018-af09-4375-98db-359eebd66bc4",
   "metadata": {},
   "source": [
    "### "
   ]
  },
  {
   "cell_type": "code",
   "execution_count": null,
   "id": "0206e57c-09ee-41ef-b8f1-1107418f68b5",
   "metadata": {},
   "outputs": [],
   "source": []
  }
 ],
 "metadata": {
  "kernelspec": {
   "display_name": "Python 3 (ipykernel)",
   "language": "python",
   "name": "python3"
  },
  "language_info": {
   "codemirror_mode": {
    "name": "ipython",
    "version": 3
   },
   "file_extension": ".py",
   "mimetype": "text/x-python",
   "name": "python",
   "nbconvert_exporter": "python",
   "pygments_lexer": "ipython3",
   "version": "3.11.6"
  }
 },
 "nbformat": 4,
 "nbformat_minor": 5
}
