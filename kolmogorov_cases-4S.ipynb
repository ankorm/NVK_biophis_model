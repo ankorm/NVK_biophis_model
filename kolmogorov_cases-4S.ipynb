{
 "cells": [
  {
   "cell_type": "code",
   "execution_count": 2,
   "metadata": {},
   "outputs": [],
   "source": [
    "import sympy as sym"
   ]
  },
  {
   "cell_type": "markdown",
   "metadata": {},
   "source": [
    "## Четыре состояния ворот с независимыми интенсивностями прехода\n",
    "${S}^1 \\underset{\\beta}{\\stackrel{3\\alpha}{\\rightleftarrows}} {S}^2 \\underset{2\\beta}{\\stackrel{2\\alpha}{\\rightleftarrows}} {S}^3 \\underset{3\\beta}{\\stackrel{\\alpha}{\\rightleftarrows}} {S}^4$\n",
    "\n",
    "Система уравнений Колмогорова\n",
    "\\begin{equation}\n",
    "\t\\begin{aligned}\n",
    "\t& \\dot{P}^1=-3\\alpha {P}^1 +  \\beta {P}^2\\\\\n",
    "\t& \\dot{P}^2=-(2\\alpha+\\beta) {P}^2 + 3 \\alpha {P}^1 +2 \\beta {P}^3\\\\\n",
    "\t& \\dot{P}^3=-(\\alpha+2\\beta) {P}^3 + 2\\alpha {P}^2 +3 \\beta {P}^4\\\\\n",
    "\t& \\dot{P}^4=\\alpha \\mathrm{P}^3 - 3 \\beta \\mathrm{P}^4\\\\\n",
    "\t\\end{aligned}\n",
    "\\end{equation}"
   ]
  },
  {
   "cell_type": "code",
   "execution_count": 3,
   "metadata": {},
   "outputs": [],
   "source": [
    "a,b, lam, p1, p2, p3, p4 = sym.symbols('a,b, lam, p1, p2, p3, p4')"
   ]
  },
  {
   "cell_type": "markdown",
   "metadata": {},
   "source": [
    "$$\n",
    "A=\\left(\\begin{matrix}\n",
    "\t&-3 \\alpha & \\beta                & 0         & 0\\\\\n",
    "\t& 3 \\alpha & - (2\\alpha +  \\beta) & 2 \\beta   & 0\\\\\n",
    "\t&0         &  2 \\alpha  & -(\\alpha + 2 \\beta) & 3 \\beta\\\\\n",
    "\t&0         &  0                   & \\alpha  & -3 \\beta\\\\\n",
    "\\end{matrix}\\right)\n",
    "$$"
   ]
  },
  {
   "cell_type": "code",
   "execution_count": 4,
   "metadata": {},
   "outputs": [
    {
     "data": {
      "text/latex": [
       "$\\displaystyle \\left[\\begin{matrix}- 3 a & b & 0 & 0\\\\3 a & - 2 a - b & 2 b & 0\\\\0 & 2 a & - a - 2 b & 3 b\\\\0 & 0 & a & - 3 b\\end{matrix}\\right]$"
      ],
      "text/plain": [
       "Matrix([\n",
       "[-3*a,        b,        0,    0],\n",
       "[ 3*a, -2*a - b,      2*b,    0],\n",
       "[   0,      2*a, -a - 2*b,  3*b],\n",
       "[   0,        0,        a, -3*b]])"
      ]
     },
     "execution_count": 4,
     "metadata": {},
     "output_type": "execute_result"
    }
   ],
   "source": [
    "A=sym.Matrix([[-3*a, b, 0, 0],[3*a, -(2*a+b), 2*b, 0],[0, 2*a,-(a+2*b), 3*b], [0,0,a,-3*b]])\n",
    "A # матрица системы"
   ]
  },
  {
   "cell_type": "markdown",
   "metadata": {},
   "source": [
    "#### Собственные числа"
   ]
  },
  {
   "cell_type": "code",
   "execution_count": 7,
   "metadata": {},
   "outputs": [
    {
     "data": {
      "text/latex": [
       "$\\displaystyle \\left[\\begin{matrix}lam & 0 & 0 & 0\\\\0 & lam & 0 & 0\\\\0 & 0 & lam & 0\\\\0 & 0 & 0 & lam\\end{matrix}\\right]$"
      ],
      "text/plain": [
       "Matrix([\n",
       "[lam,   0,   0,   0],\n",
       "[  0, lam,   0,   0],\n",
       "[  0,   0, lam,   0],\n",
       "[  0,   0,   0, lam]])"
      ]
     },
     "execution_count": 7,
     "metadata": {},
     "output_type": "execute_result"
    }
   ],
   "source": [
    "sym.eye(4)*lam"
   ]
  },
  {
   "cell_type": "code",
   "execution_count": 20,
   "metadata": {},
   "outputs": [
    {
     "data": {
      "text/latex": [
       "$\\displaystyle lam^{4} + lam^{3} \\cdot \\left(6 a + 6 b\\right) + lam^{2} \\cdot \\left(11 a^{2} + 22 a b + 11 b^{2}\\right) + lam \\left(6 a^{3} + 18 a^{2} b + 18 a b^{2} + 6 b^{3}\\right)$"
      ],
      "text/plain": [
       "lam**4 + lam**3*(6*a + 6*b) + lam**2*(11*a**2 + 22*a*b + 11*b**2) + lam*(6*a**3 + 18*a**2*b + 18*a*b**2 + 6*b**3)"
      ]
     },
     "execution_count": 20,
     "metadata": {},
     "output_type": "execute_result"
    }
   ],
   "source": [
    "D=-sym.eye(4)*lam+A\n",
    "det=sym.collect(D.det(), lam)\n",
    "det # детерминант"
   ]
  },
  {
   "cell_type": "code",
   "execution_count": 21,
   "metadata": {},
   "outputs": [
    {
     "name": "stdout",
     "output_type": "stream",
     "text": [
      "lam^{4} + lam^{3} \\cdot \\left(6 a + 6 b\\right) + lam^{2} \\cdot \\left(11 a^{2} + 22 a b + 11 b^{2}\\right) + lam \\left(6 a^{3} + 18 a^{2} b + 18 a b^{2} + 6 b^{3}\\right)\n"
     ]
    }
   ],
   "source": [
    "sym.print_latex(det)"
   ]
  },
  {
   "cell_type": "code",
   "execution_count": 22,
   "metadata": {},
   "outputs": [],
   "source": [
    "lam1, lam2, lam3, lam0=sym.roots(det, lam)\n",
    "# решения характеристического уравнения"
   ]
  },
  {
   "cell_type": "markdown",
   "metadata": {},
   "source": [
    "#### Стациораные решения"
   ]
  },
  {
   "cell_type": "code",
   "execution_count": 27,
   "metadata": {},
   "outputs": [
    {
     "data": {
      "text/latex": [
       "$\\displaystyle \\frac{a^{3}}{a^{3} + 3 a^{2} b + 3 a b^{2} + b^{3}}$"
      ],
      "text/plain": [
       "a**3/(a**3 + 3*a**2*b + 3*a*b**2 + b**3)"
      ]
     },
     "execution_count": 27,
     "metadata": {},
     "output_type": "execute_result"
    }
   ],
   "source": [
    "C=A*sym.Matrix([[p1],[p2],[p3],[p4]])\n",
    "R=list(sym.linsolve([A, sym.zeros(3,1)], (p1, p2, p3, p4)))[0]\n",
    "p4_st=sym.solve(R[0]+R[1]+R[2]+R[3]-1, p4)[0]\n",
    "p4_st"
   ]
  },
  {
   "cell_type": "code",
   "execution_count": 28,
   "metadata": {},
   "outputs": [
    {
     "data": {
      "text/latex": [
       "$\\displaystyle \\frac{3 a^{2} b}{a^{3} + 3 a^{2} b + 3 a b^{2} + b^{3}}$"
      ],
      "text/plain": [
       "3*a**2*b/(a**3 + 3*a**2*b + 3*a*b**2 + b**3)"
      ]
     },
     "execution_count": 28,
     "metadata": {},
     "output_type": "execute_result"
    }
   ],
   "source": [
    "p3_st=R[2].subs(p4, p4_st)\n",
    "p3_st"
   ]
  },
  {
   "cell_type": "code",
   "execution_count": 31,
   "metadata": {},
   "outputs": [
    {
     "data": {
      "text/latex": [
       "$\\displaystyle \\frac{3 a b^{2}}{a^{3} + 3 a^{2} b + 3 a b^{2} + b^{3}}$"
      ],
      "text/plain": [
       "3*a*b**2/(a**3 + 3*a**2*b + 3*a*b**2 + b**3)"
      ]
     },
     "execution_count": 31,
     "metadata": {},
     "output_type": "execute_result"
    }
   ],
   "source": [
    "p2_st=R[1].subs(p4, p4_st)\n",
    "p2_st"
   ]
  },
  {
   "cell_type": "code",
   "execution_count": 32,
   "metadata": {},
   "outputs": [
    {
     "data": {
      "text/latex": [
       "$\\displaystyle \\frac{b^{3}}{a^{3} + 3 a^{2} b + 3 a b^{2} + b^{3}}$"
      ],
      "text/plain": [
       "b**3/(a**3 + 3*a**2*b + 3*a*b**2 + b**3)"
      ]
     },
     "execution_count": 32,
     "metadata": {},
     "output_type": "execute_result"
    }
   ],
   "source": [
    "p1_st=R[0].subs(p4, p4_st)\n",
    "p1_st"
   ]
  },
  {
   "cell_type": "markdown",
   "metadata": {},
   "source": [
    "#### Решения"
   ]
  },
  {
   "cell_type": "code",
   "execution_count": 37,
   "metadata": {},
   "outputs": [],
   "source": [
    "t = sym.symbols('t')#Независимая переменная\n",
    "p1= sym.Function('p1')#Зависимая переменная\n",
    "p2= sym.Function('p2')#Зависимая переменная\n",
    "p3= sym.Function('p3')#Зависимая переменная\n",
    "p4= sym.Function('p4')#Зависимая переменная"
   ]
  },
  {
   "cell_type": "code",
   "execution_count": 38,
   "metadata": {},
   "outputs": [],
   "source": [
    "C=A*sym.Matrix([[p1(t)],[p2(t)],[p3(t)],[p4(t)]])\n",
    "eq1=sym.diff(p1(t),t)-C[0]\n",
    "eq2=sym.diff(p2(t),t)-C[1]\n",
    "eq3=sym.diff(p3(t),t)-C[2]\n",
    "eq4=sym.diff(p4(t),t)-C[3]"
   ]
  },
  {
   "cell_type": "code",
   "execution_count": 39,
   "metadata": {},
   "outputs": [],
   "source": [
    "sol=sym.dsolve((eq1,eq2, eq3, eq4))"
   ]
  },
  {
   "cell_type": "code",
   "execution_count": 41,
   "metadata": {},
   "outputs": [
    {
     "data": {
      "text/latex": [
       "$\\displaystyle p_{4}{\\left(t \\right)} = C_{1} + C_{2} e^{- t \\left(a + b\\right)} + C_{3} e^{- t \\left(2 a + 2 b\\right)} + C_{4} e^{- t \\left(3 a + 3 b\\right)}$"
      ],
      "text/plain": [
       "Eq(p4(t), C1 + C2*exp(-t*(a + b)) + C3*exp(-t*(2*a + 2*b)) + C4*exp(-t*(3*a + 3*b)))"
      ]
     },
     "execution_count": 41,
     "metadata": {},
     "output_type": "execute_result"
    }
   ],
   "source": [
    "sol[3]"
   ]
  },
  {
   "cell_type": "code",
   "execution_count": null,
   "metadata": {},
   "outputs": [],
   "source": [
    "#Функция lambdify() переводит выражения SymPy в функции Python.\n",
    "#f = lambdify([a, b], expr, \"numpy\")"
   ]
  }
 ],
 "metadata": {
  "kernelspec": {
   "display_name": "Python 3 (ipykernel)",
   "language": "python",
   "name": "python3"
  },
  "language_info": {
   "codemirror_mode": {
    "name": "ipython",
    "version": 3
   },
   "file_extension": ".py",
   "mimetype": "text/x-python",
   "name": "python",
   "nbconvert_exporter": "python",
   "pygments_lexer": "ipython3",
   "version": "3.11.6"
  }
 },
 "nbformat": 4,
 "nbformat_minor": 4
}
